{
 "cells": [
  {
   "cell_type": "code",
   "execution_count": 53,
   "metadata": {},
   "outputs": [],
   "source": [
    "import pickle\n",
    "\n",
    "df_sentiment_score=pickle.load(open('../src/data/sentiment_score_df.pkl','rb'))"
   ]
  },
  {
   "cell_type": "code",
   "execution_count": 54,
   "metadata": {},
   "outputs": [
    {
     "data": {
      "text/html": [
       "<div>\n",
       "<style scoped>\n",
       "    .dataframe tbody tr th:only-of-type {\n",
       "        vertical-align: middle;\n",
       "    }\n",
       "\n",
       "    .dataframe tbody tr th {\n",
       "        vertical-align: top;\n",
       "    }\n",
       "\n",
       "    .dataframe thead th {\n",
       "        text-align: right;\n",
       "    }\n",
       "</style>\n",
       "<table border=\"1\" class=\"dataframe\">\n",
       "  <thead>\n",
       "    <tr style=\"text-align: right;\">\n",
       "      <th></th>\n",
       "      <th>text</th>\n",
       "      <th>stars</th>\n",
       "      <th>embeddings</th>\n",
       "      <th>sentiment</th>\n",
       "    </tr>\n",
       "  </thead>\n",
       "  <tbody>\n",
       "    <tr>\n",
       "      <th>0</th>\n",
       "      <td>Ate at the bar late one evening.  The food was...</td>\n",
       "      <td>3.0</td>\n",
       "      <td>[0.02110215, 0.015082884, 0.027772486, 0.04898...</td>\n",
       "      <td>0</td>\n",
       "    </tr>\n",
       "    <tr>\n",
       "      <th>1</th>\n",
       "      <td>ive gone here more than 10 times.  the first f...</td>\n",
       "      <td>2.0</td>\n",
       "      <td>[0.053978473, -0.005075182, 0.03789233, 0.0295...</td>\n",
       "      <td>-1</td>\n",
       "    </tr>\n",
       "    <tr>\n",
       "      <th>2</th>\n",
       "      <td>Went here Saturday for drag brunch, we had 8 p...</td>\n",
       "      <td>3.0</td>\n",
       "      <td>[0.05708591, -0.007079023, 0.02999837, 0.03157...</td>\n",
       "      <td>0</td>\n",
       "    </tr>\n",
       "    <tr>\n",
       "      <th>3</th>\n",
       "      <td>Turns out they randomly close the pool down wh...</td>\n",
       "      <td>3.0</td>\n",
       "      <td>[0.01065718, 0.014424983, 0.042207252, 0.02751...</td>\n",
       "      <td>0</td>\n",
       "    </tr>\n",
       "    <tr>\n",
       "      <th>4</th>\n",
       "      <td>Totally awesome experience. Very New Orleans \"...</td>\n",
       "      <td>3.0</td>\n",
       "      <td>[0.029420882, 0.032237433, 0.026742732, 0.0395...</td>\n",
       "      <td>0</td>\n",
       "    </tr>\n",
       "  </tbody>\n",
       "</table>\n",
       "</div>"
      ],
      "text/plain": [
       "                                                text  stars  \\\n",
       "0  Ate at the bar late one evening.  The food was...    3.0   \n",
       "1  ive gone here more than 10 times.  the first f...    2.0   \n",
       "2  Went here Saturday for drag brunch, we had 8 p...    3.0   \n",
       "3  Turns out they randomly close the pool down wh...    3.0   \n",
       "4  Totally awesome experience. Very New Orleans \"...    3.0   \n",
       "\n",
       "                                          embeddings  sentiment  \n",
       "0  [0.02110215, 0.015082884, 0.027772486, 0.04898...          0  \n",
       "1  [0.053978473, -0.005075182, 0.03789233, 0.0295...         -1  \n",
       "2  [0.05708591, -0.007079023, 0.02999837, 0.03157...          0  \n",
       "3  [0.01065718, 0.014424983, 0.042207252, 0.02751...          0  \n",
       "4  [0.029420882, 0.032237433, 0.026742732, 0.0395...          0  "
      ]
     },
     "execution_count": 54,
     "metadata": {},
     "output_type": "execute_result"
    }
   ],
   "source": [
    "df_sentiment_score.head()"
   ]
  },
  {
   "cell_type": "code",
   "execution_count": 55,
   "metadata": {},
   "outputs": [],
   "source": [
    "from pyathena import connect\n",
    "import pandas as pd\n",
    "import configparser"
   ]
  },
  {
   "cell_type": "code",
   "execution_count": 56,
   "metadata": {},
   "outputs": [],
   "source": [
    "config = configparser.ConfigParser()\n",
    "config.read('../access_keys_shreya.cfg')\n",
    "AWS_ACCESS_KEY = config.get('aws', 'aws_access_key')\n",
    "AWS_SECRET_KEY = config.get('aws', 'aws_secret_key')"
   ]
  },
  {
   "cell_type": "code",
   "execution_count": 58,
   "metadata": {},
   "outputs": [],
   "source": [
    "from six.moves.urllib.parse import quote_plus\n",
    "from sqlalchemy.engine import create_engine\n",
    "\n",
    "SCHEMA_NAME = \"yelp\"\n",
    "S3_STAGING_DIR = \"s3://sairin.yelp.dataset/dataset\"\n",
    "AWS_REGION = \"us-west-1\"\n",
    "conn_str = (\n",
    "    \"awsathena+rest://{aws_access_key_id}:{aws_secret_access_key}@\"\n",
    "    \"athena.{region_name}.amazonaws.com:443/\"\n",
    "    \"{schema_name}?s3_staging_dir={s3_staging_dir}&work_group=primary\"\n",
    ")\n",
    "\n",
    "\n",
    "# Create the SQLAlchemy connection. Note that you need to have pyathena installed for this.\n",
    "engine = create_engine(\n",
    "    conn_str.format(\n",
    "        aws_access_key_id=quote_plus(AWS_ACCESS_KEY),\n",
    "        aws_secret_access_key=quote_plus(AWS_SECRET_KEY),\n",
    "        region_name=AWS_REGION,\n",
    "        schema_name=SCHEMA_NAME,\n",
    "        s3_staging_dir=quote_plus(S3_STAGING_DIR),\n",
    "    )\n",
    ")\n",
    "athena_connection = engine.connect()\n"
   ]
  },
  {
   "cell_type": "code",
   "execution_count": 59,
   "metadata": {},
   "outputs": [],
   "source": [
    "query_business = \"\"\"\n",
    "        SELECT * \n",
    "        FROM yelp.philadelphia_top_restaurant\n",
    "        \"\"\"\n"
   ]
  },
  {
   "cell_type": "code",
   "execution_count": 60,
   "metadata": {},
   "outputs": [],
   "source": [
    "runBlock = True\n",
    "if runBlock:\n",
    "    df_restaurant_philadelphia = pd.read_sql(query_business, athena_connection)\n",
    "    df_restaurant_philadelphia.to_pickle('../src/data/top_restaurant_philadelphia.pkl')"
   ]
  },
  {
   "cell_type": "code",
   "execution_count": 61,
   "metadata": {},
   "outputs": [],
   "source": [
    "df_restaurant_philadelphia = pd.read_pickle('../src/data/top_restaurant_philadelphia.pkl')"
   ]
  },
  {
   "cell_type": "code",
   "execution_count": 62,
   "metadata": {},
   "outputs": [
    {
     "data": {
      "text/html": [
       "<div>\n",
       "<style scoped>\n",
       "    .dataframe tbody tr th:only-of-type {\n",
       "        vertical-align: middle;\n",
       "    }\n",
       "\n",
       "    .dataframe tbody tr th {\n",
       "        vertical-align: top;\n",
       "    }\n",
       "\n",
       "    .dataframe thead th {\n",
       "        text-align: right;\n",
       "    }\n",
       "</style>\n",
       "<table border=\"1\" class=\"dataframe\">\n",
       "  <thead>\n",
       "    <tr style=\"text-align: right;\">\n",
       "      <th></th>\n",
       "      <th>review_id</th>\n",
       "      <th>business_id</th>\n",
       "      <th>stars</th>\n",
       "      <th>text</th>\n",
       "      <th>name</th>\n",
       "      <th>address</th>\n",
       "      <th>city</th>\n",
       "      <th>state</th>\n",
       "      <th>latitude</th>\n",
       "      <th>longitude</th>\n",
       "    </tr>\n",
       "  </thead>\n",
       "  <tbody>\n",
       "    <tr>\n",
       "      <th>0</th>\n",
       "      <td>XddpIPiKwKb9KoCclSF6rw</td>\n",
       "      <td>eMiN8nm70jjKg8izikVWDA</td>\n",
       "      <td>5.0</td>\n",
       "      <td>Great place!  We went here after attending  th...</td>\n",
       "      <td>Chickie's &amp; Pete's</td>\n",
       "      <td>1526 Packer Ave</td>\n",
       "      <td>Philadelphia</td>\n",
       "      <td>PA</td>\n",
       "      <td>39.911417</td>\n",
       "      <td>-75.174511</td>\n",
       "    </tr>\n",
       "    <tr>\n",
       "      <th>1</th>\n",
       "      <td>a4cme5BXWaV5-umuOn9JaQ</td>\n",
       "      <td>eMiN8nm70jjKg8izikVWDA</td>\n",
       "      <td>1.0</td>\n",
       "      <td>RUDE staff, DIRTY seating area, OK food, NO ex...</td>\n",
       "      <td>Chickie's &amp; Pete's</td>\n",
       "      <td>1526 Packer Ave</td>\n",
       "      <td>Philadelphia</td>\n",
       "      <td>PA</td>\n",
       "      <td>39.911417</td>\n",
       "      <td>-75.174511</td>\n",
       "    </tr>\n",
       "    <tr>\n",
       "      <th>2</th>\n",
       "      <td>l0-tupdk7x2BySqPo3aNYg</td>\n",
       "      <td>eMiN8nm70jjKg8izikVWDA</td>\n",
       "      <td>4.0</td>\n",
       "      <td>This is a great place to catch a bite and rela...</td>\n",
       "      <td>Chickie's &amp; Pete's</td>\n",
       "      <td>1526 Packer Ave</td>\n",
       "      <td>Philadelphia</td>\n",
       "      <td>PA</td>\n",
       "      <td>39.911417</td>\n",
       "      <td>-75.174511</td>\n",
       "    </tr>\n",
       "    <tr>\n",
       "      <th>3</th>\n",
       "      <td>JIdkx8A59z_WAtZKVc1YtA</td>\n",
       "      <td>eMiN8nm70jjKg8izikVWDA</td>\n",
       "      <td>1.0</td>\n",
       "      <td>A very unprofessional staff organizing the cro...</td>\n",
       "      <td>Chickie's &amp; Pete's</td>\n",
       "      <td>1526 Packer Ave</td>\n",
       "      <td>Philadelphia</td>\n",
       "      <td>PA</td>\n",
       "      <td>39.911417</td>\n",
       "      <td>-75.174511</td>\n",
       "    </tr>\n",
       "    <tr>\n",
       "      <th>4</th>\n",
       "      <td>e3wkqC-NeZCf8FBO8OXQCg</td>\n",
       "      <td>eMiN8nm70jjKg8izikVWDA</td>\n",
       "      <td>5.0</td>\n",
       "      <td>Ate at the airport location.  Not only was the...</td>\n",
       "      <td>Chickie's &amp; Pete's</td>\n",
       "      <td>1526 Packer Ave</td>\n",
       "      <td>Philadelphia</td>\n",
       "      <td>PA</td>\n",
       "      <td>39.911417</td>\n",
       "      <td>-75.174511</td>\n",
       "    </tr>\n",
       "  </tbody>\n",
       "</table>\n",
       "</div>"
      ],
      "text/plain": [
       "                review_id             business_id  stars  \\\n",
       "0  XddpIPiKwKb9KoCclSF6rw  eMiN8nm70jjKg8izikVWDA    5.0   \n",
       "1  a4cme5BXWaV5-umuOn9JaQ  eMiN8nm70jjKg8izikVWDA    1.0   \n",
       "2  l0-tupdk7x2BySqPo3aNYg  eMiN8nm70jjKg8izikVWDA    4.0   \n",
       "3  JIdkx8A59z_WAtZKVc1YtA  eMiN8nm70jjKg8izikVWDA    1.0   \n",
       "4  e3wkqC-NeZCf8FBO8OXQCg  eMiN8nm70jjKg8izikVWDA    5.0   \n",
       "\n",
       "                                                text                name  \\\n",
       "0  Great place!  We went here after attending  th...  Chickie's & Pete's   \n",
       "1  RUDE staff, DIRTY seating area, OK food, NO ex...  Chickie's & Pete's   \n",
       "2  This is a great place to catch a bite and rela...  Chickie's & Pete's   \n",
       "3  A very unprofessional staff organizing the cro...  Chickie's & Pete's   \n",
       "4  Ate at the airport location.  Not only was the...  Chickie's & Pete's   \n",
       "\n",
       "           address          city state   latitude  longitude  \n",
       "0  1526 Packer Ave  Philadelphia    PA  39.911417 -75.174511  \n",
       "1  1526 Packer Ave  Philadelphia    PA  39.911417 -75.174511  \n",
       "2  1526 Packer Ave  Philadelphia    PA  39.911417 -75.174511  \n",
       "3  1526 Packer Ave  Philadelphia    PA  39.911417 -75.174511  \n",
       "4  1526 Packer Ave  Philadelphia    PA  39.911417 -75.174511  "
      ]
     },
     "execution_count": 62,
     "metadata": {},
     "output_type": "execute_result"
    }
   ],
   "source": [
    "df_restaurant_philadelphia.head()"
   ]
  },
  {
   "cell_type": "code",
   "execution_count": 63,
   "metadata": {},
   "outputs": [
    {
     "name": "stderr",
     "output_type": "stream",
     "text": [
      "[nltk_data] Downloading package punkt to\n",
      "[nltk_data]     /Users/sairindhri/nltk_data...\n",
      "[nltk_data]   Package punkt is already up-to-date!\n"
     ]
    },
    {
     "data": {
      "text/plain": [
       "True"
      ]
     },
     "execution_count": 63,
     "metadata": {},
     "output_type": "execute_result"
    }
   ],
   "source": [
    "import nltk\n",
    "nltk.download('punkt')"
   ]
  },
  {
   "cell_type": "code",
   "execution_count": 101,
   "metadata": {},
   "outputs": [],
   "source": [
    "from sentence_transformers import SentenceTransformer\n",
    "# import tqdm.notebook as tq\n",
    "from tqdm import tqdm\n",
    "from time import sleep\n",
    "import numpy as np\n",
    "\n",
    "\n",
    "# Load the pre-trained model\n",
    "bert_model = SentenceTransformer('all-MiniLM-L6-v2')\n",
    "\n",
    "def generate_mean_embedding(row):\n",
    "    review = row\n",
    "    review_sentances = nltk.sent_tokenize(review)\n",
    "\n",
    "    embeddings = bert_model.encode(review_sentances)\n",
    "\n",
    "    mean_embeddings =  np.mean(embeddings, axis=0)\n",
    "    return mean_embeddings\n",
    "\n",
    "def generate_bert_embeddings(review_text):\n",
    "   \n",
    "    mean_embeddings=generate_mean_embedding(review_text)\n",
    "    return mean_embeddings\n",
    "    \n",
    "\n",
    "\n",
    "\n",
    "# df_balanced_data.to_pickle(\"intermediate_data/bert_generated_embeddings_balanced_dataframe.pkl\")"
   ]
  },
  {
   "cell_type": "code",
   "execution_count": 67,
   "metadata": {},
   "outputs": [
    {
     "data": {
      "text/plain": [
       "'Great place!  We went here after attending  the phillies baseball game (they won!). The CrabFries are perfectly seasoned and crispy and come with 2 cups of the awesome white cheese. The lobster sandwich was very good- a good amount of lobster and delicious bread.  Hamburgers were good too and medium rare was perfect.  Tons of screens to watch the games and a Deejay. We will definitely return.'"
      ]
     },
     "execution_count": 67,
     "metadata": {},
     "output_type": "execute_result"
    }
   ],
   "source": [
    "text=df_restaurant_philadelphia['text'][0]\n",
    "text"
   ]
  },
  {
   "cell_type": "code",
   "execution_count": 146,
   "metadata": {},
   "outputs": [
    {
     "data": {
      "text/plain": [
       "array([-1.24268448e-02,  2.80168653e-02,  2.51132157e-02, -1.77652501e-02,\n",
       "       -3.81044708e-02, -7.01929396e-03, -3.15790921e-02, -1.43214716e-02,\n",
       "       -2.41303593e-02, -1.26093416e-03, -1.31603470e-02, -4.27906448e-03,\n",
       "        2.68610734e-02, -2.86502931e-02,  1.25390664e-03, -3.80587168e-02,\n",
       "        5.84061518e-02, -5.39815687e-02,  3.83089371e-02, -3.71749289e-02,\n",
       "       -2.10139751e-02,  1.16378386e-02,  9.75144748e-03, -6.69243920e-04,\n",
       "       -2.75258552e-02,  3.63229737e-02,  6.82506757e-03,  2.53317654e-02,\n",
       "       -2.92926561e-02, -2.42917351e-02, -3.55410427e-02,  2.97436472e-02,\n",
       "       -1.15284408e-02,  6.15830999e-03, -8.32603779e-03,  1.98601540e-02,\n",
       "        2.88779438e-02, -7.00917169e-02,  3.58197354e-02,  3.89400609e-02,\n",
       "        7.68359425e-03,  1.87180899e-02,  1.52312806e-02,  3.67928967e-02,\n",
       "       -4.07065414e-02, -1.43688004e-02, -3.16923782e-02, -1.22171994e-02,\n",
       "        6.41981736e-02,  9.07968823e-03,  3.99726555e-02,  2.06381269e-02,\n",
       "       -6.65890845e-03, -4.42332402e-02,  3.44022922e-02,  2.92308498e-02,\n",
       "       -4.75413725e-02, -5.23849130e-02, -9.82516166e-03, -3.72977778e-02,\n",
       "        1.04881739e-02,  3.95591184e-03, -3.33739221e-02,  1.34809613e-02,\n",
       "        2.00516498e-03, -4.68911454e-02, -3.87766063e-02,  4.17173319e-02,\n",
       "       -1.56650208e-02, -1.01455720e-02, -2.96455715e-02,  2.17317455e-02,\n",
       "        4.14998047e-02, -2.57127895e-03, -5.95700974e-03, -1.51385576e-03,\n",
       "        9.10086650e-03, -4.79403064e-02, -9.94837377e-03, -1.24144871e-02,\n",
       "       -2.30271127e-02, -3.75447944e-02, -3.23550105e-02,  5.33474656e-03,\n",
       "       -1.61039010e-02, -1.59894098e-02,  1.68254953e-02,  1.75789371e-03,\n",
       "        1.59000866e-02,  1.63635202e-02,  2.98010651e-02,  5.01293689e-03,\n",
       "       -3.41525637e-02, -2.68946425e-03, -2.25947797e-02, -2.18377747e-02,\n",
       "       -6.28629932e-03,  4.38801385e-03,  5.00500947e-03,  6.10808134e-02,\n",
       "        2.67881546e-02,  3.59729901e-02,  4.55267467e-02, -4.37188335e-02,\n",
       "       -3.23749590e-03, -1.00875432e-02,  8.62769224e-03,  4.69624102e-02,\n",
       "        1.26310205e-02,  2.41612606e-02, -1.18334517e-02,  5.98417111e-02,\n",
       "       -2.47466061e-02,  2.70144921e-02, -1.32551547e-02,  3.54822911e-02,\n",
       "        2.04778574e-02, -1.21160662e-02,  6.17427053e-03, -4.54187207e-02,\n",
       "        2.09168289e-02,  4.68390621e-02,  2.20638085e-02,  2.89688054e-02,\n",
       "       -1.62979530e-03, -1.21301981e-02,  3.85234281e-02, -3.91155700e-33,\n",
       "       -9.04133450e-03,  1.91977490e-02,  1.12373615e-02,  1.17340293e-02,\n",
       "        4.67036739e-02,  3.21701728e-02,  1.60971121e-03,  2.44078902e-03,\n",
       "       -2.28911992e-02, -1.35479253e-02, -1.54807344e-02,  1.23108104e-02,\n",
       "       -2.49457508e-02, -1.00371409e-02,  1.70355625e-02, -4.40143188e-03,\n",
       "       -3.95793878e-02,  1.60211907e-03, -1.82736702e-02,  1.77389923e-02,\n",
       "       -4.98746820e-02, -8.46502837e-03,  2.26375572e-02,  2.51507293e-02,\n",
       "       -3.51596326e-02,  1.97587255e-02, -5.13368566e-03, -2.52602603e-02,\n",
       "        4.09222860e-03,  8.73454381e-03, -6.24296349e-03,  1.22019965e-02,\n",
       "       -2.87842075e-03,  6.67906785e-03, -2.16137860e-02,  2.49071252e-02,\n",
       "       -2.67589781e-02, -3.55921835e-02, -2.81484169e-03,  9.45864618e-03,\n",
       "        2.68764365e-02,  9.99504048e-03, -2.12235991e-02,  1.45146167e-02,\n",
       "       -8.42879061e-03, -9.35243734e-04,  4.72685061e-02,  3.58151421e-02,\n",
       "        1.72461383e-02, -4.96298149e-02,  1.54937226e-02, -2.87217479e-02,\n",
       "        1.37936352e-02,  5.74974483e-03, -3.79877798e-02,  1.18855238e-02,\n",
       "        2.16532499e-05,  5.37499692e-03,  1.31981373e-02, -7.27167027e-03,\n",
       "        1.51078636e-02,  3.51438969e-02,  2.41143117e-03, -5.88931218e-02,\n",
       "       -3.90548483e-02,  2.50991415e-02,  4.43176692e-03,  4.20959778e-02,\n",
       "        3.11913458e-03,  1.28886634e-02,  1.75106805e-02, -2.24478599e-02,\n",
       "        3.11148707e-02, -2.70400941e-02,  4.41109762e-03,  5.05344868e-02,\n",
       "       -1.53645426e-02, -9.28830449e-03,  1.08736800e-02,  5.83870057e-03,\n",
       "        5.60442135e-02, -2.29414571e-02, -3.98973785e-02, -1.07051721e-02,\n",
       "        4.10188176e-02,  2.64253374e-02,  2.59221662e-02, -6.17645271e-02,\n",
       "       -1.06789637e-02,  2.73543335e-02, -2.91776527e-02, -1.92568768e-02,\n",
       "        3.52635421e-02, -4.08738889e-02, -2.37695016e-02,  1.46849559e-33,\n",
       "        2.65420843e-02, -1.36714326e-02, -1.25114843e-02,  2.52313558e-02,\n",
       "       -2.83298222e-03, -3.47933993e-02, -3.04233916e-02,  4.10560854e-02,\n",
       "       -4.40220647e-02, -2.00282875e-02, -1.05868252e-02,  9.01115593e-03,\n",
       "        2.06418298e-02,  9.14441713e-04, -3.21921296e-02,  2.54090168e-02,\n",
       "        4.99350838e-02,  2.60400027e-02,  2.37156898e-02, -2.39560883e-02,\n",
       "        5.81317628e-03,  1.75820030e-02, -1.63449887e-02,  2.82297414e-02,\n",
       "       -1.97070856e-02,  5.35767041e-02, -1.74467433e-02,  2.03907341e-02,\n",
       "       -6.10251352e-02, -3.36778350e-02,  1.35485781e-02, -2.40119956e-02,\n",
       "        3.44189862e-03,  1.05175776e-02,  2.69325972e-02,  6.35299310e-02,\n",
       "        7.25354021e-03, -1.21688633e-03, -1.26805985e-02,  1.37738138e-02,\n",
       "       -4.54574823e-04, -2.59433035e-02, -2.18953453e-02,  1.01979569e-01,\n",
       "        2.28905547e-02,  1.43870125e-02, -2.33330694e-03, -3.83259058e-02,\n",
       "       -2.37964224e-02,  1.18838046e-02, -2.36578751e-02, -3.57352983e-04,\n",
       "       -3.87820601e-02, -3.35397571e-02, -3.77184637e-02,  1.27734372e-03,\n",
       "       -2.96278042e-03, -3.96164926e-03,  3.70714366e-02, -5.15898950e-02,\n",
       "       -8.88769403e-02,  9.81298368e-03, -5.39621972e-02,  3.71288732e-02,\n",
       "        6.24442622e-02,  8.99446313e-04,  2.20084400e-03, -3.38929780e-02,\n",
       "       -3.61579247e-02,  1.05823055e-02, -4.38403375e-02,  1.38983121e-02,\n",
       "       -2.59315688e-02,  1.98794343e-02,  2.02924702e-02, -8.87095835e-03,\n",
       "        7.26299966e-03, -1.02998363e-02,  8.52535199e-03,  4.94797044e-02,\n",
       "        4.30084765e-04,  3.08462642e-02, -1.68293994e-02,  1.19330809e-02,\n",
       "        1.72539353e-02,  4.23467942e-02,  3.27414125e-02, -1.45569872e-02,\n",
       "       -3.26264389e-02,  3.33645679e-02, -3.37092904e-03,  2.23388057e-02,\n",
       "       -8.12146347e-03, -2.17248630e-02,  1.05348257e-02, -1.86872278e-08,\n",
       "        3.01073156e-02,  3.74982059e-02,  6.04353985e-03,  2.83189863e-02,\n",
       "        2.17031641e-03, -4.92922030e-02, -3.80496564e-03,  6.73088199e-03,\n",
       "        7.09509477e-03,  1.16009861e-02, -3.14693116e-02,  2.41971873e-02,\n",
       "       -2.87335552e-02,  3.27690318e-02,  4.71488945e-02,  2.14405693e-02,\n",
       "        2.46513784e-02,  2.23242491e-02, -3.09823696e-02,  1.04679856e-02,\n",
       "       -2.63874102e-02,  5.46004847e-02, -4.72254527e-04,  5.87744033e-03,\n",
       "        9.12784692e-03,  1.62163544e-02, -1.87386363e-03, -1.16977748e-02,\n",
       "        2.81262845e-02,  1.74014755e-02,  2.06230823e-02,  4.51808050e-03,\n",
       "       -4.09733243e-02, -3.93927023e-02, -1.25026330e-03,  1.31965114e-03,\n",
       "       -6.78616315e-02, -4.86282296e-02,  5.64623289e-02, -5.34752384e-02,\n",
       "       -3.88141833e-02, -4.28503715e-02, -1.52267879e-02,  1.14639206e-02,\n",
       "       -2.94557679e-02, -1.17122037e-02, -6.93735201e-03,  4.60838303e-02,\n",
       "       -3.50290835e-02, -2.85567921e-02, -2.87398193e-02,  2.29856670e-02,\n",
       "       -1.70874037e-02,  8.12722649e-03,  1.13002937e-02, -1.21598393e-02,\n",
       "        3.21865198e-03, -2.99099442e-02,  6.85253879e-03,  2.02086810e-02,\n",
       "        2.46681999e-02,  1.43507197e-02, -4.12104838e-02,  3.24555822e-02],\n",
       "      dtype=float32)"
      ]
     },
     "execution_count": 146,
     "metadata": {},
     "output_type": "execute_result"
    }
   ],
   "source": [
    "\n",
    "text=df_restaurant_philadelphia['text'][0]\n",
    "embedding=generate_bert_embeddings(text)\n",
    "embedding"
   ]
  },
  {
   "cell_type": "code",
   "execution_count": 142,
   "metadata": {},
   "outputs": [],
   "source": [
    "svm_model = pickle.load(open('../src/data/svm_sentiment_prediction_model.pkl','rb'))\n",
    "\n",
    "def predict_sentiment_score(embedding):\n",
    "    embedding_new = np.array(embedding).reshape(1, -1)\n",
    "    sentiment_score = svm_model.predict(embedding_new)\n",
    "    return sentiment_score[0]\n"
   ]
  },
  {
   "cell_type": "code",
   "execution_count": 71,
   "metadata": {},
   "outputs": [
    {
     "data": {
      "text/plain": [
       "(384,)"
      ]
     },
     "execution_count": 71,
     "metadata": {},
     "output_type": "execute_result"
    }
   ],
   "source": [
    "embedding.shape"
   ]
  },
  {
   "attachments": {},
   "cell_type": "markdown",
   "metadata": {},
   "source": [
    "# Creating restaurant for displaying\n"
   ]
  },
  {
   "cell_type": "code",
   "execution_count": 143,
   "metadata": {},
   "outputs": [
    {
     "data": {
      "text/plain": [
       "array(['eMiN8nm70jjKg8izikVWDA', 'nIAbuktMEzVjT4P9pG89rQ',\n",
       "       'bLJP0fVgscuUQy0hE_CRXA', 'BxfvdHqETU8jWYUjx5OL2A',\n",
       "       'rVGxva6cx2eID4ghDLVHJg'], dtype=object)"
      ]
     },
     "execution_count": 143,
     "metadata": {},
     "output_type": "execute_result"
    }
   ],
   "source": [
    "unique_business_ids = df_restaurant_philadelphia['business_id'].unique()[:5]\n",
    "unique_business_ids"
   ]
  },
  {
   "cell_type": "code",
   "execution_count": 144,
   "metadata": {},
   "outputs": [],
   "source": [
    "df_business = [pd.DataFrame]*5\n",
    "\n",
    "df_business[0]=df_restaurant_philadelphia[df_restaurant_philadelphia['business_id']=='eMiN8nm70jjKg8izikVWDA']\n",
    "df_business[1]=df_restaurant_philadelphia[df_restaurant_philadelphia['business_id']=='nIAbuktMEzVjT4P9pG89rQ']\n",
    "df_business[2]=df_restaurant_philadelphia[df_restaurant_philadelphia['business_id']=='bLJP0fVgscuUQy0hE_CRXA']\n",
    "df_business[3]=df_restaurant_philadelphia[df_restaurant_philadelphia['business_id']=='BxfvdHqETU8jWYUjx5OL2A']\n",
    "df_business[4]=df_restaurant_philadelphia[df_restaurant_philadelphia['business_id']=='rVGxva6cx2eID4ghDLVHJg']\n",
    "\n"
   ]
  },
  {
   "cell_type": "code",
   "execution_count": 145,
   "metadata": {},
   "outputs": [
    {
     "name": "stderr",
     "output_type": "stream",
     "text": [
      "/var/folders/69/1v36mqw920lcphv2lfprw2sw0000gp/T/ipykernel_62287/108818384.py:2: SettingWithCopyWarning: \n",
      "A value is trying to be set on a copy of a slice from a DataFrame.\n",
      "Try using .loc[row_indexer,col_indexer] = value instead\n",
      "\n",
      "See the caveats in the documentation: https://pandas.pydata.org/pandas-docs/stable/user_guide/indexing.html#returning-a-view-versus-a-copy\n",
      "  df_business[idx]['embedding']=df_business[idx]['text'].apply(generate_bert_embeddings)\n"
     ]
    },
    {
     "name": "stdout",
     "output_type": "stream",
     "text": [
      "bert embedding generated for 0\n"
     ]
    },
    {
     "name": "stderr",
     "output_type": "stream",
     "text": [
      "/var/folders/69/1v36mqw920lcphv2lfprw2sw0000gp/T/ipykernel_62287/108818384.py:4: SettingWithCopyWarning: \n",
      "A value is trying to be set on a copy of a slice from a DataFrame.\n",
      "Try using .loc[row_indexer,col_indexer] = value instead\n",
      "\n",
      "See the caveats in the documentation: https://pandas.pydata.org/pandas-docs/stable/user_guide/indexing.html#returning-a-view-versus-a-copy\n",
      "  df_business[idx]['sentiment_score']=df_business[idx]['embedding'].apply(predict_sentiment_score)\n"
     ]
    },
    {
     "name": "stdout",
     "output_type": "stream",
     "text": [
      "sentiment_score generated for 0\n"
     ]
    },
    {
     "name": "stderr",
     "output_type": "stream",
     "text": [
      "/var/folders/69/1v36mqw920lcphv2lfprw2sw0000gp/T/ipykernel_62287/108818384.py:2: SettingWithCopyWarning: \n",
      "A value is trying to be set on a copy of a slice from a DataFrame.\n",
      "Try using .loc[row_indexer,col_indexer] = value instead\n",
      "\n",
      "See the caveats in the documentation: https://pandas.pydata.org/pandas-docs/stable/user_guide/indexing.html#returning-a-view-versus-a-copy\n",
      "  df_business[idx]['embedding']=df_business[idx]['text'].apply(generate_bert_embeddings)\n"
     ]
    },
    {
     "name": "stdout",
     "output_type": "stream",
     "text": [
      "bert embedding generated for 1\n"
     ]
    },
    {
     "name": "stderr",
     "output_type": "stream",
     "text": [
      "/var/folders/69/1v36mqw920lcphv2lfprw2sw0000gp/T/ipykernel_62287/108818384.py:4: SettingWithCopyWarning: \n",
      "A value is trying to be set on a copy of a slice from a DataFrame.\n",
      "Try using .loc[row_indexer,col_indexer] = value instead\n",
      "\n",
      "See the caveats in the documentation: https://pandas.pydata.org/pandas-docs/stable/user_guide/indexing.html#returning-a-view-versus-a-copy\n",
      "  df_business[idx]['sentiment_score']=df_business[idx]['embedding'].apply(predict_sentiment_score)\n"
     ]
    },
    {
     "name": "stdout",
     "output_type": "stream",
     "text": [
      "sentiment_score generated for 1\n"
     ]
    },
    {
     "name": "stderr",
     "output_type": "stream",
     "text": [
      "/var/folders/69/1v36mqw920lcphv2lfprw2sw0000gp/T/ipykernel_62287/108818384.py:2: SettingWithCopyWarning: \n",
      "A value is trying to be set on a copy of a slice from a DataFrame.\n",
      "Try using .loc[row_indexer,col_indexer] = value instead\n",
      "\n",
      "See the caveats in the documentation: https://pandas.pydata.org/pandas-docs/stable/user_guide/indexing.html#returning-a-view-versus-a-copy\n",
      "  df_business[idx]['embedding']=df_business[idx]['text'].apply(generate_bert_embeddings)\n"
     ]
    },
    {
     "name": "stdout",
     "output_type": "stream",
     "text": [
      "bert embedding generated for 2\n"
     ]
    },
    {
     "name": "stderr",
     "output_type": "stream",
     "text": [
      "/var/folders/69/1v36mqw920lcphv2lfprw2sw0000gp/T/ipykernel_62287/108818384.py:4: SettingWithCopyWarning: \n",
      "A value is trying to be set on a copy of a slice from a DataFrame.\n",
      "Try using .loc[row_indexer,col_indexer] = value instead\n",
      "\n",
      "See the caveats in the documentation: https://pandas.pydata.org/pandas-docs/stable/user_guide/indexing.html#returning-a-view-versus-a-copy\n",
      "  df_business[idx]['sentiment_score']=df_business[idx]['embedding'].apply(predict_sentiment_score)\n"
     ]
    },
    {
     "name": "stdout",
     "output_type": "stream",
     "text": [
      "sentiment_score generated for 2\n"
     ]
    },
    {
     "name": "stderr",
     "output_type": "stream",
     "text": [
      "/var/folders/69/1v36mqw920lcphv2lfprw2sw0000gp/T/ipykernel_62287/108818384.py:2: SettingWithCopyWarning: \n",
      "A value is trying to be set on a copy of a slice from a DataFrame.\n",
      "Try using .loc[row_indexer,col_indexer] = value instead\n",
      "\n",
      "See the caveats in the documentation: https://pandas.pydata.org/pandas-docs/stable/user_guide/indexing.html#returning-a-view-versus-a-copy\n",
      "  df_business[idx]['embedding']=df_business[idx]['text'].apply(generate_bert_embeddings)\n"
     ]
    },
    {
     "name": "stdout",
     "output_type": "stream",
     "text": [
      "bert embedding generated for 3\n"
     ]
    },
    {
     "name": "stderr",
     "output_type": "stream",
     "text": [
      "/var/folders/69/1v36mqw920lcphv2lfprw2sw0000gp/T/ipykernel_62287/108818384.py:4: SettingWithCopyWarning: \n",
      "A value is trying to be set on a copy of a slice from a DataFrame.\n",
      "Try using .loc[row_indexer,col_indexer] = value instead\n",
      "\n",
      "See the caveats in the documentation: https://pandas.pydata.org/pandas-docs/stable/user_guide/indexing.html#returning-a-view-versus-a-copy\n",
      "  df_business[idx]['sentiment_score']=df_business[idx]['embedding'].apply(predict_sentiment_score)\n"
     ]
    },
    {
     "name": "stdout",
     "output_type": "stream",
     "text": [
      "sentiment_score generated for 3\n"
     ]
    },
    {
     "name": "stderr",
     "output_type": "stream",
     "text": [
      "/var/folders/69/1v36mqw920lcphv2lfprw2sw0000gp/T/ipykernel_62287/108818384.py:2: SettingWithCopyWarning: \n",
      "A value is trying to be set on a copy of a slice from a DataFrame.\n",
      "Try using .loc[row_indexer,col_indexer] = value instead\n",
      "\n",
      "See the caveats in the documentation: https://pandas.pydata.org/pandas-docs/stable/user_guide/indexing.html#returning-a-view-versus-a-copy\n",
      "  df_business[idx]['embedding']=df_business[idx]['text'].apply(generate_bert_embeddings)\n"
     ]
    },
    {
     "name": "stdout",
     "output_type": "stream",
     "text": [
      "bert embedding generated for 4\n",
      "sentiment_score generated for 4\n"
     ]
    },
    {
     "name": "stderr",
     "output_type": "stream",
     "text": [
      "/var/folders/69/1v36mqw920lcphv2lfprw2sw0000gp/T/ipykernel_62287/108818384.py:4: SettingWithCopyWarning: \n",
      "A value is trying to be set on a copy of a slice from a DataFrame.\n",
      "Try using .loc[row_indexer,col_indexer] = value instead\n",
      "\n",
      "See the caveats in the documentation: https://pandas.pydata.org/pandas-docs/stable/user_guide/indexing.html#returning-a-view-versus-a-copy\n",
      "  df_business[idx]['sentiment_score']=df_business[idx]['embedding'].apply(predict_sentiment_score)\n"
     ]
    }
   ],
   "source": [
    "for idx in range(5):\n",
    "    df_business[idx]['embedding']=df_business[idx]['text'].apply(generate_bert_embeddings)\n",
    "    print(\"bert embedding generated for {}\".format(idx))\n",
    "    df_business[idx]['sentiment_score']=df_business[idx]['embedding'].apply(predict_sentiment_score)\n",
    "    print(\"sentiment_score generated for {}\".format(idx))\n",
    "\n"
   ]
  },
  {
   "cell_type": "code",
   "execution_count": 230,
   "metadata": {},
   "outputs": [
    {
     "data": {
      "text/html": [
       "<div>\n",
       "<style scoped>\n",
       "    .dataframe tbody tr th:only-of-type {\n",
       "        vertical-align: middle;\n",
       "    }\n",
       "\n",
       "    .dataframe tbody tr th {\n",
       "        vertical-align: top;\n",
       "    }\n",
       "\n",
       "    .dataframe thead th {\n",
       "        text-align: right;\n",
       "    }\n",
       "</style>\n",
       "<table border=\"1\" class=\"dataframe\">\n",
       "  <thead>\n",
       "    <tr style=\"text-align: right;\">\n",
       "      <th></th>\n",
       "      <th>review_id</th>\n",
       "      <th>business_id</th>\n",
       "      <th>stars</th>\n",
       "      <th>text</th>\n",
       "      <th>name</th>\n",
       "      <th>address</th>\n",
       "      <th>city</th>\n",
       "      <th>state</th>\n",
       "      <th>latitude</th>\n",
       "      <th>longitude</th>\n",
       "      <th>embedding</th>\n",
       "      <th>sentiment_score</th>\n",
       "    </tr>\n",
       "  </thead>\n",
       "  <tbody>\n",
       "    <tr>\n",
       "      <th>10</th>\n",
       "      <td>TzCiflLbZoYP9ryhbK678w</td>\n",
       "      <td>BxfvdHqETU8jWYUjx5OL2A</td>\n",
       "      <td>4.0</td>\n",
       "      <td>I've eaten here many times and have yet to tas...</td>\n",
       "      <td>Shake Shack</td>\n",
       "      <td>2000 Sansom St</td>\n",
       "      <td>Philadelphia</td>\n",
       "      <td>PA</td>\n",
       "      <td>39.951226</td>\n",
       "      <td>-75.173789</td>\n",
       "      <td>[-0.0033024387, -0.03515473, 0.026377466, 0.01...</td>\n",
       "      <td>-1</td>\n",
       "    </tr>\n",
       "    <tr>\n",
       "      <th>14</th>\n",
       "      <td>I9g7ol3NonVONj93nksivg</td>\n",
       "      <td>BxfvdHqETU8jWYUjx5OL2A</td>\n",
       "      <td>1.0</td>\n",
       "      <td>Passed by Shake Shake and my toddler had a yea...</td>\n",
       "      <td>Shake Shack</td>\n",
       "      <td>2000 Sansom St</td>\n",
       "      <td>Philadelphia</td>\n",
       "      <td>PA</td>\n",
       "      <td>39.951226</td>\n",
       "      <td>-75.173789</td>\n",
       "      <td>[-0.025101455, 0.003079403, 0.021813577, 0.044...</td>\n",
       "      <td>-1</td>\n",
       "    </tr>\n",
       "    <tr>\n",
       "      <th>25</th>\n",
       "      <td>00s2AMMtji3FsUKJpCLScg</td>\n",
       "      <td>BxfvdHqETU8jWYUjx5OL2A</td>\n",
       "      <td>5.0</td>\n",
       "      <td>Incredible burgers. Simple, but high quality.\\...</td>\n",
       "      <td>Shake Shack</td>\n",
       "      <td>2000 Sansom St</td>\n",
       "      <td>Philadelphia</td>\n",
       "      <td>PA</td>\n",
       "      <td>39.951226</td>\n",
       "      <td>-75.173789</td>\n",
       "      <td>[-0.038198497, 0.003956022, 0.010840289, 0.007...</td>\n",
       "      <td>1</td>\n",
       "    </tr>\n",
       "    <tr>\n",
       "      <th>1960</th>\n",
       "      <td>s741Pn7bQ4Qe50KEY5KpHQ</td>\n",
       "      <td>BxfvdHqETU8jWYUjx5OL2A</td>\n",
       "      <td>1.0</td>\n",
       "      <td>Went in for a burger and a shake and it took 3...</td>\n",
       "      <td>Shake Shack</td>\n",
       "      <td>2000 Sansom St</td>\n",
       "      <td>Philadelphia</td>\n",
       "      <td>PA</td>\n",
       "      <td>39.951226</td>\n",
       "      <td>-75.173789</td>\n",
       "      <td>[0.054636978, -0.009686653, 0.04717759, 0.0017...</td>\n",
       "      <td>-1</td>\n",
       "    </tr>\n",
       "    <tr>\n",
       "      <th>1964</th>\n",
       "      <td>v_GqvXaxS87UXQPg0AjI1Q</td>\n",
       "      <td>BxfvdHqETU8jWYUjx5OL2A</td>\n",
       "      <td>4.0</td>\n",
       "      <td>Sometimes you just need a burger and hand-spun...</td>\n",
       "      <td>Shake Shack</td>\n",
       "      <td>2000 Sansom St</td>\n",
       "      <td>Philadelphia</td>\n",
       "      <td>PA</td>\n",
       "      <td>39.951226</td>\n",
       "      <td>-75.173789</td>\n",
       "      <td>[-0.015349579, -0.033461098, 0.026980186, 0.03...</td>\n",
       "      <td>1</td>\n",
       "    </tr>\n",
       "  </tbody>\n",
       "</table>\n",
       "</div>"
      ],
      "text/plain": [
       "                   review_id             business_id  stars  \\\n",
       "10    TzCiflLbZoYP9ryhbK678w  BxfvdHqETU8jWYUjx5OL2A    4.0   \n",
       "14    I9g7ol3NonVONj93nksivg  BxfvdHqETU8jWYUjx5OL2A    1.0   \n",
       "25    00s2AMMtji3FsUKJpCLScg  BxfvdHqETU8jWYUjx5OL2A    5.0   \n",
       "1960  s741Pn7bQ4Qe50KEY5KpHQ  BxfvdHqETU8jWYUjx5OL2A    1.0   \n",
       "1964  v_GqvXaxS87UXQPg0AjI1Q  BxfvdHqETU8jWYUjx5OL2A    4.0   \n",
       "\n",
       "                                                   text         name  \\\n",
       "10    I've eaten here many times and have yet to tas...  Shake Shack   \n",
       "14    Passed by Shake Shake and my toddler had a yea...  Shake Shack   \n",
       "25    Incredible burgers. Simple, but high quality.\\...  Shake Shack   \n",
       "1960  Went in for a burger and a shake and it took 3...  Shake Shack   \n",
       "1964  Sometimes you just need a burger and hand-spun...  Shake Shack   \n",
       "\n",
       "             address          city state   latitude  longitude  \\\n",
       "10    2000 Sansom St  Philadelphia    PA  39.951226 -75.173789   \n",
       "14    2000 Sansom St  Philadelphia    PA  39.951226 -75.173789   \n",
       "25    2000 Sansom St  Philadelphia    PA  39.951226 -75.173789   \n",
       "1960  2000 Sansom St  Philadelphia    PA  39.951226 -75.173789   \n",
       "1964  2000 Sansom St  Philadelphia    PA  39.951226 -75.173789   \n",
       "\n",
       "                                              embedding  sentiment_score  \n",
       "10    [-0.0033024387, -0.03515473, 0.026377466, 0.01...               -1  \n",
       "14    [-0.025101455, 0.003079403, 0.021813577, 0.044...               -1  \n",
       "25    [-0.038198497, 0.003956022, 0.010840289, 0.007...                1  \n",
       "1960  [0.054636978, -0.009686653, 0.04717759, 0.0017...               -1  \n",
       "1964  [-0.015349579, -0.033461098, 0.026980186, 0.03...                1  "
      ]
     },
     "execution_count": 230,
     "metadata": {},
     "output_type": "execute_result"
    }
   ],
   "source": [
    "df_business[3].head()\n"
   ]
  },
  {
   "cell_type": "code",
   "execution_count": 177,
   "metadata": {},
   "outputs": [
    {
     "data": {
      "text/html": [
       "<div>\n",
       "<style scoped>\n",
       "    .dataframe tbody tr th:only-of-type {\n",
       "        vertical-align: middle;\n",
       "    }\n",
       "\n",
       "    .dataframe tbody tr th {\n",
       "        vertical-align: top;\n",
       "    }\n",
       "\n",
       "    .dataframe thead th {\n",
       "        text-align: right;\n",
       "    }\n",
       "</style>\n",
       "<table border=\"1\" class=\"dataframe\">\n",
       "  <thead>\n",
       "    <tr style=\"text-align: right;\">\n",
       "      <th></th>\n",
       "      <th>business_id</th>\n",
       "      <th>average_star</th>\n",
       "      <th>name</th>\n",
       "      <th>address</th>\n",
       "      <th>city</th>\n",
       "      <th>state</th>\n",
       "      <th>latitude</th>\n",
       "      <th>longitude</th>\n",
       "    </tr>\n",
       "  </thead>\n",
       "  <tbody>\n",
       "    <tr>\n",
       "      <th>0</th>\n",
       "      <td>eMiN8nm70jjKg8izikVWDA</td>\n",
       "      <td>3.407960</td>\n",
       "      <td>Chickie's &amp; Pete's</td>\n",
       "      <td>1526 Packer Ave</td>\n",
       "      <td>Philadelphia</td>\n",
       "      <td>PA</td>\n",
       "      <td>39.911417</td>\n",
       "      <td>-75.174511</td>\n",
       "    </tr>\n",
       "    <tr>\n",
       "      <th>1</th>\n",
       "      <td>nIAbuktMEzVjT4P9pG89rQ</td>\n",
       "      <td>4.072819</td>\n",
       "      <td>Buddakan</td>\n",
       "      <td>325 Chestnut St</td>\n",
       "      <td>Philadelphia</td>\n",
       "      <td>PA</td>\n",
       "      <td>39.948919</td>\n",
       "      <td>-75.147167</td>\n",
       "    </tr>\n",
       "    <tr>\n",
       "      <th>2</th>\n",
       "      <td>bLJP0fVgscuUQy0hE_CRXA</td>\n",
       "      <td>4.185129</td>\n",
       "      <td>Xiandu Thai</td>\n",
       "      <td>1119 Walnut St</td>\n",
       "      <td>Philadelphia</td>\n",
       "      <td>PA</td>\n",
       "      <td>39.949051</td>\n",
       "      <td>-75.159888</td>\n",
       "    </tr>\n",
       "    <tr>\n",
       "      <th>3</th>\n",
       "      <td>BxfvdHqETU8jWYUjx5OL2A</td>\n",
       "      <td>3.657602</td>\n",
       "      <td>Shake Shack</td>\n",
       "      <td>2000 Sansom St</td>\n",
       "      <td>Philadelphia</td>\n",
       "      <td>PA</td>\n",
       "      <td>39.951226</td>\n",
       "      <td>-75.173789</td>\n",
       "    </tr>\n",
       "    <tr>\n",
       "      <th>4</th>\n",
       "      <td>rVGxva6cx2eID4ghDLVHJg</td>\n",
       "      <td>3.623214</td>\n",
       "      <td>1225Raw Sushi and Sake Lounge</td>\n",
       "      <td>1225 Sansom St</td>\n",
       "      <td>Philadelphia</td>\n",
       "      <td>PA</td>\n",
       "      <td>39.949849</td>\n",
       "      <td>-75.161549</td>\n",
       "    </tr>\n",
       "  </tbody>\n",
       "</table>\n",
       "</div>"
      ],
      "text/plain": [
       "              business_id  average_star                           name  \\\n",
       "0  eMiN8nm70jjKg8izikVWDA      3.407960             Chickie's & Pete's   \n",
       "1  nIAbuktMEzVjT4P9pG89rQ      4.072819                       Buddakan   \n",
       "2  bLJP0fVgscuUQy0hE_CRXA      4.185129                    Xiandu Thai   \n",
       "3  BxfvdHqETU8jWYUjx5OL2A      3.657602                    Shake Shack   \n",
       "4  rVGxva6cx2eID4ghDLVHJg      3.623214  1225Raw Sushi and Sake Lounge   \n",
       "\n",
       "           address          city state   latitude  longitude  \n",
       "0  1526 Packer Ave  Philadelphia    PA  39.911417 -75.174511  \n",
       "1  325 Chestnut St  Philadelphia    PA  39.948919 -75.147167  \n",
       "2   1119 Walnut St  Philadelphia    PA  39.949051 -75.159888  \n",
       "3   2000 Sansom St  Philadelphia    PA  39.951226 -75.173789  \n",
       "4   1225 Sansom St  Philadelphia    PA  39.949849 -75.161549  "
      ]
     },
     "execution_count": 177,
     "metadata": {},
     "output_type": "execute_result"
    }
   ],
   "source": [
    "df_ratings = []\n",
    "for i in range(5):\n",
    "\n",
    "    df_rating = df_business[i].groupby('business_id').agg({'stars': 'mean', 'name': 'first', 'address': 'first', 'city': 'first', 'state': 'first', 'latitude': 'first', 'longitude': 'first'}).reset_index()\n",
    "    df_rating.rename(columns={'stars': 'average_star'}, inplace=True)\n",
    "    df_ratings.append(df_rating)\n",
    "# Concatenate the individual DataFrames into a single DataFrame\n",
    "restaurant_sentiment_final = pd.concat(df_ratings, ignore_index=True)\n",
    "\n",
    "restaurant_sentiment_final"
   ]
  },
  {
   "cell_type": "code",
   "execution_count": 178,
   "metadata": {},
   "outputs": [],
   "source": [
    "def count_sentiment_scores(column):\n",
    "    counts = {\n",
    "        1: 0,\n",
    "        0: 0,\n",
    "        -1: 0\n",
    "    }\n",
    "    for score in column:\n",
    "        counts[score] += 1\n",
    "    return counts"
   ]
  },
  {
   "cell_type": "code",
   "execution_count": 179,
   "metadata": {},
   "outputs": [
    {
     "name": "stdout",
     "output_type": "stream",
     "text": [
      "{1: 362, 0: 54, -1: 187}\n",
      "{1: 1160, 0: 187, -1: 246}\n",
      "{1: 509, 0: 53, -1: 97}\n",
      "{1: 522, 0: 70, -1: 217}\n",
      "{1: 354, 0: 91, -1: 115}\n"
     ]
    }
   ],
   "source": [
    "sentiment_counts_business = [{}]*5\n",
    "for i in range(5):\n",
    "    sentiment_counts_business[i] = count_sentiment_scores(df_business[i]['sentiment_score'])\n",
    "    print(sentiment_counts_business[i])"
   ]
  },
  {
   "cell_type": "code",
   "execution_count": 180,
   "metadata": {},
   "outputs": [
    {
     "data": {
      "text/html": [
       "<div>\n",
       "<style scoped>\n",
       "    .dataframe tbody tr th:only-of-type {\n",
       "        vertical-align: middle;\n",
       "    }\n",
       "\n",
       "    .dataframe tbody tr th {\n",
       "        vertical-align: top;\n",
       "    }\n",
       "\n",
       "    .dataframe thead th {\n",
       "        text-align: right;\n",
       "    }\n",
       "</style>\n",
       "<table border=\"1\" class=\"dataframe\">\n",
       "  <thead>\n",
       "    <tr style=\"text-align: right;\">\n",
       "      <th></th>\n",
       "      <th>business_id</th>\n",
       "      <th>average_star</th>\n",
       "      <th>name</th>\n",
       "      <th>address</th>\n",
       "      <th>city</th>\n",
       "      <th>state</th>\n",
       "      <th>latitude</th>\n",
       "      <th>longitude</th>\n",
       "      <th>positive_reviews</th>\n",
       "      <th>neutral_reviews</th>\n",
       "      <th>negative_reviews</th>\n",
       "    </tr>\n",
       "  </thead>\n",
       "  <tbody>\n",
       "    <tr>\n",
       "      <th>0</th>\n",
       "      <td>eMiN8nm70jjKg8izikVWDA</td>\n",
       "      <td>3.407960</td>\n",
       "      <td>Chickie's &amp; Pete's</td>\n",
       "      <td>1526 Packer Ave</td>\n",
       "      <td>Philadelphia</td>\n",
       "      <td>PA</td>\n",
       "      <td>39.911417</td>\n",
       "      <td>-75.174511</td>\n",
       "      <td>362</td>\n",
       "      <td>54</td>\n",
       "      <td>187</td>\n",
       "    </tr>\n",
       "    <tr>\n",
       "      <th>1</th>\n",
       "      <td>nIAbuktMEzVjT4P9pG89rQ</td>\n",
       "      <td>4.072819</td>\n",
       "      <td>Buddakan</td>\n",
       "      <td>325 Chestnut St</td>\n",
       "      <td>Philadelphia</td>\n",
       "      <td>PA</td>\n",
       "      <td>39.948919</td>\n",
       "      <td>-75.147167</td>\n",
       "      <td>1160</td>\n",
       "      <td>187</td>\n",
       "      <td>246</td>\n",
       "    </tr>\n",
       "    <tr>\n",
       "      <th>2</th>\n",
       "      <td>bLJP0fVgscuUQy0hE_CRXA</td>\n",
       "      <td>4.185129</td>\n",
       "      <td>Xiandu Thai</td>\n",
       "      <td>1119 Walnut St</td>\n",
       "      <td>Philadelphia</td>\n",
       "      <td>PA</td>\n",
       "      <td>39.949051</td>\n",
       "      <td>-75.159888</td>\n",
       "      <td>509</td>\n",
       "      <td>53</td>\n",
       "      <td>97</td>\n",
       "    </tr>\n",
       "    <tr>\n",
       "      <th>3</th>\n",
       "      <td>BxfvdHqETU8jWYUjx5OL2A</td>\n",
       "      <td>3.657602</td>\n",
       "      <td>Shake Shack</td>\n",
       "      <td>2000 Sansom St</td>\n",
       "      <td>Philadelphia</td>\n",
       "      <td>PA</td>\n",
       "      <td>39.951226</td>\n",
       "      <td>-75.173789</td>\n",
       "      <td>522</td>\n",
       "      <td>70</td>\n",
       "      <td>217</td>\n",
       "    </tr>\n",
       "    <tr>\n",
       "      <th>4</th>\n",
       "      <td>rVGxva6cx2eID4ghDLVHJg</td>\n",
       "      <td>3.623214</td>\n",
       "      <td>1225Raw Sushi and Sake Lounge</td>\n",
       "      <td>1225 Sansom St</td>\n",
       "      <td>Philadelphia</td>\n",
       "      <td>PA</td>\n",
       "      <td>39.949849</td>\n",
       "      <td>-75.161549</td>\n",
       "      <td>354</td>\n",
       "      <td>91</td>\n",
       "      <td>115</td>\n",
       "    </tr>\n",
       "  </tbody>\n",
       "</table>\n",
       "</div>"
      ],
      "text/plain": [
       "              business_id  average_star                           name  \\\n",
       "0  eMiN8nm70jjKg8izikVWDA      3.407960             Chickie's & Pete's   \n",
       "1  nIAbuktMEzVjT4P9pG89rQ      4.072819                       Buddakan   \n",
       "2  bLJP0fVgscuUQy0hE_CRXA      4.185129                    Xiandu Thai   \n",
       "3  BxfvdHqETU8jWYUjx5OL2A      3.657602                    Shake Shack   \n",
       "4  rVGxva6cx2eID4ghDLVHJg      3.623214  1225Raw Sushi and Sake Lounge   \n",
       "\n",
       "           address          city state   latitude  longitude  \\\n",
       "0  1526 Packer Ave  Philadelphia    PA  39.911417 -75.174511   \n",
       "1  325 Chestnut St  Philadelphia    PA  39.948919 -75.147167   \n",
       "2   1119 Walnut St  Philadelphia    PA  39.949051 -75.159888   \n",
       "3   2000 Sansom St  Philadelphia    PA  39.951226 -75.173789   \n",
       "4   1225 Sansom St  Philadelphia    PA  39.949849 -75.161549   \n",
       "\n",
       "   positive_reviews  neutral_reviews  negative_reviews  \n",
       "0               362               54               187  \n",
       "1              1160              187               246  \n",
       "2               509               53                97  \n",
       "3               522               70               217  \n",
       "4               354               91               115  "
      ]
     },
     "execution_count": 180,
     "metadata": {},
     "output_type": "execute_result"
    }
   ],
   "source": [
    "# Add sentiment counts to the final DataFrame\n",
    "restaurant_sentiment_final['positive_reviews'] = [counts[1] for counts in sentiment_counts_business]\n",
    "restaurant_sentiment_final['neutral_reviews'] = [counts[0] for counts in sentiment_counts_business]\n",
    "restaurant_sentiment_final['negative_reviews'] = [counts[-1] for counts in sentiment_counts_business]\n",
    "\n",
    "restaurant_sentiment_final"
   ]
  },
  {
   "cell_type": "code",
   "execution_count": 181,
   "metadata": {},
   "outputs": [],
   "source": [
    "restaurant_sentiment_final\n",
    "pickle.dump(restaurant_sentiment_final,open('../src/data/restaurant_sentiment_final.pkl','wb'))"
   ]
  },
  {
   "attachments": {},
   "cell_type": "markdown",
   "metadata": {},
   "source": [
    "# Dataset Creation For Aspect Based Sentiment Analysis"
   ]
  },
  {
   "cell_type": "code",
   "execution_count": 255,
   "metadata": {},
   "outputs": [],
   "source": [
    "import openai\n",
    "import json\n",
    "import tiktoken\n",
    "import time\n",
    "\n",
    "def num_tokens_from_messages(messages, model=\"gpt-3.5-turbo-0301\"):\n",
    "   \"\"\"Returns the number of tokens used by a list of messages.\"\"\"\n",
    "   try:\n",
    "       encoding = tiktoken.encoding_for_model(model)\n",
    "   except KeyError:\n",
    "       print(\"Warning: model not found. Using cl100k_base encoding.\")\n",
    "       encoding = tiktoken.get_encoding(\"cl100k_base\")\n",
    "   if model == \"gpt-3.5-turbo\":\n",
    "       print(\"Warning: gpt-3.5-turbo may change over time. Returning num tokens assuming gpt-3.5-turbo-0301.\")\n",
    "       return num_tokens_from_messages(messages, model=\"gpt-3.5-turbo-0301\")\n",
    "   elif model == \"gpt-4\":\n",
    "       print(\"Warning: gpt-4 may change over time. Returning num tokens assuming gpt-4-0314.\")\n",
    "       return num_tokens_from_messages(messages, model=\"gpt-4-0314\")\n",
    "   elif model == \"gpt-3.5-turbo-0301\":\n",
    "       tokens_per_message = 4  # every message follows <|start|>{role/name}\\n{content}<|end|>\\n\n",
    "       tokens_per_name = -1  # if there's a name, the role is omitted\n",
    "   elif model == \"gpt-4-0314\":\n",
    "       tokens_per_message = 3\n",
    "       tokens_per_name = 1\n",
    "   else:\n",
    "       raise NotImplementedError(f\"\"\"num_tokens_from_messages() is not implemented for model {model}. See https://github.com/openai/openai-python/blob/main/chatml.md for information on how messages are converted to tokens.\"\"\")\n",
    "   num_tokens = 0\n",
    "   for message in messages:\n",
    "       num_tokens += tokens_per_message\n",
    "       for key, value in message.items():\n",
    "           num_tokens += len(encoding.encode(value))\n",
    "           if key == \"name\":\n",
    "               num_tokens += tokens_per_name\n",
    "   num_tokens += 3  # every reply is primed with <|start|>assistant<|message|>\n",
    "   return num_tokens\n",
    "\n",
    "class SentimentAnalyzer:\n",
    "   def __init__(self, openai_api_key=None, temperature=0.7):\n",
    "       if openai_api_key:\n",
    "           openai.api_key = openai_api_key\n",
    "       openai.api_base = \"http://subhagato-desktop.local:5001/v1\"\n",
    "       self.temperature = temperature\n",
    "       self.system_message = '''You are a language expert for restaurant reviews that generates Aspect Based Sentiment for a restaurant review in the form of a JSON string with the following format: {\"Food Quality\" : [-1, 0, 1], \"Price\": [-1, 0, 1], \"Ambiance\": [-1, 0, 1], \"Service\": [-1, 0, 1], \"Comfort\": [-1, 0, 1]} given a review. The values will be -1 if the sentiment is negative, it will be 0 if nothing is mentioned about the topic, will be 1 if the sentiment is positive'''\n",
    "       self.sample_data = []\n",
    "       self.conversation = [{\"role\": \"system\", \"content\": self.system_message}]\n",
    "       self.token_count = self.count_tokens()\n",
    "\n",
    "   def addSampleData(self, review, sentiment):\n",
    "       self.sample_data.append((review, sentiment))\n",
    "       self.conversation.append({\"role\": \"user\", \"content\": review})\n",
    "       self.conversation.append({\"role\": \"assistant\", \"content\": sentiment})\n",
    "       # Count tokens in review and sentiment\n",
    "       self.token_count = self.count_tokens()\n",
    "\n",
    "   def deleteSamples(self):\n",
    "       self.sample_data = []\n",
    "       self.conversation = [{\"role\": \"system\", \"content\": self.system_message}]\n",
    "       self.token_count = self.count_tokens()\n",
    "\n",
    "   def analyze_sentiment(self, review):\n",
    "       self.conversation.append({\"role\": \"user\", \"content\": review})\n",
    "       self.token_count = self.count_tokens()\n",
    "\n",
    "       response = openai.ChatCompletion.create(\n",
    "         model=\"gpt-3.5-turbo\",\n",
    "         messages=self.conversation,\n",
    "         temperature=self.temperature\n",
    "       )\n",
    "\n",
    "       sentiment = response['choices'][0]['message']['content']\n",
    "       del self.conversation[-1]\n",
    "       print(\"sentiment: {}\".format(sentiment))\n",
    "\n",
    "       try:\n",
    "          sentiment_json = json.loads(sentiment)\n",
    "       except:\n",
    "          sentiment_json = json.loads(\"{}\")\n",
    "       return sentiment_json\n",
    "   \n",
    "   def analyze_sentiment_completions(self, review):\n",
    "        self.conversation.append({\"role\": \"user\", \"content\": review})\n",
    "        self.token_count = self.count_tokens()\n",
    "\n",
    "        # Convert the conversation history into a single string\n",
    "        conversation_string = self.system_message + \"\\n\"\n",
    "        for message in self.conversation[1:]:\n",
    "            conversation_string += f\"{message['role'].upper()}: {message['content']}\\n\"\n",
    "\n",
    "        conversation_string += \"ASSISTANT:\"\n",
    "\n",
    "        response = openai.Completion.create(\n",
    "            model=\"text-davinci-003\",\n",
    "            prompt=conversation_string,\n",
    "            temperature=self.temperature,\n",
    "            stop=\"USER:\"\n",
    "        )\n",
    "\n",
    "        sentiment = response['choices'][0]['text'].strip()\n",
    "        del self.conversation[-1]\n",
    "\n",
    "        print(\"sentiment: {}\".format(sentiment))\n",
    "\n",
    "        try:\n",
    "            sentiment_json = json.loads(sentiment)\n",
    "        except:\n",
    "            sentiment_json = json.loads(\"{}\")\n",
    "        return sentiment_json\n",
    "\n",
    "   def count_tokens(self):\n",
    "       return num_tokens_from_messages(self.conversation)"
   ]
  },
  {
   "cell_type": "code",
   "execution_count": 256,
   "metadata": {},
   "outputs": [],
   "source": [
    "def num_tokens(string):\n",
    "    encoding = tiktoken.encoding_for_model(\"gpt-3.5-turbo-0301\")\n",
    "    return len(encoding.encode(string))"
   ]
  },
  {
   "cell_type": "code",
   "execution_count": 257,
   "metadata": {},
   "outputs": [],
   "source": [
    "analyzer = SentimentAnalyzer(temperature=0.1)\n",
    "analyzer.addSampleData(\"The chicken burger was incredibly tasty but the service was pretty slow, and it's also quite expensive.\", '''{\"Food Quality\" : 1, \"Price\": -1, \"Ambiance\": 0, \"Service\": -1, \"Comfort\": 0}''')\n",
    "analyzer.addSampleData(\"There was a great vibe and the ambiance was great, with loud music and it was comfortable.\", '''{\"Food Quality\" : 0, \"Price\": 0, \"Ambiance\": 1, \"Service\": 0, \"Comfort\": 1}''')\n",
    "analyzer.addSampleData(\"I ordered fried rice. My food tastes good but the service is not great overall. Place was cozy\", '''{\"Food Quality\" : 1, \"Price\": 0, \"Ambiance\": 0, \"Service\": -1, \"Comfort\": 1}''')\n",
    "analyzer.addSampleData(\"Awesome food and great service. The Korean ribs were amazing! I can't comment on the atmosphere inside because we were seated outside. I was visiting from out of state so I may never be back, but I highly recommend it!\", '''{\"Food Quality\" : 1, \"Price\": 0, \"Ambiance\": 0, \"Service\": 1, \"Comfort\": 0}''')"
   ]
  },
  {
   "cell_type": "code",
   "execution_count": 254,
   "metadata": {},
   "outputs": [
    {
     "name": "stdout",
     "output_type": "stream",
     "text": [
      "sentiment: {\"Food Quality\" : 1, \"Price\": 0, \"Ambiance\": 0, \"Service\": 0, \"Comfort\": 0}\n"
     ]
    },
    {
     "data": {
      "text/plain": [
       "{'Food Quality': 1, 'Price': 0, 'Ambiance': 0, 'Service': 0, 'Comfort': 0}"
      ]
     },
     "execution_count": 254,
     "metadata": {},
     "output_type": "execute_result"
    }
   ],
   "source": [
    "analyzer.analyze_sentiment_completions('''First time I tried this place I ordered out for delivery. We got the lumpia as an appetizer, kalbi short ribs, garlic fried rice and the mac salad. Everything was mind boggling good. I thought to myself \"if delivery is this good I wonder what it's like in person.''')"
   ]
  },
  {
   "cell_type": "code",
   "execution_count": 258,
   "metadata": {},
   "outputs": [],
   "source": [
    "from sumy.parsers.plaintext import PlaintextParser\n",
    "from sumy.nlp.tokenizers import Tokenizer\n",
    "from sumy.summarizers.lex_rank import LexRankSummarizer\n",
    "\n",
    "# Create a summarizer instance\n",
    "summarizer = LexRankSummarizer()\n",
    "\n",
    "# Define a function for summarization\n",
    "def summarize_text(text):\n",
    "    # If the text is too short, don't summarize it\n",
    "    tokens = num_tokens(text)\n",
    "    if tokens < 400:\n",
    "        print(\"number of token in review: \" + str(tokens))\n",
    "        return text\n",
    "    \n",
    "    # Create a parser and tokenizer for the text\n",
    "    parser = PlaintextParser.from_string(text, Tokenizer(\"english\"))\n",
    "    \n",
    "    # Let's start with a large number of sentences to summarize\n",
    "    num_sentences = 50\n",
    "    summarized = summarizer(parser.document, num_sentences)\n",
    "\n",
    "    # If the summary is too long, decrease the number of sentences and try again\n",
    "    while num_tokens(str(summarized)) > 400:\n",
    "        num_sentences -= 1\n",
    "        summarized = summarizer(parser.document, num_sentences)\n",
    "\n",
    "    if summarized:\n",
    "        # return the full summary\n",
    "        summary_text = \" \".join(str(sentence) for sentence in summarized)\n",
    "        print(\"number of token in summarized review: \" + str(num_tokens(summary_text)))\n",
    "        return summary_text\n",
    "    else:\n",
    "        return text"
   ]
  },
  {
   "cell_type": "code",
   "execution_count": 263,
   "metadata": {},
   "outputs": [],
   "source": [
    "runBlock = False\n",
    "\n",
    "if runBlock:\n",
    "    for idx in range(5):\n",
    "        df_business[idx].loc[:,'summary']=df_business[idx]['text'].apply(summarize_text)\n",
    "        df_business[idx].loc[:,'aspect_sentiment']=df_business[idx]['summary'].apply(analyzer.analyze_sentiment_completions)\n",
    "        print(\"aspect_sentiment predicted for {}\".format(idx))\n",
    "\n",
    "    filehandler = open(\"df_business_list.pkl\",\"wb\")\n",
    "    pickle.dump(df_business,filehandler)\n",
    "    filehandler.close()"
   ]
  },
  {
   "cell_type": "code",
   "execution_count": 264,
   "metadata": {},
   "outputs": [],
   "source": [
    "filehandler = open(\"df_business_list.pkl\", \"rb\")\n",
    "df_business = pickle.load(filehandler)\n",
    "filehandler.close()"
   ]
  },
  {
   "cell_type": "code",
   "execution_count": 271,
   "metadata": {},
   "outputs": [
    {
     "data": {
      "text/plain": [
       "5"
      ]
     },
     "execution_count": 271,
     "metadata": {},
     "output_type": "execute_result"
    }
   ],
   "source": [
    "number_business=len(df_business)\n",
    "number_business"
   ]
  },
  {
   "cell_type": "code",
   "execution_count": 266,
   "metadata": {},
   "outputs": [
    {
     "data": {
      "text/html": [
       "<div>\n",
       "<style scoped>\n",
       "    .dataframe tbody tr th:only-of-type {\n",
       "        vertical-align: middle;\n",
       "    }\n",
       "\n",
       "    .dataframe tbody tr th {\n",
       "        vertical-align: top;\n",
       "    }\n",
       "\n",
       "    .dataframe thead th {\n",
       "        text-align: right;\n",
       "    }\n",
       "</style>\n",
       "<table border=\"1\" class=\"dataframe\">\n",
       "  <thead>\n",
       "    <tr style=\"text-align: right;\">\n",
       "      <th></th>\n",
       "      <th>review_id</th>\n",
       "      <th>business_id</th>\n",
       "      <th>stars</th>\n",
       "      <th>text</th>\n",
       "      <th>name</th>\n",
       "      <th>address</th>\n",
       "      <th>city</th>\n",
       "      <th>state</th>\n",
       "      <th>latitude</th>\n",
       "      <th>longitude</th>\n",
       "      <th>embedding</th>\n",
       "      <th>sentiment_score</th>\n",
       "      <th>summary</th>\n",
       "      <th>aspect_sentiment</th>\n",
       "    </tr>\n",
       "  </thead>\n",
       "  <tbody>\n",
       "    <tr>\n",
       "      <th>0</th>\n",
       "      <td>XddpIPiKwKb9KoCclSF6rw</td>\n",
       "      <td>eMiN8nm70jjKg8izikVWDA</td>\n",
       "      <td>5.0</td>\n",
       "      <td>Great place!  We went here after attending  th...</td>\n",
       "      <td>Chickie's &amp; Pete's</td>\n",
       "      <td>1526 Packer Ave</td>\n",
       "      <td>Philadelphia</td>\n",
       "      <td>PA</td>\n",
       "      <td>39.911417</td>\n",
       "      <td>-75.174511</td>\n",
       "      <td>[-0.012426845, 0.028016865, 0.025113216, -0.01...</td>\n",
       "      <td>1</td>\n",
       "      <td>Great place!  We went here after attending  th...</td>\n",
       "      <td>{'Food Quality': 1, 'Price': 0, 'Ambiance': 1,...</td>\n",
       "    </tr>\n",
       "    <tr>\n",
       "      <th>1</th>\n",
       "      <td>a4cme5BXWaV5-umuOn9JaQ</td>\n",
       "      <td>eMiN8nm70jjKg8izikVWDA</td>\n",
       "      <td>1.0</td>\n",
       "      <td>RUDE staff, DIRTY seating area, OK food, NO ex...</td>\n",
       "      <td>Chickie's &amp; Pete's</td>\n",
       "      <td>1526 Packer Ave</td>\n",
       "      <td>Philadelphia</td>\n",
       "      <td>PA</td>\n",
       "      <td>39.911417</td>\n",
       "      <td>-75.174511</td>\n",
       "      <td>[0.076094985, -0.022655312, 0.055192407, -0.00...</td>\n",
       "      <td>-1</td>\n",
       "      <td>RUDE staff, DIRTY seating area, OK food, NO ex...</td>\n",
       "      <td>{'Food Quality': 0, 'Price': 0, 'Ambiance': -1...</td>\n",
       "    </tr>\n",
       "    <tr>\n",
       "      <th>2</th>\n",
       "      <td>l0-tupdk7x2BySqPo3aNYg</td>\n",
       "      <td>eMiN8nm70jjKg8izikVWDA</td>\n",
       "      <td>4.0</td>\n",
       "      <td>This is a great place to catch a bite and rela...</td>\n",
       "      <td>Chickie's &amp; Pete's</td>\n",
       "      <td>1526 Packer Ave</td>\n",
       "      <td>Philadelphia</td>\n",
       "      <td>PA</td>\n",
       "      <td>39.911417</td>\n",
       "      <td>-75.174511</td>\n",
       "      <td>[-0.005799441, -0.008432188, 0.04227971, -0.00...</td>\n",
       "      <td>1</td>\n",
       "      <td>This is a great place to catch a bite and rela...</td>\n",
       "      <td>{'Food Quality': 1, 'Price': 0, 'Ambiance': 1,...</td>\n",
       "    </tr>\n",
       "    <tr>\n",
       "      <th>3</th>\n",
       "      <td>JIdkx8A59z_WAtZKVc1YtA</td>\n",
       "      <td>eMiN8nm70jjKg8izikVWDA</td>\n",
       "      <td>1.0</td>\n",
       "      <td>A very unprofessional staff organizing the cro...</td>\n",
       "      <td>Chickie's &amp; Pete's</td>\n",
       "      <td>1526 Packer Ave</td>\n",
       "      <td>Philadelphia</td>\n",
       "      <td>PA</td>\n",
       "      <td>39.911417</td>\n",
       "      <td>-75.174511</td>\n",
       "      <td>[0.013094682, 0.02503261, 0.023371885, 0.02978...</td>\n",
       "      <td>-1</td>\n",
       "      <td>A very unprofessional staff organizing the cro...</td>\n",
       "      <td>{'Food Quality': 0, 'Price': 0, 'Ambiance': 0,...</td>\n",
       "    </tr>\n",
       "    <tr>\n",
       "      <th>4</th>\n",
       "      <td>e3wkqC-NeZCf8FBO8OXQCg</td>\n",
       "      <td>eMiN8nm70jjKg8izikVWDA</td>\n",
       "      <td>5.0</td>\n",
       "      <td>Ate at the airport location.  Not only was the...</td>\n",
       "      <td>Chickie's &amp; Pete's</td>\n",
       "      <td>1526 Packer Ave</td>\n",
       "      <td>Philadelphia</td>\n",
       "      <td>PA</td>\n",
       "      <td>39.911417</td>\n",
       "      <td>-75.174511</td>\n",
       "      <td>[0.0124457, 0.011482745, 0.014838285, 0.054983...</td>\n",
       "      <td>1</td>\n",
       "      <td>Ate at the airport location.  Not only was the...</td>\n",
       "      <td>{'Food Quality': 1, 'Price': 0, 'Ambiance': 0,...</td>\n",
       "    </tr>\n",
       "  </tbody>\n",
       "</table>\n",
       "</div>"
      ],
      "text/plain": [
       "                review_id             business_id  stars  \\\n",
       "0  XddpIPiKwKb9KoCclSF6rw  eMiN8nm70jjKg8izikVWDA    5.0   \n",
       "1  a4cme5BXWaV5-umuOn9JaQ  eMiN8nm70jjKg8izikVWDA    1.0   \n",
       "2  l0-tupdk7x2BySqPo3aNYg  eMiN8nm70jjKg8izikVWDA    4.0   \n",
       "3  JIdkx8A59z_WAtZKVc1YtA  eMiN8nm70jjKg8izikVWDA    1.0   \n",
       "4  e3wkqC-NeZCf8FBO8OXQCg  eMiN8nm70jjKg8izikVWDA    5.0   \n",
       "\n",
       "                                                text                name  \\\n",
       "0  Great place!  We went here after attending  th...  Chickie's & Pete's   \n",
       "1  RUDE staff, DIRTY seating area, OK food, NO ex...  Chickie's & Pete's   \n",
       "2  This is a great place to catch a bite and rela...  Chickie's & Pete's   \n",
       "3  A very unprofessional staff organizing the cro...  Chickie's & Pete's   \n",
       "4  Ate at the airport location.  Not only was the...  Chickie's & Pete's   \n",
       "\n",
       "           address          city state   latitude  longitude  \\\n",
       "0  1526 Packer Ave  Philadelphia    PA  39.911417 -75.174511   \n",
       "1  1526 Packer Ave  Philadelphia    PA  39.911417 -75.174511   \n",
       "2  1526 Packer Ave  Philadelphia    PA  39.911417 -75.174511   \n",
       "3  1526 Packer Ave  Philadelphia    PA  39.911417 -75.174511   \n",
       "4  1526 Packer Ave  Philadelphia    PA  39.911417 -75.174511   \n",
       "\n",
       "                                           embedding  sentiment_score  \\\n",
       "0  [-0.012426845, 0.028016865, 0.025113216, -0.01...                1   \n",
       "1  [0.076094985, -0.022655312, 0.055192407, -0.00...               -1   \n",
       "2  [-0.005799441, -0.008432188, 0.04227971, -0.00...                1   \n",
       "3  [0.013094682, 0.02503261, 0.023371885, 0.02978...               -1   \n",
       "4  [0.0124457, 0.011482745, 0.014838285, 0.054983...                1   \n",
       "\n",
       "                                             summary  \\\n",
       "0  Great place!  We went here after attending  th...   \n",
       "1  RUDE staff, DIRTY seating area, OK food, NO ex...   \n",
       "2  This is a great place to catch a bite and rela...   \n",
       "3  A very unprofessional staff organizing the cro...   \n",
       "4  Ate at the airport location.  Not only was the...   \n",
       "\n",
       "                                    aspect_sentiment  \n",
       "0  {'Food Quality': 1, 'Price': 0, 'Ambiance': 1,...  \n",
       "1  {'Food Quality': 0, 'Price': 0, 'Ambiance': -1...  \n",
       "2  {'Food Quality': 1, 'Price': 0, 'Ambiance': 1,...  \n",
       "3  {'Food Quality': 0, 'Price': 0, 'Ambiance': 0,...  \n",
       "4  {'Food Quality': 1, 'Price': 0, 'Ambiance': 0,...  "
      ]
     },
     "execution_count": 266,
     "metadata": {},
     "output_type": "execute_result"
    }
   ],
   "source": [
    "df_business[0].head()"
   ]
  },
  {
   "cell_type": "code",
   "execution_count": 286,
   "metadata": {},
   "outputs": [],
   "source": [
    "import pandas as pd\n",
    "import numpy as np\n",
    "\n",
    "def process_aspect_sentiment(df):\n",
    "    aspects = ['Food Quality', 'Price', 'Ambiance', 'Service', 'Comfort']\n",
    "    \n",
    "    for aspect in aspects:\n",
    "        df[aspect] = df['aspect_sentiment'].apply(lambda x: x.get(aspect, 0))\n",
    "\n",
    "        # If value is a list, take the average, else if it's a single numeric value keep it as it is, else put 0\n",
    "        df[aspect] = df[aspect].apply(lambda x: np.mean(x) if isinstance(x, list) and all(isinstance(i, (int, float)) for i in x) else (x if isinstance(x, (int, float)) else 0))\n",
    "\n",
    "        # Truncate values to be within -1 and 1\n",
    "        df[aspect] = df[aspect].apply(lambda x: -1 if x < 0 else 1 if x > 0 else x)\n",
    "\n",
    "    df.rename(columns={'Food Quality': 'food_quality', 'Price': 'price', 'Ambiance': 'ambiance', 'Service': 'service', 'Comfort': 'comfort'}, inplace=True)\n",
    "    return df\n",
    "# Apply the function\n",
    "\n",
    "for i in range(5):\n",
    "    df_business[i] = process_aspect_sentiment(df_business[i])\n"
   ]
  },
  {
   "cell_type": "code",
   "execution_count": 288,
   "metadata": {},
   "outputs": [],
   "source": [
    "def aggregate_reviews(df):\n",
    "    # Group the dataframe by business_id and aggregate the other columns using sum\n",
    "    grouped = df.groupby('business_id').agg({\n",
    "        'name': 'first',\n",
    "        'address': 'first',\n",
    "        'city': 'first',\n",
    "        'state': 'first',\n",
    "        'latitude': 'first',\n",
    "        'longitude': 'first',\n",
    "        'stars': np.mean,\n",
    "        'sentiment_score': lambda x: [x.value_counts().get(-1, 0), x.value_counts().get(0, 0), x.value_counts().get(1, 0)],\n",
    "        'food_quality': lambda x: [x.value_counts().get(-1, 0), x.value_counts().get(0, 0), x.value_counts().get(1, 0)],\n",
    "        'price': lambda x: [x.value_counts().get(-1, 0), x.value_counts().get(0, 0), x.value_counts().get(1, 0)],\n",
    "        'ambiance': lambda x: [x.value_counts().get(-1, 0), x.value_counts().get(0, 0), x.value_counts().get(1, 0)],\n",
    "        'service': lambda x: [x.value_counts().get(-1, 0), x.value_counts().get(0, 0), x.value_counts().get(1, 0)],\n",
    "        'comfort': lambda x: [x.value_counts().get(-1, 0), x.value_counts().get(0, 0), x.value_counts().get(1, 0)]\n",
    "    })\n",
    "\n",
    "    return grouped.reset_index()"
   ]
  },
  {
   "cell_type": "code",
   "execution_count": 298,
   "metadata": {},
   "outputs": [],
   "source": [
    "business_final_metric = pd.DataFrame()\n",
    "for i in range(5):\n",
    "    result = aggregate_reviews(df_business[i])\n",
    "    business_final_metric = pd.concat([business_final_metric, result])"
   ]
  },
  {
   "cell_type": "code",
   "execution_count": 299,
   "metadata": {},
   "outputs": [
    {
     "data": {
      "text/html": [
       "<div>\n",
       "<style scoped>\n",
       "    .dataframe tbody tr th:only-of-type {\n",
       "        vertical-align: middle;\n",
       "    }\n",
       "\n",
       "    .dataframe tbody tr th {\n",
       "        vertical-align: top;\n",
       "    }\n",
       "\n",
       "    .dataframe thead th {\n",
       "        text-align: right;\n",
       "    }\n",
       "</style>\n",
       "<table border=\"1\" class=\"dataframe\">\n",
       "  <thead>\n",
       "    <tr style=\"text-align: right;\">\n",
       "      <th></th>\n",
       "      <th>business_id</th>\n",
       "      <th>name</th>\n",
       "      <th>address</th>\n",
       "      <th>city</th>\n",
       "      <th>state</th>\n",
       "      <th>latitude</th>\n",
       "      <th>longitude</th>\n",
       "      <th>stars</th>\n",
       "      <th>sentiment_score</th>\n",
       "      <th>food_quality</th>\n",
       "      <th>price</th>\n",
       "      <th>ambiance</th>\n",
       "      <th>service</th>\n",
       "      <th>comfort</th>\n",
       "    </tr>\n",
       "  </thead>\n",
       "  <tbody>\n",
       "    <tr>\n",
       "      <th>0</th>\n",
       "      <td>eMiN8nm70jjKg8izikVWDA</td>\n",
       "      <td>Chickie's &amp; Pete's</td>\n",
       "      <td>1526 Packer Ave</td>\n",
       "      <td>Philadelphia</td>\n",
       "      <td>PA</td>\n",
       "      <td>39.911417</td>\n",
       "      <td>-75.174511</td>\n",
       "      <td>3.407960</td>\n",
       "      <td>[187, 54, 362]</td>\n",
       "      <td>[91, 201, 311]</td>\n",
       "      <td>[62, 519, 22]</td>\n",
       "      <td>[43, 405, 155]</td>\n",
       "      <td>[133, 316, 154]</td>\n",
       "      <td>[16, 519, 68]</td>\n",
       "    </tr>\n",
       "    <tr>\n",
       "      <th>0</th>\n",
       "      <td>nIAbuktMEzVjT4P9pG89rQ</td>\n",
       "      <td>Buddakan</td>\n",
       "      <td>325 Chestnut St</td>\n",
       "      <td>Philadelphia</td>\n",
       "      <td>PA</td>\n",
       "      <td>39.948919</td>\n",
       "      <td>-75.147167</td>\n",
       "      <td>4.072819</td>\n",
       "      <td>[246, 187, 1160]</td>\n",
       "      <td>[103, 254, 1236]</td>\n",
       "      <td>[308, 1216, 69]</td>\n",
       "      <td>[101, 683, 809]</td>\n",
       "      <td>[126, 713, 754]</td>\n",
       "      <td>[39, 1381, 173]</td>\n",
       "    </tr>\n",
       "    <tr>\n",
       "      <th>0</th>\n",
       "      <td>bLJP0fVgscuUQy0hE_CRXA</td>\n",
       "      <td>Xiandu Thai</td>\n",
       "      <td>1119 Walnut St</td>\n",
       "      <td>Philadelphia</td>\n",
       "      <td>PA</td>\n",
       "      <td>39.949051</td>\n",
       "      <td>-75.159888</td>\n",
       "      <td>4.185129</td>\n",
       "      <td>[97, 53, 509]</td>\n",
       "      <td>[58, 69, 532]</td>\n",
       "      <td>[35, 556, 68]</td>\n",
       "      <td>[6, 475, 178]</td>\n",
       "      <td>[35, 282, 342]</td>\n",
       "      <td>[2, 562, 95]</td>\n",
       "    </tr>\n",
       "    <tr>\n",
       "      <th>0</th>\n",
       "      <td>BxfvdHqETU8jWYUjx5OL2A</td>\n",
       "      <td>Shake Shack</td>\n",
       "      <td>2000 Sansom St</td>\n",
       "      <td>Philadelphia</td>\n",
       "      <td>PA</td>\n",
       "      <td>39.951226</td>\n",
       "      <td>-75.173789</td>\n",
       "      <td>3.657602</td>\n",
       "      <td>[217, 70, 522]</td>\n",
       "      <td>[96, 159, 554]</td>\n",
       "      <td>[183, 607, 19]</td>\n",
       "      <td>[23, 717, 69]</td>\n",
       "      <td>[63, 537, 209]</td>\n",
       "      <td>[11, 716, 82]</td>\n",
       "    </tr>\n",
       "    <tr>\n",
       "      <th>0</th>\n",
       "      <td>rVGxva6cx2eID4ghDLVHJg</td>\n",
       "      <td>1225Raw Sushi and Sake Lounge</td>\n",
       "      <td>1225 Sansom St</td>\n",
       "      <td>Philadelphia</td>\n",
       "      <td>PA</td>\n",
       "      <td>39.949849</td>\n",
       "      <td>-75.161549</td>\n",
       "      <td>3.623214</td>\n",
       "      <td>[115, 91, 354]</td>\n",
       "      <td>[56, 126, 378]</td>\n",
       "      <td>[109, 406, 45]</td>\n",
       "      <td>[44, 246, 270]</td>\n",
       "      <td>[100, 286, 174]</td>\n",
       "      <td>[20, 461, 79]</td>\n",
       "    </tr>\n",
       "  </tbody>\n",
       "</table>\n",
       "</div>"
      ],
      "text/plain": [
       "              business_id                           name          address  \\\n",
       "0  eMiN8nm70jjKg8izikVWDA             Chickie's & Pete's  1526 Packer Ave   \n",
       "0  nIAbuktMEzVjT4P9pG89rQ                       Buddakan  325 Chestnut St   \n",
       "0  bLJP0fVgscuUQy0hE_CRXA                    Xiandu Thai   1119 Walnut St   \n",
       "0  BxfvdHqETU8jWYUjx5OL2A                    Shake Shack   2000 Sansom St   \n",
       "0  rVGxva6cx2eID4ghDLVHJg  1225Raw Sushi and Sake Lounge   1225 Sansom St   \n",
       "\n",
       "           city state   latitude  longitude     stars   sentiment_score  \\\n",
       "0  Philadelphia    PA  39.911417 -75.174511  3.407960    [187, 54, 362]   \n",
       "0  Philadelphia    PA  39.948919 -75.147167  4.072819  [246, 187, 1160]   \n",
       "0  Philadelphia    PA  39.949051 -75.159888  4.185129     [97, 53, 509]   \n",
       "0  Philadelphia    PA  39.951226 -75.173789  3.657602    [217, 70, 522]   \n",
       "0  Philadelphia    PA  39.949849 -75.161549  3.623214    [115, 91, 354]   \n",
       "\n",
       "       food_quality            price         ambiance          service  \\\n",
       "0    [91, 201, 311]    [62, 519, 22]   [43, 405, 155]  [133, 316, 154]   \n",
       "0  [103, 254, 1236]  [308, 1216, 69]  [101, 683, 809]  [126, 713, 754]   \n",
       "0     [58, 69, 532]    [35, 556, 68]    [6, 475, 178]   [35, 282, 342]   \n",
       "0    [96, 159, 554]   [183, 607, 19]    [23, 717, 69]   [63, 537, 209]   \n",
       "0    [56, 126, 378]   [109, 406, 45]   [44, 246, 270]  [100, 286, 174]   \n",
       "\n",
       "           comfort  \n",
       "0    [16, 519, 68]  \n",
       "0  [39, 1381, 173]  \n",
       "0     [2, 562, 95]  \n",
       "0    [11, 716, 82]  \n",
       "0    [20, 461, 79]  "
      ]
     },
     "execution_count": 299,
     "metadata": {},
     "output_type": "execute_result"
    }
   ],
   "source": [
    "business_final_metric.head()"
   ]
  },
  {
   "cell_type": "code",
   "execution_count": 322,
   "metadata": {},
   "outputs": [],
   "source": [
    "import matplotlib.pyplot as plt\n",
    "\n",
    "def plot_business_metrics(df, business_id):\n",
    "    # Filter the dataframe to get the row with the specified business_id\n",
    "    business_row = df[df['business_id'] == business_id].iloc[0]\n",
    "\n",
    "    # Extract the required columns\n",
    "    metrics = ['sentiment_score', 'food_quality', 'price', 'ambiance', 'service', 'comfort']\n",
    "    values = business_row[metrics]\n",
    "\n",
    "    # Transpose the DataFrame for easier plotting\n",
    "    values = values.transpose()\n",
    "\n",
    "    # Set the width of the bars and determine the positions\n",
    "    bar_width = 0.2\n",
    "    r1 = np.arange(len(values))\n",
    "    r2 = [x + bar_width for x in r1]\n",
    "    r3 = [x + bar_width for x in r2]\n",
    "\n",
    "    # Create the figure\n",
    "    plt.figure(figsize=(12, 6))  # You can adjust the size as needed\n",
    "\n",
    "    # Create the bars\n",
    "    for idx in values.index:\n",
    "        plt.bar(r1[values.index.get_loc(idx)], values[idx][0], color='r', width=bar_width, edgecolor='grey', label='Negative' if 'Negative' not in plt.gca().get_legend_handles_labels()[1] else \"\")\n",
    "        if idx == 'sentiment_score':\n",
    "            plt.bar(r2[values.index.get_loc(idx)], values[idx][1], color='b', width=bar_width, edgecolor='grey', label='Neutral' if 'Neutral' not in plt.gca().get_legend_handles_labels()[1] else \"\")\n",
    "        plt.bar(r3[values.index.get_loc(idx)], values[idx][2], color='g', width=bar_width, edgecolor='grey', label='Positive' if 'Positive' not in plt.gca().get_legend_handles_labels()[1] else \"\")\n",
    "\n",
    "    # Add xticks on the middle of the group bars\n",
    "    plt.xlabel('Sentiment Aspects', fontweight='bold')\n",
    "    plt.xticks([r + bar_width for r in range(len(values))], values.index)\n",
    "\n",
    "    # Create legend & Show graphic\n",
    "    plt.legend()\n",
    "    plt.show()"
   ]
  },
  {
   "cell_type": "code",
   "execution_count": 323,
   "metadata": {},
   "outputs": [
    {
     "data": {
      "image/png": "[encoded data removed]",
      "text/plain": [
       "<Figure size 1200x600 with 1 Axes>"
      ]
     },
     "metadata": {},
     "output_type": "display_data"
    }
   ],
   "source": [
    "plot_business_metrics(business_final_metric, 'eMiN8nm70jjKg8izikVWDA')\n",
    "\n"
   ]
  },
  {
   "cell_type": "code",
   "execution_count": 325,
   "metadata": {},
   "outputs": [],
   "source": [
    "\n",
    "business_final_metric.to_pickle('../src/data/business_final_metric.pkl')"
   ]
  },
  {
   "cell_type": "code",
   "execution_count": 326,
   "metadata": {},
   "outputs": [
    {
     "name": "stdout",
     "output_type": "stream",
     "text": [
      "index = 0\n"
     ]
    }
   ],
   "source": [
    "restaurant_aspect=pickle.load(open('/Users/sairindhri/yelp-data-analysis2/src/data/business_final_metric.pkl','rb'))\n",
    "\n",
    "index = np.where(restaurant_aspect.business_id=='eMiN8nm70jjKg8izikVWDA')[0][0]\n",
    "target_row = restaurant_aspect.iloc[index]\n",
    "print(\"index = {}\".format(index))\n",
    "sentiment_score=target_row['sentiment_score']\n",
    "food_quality=target_row['food_quality']\n",
    "price=target_row['price']\n",
    "ambiance=target_row['ambiance']\n",
    "service=target_row['service']\n",
    "comfort=target_row['comfort']"
   ]
  },
  {
   "cell_type": "code",
   "execution_count": 328,
   "metadata": {},
   "outputs": [
    {
     "name": "stdout",
     "output_type": "stream",
     "text": [
      "<class 'list'>\n"
     ]
    }
   ],
   "source": [
    "print(type(sentiment_score))"
   ]
  },
  {
   "cell_type": "code",
   "execution_count": 329,
   "metadata": {},
   "outputs": [
    {
     "data": {
      "image/png": "[encoded data removed]",
      "text/plain": [
       "<Figure size 1000x600 with 1 Axes>"
      ]
     },
     "metadata": {},
     "output_type": "display_data"
    }
   ],
   "source": [
    "import matplotlib.pyplot as plt\n",
    "import seaborn as sns\n",
    "\n",
    "# Define the data\n",
    "review_count = 6990280\n",
    "business_count = 150346\n",
    "filtered_count = 100000\n",
    "\n",
    "# Create the data for the bar plots\n",
    "counts = [review_count, business_count, filtered_count]\n",
    "labels = ['Yelp Reviews', 'Businesses', 'Filtered Dataset']\n",
    "\n",
    "# Plot the bar plots\n",
    "plt.figure(figsize=(10, 6))\n",
    "sns.barplot(x=labels, y=counts)\n",
    "\n",
    "# Customize the plot\n",
    "plt.title('Data Summary')\n",
    "plt.xlabel('Data Types')\n",
    "plt.ylabel('Number of Records')\n",
    "\n",
    "# Display the plot\n",
    "plt.show()\n"
   ]
  }
 ],
 "metadata": {
  "kernelspec": {
   "display_name": "venv",
   "language": "python",
   "name": "python3"
  },
  "language_info": {
   "codemirror_mode": {
    "name": "ipython",
    "version": 3
   },
   "file_extension": ".py",
   "mimetype": "text/x-python",
   "name": "python",
   "nbconvert_exporter": "python",
   "pygments_lexer": "ipython3",
   "version": "3.11.4"
  },
  "orig_nbformat": 4
 },
 "nbformat": 4,
 "nbformat_minor": 2
}
