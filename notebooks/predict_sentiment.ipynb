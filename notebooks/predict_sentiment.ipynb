{
 "cells": [
  {
   "cell_type": "code",
   "execution_count": 1,
   "metadata": {},
   "outputs": [],
   "source": [
    "import pickle\n",
    "\n",
    "df_sentiment_score=pickle.load(open('../src/data/sentiment_score_df.pkl','rb'))"
   ]
  },
  {
   "cell_type": "code",
   "execution_count": 2,
   "metadata": {},
   "outputs": [
    {
     "data": {
      "text/html": [
       "<div>\n",
       "<style scoped>\n",
       "    .dataframe tbody tr th:only-of-type {\n",
       "        vertical-align: middle;\n",
       "    }\n",
       "\n",
       "    .dataframe tbody tr th {\n",
       "        vertical-align: top;\n",
       "    }\n",
       "\n",
       "    .dataframe thead th {\n",
       "        text-align: right;\n",
       "    }\n",
       "</style>\n",
       "<table border=\"1\" class=\"dataframe\">\n",
       "  <thead>\n",
       "    <tr style=\"text-align: right;\">\n",
       "      <th></th>\n",
       "      <th>text</th>\n",
       "      <th>stars</th>\n",
       "      <th>embeddings</th>\n",
       "      <th>sentiment</th>\n",
       "    </tr>\n",
       "  </thead>\n",
       "  <tbody>\n",
       "    <tr>\n",
       "      <th>0</th>\n",
       "      <td>Ate at the bar late one evening.  The food was...</td>\n",
       "      <td>3.0</td>\n",
       "      <td>[0.02110215, 0.015082884, 0.027772486, 0.04898...</td>\n",
       "      <td>0</td>\n",
       "    </tr>\n",
       "    <tr>\n",
       "      <th>1</th>\n",
       "      <td>ive gone here more than 10 times.  the first f...</td>\n",
       "      <td>2.0</td>\n",
       "      <td>[0.053978473, -0.005075182, 0.03789233, 0.0295...</td>\n",
       "      <td>-1</td>\n",
       "    </tr>\n",
       "    <tr>\n",
       "      <th>2</th>\n",
       "      <td>Went here Saturday for drag brunch, we had 8 p...</td>\n",
       "      <td>3.0</td>\n",
       "      <td>[0.05708591, -0.007079023, 0.02999837, 0.03157...</td>\n",
       "      <td>0</td>\n",
       "    </tr>\n",
       "    <tr>\n",
       "      <th>3</th>\n",
       "      <td>Turns out they randomly close the pool down wh...</td>\n",
       "      <td>3.0</td>\n",
       "      <td>[0.01065718, 0.014424983, 0.042207252, 0.02751...</td>\n",
       "      <td>0</td>\n",
       "    </tr>\n",
       "    <tr>\n",
       "      <th>4</th>\n",
       "      <td>Totally awesome experience. Very New Orleans \"...</td>\n",
       "      <td>3.0</td>\n",
       "      <td>[0.029420882, 0.032237433, 0.026742732, 0.0395...</td>\n",
       "      <td>0</td>\n",
       "    </tr>\n",
       "  </tbody>\n",
       "</table>\n",
       "</div>"
      ],
      "text/plain": [
       "                                                text  stars  \\\n",
       "0  Ate at the bar late one evening.  The food was...    3.0   \n",
       "1  ive gone here more than 10 times.  the first f...    2.0   \n",
       "2  Went here Saturday for drag brunch, we had 8 p...    3.0   \n",
       "3  Turns out they randomly close the pool down wh...    3.0   \n",
       "4  Totally awesome experience. Very New Orleans \"...    3.0   \n",
       "\n",
       "                                          embeddings  sentiment  \n",
       "0  [0.02110215, 0.015082884, 0.027772486, 0.04898...          0  \n",
       "1  [0.053978473, -0.005075182, 0.03789233, 0.0295...         -1  \n",
       "2  [0.05708591, -0.007079023, 0.02999837, 0.03157...          0  \n",
       "3  [0.01065718, 0.014424983, 0.042207252, 0.02751...          0  \n",
       "4  [0.029420882, 0.032237433, 0.026742732, 0.0395...          0  "
      ]
     },
     "execution_count": 2,
     "metadata": {},
     "output_type": "execute_result"
    }
   ],
   "source": [
    "df_sentiment_score.head()"
   ]
  },
  {
   "cell_type": "code",
   "execution_count": 3,
   "metadata": {},
   "outputs": [],
   "source": [
    "from pyathena import connect\n",
    "import pandas as pd\n",
    "import configparser"
   ]
  },
  {
   "cell_type": "code",
   "execution_count": 8,
   "metadata": {},
   "outputs": [],
   "source": [
    "config = configparser.ConfigParser()\n",
    "config.read('../access_keys_shreya.cfg')\n",
    "AWS_ACCESS_KEY = config.get('aws', 'aws_access_key')\n",
    "AWS_SECRET_KEY = config.get('aws', 'aws_secret_key')"
   ]
  },
  {
   "cell_type": "code",
   "execution_count": 9,
   "metadata": {},
   "outputs": [],
   "source": [
    "from six.moves.urllib.parse import quote_plus\n",
    "from sqlalchemy.engine import create_engine\n",
    "\n",
    "SCHEMA_NAME = \"yelp\"\n",
    "S3_STAGING_DIR = \"s3://sairin.yelp.dataset/dataset\"\n",
    "AWS_REGION = \"us-west-1\"\n",
    "conn_str = (\n",
    "    \"awsathena+rest://{aws_access_key_id}:{aws_secret_access_key}@\"\n",
    "    \"athena.{region_name}.amazonaws.com:443/\"\n",
    "    \"{schema_name}?s3_staging_dir={s3_staging_dir}&work_group=primary\"\n",
    ")\n",
    "\n",
    "\n",
    "# Create the SQLAlchemy connection. Note that you need to have pyathena installed for this.\n",
    "engine = create_engine(\n",
    "    conn_str.format(\n",
    "        aws_access_key_id=quote_plus(AWS_ACCESS_KEY),\n",
    "        aws_secret_access_key=quote_plus(AWS_SECRET_KEY),\n",
    "        region_name=AWS_REGION,\n",
    "        schema_name=SCHEMA_NAME,\n",
    "        s3_staging_dir=quote_plus(S3_STAGING_DIR),\n",
    "    )\n",
    ")\n",
    "athena_connection = engine.connect()\n"
   ]
  },
  {
   "cell_type": "code",
   "execution_count": 10,
   "metadata": {},
   "outputs": [],
   "source": [
    "query_business = \"\"\"\n",
    "        SELECT * \n",
    "        FROM yelp.philadelphia_top_restaurant\n",
    "        \"\"\"\n"
   ]
  },
  {
   "cell_type": "code",
   "execution_count": 15,
   "metadata": {},
   "outputs": [],
   "source": [
    "runBlock = False\n",
    "if runBlock:\n",
    "    df_restaurant_philadelphia = pd.read_sql(query_business, athena_connection)\n",
    "    df_restaurant_philadelphia.to_pickle('../src/data/top_restaurant_philadelphia.pkl')"
   ]
  },
  {
   "cell_type": "code",
   "execution_count": 16,
   "metadata": {},
   "outputs": [],
   "source": [
    "df_restaurant_philadelphia = pd.read_pickle('../src/data/top_restaurant_philadelphia.pkl')"
   ]
  },
  {
   "cell_type": "code",
   "execution_count": 17,
   "metadata": {},
   "outputs": [
    {
     "data": {
      "text/html": [
       "<div>\n",
       "<style scoped>\n",
       "    .dataframe tbody tr th:only-of-type {\n",
       "        vertical-align: middle;\n",
       "    }\n",
       "\n",
       "    .dataframe tbody tr th {\n",
       "        vertical-align: top;\n",
       "    }\n",
       "\n",
       "    .dataframe thead th {\n",
       "        text-align: right;\n",
       "    }\n",
       "</style>\n",
       "<table border=\"1\" class=\"dataframe\">\n",
       "  <thead>\n",
       "    <tr style=\"text-align: right;\">\n",
       "      <th></th>\n",
       "      <th>review_id</th>\n",
       "      <th>business_id</th>\n",
       "      <th>stars</th>\n",
       "      <th>text</th>\n",
       "      <th>name</th>\n",
       "      <th>address</th>\n",
       "      <th>city</th>\n",
       "      <th>state</th>\n",
       "      <th>latitude</th>\n",
       "      <th>longitude</th>\n",
       "    </tr>\n",
       "  </thead>\n",
       "  <tbody>\n",
       "    <tr>\n",
       "      <th>0</th>\n",
       "      <td>1znepeEBKLNu7xvzc4A0ww</td>\n",
       "      <td>eMiN8nm70jjKg8izikVWDA</td>\n",
       "      <td>4.0</td>\n",
       "      <td>What can I say!!!!   Best Mussels anywhere!! T...</td>\n",
       "      <td>Chickie's &amp; Pete's</td>\n",
       "      <td>1526 Packer Ave</td>\n",
       "      <td>Philadelphia</td>\n",
       "      <td>PA</td>\n",
       "      <td>39.911417</td>\n",
       "      <td>-75.174511</td>\n",
       "    </tr>\n",
       "    <tr>\n",
       "      <th>1</th>\n",
       "      <td>4SC_wghn0RR1ccXMEjYkuw</td>\n",
       "      <td>eMiN8nm70jjKg8izikVWDA</td>\n",
       "      <td>3.0</td>\n",
       "      <td>Love the fact that they made me turn my hat fo...</td>\n",
       "      <td>Chickie's &amp; Pete's</td>\n",
       "      <td>1526 Packer Ave</td>\n",
       "      <td>Philadelphia</td>\n",
       "      <td>PA</td>\n",
       "      <td>39.911417</td>\n",
       "      <td>-75.174511</td>\n",
       "    </tr>\n",
       "    <tr>\n",
       "      <th>2</th>\n",
       "      <td>5ouqnL6XP-m6UYw_vmSx1Q</td>\n",
       "      <td>eMiN8nm70jjKg8izikVWDA</td>\n",
       "      <td>4.0</td>\n",
       "      <td>Natives recommended I try the crab fries, whic...</td>\n",
       "      <td>Chickie's &amp; Pete's</td>\n",
       "      <td>1526 Packer Ave</td>\n",
       "      <td>Philadelphia</td>\n",
       "      <td>PA</td>\n",
       "      <td>39.911417</td>\n",
       "      <td>-75.174511</td>\n",
       "    </tr>\n",
       "    <tr>\n",
       "      <th>3</th>\n",
       "      <td>kNDutSQQtNpxZcGpIkrGrA</td>\n",
       "      <td>eMiN8nm70jjKg8izikVWDA</td>\n",
       "      <td>5.0</td>\n",
       "      <td>This place is the real deal !! It's a true spo...</td>\n",
       "      <td>Chickie's &amp; Pete's</td>\n",
       "      <td>1526 Packer Ave</td>\n",
       "      <td>Philadelphia</td>\n",
       "      <td>PA</td>\n",
       "      <td>39.911417</td>\n",
       "      <td>-75.174511</td>\n",
       "    </tr>\n",
       "    <tr>\n",
       "      <th>4</th>\n",
       "      <td>v9gWqobdJozPb8CFsqOPzQ</td>\n",
       "      <td>eMiN8nm70jjKg8izikVWDA</td>\n",
       "      <td>5.0</td>\n",
       "      <td>I didn't know what a crab fry was until I went...</td>\n",
       "      <td>Chickie's &amp; Pete's</td>\n",
       "      <td>1526 Packer Ave</td>\n",
       "      <td>Philadelphia</td>\n",
       "      <td>PA</td>\n",
       "      <td>39.911417</td>\n",
       "      <td>-75.174511</td>\n",
       "    </tr>\n",
       "  </tbody>\n",
       "</table>\n",
       "</div>"
      ],
      "text/plain": [
       "                review_id             business_id  stars  \\\n",
       "0  1znepeEBKLNu7xvzc4A0ww  eMiN8nm70jjKg8izikVWDA    4.0   \n",
       "1  4SC_wghn0RR1ccXMEjYkuw  eMiN8nm70jjKg8izikVWDA    3.0   \n",
       "2  5ouqnL6XP-m6UYw_vmSx1Q  eMiN8nm70jjKg8izikVWDA    4.0   \n",
       "3  kNDutSQQtNpxZcGpIkrGrA  eMiN8nm70jjKg8izikVWDA    5.0   \n",
       "4  v9gWqobdJozPb8CFsqOPzQ  eMiN8nm70jjKg8izikVWDA    5.0   \n",
       "\n",
       "                                                text                name  \\\n",
       "0  What can I say!!!!   Best Mussels anywhere!! T...  Chickie's & Pete's   \n",
       "1  Love the fact that they made me turn my hat fo...  Chickie's & Pete's   \n",
       "2  Natives recommended I try the crab fries, whic...  Chickie's & Pete's   \n",
       "3  This place is the real deal !! It's a true spo...  Chickie's & Pete's   \n",
       "4  I didn't know what a crab fry was until I went...  Chickie's & Pete's   \n",
       "\n",
       "           address          city state   latitude  longitude  \n",
       "0  1526 Packer Ave  Philadelphia    PA  39.911417 -75.174511  \n",
       "1  1526 Packer Ave  Philadelphia    PA  39.911417 -75.174511  \n",
       "2  1526 Packer Ave  Philadelphia    PA  39.911417 -75.174511  \n",
       "3  1526 Packer Ave  Philadelphia    PA  39.911417 -75.174511  \n",
       "4  1526 Packer Ave  Philadelphia    PA  39.911417 -75.174511  "
      ]
     },
     "execution_count": 17,
     "metadata": {},
     "output_type": "execute_result"
    }
   ],
   "source": [
    "df_restaurant_philadelphia.head()"
   ]
  },
  {
   "cell_type": "code",
   "execution_count": 18,
   "metadata": {},
   "outputs": [
    {
     "name": "stderr",
     "output_type": "stream",
     "text": [
      "[nltk_data] Downloading package punkt to\n",
      "[nltk_data]     /Users/sairindhri/nltk_data...\n",
      "[nltk_data]   Package punkt is already up-to-date!\n"
     ]
    },
    {
     "data": {
      "text/plain": [
       "True"
      ]
     },
     "execution_count": 18,
     "metadata": {},
     "output_type": "execute_result"
    }
   ],
   "source": [
    "import nltk\n",
    "nltk.download('punkt')"
   ]
  },
  {
   "cell_type": "code",
   "execution_count": 48,
   "metadata": {},
   "outputs": [],
   "source": [
    "from sentence_transformers import SentenceTransformer\n",
    "# import tqdm.notebook as tq\n",
    "from tqdm import tqdm\n",
    "from time import sleep\n",
    "import numpy as np\n",
    "\n",
    "\n",
    "# Load the pre-trained model\n",
    "bert_model = SentenceTransformer('all-MiniLM-L6-v2')\n",
    "\n",
    "def generate_mean_embedding(row):\n",
    "    review = row\n",
    "    review_sentances = nltk.sent_tokenize(review)\n",
    "\n",
    "    embeddings = bert_model.encode(review_sentances)\n",
    "\n",
    "    mean_embeddings =  np.mean(embeddings, axis=0)\n",
    "    return mean_embeddings\n",
    "\n",
    "def generate_bert_embeddings(review_text):\n",
    "  \n",
    "    mean_embeddings=generate_mean_embedding(review_text)\n",
    "    return mean_embeddings\n",
    "    \n",
    "\n",
    "\n",
    "\n",
    "# df_balanced_data.to_pickle(\"intermediate_data/bert_generated_embeddings_balanced_dataframe.pkl\")"
   ]
  },
  {
   "cell_type": "code",
   "execution_count": 49,
   "metadata": {},
   "outputs": [
    {
     "data": {
      "text/plain": [
       "\"What can I say!!!!   Best Mussels anywhere!! The only decision is whether to get Red or White... Last several visits .. Been RED!!!!!  I cant even bring myself to order Mussels anywhere else!!!! Latest visit yesterday My sons birthday coming from a Flyers game.. and excited to watch the Seahawks I'm a fan from way back and wanted to experience the win on Chickies huge TV!!  Of all my numerous visits I never realized they have a secret section all the way in the far corner with really nice cozy booths!!! Our waitress Melanie was very accommodating and also had the TVs in our section fixed for us to watch  the Football game. .. Her service was excellent .. The food was awesome including Clams, Mussels, roast pork and a parm sandwich everyone was pleased .. No Crab Fries this  time !! Maybe since I had to wait 30 minutes at the Eagles game in line freezing for them last Saturday!!!!!  Only complaint for the appetizer was not enough chips for the overwhelming toppings on the cheese steak nachos... When I asked if could purchase extra chips I was told $9.99..NOT..Next time ill bring my own!  LOL........Chickies is an awesome good time and always exciting atmosphere!!!  Great place to watch a game, celebrate a Birthday or just stop for a quick bite!!!!!!!!!!!!!!!!!!!!!\""
      ]
     },
     "execution_count": 49,
     "metadata": {},
     "output_type": "execute_result"
    }
   ],
   "source": [
    "text=df_restaurant_philadelphia['text'][0]\n",
    "text"
   ]
  },
  {
   "cell_type": "code",
   "execution_count": 30,
   "metadata": {},
   "outputs": [
    {
     "data": {
      "text/plain": [
       "array([-2.91974582e-02, -6.99813943e-04,  2.03757659e-02, -2.43058372e-02,\n",
       "        8.97509512e-03, -3.98457807e-04,  2.52164789e-02, -2.97515597e-02,\n",
       "       -8.02864041e-03, -2.21344363e-02, -2.71888338e-02, -4.28020349e-03,\n",
       "        1.86908413e-02, -5.50995534e-03,  1.31068274e-03, -3.63660529e-02,\n",
       "        4.68011089e-02, -4.09303121e-02, -1.05011007e-02,  1.16370404e-02,\n",
       "       -3.34994309e-02, -8.30564764e-04,  7.29405880e-03,  2.60480493e-02,\n",
       "       -2.04771496e-02,  2.32169572e-02, -1.03646712e-02,  3.93238254e-02,\n",
       "       -1.53775951e-02, -2.98258215e-02, -3.16025391e-02,  1.52241029e-02,\n",
       "        7.46485218e-03,  5.40413242e-03,  7.75447465e-04, -1.31628038e-02,\n",
       "        1.04650911e-02, -7.95988068e-02,  1.26506928e-02,  5.25024831e-02,\n",
       "       -2.45453470e-04, -4.02689166e-03,  2.03990750e-02,  2.68069766e-02,\n",
       "       -3.38193635e-03, -2.70393062e-02, -5.41956630e-03, -2.32448708e-02,\n",
       "        3.97737324e-02,  1.51316123e-02,  9.97357350e-03,  4.35008481e-03,\n",
       "        1.05099548e-02, -4.39866148e-02,  2.00724415e-02,  5.32702217e-03,\n",
       "       -4.34325598e-02, -3.84240076e-02, -2.04612482e-02,  1.28910819e-04,\n",
       "       -1.29352733e-02,  2.12700646e-02, -3.15170810e-02,  1.71121173e-02,\n",
       "       -2.77532637e-02, -1.71394963e-02, -1.81782488e-02,  1.84022933e-02,\n",
       "        3.60726379e-03,  9.40243807e-03,  6.03641616e-03,  1.90932897e-03,\n",
       "        5.53852133e-02, -1.36056831e-02, -8.96545313e-03,  1.90923959e-02,\n",
       "        5.02962843e-02, -4.08955105e-02,  2.72935424e-02,  3.12718377e-02,\n",
       "       -3.29898596e-02, -7.27133825e-02, -1.33794453e-02,  2.35354155e-02,\n",
       "       -1.39426766e-03, -4.27973047e-02,  8.26072507e-03, -8.39964114e-03,\n",
       "       -9.51981172e-03,  1.28394561e-02,  6.05291221e-03, -1.58340037e-02,\n",
       "        8.14696215e-03, -1.33664571e-02, -4.10898775e-02, -2.84785554e-02,\n",
       "       -1.43404100e-02,  5.87092713e-03, -4.78131585e-02,  8.23711306e-02,\n",
       "       -3.56587954e-03,  3.59002613e-02,  2.52949987e-02, -2.97926310e-02,\n",
       "        1.79633815e-02, -3.11756618e-02, -1.66003089e-02,  3.56080346e-02,\n",
       "       -1.11473612e-02, -2.63291169e-02,  7.15363771e-04,  1.70862209e-02,\n",
       "        1.36938291e-02,  3.14778462e-02, -3.66087630e-02,  2.23645288e-02,\n",
       "        2.46399492e-02, -1.09201930e-02,  7.41390605e-03, -1.71121582e-02,\n",
       "        3.37741114e-02,  4.24976237e-02, -1.66577229e-03,  3.78824882e-02,\n",
       "       -6.96395338e-03, -1.18585192e-02,  2.16242187e-02, -3.03259010e-33,\n",
       "       -2.86993571e-02,  1.97028127e-02,  1.81135442e-02,  2.22538058e-02,\n",
       "        3.23250517e-02,  4.09005992e-02, -2.87478603e-02, -1.99532565e-02,\n",
       "       -3.06037497e-02, -2.46489211e-03, -5.29326848e-04, -1.49421915e-02,\n",
       "       -4.28449884e-02, -3.44451964e-02,  3.15070115e-02,  1.96650587e-02,\n",
       "       -4.03347649e-02,  3.12960031e-03, -2.13452931e-02,  6.50759228e-03,\n",
       "       -2.32907776e-02, -1.79099794e-02, -3.29449377e-03,  1.74624547e-02,\n",
       "       -3.81670594e-02,  1.61153972e-02,  2.26242822e-02, -4.82274555e-02,\n",
       "        1.25388587e-02,  5.78044355e-03,  7.55636767e-03,  1.42828003e-02,\n",
       "       -3.28738126e-04,  1.64102074e-02, -1.69132836e-02,  1.25157805e-02,\n",
       "       -4.11528023e-03, -5.25714383e-02, -2.03414895e-02,  7.42476759e-03,\n",
       "        4.87380894e-03, -1.28857009e-02, -7.46577606e-03,  2.34024581e-02,\n",
       "       -3.05698197e-02,  4.25483622e-02,  1.37875779e-02,  5.02342684e-03,\n",
       "        2.49304343e-02, -1.52895646e-02, -1.62109714e-02,  9.61782224e-03,\n",
       "       -1.47379953e-02,  1.66569222e-02, -2.31632553e-02,  6.85443357e-03,\n",
       "        3.80547419e-02, -1.12158246e-02,  1.08709214e-02, -1.42376646e-02,\n",
       "       -3.37927224e-04,  2.05311347e-02,  3.37370578e-03, -5.21140695e-02,\n",
       "       -1.29979588e-02, -1.04540233e-02,  1.82752125e-03,  2.08298694e-02,\n",
       "        1.07082259e-03,  1.66481864e-02,  3.05611175e-02,  2.35533379e-02,\n",
       "        2.40803584e-02, -4.73244041e-02, -2.35927291e-02,  2.32531037e-02,\n",
       "       -2.31853984e-02,  1.22396764e-03,  3.26739848e-02, -3.85700464e-02,\n",
       "        8.60353112e-02, -1.81594454e-02, -8.46831221e-03, -1.36291357e-02,\n",
       "        3.51125188e-02,  1.01436526e-02,  1.05499336e-02, -3.28199863e-02,\n",
       "        6.78208377e-03, -4.57437383e-03, -2.42136028e-02,  1.64570985e-03,\n",
       "        6.21451922e-02, -2.65194513e-02, -2.20535938e-02,  7.92407354e-34,\n",
       "        1.37393204e-02, -1.48173487e-02, -3.06344628e-02,  3.18548679e-02,\n",
       "        1.12659642e-02, -3.43371667e-02,  7.07102288e-03,  3.48551236e-02,\n",
       "        7.64518464e-03,  1.20217148e-02, -1.11718895e-02,  7.61502190e-03,\n",
       "        1.24046858e-02, -1.32603990e-02, -6.32744050e-03,  1.23152928e-02,\n",
       "        4.47466858e-02,  2.96044387e-02,  1.58193558e-02, -3.51091474e-02,\n",
       "       -3.66812833e-02,  1.86277702e-02, -9.00731143e-03,  3.00790109e-02,\n",
       "       -4.27287184e-02,  3.45411897e-02,  3.24373879e-02,  1.88501123e-02,\n",
       "       -5.92326261e-02, -1.80274136e-02, -1.19912652e-02, -1.96077488e-02,\n",
       "       -2.87454873e-02, -1.45373447e-02,  1.21634044e-02,  4.48913611e-02,\n",
       "       -5.85195841e-03,  1.98151115e-02, -1.04058776e-02,  4.17527230e-03,\n",
       "       -3.43556562e-03, -3.21734734e-02, -1.38183460e-02,  7.75574893e-02,\n",
       "       -6.35382626e-03, -2.75808969e-03, -7.45107327e-03, -1.60843525e-02,\n",
       "       -3.08144260e-02,  4.85547595e-02, -4.72990200e-02, -8.09699669e-03,\n",
       "       -3.02014630e-02, -4.81515098e-03, -2.39825882e-02,  1.94637123e-02,\n",
       "        3.38752242e-03,  3.90219735e-03,  1.76300611e-02, -2.21608356e-02,\n",
       "       -3.84461805e-02,  2.69118622e-02, -4.24033478e-02,  5.01952097e-02,\n",
       "        6.99602589e-02,  3.48159187e-02, -9.04156175e-03, -2.42588781e-02,\n",
       "       -1.76143814e-02, -5.77752886e-04, -3.69063504e-02,  1.77362598e-02,\n",
       "       -6.75755069e-02,  1.65990386e-02, -3.85121256e-03, -7.50302197e-03,\n",
       "        1.76156908e-02, -1.05269840e-02,  1.24667566e-02,  2.25026049e-02,\n",
       "       -1.88934822e-02,  1.92443579e-02,  1.43258600e-03,  6.28994824e-03,\n",
       "        3.20639499e-02,  9.82182100e-03,  2.79220920e-02, -3.79198842e-04,\n",
       "       -2.79533267e-02,  1.90100614e-02, -2.13048700e-03,  3.14496458e-02,\n",
       "       -3.85440013e-04,  1.15232039e-02,  3.13603431e-02, -2.24838903e-08,\n",
       "        1.68921147e-02,  3.82333472e-02, -3.83007750e-02,  1.49659142e-02,\n",
       "        2.81334613e-02, -5.52416146e-02, -2.16657221e-02,  1.01728737e-02,\n",
       "       -6.19732542e-03,  1.20259523e-02,  2.15268554e-03,  2.32165772e-02,\n",
       "       -4.18776795e-02,  6.06591366e-02,  3.35415639e-02,  2.74306051e-02,\n",
       "        9.74433962e-03, -1.81972589e-02, -2.45126877e-02, -3.43191554e-03,\n",
       "       -3.91030274e-02,  3.66976261e-02, -8.78042367e-04, -2.52619330e-02,\n",
       "       -2.40783324e-03,  1.27323139e-02, -2.29141396e-02,  1.57976598e-02,\n",
       "        4.87934016e-02,  2.66094021e-02,  1.51693821e-02,  1.93262845e-03,\n",
       "       -2.25441549e-02, -2.71608424e-03, -1.29750222e-02, -5.84167540e-02,\n",
       "       -1.67242382e-02, -2.03174818e-03,  2.93723010e-02, -3.31043415e-02,\n",
       "       -5.75342104e-02, -3.99034694e-02, -2.47709528e-02,  1.18370056e-02,\n",
       "       -3.04346327e-02,  1.22677768e-02,  3.96245485e-03,  1.83445103e-02,\n",
       "       -1.63969845e-02,  9.38199693e-04, -1.01418104e-02,  1.75560974e-02,\n",
       "        5.05160913e-03,  3.14608365e-02,  3.91167477e-02,  4.70518135e-03,\n",
       "        2.14888691e-03, -3.62552144e-02,  2.13713869e-02,  6.09247461e-02,\n",
       "        3.28464843e-02,  1.65730789e-02, -6.08389378e-02,  8.32998473e-03],\n",
       "      dtype=float32)"
      ]
     },
     "execution_count": 30,
     "metadata": {},
     "output_type": "execute_result"
    }
   ],
   "source": [
    "\n",
    "text=df_restaurant_philadelphia['text'][0]\n",
    "embedding=generate_bert_embeddings(text)\n",
    "embedding"
   ]
  },
  {
   "cell_type": "code",
   "execution_count": 50,
   "metadata": {},
   "outputs": [],
   "source": [
    "def predict_sentiment_score(embedding):\n",
    "    embedding_new = np.array(embedding).reshape(1, -1)\n",
    "    model = pickle.load(open('../src/data/svm_sentiment_prediction_model.pkl','rb'))\n",
    "    sentiment_score = model.predict(embedding_new)\n",
    "    return sentiment_score\n"
   ]
  },
  {
   "cell_type": "code",
   "execution_count": 51,
   "metadata": {},
   "outputs": [
    {
     "data": {
      "text/plain": [
       "1"
      ]
     },
     "execution_count": 51,
     "metadata": {},
     "output_type": "execute_result"
    }
   ],
   "source": [
    "sentiment_score=predict_sentiment_score(embedding)\n",
    "sentiment_score[0]\n"
   ]
  },
  {
   "cell_type": "code",
   "execution_count": 36,
   "metadata": {},
   "outputs": [
    {
     "data": {
      "text/plain": [
       "(384,)"
      ]
     },
     "execution_count": 36,
     "metadata": {},
     "output_type": "execute_result"
    }
   ],
   "source": [
    "embedding.shape"
   ]
  }
 ],
 "metadata": {
  "kernelspec": {
   "display_name": "venv",
   "language": "python",
   "name": "python3"
  },
  "language_info": {
   "codemirror_mode": {
    "name": "ipython",
    "version": 3
   },
   "file_extension": ".py",
   "mimetype": "text/x-python",
   "name": "python",
   "nbconvert_exporter": "python",
   "pygments_lexer": "ipython3",
   "version": "3.11.4"
  },
  "orig_nbformat": 4
 },
 "nbformat": 4,
 "nbformat_minor": 2
}
