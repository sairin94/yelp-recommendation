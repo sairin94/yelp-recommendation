{
 "cells": [
  {
   "cell_type": "code",
   "execution_count": 1,
   "metadata": {},
   "outputs": [],
   "source": [
    "from pyathena import connect\n",
    "import pandas as pd\n",
    "import configparser"
   ]
  },
  {
   "cell_type": "code",
   "execution_count": 46,
   "metadata": {},
   "outputs": [],
   "source": [
    "config = configparser.ConfigParser()\n",
    "config.read('../access_keys_shreya.cfg')\n",
    "AWS_ACCESS_KEY = config.get('aws', 'aws_access_key')\n",
    "AWS_SECRET_KEY = config.get('aws', 'aws_secret_key')"
   ]
  },
  {
   "cell_type": "code",
   "execution_count": 47,
   "metadata": {},
   "outputs": [],
   "source": [
    "from six.moves.urllib.parse import quote_plus\n",
    "from sqlalchemy.engine import create_engine\n",
    "\n",
    "SCHEMA_NAME = \"yelp\"\n",
    "S3_STAGING_DIR = \"s3://sairin.yelp.dataset/dataset\"\n",
    "AWS_REGION = \"us-west-1\"\n",
    "conn_str = (\n",
    "    \"awsathena+rest://{aws_access_key_id}:{aws_secret_access_key}@\"\n",
    "    \"athena.{region_name}.amazonaws.com:443/\"\n",
    "    \"{schema_name}?s3_staging_dir={s3_staging_dir}&work_group=primary\"\n",
    ")\n",
    "\n",
    "\n",
    "# Create the SQLAlchemy connection. Note that you need to have pyathena installed for this.\n",
    "engine = create_engine(\n",
    "    conn_str.format(\n",
    "        aws_access_key_id=quote_plus(AWS_ACCESS_KEY),\n",
    "        aws_secret_access_key=quote_plus(AWS_SECRET_KEY),\n",
    "        region_name=AWS_REGION,\n",
    "        schema_name=SCHEMA_NAME,\n",
    "        s3_staging_dir=quote_plus(S3_STAGING_DIR),\n",
    "    )\n",
    ")\n",
    "athena_connection = engine.connect()\n"
   ]
  },
  {
   "cell_type": "code",
   "execution_count": 4,
   "metadata": {},
   "outputs": [],
   "source": [
    "query_business = \"\"\"\n",
    "        SELECT * \n",
    "        FROM yelp.balanced_reviews_dataset\n",
    "        \"\"\"\n",
    "\n",
    "#df_balanced_data = pd.read_sql(query_business, athena_connection)\n"
   ]
  },
  {
   "cell_type": "code",
   "execution_count": 59,
   "metadata": {},
   "outputs": [],
   "source": [
    "#df_balanced_data.to_pickle('df_top_fifty_restaurant.pkl')\n",
    "df_balanced_data = pd.read_pickle('df_top_fifty_restaurant.pkl')"
   ]
  },
  {
   "attachments": {},
   "cell_type": "markdown",
   "metadata": {},
   "source": [
    "# Balanced Dataframe containing rating of users"
   ]
  },
  {
   "cell_type": "code",
   "execution_count": 60,
   "metadata": {},
   "outputs": [
    {
     "data": {
      "text/html": [
       "<div>\n",
       "<style scoped>\n",
       "    .dataframe tbody tr th:only-of-type {\n",
       "        vertical-align: middle;\n",
       "    }\n",
       "\n",
       "    .dataframe tbody tr th {\n",
       "        vertical-align: top;\n",
       "    }\n",
       "\n",
       "    .dataframe thead th {\n",
       "        text-align: right;\n",
       "    }\n",
       "</style>\n",
       "<table border=\"1\" class=\"dataframe\">\n",
       "  <thead>\n",
       "    <tr style=\"text-align: right;\">\n",
       "      <th></th>\n",
       "      <th>business_id</th>\n",
       "      <th>stars</th>\n",
       "      <th>text</th>\n",
       "    </tr>\n",
       "  </thead>\n",
       "  <tbody>\n",
       "    <tr>\n",
       "      <th>0</th>\n",
       "      <td>9kv9JpLhzkN3UeWZDrsmEA</td>\n",
       "      <td>3.0</td>\n",
       "      <td>Ate at the bar late one evening.  The food was...</td>\n",
       "    </tr>\n",
       "    <tr>\n",
       "      <th>1</th>\n",
       "      <td>8kUh6TROemLfbVR_ewVVLg</td>\n",
       "      <td>2.0</td>\n",
       "      <td>ive gone here more than 10 times.  the first f...</td>\n",
       "    </tr>\n",
       "    <tr>\n",
       "      <th>2</th>\n",
       "      <td>9kv9JpLhzkN3UeWZDrsmEA</td>\n",
       "      <td>3.0</td>\n",
       "      <td>Went here Saturday for drag brunch, we had 8 p...</td>\n",
       "    </tr>\n",
       "    <tr>\n",
       "      <th>3</th>\n",
       "      <td>9kv9JpLhzkN3UeWZDrsmEA</td>\n",
       "      <td>3.0</td>\n",
       "      <td>Turns out they randomly close the pool down wh...</td>\n",
       "    </tr>\n",
       "    <tr>\n",
       "      <th>4</th>\n",
       "      <td>9kv9JpLhzkN3UeWZDrsmEA</td>\n",
       "      <td>3.0</td>\n",
       "      <td>Totally awesome experience. Very New Orleans \"...</td>\n",
       "    </tr>\n",
       "  </tbody>\n",
       "</table>\n",
       "</div>"
      ],
      "text/plain": [
       "              business_id  stars  \\\n",
       "0  9kv9JpLhzkN3UeWZDrsmEA    3.0   \n",
       "1  8kUh6TROemLfbVR_ewVVLg    2.0   \n",
       "2  9kv9JpLhzkN3UeWZDrsmEA    3.0   \n",
       "3  9kv9JpLhzkN3UeWZDrsmEA    3.0   \n",
       "4  9kv9JpLhzkN3UeWZDrsmEA    3.0   \n",
       "\n",
       "                                                text  \n",
       "0  Ate at the bar late one evening.  The food was...  \n",
       "1  ive gone here more than 10 times.  the first f...  \n",
       "2  Went here Saturday for drag brunch, we had 8 p...  \n",
       "3  Turns out they randomly close the pool down wh...  \n",
       "4  Totally awesome experience. Very New Orleans \"...  "
      ]
     },
     "execution_count": 60,
     "metadata": {},
     "output_type": "execute_result"
    }
   ],
   "source": [
    "df_balanced_data.head()"
   ]
  },
  {
   "attachments": {},
   "cell_type": "markdown",
   "metadata": {},
   "source": [
    "# Histogram Plot Of Balanced Dataframe "
   ]
  },
  {
   "cell_type": "code",
   "execution_count": 61,
   "metadata": {},
   "outputs": [
    {
     "data": {
      "image/png": "[encoded data removed]",
      "text/plain": [
       "<Figure size 640x480 with 1 Axes>"
      ]
     },
     "metadata": {},
     "output_type": "display_data"
    }
   ],
   "source": [
    "import seaborn as sns\n",
    "import matplotlib.pyplot as plt\n",
    "\n",
    "# Plot histogram\n",
    "sns.histplot(data=df_balanced_data, x='stars', bins=5)\n",
    "plt.xlabel('Stars')\n",
    "plt.ylabel('Frequency')\n",
    "plt.title('Histogram of Stars')\n",
    "plt.show()\n"
   ]
  },
  {
   "cell_type": "code",
   "execution_count": 62,
   "metadata": {},
   "outputs": [
    {
     "name": "stderr",
     "output_type": "stream",
     "text": [
      "[nltk_data] Downloading package punkt to\n",
      "[nltk_data]     /Users/sairindhri/nltk_data...\n",
      "[nltk_data]   Package punkt is already up-to-date!\n"
     ]
    },
    {
     "data": {
      "text/plain": [
       "True"
      ]
     },
     "execution_count": 62,
     "metadata": {},
     "output_type": "execute_result"
    }
   ],
   "source": [
    "import nltk\n",
    "nltk.download('punkt')"
   ]
  },
  {
   "attachments": {},
   "cell_type": "markdown",
   "metadata": {},
   "source": [
    "# Generating Bert Embedding On Each Sentence Of Text"
   ]
  },
  {
   "cell_type": "code",
   "execution_count": 64,
   "metadata": {},
   "outputs": [],
   "source": [
    "from sentence_transformers import SentenceTransformer\n",
    "# import tqdm.notebook as tq\n",
    "from tqdm import tqdm\n",
    "from time import sleep\n",
    "import numpy as np\n",
    "\n",
    "# Avoid running this code block, instead take the data from the pickle\n",
    "runThisBlock = False\n",
    "\n",
    "\n",
    "if runThisBlock:\n",
    "    # Load the pre-trained model\n",
    "    bert_model = SentenceTransformer('all-MiniLM-L6-v2', device='cuda')\n",
    "\n",
    "    # Create a new column for embeddings\n",
    "    df_balanced_data['embeddings'] = None\n",
    "\n",
    "    def generate_mean_embedding(row):\n",
    "        review = row\n",
    "        review_sentances = nltk.sent_tokenize(review)\n",
    "\n",
    "        embeddings = bert_model.encode(review_sentances)\n",
    "\n",
    "        mean_embeddings =  np.mean(embeddings, axis=0)\n",
    "        return mean_embeddings\n",
    "\n",
    "    total_reviews = df_balanced_data.shape[0]\n",
    "    progress_bar = tqdm(total=total_reviews, desc='Processing Reviews')\n",
    "\n",
    "    for index, row in df_balanced_data.iterrows():\n",
    "        review_text = row['text']\n",
    "        mean_embeddings=generate_mean_embedding(review_text)\n",
    "        df_balanced_data.at[index, 'embeddings'] = mean_embeddings\n",
    "        # Update the progress bar\n",
    "        progress_bar.update(1)\n",
    "        \n",
    "    # Close the progress bar\n",
    "    progress_bar.close()\n",
    "\n",
    "\n",
    "    df_balanced_data.head()\n",
    "\n",
    "    df_balanced_data.to_pickle(\"intermediate_data/bert_generated_embeddings_balanced_dataframe.pkl\")"
   ]
  },
  {
   "attachments": {},
   "cell_type": "markdown",
   "metadata": {},
   "source": [
    "# Saving Generated Embedding File in Pickle"
   ]
  },
  {
   "cell_type": "code",
   "execution_count": 65,
   "metadata": {},
   "outputs": [
    {
     "data": {
      "text/html": [
       "<div>\n",
       "<style scoped>\n",
       "    .dataframe tbody tr th:only-of-type {\n",
       "        vertical-align: middle;\n",
       "    }\n",
       "\n",
       "    .dataframe tbody tr th {\n",
       "        vertical-align: top;\n",
       "    }\n",
       "\n",
       "    .dataframe thead th {\n",
       "        text-align: right;\n",
       "    }\n",
       "</style>\n",
       "<table border=\"1\" class=\"dataframe\">\n",
       "  <thead>\n",
       "    <tr style=\"text-align: right;\">\n",
       "      <th></th>\n",
       "      <th>business_id</th>\n",
       "      <th>stars</th>\n",
       "      <th>text</th>\n",
       "      <th>embeddings</th>\n",
       "    </tr>\n",
       "  </thead>\n",
       "  <tbody>\n",
       "    <tr>\n",
       "      <th>0</th>\n",
       "      <td>9kv9JpLhzkN3UeWZDrsmEA</td>\n",
       "      <td>3.0</td>\n",
       "      <td>Ate at the bar late one evening.  The food was...</td>\n",
       "      <td>[0.02110215, 0.015082884, 0.027772486, 0.04898...</td>\n",
       "    </tr>\n",
       "    <tr>\n",
       "      <th>1</th>\n",
       "      <td>8kUh6TROemLfbVR_ewVVLg</td>\n",
       "      <td>2.0</td>\n",
       "      <td>ive gone here more than 10 times.  the first f...</td>\n",
       "      <td>[0.053978473, -0.005075182, 0.03789233, 0.0295...</td>\n",
       "    </tr>\n",
       "    <tr>\n",
       "      <th>2</th>\n",
       "      <td>9kv9JpLhzkN3UeWZDrsmEA</td>\n",
       "      <td>3.0</td>\n",
       "      <td>Went here Saturday for drag brunch, we had 8 p...</td>\n",
       "      <td>[0.05708591, -0.007079023, 0.02999837, 0.03157...</td>\n",
       "    </tr>\n",
       "    <tr>\n",
       "      <th>3</th>\n",
       "      <td>9kv9JpLhzkN3UeWZDrsmEA</td>\n",
       "      <td>3.0</td>\n",
       "      <td>Turns out they randomly close the pool down wh...</td>\n",
       "      <td>[0.01065718, 0.014424983, 0.042207252, 0.02751...</td>\n",
       "    </tr>\n",
       "    <tr>\n",
       "      <th>4</th>\n",
       "      <td>9kv9JpLhzkN3UeWZDrsmEA</td>\n",
       "      <td>3.0</td>\n",
       "      <td>Totally awesome experience. Very New Orleans \"...</td>\n",
       "      <td>[0.029420882, 0.032237433, 0.026742732, 0.0395...</td>\n",
       "    </tr>\n",
       "  </tbody>\n",
       "</table>\n",
       "</div>"
      ],
      "text/plain": [
       "              business_id  stars  \\\n",
       "0  9kv9JpLhzkN3UeWZDrsmEA    3.0   \n",
       "1  8kUh6TROemLfbVR_ewVVLg    2.0   \n",
       "2  9kv9JpLhzkN3UeWZDrsmEA    3.0   \n",
       "3  9kv9JpLhzkN3UeWZDrsmEA    3.0   \n",
       "4  9kv9JpLhzkN3UeWZDrsmEA    3.0   \n",
       "\n",
       "                                                text  \\\n",
       "0  Ate at the bar late one evening.  The food was...   \n",
       "1  ive gone here more than 10 times.  the first f...   \n",
       "2  Went here Saturday for drag brunch, we had 8 p...   \n",
       "3  Turns out they randomly close the pool down wh...   \n",
       "4  Totally awesome experience. Very New Orleans \"...   \n",
       "\n",
       "                                          embeddings  \n",
       "0  [0.02110215, 0.015082884, 0.027772486, 0.04898...  \n",
       "1  [0.053978473, -0.005075182, 0.03789233, 0.0295...  \n",
       "2  [0.05708591, -0.007079023, 0.02999837, 0.03157...  \n",
       "3  [0.01065718, 0.014424983, 0.042207252, 0.02751...  \n",
       "4  [0.029420882, 0.032237433, 0.026742732, 0.0395...  "
      ]
     },
     "execution_count": 65,
     "metadata": {},
     "output_type": "execute_result"
    }
   ],
   "source": [
    "# Load DataFrame from pickle file\n",
    "df_restored = pd.read_pickle(\"intermediate_data/bert_generated_embeddings_balanced_dataframe.pkl\")\n",
    "\n",
    "# Now you can use 'df' just like a regular DataFrame\n",
    "\n",
    "df_restored.head()"
   ]
  },
  {
   "attachments": {},
   "cell_type": "markdown",
   "metadata": {},
   "source": [
    "# Creating New Dataframe By Taking Subset Of Columns(text, stars and embeddings on each text)"
   ]
  },
  {
   "cell_type": "code",
   "execution_count": 66,
   "metadata": {},
   "outputs": [
    {
     "data": {
      "text/html": [
       "<div>\n",
       "<style scoped>\n",
       "    .dataframe tbody tr th:only-of-type {\n",
       "        vertical-align: middle;\n",
       "    }\n",
       "\n",
       "    .dataframe tbody tr th {\n",
       "        vertical-align: top;\n",
       "    }\n",
       "\n",
       "    .dataframe thead th {\n",
       "        text-align: right;\n",
       "    }\n",
       "</style>\n",
       "<table border=\"1\" class=\"dataframe\">\n",
       "  <thead>\n",
       "    <tr style=\"text-align: right;\">\n",
       "      <th></th>\n",
       "      <th>text</th>\n",
       "      <th>stars</th>\n",
       "      <th>embeddings</th>\n",
       "    </tr>\n",
       "  </thead>\n",
       "  <tbody>\n",
       "    <tr>\n",
       "      <th>0</th>\n",
       "      <td>Ate at the bar late one evening.  The food was...</td>\n",
       "      <td>3.0</td>\n",
       "      <td>[0.02110215, 0.015082884, 0.027772486, 0.04898...</td>\n",
       "    </tr>\n",
       "    <tr>\n",
       "      <th>1</th>\n",
       "      <td>ive gone here more than 10 times.  the first f...</td>\n",
       "      <td>2.0</td>\n",
       "      <td>[0.053978473, -0.005075182, 0.03789233, 0.0295...</td>\n",
       "    </tr>\n",
       "    <tr>\n",
       "      <th>2</th>\n",
       "      <td>Went here Saturday for drag brunch, we had 8 p...</td>\n",
       "      <td>3.0</td>\n",
       "      <td>[0.05708591, -0.007079023, 0.02999837, 0.03157...</td>\n",
       "    </tr>\n",
       "    <tr>\n",
       "      <th>3</th>\n",
       "      <td>Turns out they randomly close the pool down wh...</td>\n",
       "      <td>3.0</td>\n",
       "      <td>[0.01065718, 0.014424983, 0.042207252, 0.02751...</td>\n",
       "    </tr>\n",
       "    <tr>\n",
       "      <th>4</th>\n",
       "      <td>Totally awesome experience. Very New Orleans \"...</td>\n",
       "      <td>3.0</td>\n",
       "      <td>[0.029420882, 0.032237433, 0.026742732, 0.0395...</td>\n",
       "    </tr>\n",
       "  </tbody>\n",
       "</table>\n",
       "</div>"
      ],
      "text/plain": [
       "                                                text  stars  \\\n",
       "0  Ate at the bar late one evening.  The food was...    3.0   \n",
       "1  ive gone here more than 10 times.  the first f...    2.0   \n",
       "2  Went here Saturday for drag brunch, we had 8 p...    3.0   \n",
       "3  Turns out they randomly close the pool down wh...    3.0   \n",
       "4  Totally awesome experience. Very New Orleans \"...    3.0   \n",
       "\n",
       "                                          embeddings  \n",
       "0  [0.02110215, 0.015082884, 0.027772486, 0.04898...  \n",
       "1  [0.053978473, -0.005075182, 0.03789233, 0.0295...  \n",
       "2  [0.05708591, -0.007079023, 0.02999837, 0.03157...  \n",
       "3  [0.01065718, 0.014424983, 0.042207252, 0.02751...  \n",
       "4  [0.029420882, 0.032237433, 0.026742732, 0.0395...  "
      ]
     },
     "execution_count": 66,
     "metadata": {},
     "output_type": "execute_result"
    }
   ],
   "source": [
    "df_final=df_restored[['text','stars','embeddings']]\n",
    "df_final.head()"
   ]
  },
  {
   "cell_type": "code",
   "execution_count": 78,
   "metadata": {},
   "outputs": [
    {
     "data": {
      "text/plain": [
       "384"
      ]
     },
     "execution_count": 78,
     "metadata": {},
     "output_type": "execute_result"
    }
   ],
   "source": [
    "len_embedding=len(df_final['embeddings'][0])\n",
    "len_embedding"
   ]
  },
  {
   "attachments": {},
   "cell_type": "markdown",
   "metadata": {},
   "source": [
    "# Mapping stars to different categorical variable for classification machine learning"
   ]
  },
  {
   "cell_type": "code",
   "execution_count": 67,
   "metadata": {},
   "outputs": [
    {
     "data": {
      "text/html": [
       "<div>\n",
       "<style scoped>\n",
       "    .dataframe tbody tr th:only-of-type {\n",
       "        vertical-align: middle;\n",
       "    }\n",
       "\n",
       "    .dataframe tbody tr th {\n",
       "        vertical-align: top;\n",
       "    }\n",
       "\n",
       "    .dataframe thead th {\n",
       "        text-align: right;\n",
       "    }\n",
       "</style>\n",
       "<table border=\"1\" class=\"dataframe\">\n",
       "  <thead>\n",
       "    <tr style=\"text-align: right;\">\n",
       "      <th></th>\n",
       "      <th>text</th>\n",
       "      <th>stars</th>\n",
       "      <th>embeddings</th>\n",
       "      <th>sentiment</th>\n",
       "    </tr>\n",
       "  </thead>\n",
       "  <tbody>\n",
       "    <tr>\n",
       "      <th>0</th>\n",
       "      <td>Ate at the bar late one evening.  The food was...</td>\n",
       "      <td>3.0</td>\n",
       "      <td>[0.02110215, 0.015082884, 0.027772486, 0.04898...</td>\n",
       "      <td>0</td>\n",
       "    </tr>\n",
       "    <tr>\n",
       "      <th>1</th>\n",
       "      <td>ive gone here more than 10 times.  the first f...</td>\n",
       "      <td>2.0</td>\n",
       "      <td>[0.053978473, -0.005075182, 0.03789233, 0.0295...</td>\n",
       "      <td>-1</td>\n",
       "    </tr>\n",
       "    <tr>\n",
       "      <th>2</th>\n",
       "      <td>Went here Saturday for drag brunch, we had 8 p...</td>\n",
       "      <td>3.0</td>\n",
       "      <td>[0.05708591, -0.007079023, 0.02999837, 0.03157...</td>\n",
       "      <td>0</td>\n",
       "    </tr>\n",
       "  </tbody>\n",
       "</table>\n",
       "</div>"
      ],
      "text/plain": [
       "                                                text  stars  \\\n",
       "0  Ate at the bar late one evening.  The food was...    3.0   \n",
       "1  ive gone here more than 10 times.  the first f...    2.0   \n",
       "2  Went here Saturday for drag brunch, we had 8 p...    3.0   \n",
       "\n",
       "                                          embeddings  sentiment  \n",
       "0  [0.02110215, 0.015082884, 0.027772486, 0.04898...          0  \n",
       "1  [0.053978473, -0.005075182, 0.03789233, 0.0295...         -1  \n",
       "2  [0.05708591, -0.007079023, 0.02999837, 0.03157...          0  "
      ]
     },
     "execution_count": 67,
     "metadata": {},
     "output_type": "execute_result"
    }
   ],
   "source": [
    "def map_sentiment(star_rating):\n",
    "    if star_rating in [1, 2]:\n",
    "        return -1\n",
    "    elif star_rating == 3:\n",
    "        return 0\n",
    "    elif star_rating in [4, 5]:\n",
    "        return 1\n",
    "\n",
    "# Apply the mapping function to create the 'sentiment' column\n",
    "df_final['sentiment'] = df_final['stars'].apply(map_sentiment)\n",
    "df_final.head(3)"
   ]
  },
  {
   "attachments": {},
   "cell_type": "markdown",
   "metadata": {},
   "source": [
    "# Split Dataset into Train And Test Data"
   ]
  },
  {
   "cell_type": "code",
   "execution_count": 82,
   "metadata": {},
   "outputs": [],
   "source": [
    "from sklearn.model_selection import train_test_split\n",
    "def splitData(df, frac=1.0):\n",
    "    data = df.sample(frac=frac, replace=False, random_state=42)\n",
    "    train_df, test_df = train_test_split(data, test_size=0.1, random_state=42)\n",
    "\n",
    "    return train_df, test_df\n",
    "\n",
    "train_df, test_df = splitData(df_final, .15)"
   ]
  },
  {
   "cell_type": "code",
   "execution_count": 83,
   "metadata": {},
   "outputs": [
    {
     "name": "stdout",
     "output_type": "stream",
     "text": [
      "(13455, 4)\n",
      "(1496, 4)\n"
     ]
    }
   ],
   "source": [
    "print(train_df.shape)\n",
    "print(test_df.shape)"
   ]
  },
  {
   "cell_type": "code",
   "execution_count": 84,
   "metadata": {},
   "outputs": [
    {
     "data": {
      "text/plain": [
       "array([[ 0.01360777,  0.02503986,  0.05366267, ...,  0.02928971,\n",
       "        -0.10079049,  0.02161232],\n",
       "       [-0.03659196,  0.04094673, -0.0031523 , ..., -0.00847535,\n",
       "        -0.08326593,  0.02175865],\n",
       "       [-0.01635939,  0.02145226,  0.02421339, ..., -0.01094579,\n",
       "        -0.06452049,  0.03311194],\n",
       "       ...,\n",
       "       [ 0.00387106,  0.02537922, -0.0020346 , ...,  0.02327003,\n",
       "        -0.06491643, -0.0276749 ],\n",
       "       [ 0.00402074, -0.0191915 ,  0.0253267 , ..., -0.00715511,\n",
       "        -0.06079474,  0.02620239],\n",
       "       [-0.06658947,  0.03480976,  0.03515029, ..., -0.02315255,\n",
       "        -0.00623002, -0.00574938]], dtype=float32)"
      ]
     },
     "execution_count": 84,
     "metadata": {},
     "output_type": "execute_result"
    }
   ],
   "source": [
    "# Convert lists of embeddings into a 2D numpy array\n",
    "X_train = np.stack(train_df['embeddings'].values)\n",
    "\n",
    "# The 'stars' column is your target variable\n",
    "y_train = train_df['sentiment'].values\n",
    "\n",
    "X_train"
   ]
  },
  {
   "cell_type": "code",
   "execution_count": 85,
   "metadata": {},
   "outputs": [
    {
     "data": {
      "text/plain": [
       "array([ 0,  1,  0, ...,  1, -1, -1])"
      ]
     },
     "execution_count": 85,
     "metadata": {},
     "output_type": "execute_result"
    }
   ],
   "source": [
    "y_train"
   ]
  },
  {
   "cell_type": "code",
   "execution_count": 86,
   "metadata": {},
   "outputs": [],
   "source": [
    "X_test = np.stack(test_df['embeddings'].values)\n",
    "\n",
    "# # The 'stars' column is your target variable\n",
    "y_test = test_df['sentiment'].values\n",
    "\n"
   ]
  },
  {
   "attachments": {},
   "cell_type": "markdown",
   "metadata": {},
   "source": [
    "# Bar plot showing distribution of rating in different categories"
   ]
  },
  {
   "cell_type": "code",
   "execution_count": 87,
   "metadata": {},
   "outputs": [
    {
     "data": {
      "image/png": "[encoded data removed]",
      "text/plain": [
       "<Figure size 1000x600 with 1 Axes>"
      ]
     },
     "metadata": {},
     "output_type": "display_data"
    }
   ],
   "source": [
    "# Count the number of each sentiment score in your dataset\n",
    "sentiment_counts = train_df['sentiment'].value_counts().sort_index()\n",
    "\n",
    "# Generate a bar plot\n",
    "plt.figure(figsize=(10,6))\n",
    "sns.barplot(x=sentiment_counts.index, y=sentiment_counts.values, alpha=0.8,palette=['red', 'orange', 'green'])\n",
    "\n",
    "# Replace numeric labels with text labels\n",
    "plt.xticks(ticks=[0, 1, 2], labels=['Negative', 'Neutral', 'Positive'])\n",
    "\n",
    "plt.title('Sentiment Distribution')\n",
    "plt.ylabel('Number of Reviews', fontsize=12)\n",
    "plt.xlabel('Sentiment Score', fontsize=12)\n",
    "plt.show()\n",
    "\n"
   ]
  },
  {
   "attachments": {},
   "cell_type": "markdown",
   "metadata": {},
   "source": [
    "Mean Value (0.1)    \n",
    "    Model\t            Accuracy\tPrecision\tRecall\t    F1 Score\n",
    "0\tLogistic Regression\t0.774323\t0.753083\t0.774323\t0.754447\n",
    "1\tRandom Forest\t    0.754263\t0.734307\t0.754263\t0.701530\n",
    "2\tSVM\t                0.792377\t0.780292\t0.792377\t0.783531"
   ]
  },
  {
   "attachments": {},
   "cell_type": "markdown",
   "metadata": {},
   "source": [
    "Mean Value (0.2)\n",
    "\tModel\t            Accuracy\tPrecision\tRecall\t    F1 Score\n",
    "0\tLogistic Regression\t0.781344\t0.762993\t0.781344\t0.762292\n",
    "1\tRandom Forest\t    0.739218\t0.715532\t0.739218\t0.684479\n",
    "2\tSVM\t                0.783852\t0.766595\t0.783852\t0.768806"
   ]
  },
  {
   "attachments": {},
   "cell_type": "markdown",
   "metadata": {},
   "source": [
    "Mean Value (0.3)\n",
    "\tModel\t            Accuracy\tPrecision\tRecall\tF1 Score\n",
    "0\tLogistic Regression\t0.778001\t0.755479\t0.778001\t0.758309\n",
    "1\tRandom Forest\t    0.739552\t0.698251\t0.739552\t0.685958\n",
    "2\tSVM\t                0.783684\t0.765683\t0.783684\t0.770033"
   ]
  },
  {
   "attachments": {},
   "cell_type": "markdown",
   "metadata": {},
   "source": [
    "Max Pooling\t(0.3)\n",
    "    Model\t            Accuracy\tPrecision\tRecall\t    F1 Score\n",
    "0\tLogistic Regression\t0.752257\t0.724362\t0.752257\t0.729491\n",
    "1\tRandom Forest\t    0.718823\t0.706306\t0.718823\t0.646197\n",
    "2\tSVM\t                0.752925\t0.727127\t0.752925\t0.732776"
   ]
  },
  {
   "attachments": {},
   "cell_type": "markdown",
   "metadata": {},
   "source": [
    "### Model Evaluation without hyperparameter tunning"
   ]
  },
  {
   "cell_type": "code",
   "execution_count": 99,
   "metadata": {},
   "outputs": [],
   "source": [
    "from sklearn.metrics import accuracy_score, precision_score, recall_score, f1_score\n",
    "from sklearn.model_selection import KFold\n",
    "import pandas as pd\n",
    "\n",
    "def train_model(model, X_train, y_train):\n",
    "    model.fit(X_train,y_train)\n",
    "    return model\n",
    "\n",
    "def evaluate_model(model, X_test, y_test):\n",
    "    # Make predictions on the test data\n",
    "    y_pred = model.predict(X_test)\n",
    "\n",
    "    # Calculate evaluation metrics\n",
    "    accuracy = accuracy_score(y_test, y_pred)\n",
    "    precision = precision_score(y_test, y_pred, average='macro', zero_division=1)\n",
    "    recall = recall_score(y_test, y_pred, average='macro', zero_division=1)\n",
    "    f1 = f1_score(y_test, y_pred, average='macro', zero_division=1)\n",
    "\n",
    "    # Append the metrics to the DataFrame\n",
    "    return [accuracy, precision, recall, f1]\n",
    "\n",
    "\n"
   ]
  },
  {
   "attachments": {},
   "cell_type": "markdown",
   "metadata": {},
   "source": [
    "k-fold cross validation"
   ]
  },
  {
   "cell_type": "code",
   "execution_count": 100,
   "metadata": {},
   "outputs": [],
   "source": [
    "def k_fold_train_and_evaluate(model, X_train, y_train, n_splits=5):\n",
    "    kf = KFold(n_splits=n_splits)\n",
    "\n",
    "    accuracy_list = []\n",
    "    precision_list = []\n",
    "    recall_list = []\n",
    "    f1_list = []\n",
    "\n",
    "    for train_index, test_index in kf.split(X_train):\n",
    "        X_train_new, X_val = X_train[train_index], X_train[test_index]\n",
    "        # print('X_train',X_train_new)\n",
    "        # print('X_val', X_val)\n",
    "        y_train_new, y_val = y_train[train_index], y_train[test_index]\n",
    "        # print('Y_train',y_train_new)\n",
    "        # print('Y_val', y_val)\n",
    "\n",
    "        model = train_model(model, X_train_new, y_train_new)\n",
    "        metrics = evaluate_model(model, X_val, y_val)\n",
    "        print('metric',metrics)\n",
    "\n",
    "        accuracy_list.append(metrics[0])\n",
    "        precision_list.append(metrics[1])\n",
    "        recall_list.append(metrics[2])\n",
    "        f1_list.append(metrics[3])\n",
    "\n",
    "    results = {\n",
    "        \"accuracy_mean\": np.mean(accuracy_list),\n",
    "        \"accuracy_std\": np.std(accuracy_list),\n",
    "        \"precision_mean\": np.mean(precision_list),\n",
    "        \"precision_std\": np.std(precision_list),\n",
    "        \"recall_mean\": np.mean(recall_list),\n",
    "        \"recall_std\": np.std(recall_list),\n",
    "        \"f1_mean\": np.mean(f1_list),\n",
    "        \"f1_std\": np.std(f1_list)\n",
    "    }\n",
    "\n",
    "    return results\n"
   ]
  },
  {
   "cell_type": "code",
   "execution_count": 80,
   "metadata": {},
   "outputs": [
    {
     "name": "stderr",
     "output_type": "stream",
     "text": [
      "/Users/sairindhri/yelp-data-analysis2/venv/lib/python3.11/site-packages/sklearn/ensemble/_forest.py:424: FutureWarning: `max_features='auto'` has been deprecated in 1.1 and will be removed in 1.3. To keep the past behaviour, explicitly set `max_features='sqrt'` or remove this parameter as it is also the default value for RandomForestClassifiers and ExtraTreesClassifiers.\n",
      "  warn(\n"
     ]
    }
   ],
   "source": [
    "from sklearn.svm import SVC\n",
    "from sklearn.ensemble import RandomForestClassifier\n",
    "from sklearn.linear_model import LogisticRegression\n",
    "from sklearn.ensemble import GradientBoostingClassifier, AdaBoostClassifier\n",
    "import xgboost as xgb\n",
    "\n",
    "lr_model = LogisticRegression(multi_class='multinomial', solver='lbfgs', max_iter=1000)\n",
    "rf_model = RandomForestClassifier(n_estimators=100, criterion='gini', max_depth=None, min_samples_split=2, min_samples_leaf=1, max_features='auto', random_state=42)\n",
    "svm_model = SVC(C=1.0, kernel='rbf', gamma='scale')\n",
    "gb_model = GradientBoostingClassifier(n_estimators=100, learning_rate=0.1, max_depth=3, random_state=42)\n",
    "adaboost_model = AdaBoostClassifier(n_estimators=100, random_state=42)\n",
    "\n",
    "y_train_boost=y_train+1\n",
    "y_test_boost=y_test+1\n",
    "\n",
    "lr_model=train_model(lr_model, X_train, y_train)\n",
    "rf_model=train_model(rf_model, X_train, y_train)\n",
    "svm_model=train_model(svm_model, X_train, y_train)\n",
    "gb_model=train_model(gb_model, X_train, y_train_boost)\n",
    "adaboost_model=train_model(adaboost_model, X_train, y_train_boost)\n",
    "\n",
    "# Initialize an empty DataFrame to store the performance metrics\n",
    "metrics_df = pd.DataFrame(columns=['Model', 'Accuracy', 'Precision', 'Recall', 'F1 Score'])\n",
    "\n",
    "metrics_df.loc[len(metrics_df.index)] = [\"Logistic Regression\"] + evaluate_model(lr_model, X_test, y_test)\n",
    "metrics_df.loc[len(metrics_df.index)] = [\"Random Forest\"] + evaluate_model(rf_model, X_test, y_test)\n",
    "metrics_df.loc[len(metrics_df.index)] = [\"SVM\"] + evaluate_model(svm_model, X_test, y_test)\n",
    "\n",
    "\n",
    "# Evaluate and store performance metrics\n",
    "metrics_df.loc[len(metrics_df.index)] = [\"Gradient Boosting\"] + evaluate_model(gb_model, X_test, y_test_boost)\n",
    "metrics_df.loc[len(metrics_df.index)] = [\"AdaBoost\"] + evaluate_model(adaboost_model, X_test,  y_test_boost)\n",
    "\n"
   ]
  },
  {
   "cell_type": "code",
   "execution_count": 81,
   "metadata": {},
   "outputs": [
    {
     "data": {
      "text/html": [
       "<div>\n",
       "<style scoped>\n",
       "    .dataframe tbody tr th:only-of-type {\n",
       "        vertical-align: middle;\n",
       "    }\n",
       "\n",
       "    .dataframe tbody tr th {\n",
       "        vertical-align: top;\n",
       "    }\n",
       "\n",
       "    .dataframe thead th {\n",
       "        text-align: right;\n",
       "    }\n",
       "</style>\n",
       "<table border=\"1\" class=\"dataframe\">\n",
       "  <thead>\n",
       "    <tr style=\"text-align: right;\">\n",
       "      <th></th>\n",
       "      <th>Model</th>\n",
       "      <th>Accuracy</th>\n",
       "      <th>Precision</th>\n",
       "      <th>Recall</th>\n",
       "      <th>F1 Score</th>\n",
       "    </tr>\n",
       "  </thead>\n",
       "  <tbody>\n",
       "    <tr>\n",
       "      <th>0</th>\n",
       "      <td>Logistic Regression</td>\n",
       "      <td>0.780080</td>\n",
       "      <td>0.710296</td>\n",
       "      <td>0.685708</td>\n",
       "      <td>0.682271</td>\n",
       "    </tr>\n",
       "    <tr>\n",
       "      <th>1</th>\n",
       "      <td>Random Forest</td>\n",
       "      <td>0.741979</td>\n",
       "      <td>0.616786</td>\n",
       "      <td>0.617346</td>\n",
       "      <td>0.578043</td>\n",
       "    </tr>\n",
       "    <tr>\n",
       "      <th>2</th>\n",
       "      <td>SVM</td>\n",
       "      <td>0.796123</td>\n",
       "      <td>0.736307</td>\n",
       "      <td>0.715107</td>\n",
       "      <td>0.717307</td>\n",
       "    </tr>\n",
       "    <tr>\n",
       "      <th>3</th>\n",
       "      <td>Gradient Boosting</td>\n",
       "      <td>0.772059</td>\n",
       "      <td>0.702058</td>\n",
       "      <td>0.680464</td>\n",
       "      <td>0.677608</td>\n",
       "    </tr>\n",
       "    <tr>\n",
       "      <th>4</th>\n",
       "      <td>AdaBoost</td>\n",
       "      <td>0.754011</td>\n",
       "      <td>0.683045</td>\n",
       "      <td>0.672789</td>\n",
       "      <td>0.672277</td>\n",
       "    </tr>\n",
       "  </tbody>\n",
       "</table>\n",
       "</div>"
      ],
      "text/plain": [
       "                 Model  Accuracy  Precision    Recall  F1 Score\n",
       "0  Logistic Regression  0.780080   0.710296  0.685708  0.682271\n",
       "1        Random Forest  0.741979   0.616786  0.617346  0.578043\n",
       "2                  SVM  0.796123   0.736307  0.715107  0.717307\n",
       "3    Gradient Boosting  0.772059   0.702058  0.680464  0.677608\n",
       "4             AdaBoost  0.754011   0.683045  0.672789  0.672277"
      ]
     },
     "execution_count": 81,
     "metadata": {},
     "output_type": "execute_result"
    }
   ],
   "source": [
    "metrics_df.head()"
   ]
  },
  {
   "attachments": {},
   "cell_type": "markdown",
   "metadata": {},
   "source": [
    "k-fold evaluation"
   ]
  },
  {
   "cell_type": "code",
   "execution_count": 109,
   "metadata": {},
   "outputs": [],
   "source": [
    "def append_result_to_dataframe(name, metrics_dict, df=None):\n",
    "    # split the dictionary into a multi-indexed dictionary\n",
    "    multi_indexed_dict = {(metric.split('_')[0], metric.split('_')[1]): value \n",
    "                          for metric, value in metrics_dict.items()}\n",
    "    \n",
    "    # create a new DataFrame for the current row of data\n",
    "    row_df = pd.DataFrame(multi_indexed_dict, index=[name])\n",
    "\n",
    "    if df is None:\n",
    "        return row_df\n",
    "    else:\n",
    "        return pd.concat([df, row_df])"
   ]
  },
  {
   "cell_type": "code",
   "execution_count": 115,
   "metadata": {},
   "outputs": [
    {
     "name": "stdout",
     "output_type": "stream",
     "text": [
      "metric [0.7614269788182831, 0.708263360664079, 0.6851179524631045, 0.6782620797691082]\n",
      "metric [0.7770345596432553, 0.7168888850970768, 0.6975693974408221, 0.6977335349152837]\n",
      "metric [0.7740616871051653, 0.7177829797920499, 0.695403294869771, 0.6955962393711269]\n",
      "metric [0.7725752508361204, 0.7239730920671675, 0.6952894573391162, 0.6923199949800555]\n",
      "metric [0.7751765143069491, 0.7257982951925123, 0.6958982834505157, 0.6922587424190141]\n"
     ]
    },
    {
     "name": "stderr",
     "output_type": "stream",
     "text": [
      "/Users/sairindhri/yelp-data-analysis2/venv/lib/python3.11/site-packages/sklearn/ensemble/_forest.py:424: FutureWarning: `max_features='auto'` has been deprecated in 1.1 and will be removed in 1.3. To keep the past behaviour, explicitly set `max_features='sqrt'` or remove this parameter as it is also the default value for RandomForestClassifiers and ExtraTreesClassifiers.\n",
      "  warn(\n"
     ]
    },
    {
     "name": "stdout",
     "output_type": "stream",
     "text": [
      "metric [0.7253808992939428, 0.6761759393436915, 0.6254349392480028, 0.5849090418566923]\n"
     ]
    },
    {
     "name": "stderr",
     "output_type": "stream",
     "text": [
      "/Users/sairindhri/yelp-data-analysis2/venv/lib/python3.11/site-packages/sklearn/ensemble/_forest.py:424: FutureWarning: `max_features='auto'` has been deprecated in 1.1 and will be removed in 1.3. To keep the past behaviour, explicitly set `max_features='sqrt'` or remove this parameter as it is also the default value for RandomForestClassifiers and ExtraTreesClassifiers.\n",
      "  warn(\n"
     ]
    },
    {
     "name": "stdout",
     "output_type": "stream",
     "text": [
      "metric [0.7417316982534374, 0.6724850199912104, 0.6326567750700457, 0.6083244138972187]\n"
     ]
    },
    {
     "name": "stderr",
     "output_type": "stream",
     "text": [
      "/Users/sairindhri/yelp-data-analysis2/venv/lib/python3.11/site-packages/sklearn/ensemble/_forest.py:424: FutureWarning: `max_features='auto'` has been deprecated in 1.1 and will be removed in 1.3. To keep the past behaviour, explicitly set `max_features='sqrt'` or remove this parameter as it is also the default value for RandomForestClassifiers and ExtraTreesClassifiers.\n",
      "  warn(\n"
     ]
    },
    {
     "name": "stdout",
     "output_type": "stream",
     "text": [
      "metric [0.7406168710516536, 0.6703556150167415, 0.6297082055904103, 0.6004263713999474]\n"
     ]
    },
    {
     "name": "stderr",
     "output_type": "stream",
     "text": [
      "/Users/sairindhri/yelp-data-analysis2/venv/lib/python3.11/site-packages/sklearn/ensemble/_forest.py:424: FutureWarning: `max_features='auto'` has been deprecated in 1.1 and will be removed in 1.3. To keep the past behaviour, explicitly set `max_features='sqrt'` or remove this parameter as it is also the default value for RandomForestClassifiers and ExtraTreesClassifiers.\n",
      "  warn(\n"
     ]
    },
    {
     "name": "stdout",
     "output_type": "stream",
     "text": [
      "metric [0.7216648086213303, 0.6446746706578167, 0.6168497135700989, 0.5780658820210574]\n"
     ]
    },
    {
     "name": "stderr",
     "output_type": "stream",
     "text": [
      "/Users/sairindhri/yelp-data-analysis2/venv/lib/python3.11/site-packages/sklearn/ensemble/_forest.py:424: FutureWarning: `max_features='auto'` has been deprecated in 1.1 and will be removed in 1.3. To keep the past behaviour, explicitly set `max_features='sqrt'` or remove this parameter as it is also the default value for RandomForestClassifiers and ExtraTreesClassifiers.\n",
      "  warn(\n"
     ]
    },
    {
     "name": "stdout",
     "output_type": "stream",
     "text": [
      "metric [0.7320698625046451, 0.6412214528756517, 0.6243971458763343, 0.583546894411163]\n",
      "metric [0.7677443329617243, 0.7160848294476313, 0.7001165115381304, 0.6979376745166218]\n",
      "metric [0.781122259383129, 0.7243910777236119, 0.7131983245998695, 0.7152428643796142]\n",
      "metric [0.7852099591230026, 0.7309146753033594, 0.717315519764688, 0.7195867821502238]\n",
      "metric [0.7807506503158677, 0.7344481605351171, 0.7133749266388897, 0.7144541582092306]\n",
      "metric [0.7770345596432553, 0.7289818137902451, 0.7080944147784564, 0.7087564249386098]\n"
     ]
    }
   ],
   "source": [
    "metrics_cross_validation_Logistic_df = pd.DataFrame(columns=['Model', 'Metric', 'Accuracy', 'Precision', 'Recall', 'F1 Score'])\n",
    "metrics_cross_validation_RandomForest_df = pd.DataFrame(columns=['Model', 'Metric', 'Accuracy', 'Precision', 'Recall', 'F1 Score'])\n",
    "metrics_cross_validation_svm_df = pd.DataFrame(columns=['Model', 'Metric', 'Accuracy', 'Precision', 'Recall', 'F1 Score'])\n",
    "# metrics_cross_validation_gb_df = pd.DataFrame(columns=['Model', 'Metric', 'Accuracy', 'Precision', 'Recall', 'F1 Score'])\n",
    "# metrics_cross_validation_ada_df = pd.DataFrame(columns=['Model', 'Metric', 'Accuracy', 'Precision', 'Recall', 'F1 Score'])\n",
    "\n",
    "results_logistic = k_fold_train_and_evaluate(lr_model, X_train, y_train)\n",
    "\n",
    "result_rf=k_fold_train_and_evaluate(rf_model, X_train, y_train)\n",
    "result_svm=k_fold_train_and_evaluate(svm_model, X_train, y_train)\n",
    "# result_gb=k_fold_train_and_evaluate(gb_model, X_train, y_train_boost)\n",
    "# result_ada=k_fold_train_and_evaluate(adaboost_model, X_train, y_train_boost)\n",
    "\n",
    "\n",
    "metrics_cross_validation_Logistic_df = append_result_to_dataframe(\"Logistic Regression\", results_logistic)\n",
    "metrics_cross_validation_RandomForest_df = append_result_to_dataframe(\"Random Forest\", result_rf)\n",
    "metrics_cross_validation_svm_df = append_result_to_dataframe(\"SVM\", result_svm)\n",
    "# metrics_cross_validation_gb_df = append_result_to_dataframe(\"GradientBoost\", result_gb)\n",
    "# metrics_cross_validation_ada_df = append_result_to_dataframe(\"AdaBoost\", result_ada)\n"
   ]
  },
  {
   "cell_type": "code",
   "execution_count": 117,
   "metadata": {},
   "outputs": [
    {
     "data": {
      "text/html": [
       "<div>\n",
       "<style scoped>\n",
       "    .dataframe tbody tr th:only-of-type {\n",
       "        vertical-align: middle;\n",
       "    }\n",
       "\n",
       "    .dataframe tbody tr th {\n",
       "        vertical-align: top;\n",
       "    }\n",
       "\n",
       "    .dataframe thead tr th {\n",
       "        text-align: left;\n",
       "    }\n",
       "</style>\n",
       "<table border=\"1\" class=\"dataframe\">\n",
       "  <thead>\n",
       "    <tr>\n",
       "      <th></th>\n",
       "      <th colspan=\"2\" halign=\"left\">accuracy</th>\n",
       "      <th colspan=\"2\" halign=\"left\">precision</th>\n",
       "      <th colspan=\"2\" halign=\"left\">recall</th>\n",
       "      <th colspan=\"2\" halign=\"left\">f1</th>\n",
       "    </tr>\n",
       "    <tr>\n",
       "      <th></th>\n",
       "      <th>mean</th>\n",
       "      <th>std</th>\n",
       "      <th>mean</th>\n",
       "      <th>std</th>\n",
       "      <th>mean</th>\n",
       "      <th>std</th>\n",
       "      <th>mean</th>\n",
       "      <th>std</th>\n",
       "    </tr>\n",
       "  </thead>\n",
       "  <tbody>\n",
       "    <tr>\n",
       "      <th>Logistic Regression</th>\n",
       "      <td>0.772055</td>\n",
       "      <td>0.005510</td>\n",
       "      <td>0.718541</td>\n",
       "      <td>0.006182</td>\n",
       "      <td>0.693856</td>\n",
       "      <td>0.004444</td>\n",
       "      <td>0.691234</td>\n",
       "      <td>0.006808</td>\n",
       "    </tr>\n",
       "    <tr>\n",
       "      <th>Random Forest</th>\n",
       "      <td>0.732293</td>\n",
       "      <td>0.007990</td>\n",
       "      <td>0.660983</td>\n",
       "      <td>0.014883</td>\n",
       "      <td>0.625809</td>\n",
       "      <td>0.005376</td>\n",
       "      <td>0.591055</td>\n",
       "      <td>0.011392</td>\n",
       "    </tr>\n",
       "    <tr>\n",
       "      <th>SVM</th>\n",
       "      <td>0.778372</td>\n",
       "      <td>0.005911</td>\n",
       "      <td>0.726964</td>\n",
       "      <td>0.006335</td>\n",
       "      <td>0.710420</td>\n",
       "      <td>0.005926</td>\n",
       "      <td>0.711196</td>\n",
       "      <td>0.007472</td>\n",
       "    </tr>\n",
       "  </tbody>\n",
       "</table>\n",
       "</div>"
      ],
      "text/plain": [
       "                     accuracy           precision              recall  \\\n",
       "                         mean       std      mean       std      mean   \n",
       "Logistic Regression  0.772055  0.005510  0.718541  0.006182  0.693856   \n",
       "Random Forest        0.732293  0.007990  0.660983  0.014883  0.625809   \n",
       "SVM                  0.778372  0.005911  0.726964  0.006335  0.710420   \n",
       "\n",
       "                                     f1            \n",
       "                          std      mean       std  \n",
       "Logistic Regression  0.004444  0.691234  0.006808  \n",
       "Random Forest        0.005376  0.591055  0.011392  \n",
       "SVM                  0.005926  0.711196  0.007472  "
      ]
     },
     "execution_count": 117,
     "metadata": {},
     "output_type": "execute_result"
    }
   ],
   "source": [
    "# First, create a list that contains all your dataframes\n",
    "dataframes = [\n",
    "    metrics_cross_validation_Logistic_df, \n",
    "    metrics_cross_validation_RandomForest_df, \n",
    "    metrics_cross_validation_svm_df\n",
    "   \n",
    "]\n",
    "\n",
    "# Then, concatenate them all into one\n",
    "metrics_cross_validation_df = pd.concat(dataframes)\n",
    "metrics_cross_validation_df.head()"
   ]
  },
  {
   "attachments": {},
   "cell_type": "markdown",
   "metadata": {},
   "source": [
    "feature Importance"
   ]
  },
  {
   "cell_type": "code",
   "execution_count": 125,
   "metadata": {},
   "outputs": [
    {
     "data": {
      "image/png": "[encoded data removed]",
      "text/plain": [
       "<Figure size 1000x600 with 1 Axes>"
      ]
     },
     "metadata": {},
     "output_type": "display_data"
    }
   ],
   "source": [
    "from sklearn.inspection import permutation_importance\n",
    "\n",
    "# Assuming each BERT embedding has 384 dimensions\n",
    "column_names = [\"dim_\" + str(i) for i in range(X_train.shape[1])]\n",
    "\n",
    "# Compute permutation feature importance\n",
    "# result = permutation_importance(svm_model, X_test, y_test, n_repeats=5, n_jobs=-1, random_state=42)\n",
    "\n",
    "feature_importance = result.importances_mean\n",
    "\n",
    "# Select the top N important features\n",
    "top_n = 20  # Specify the number of top features to display\n",
    "top_indices = feature_importance.argsort()[-top_n:][::-1]\n",
    "top_importance = feature_importance[top_indices]\n",
    "top_features = [column_names[i] for i in top_indices]\n",
    "\n",
    "# Plot the top N important features in a bar chart\n",
    "plt.figure(figsize=(10, 6))\n",
    "plt.bar(range(len(top_features)), top_importance)\n",
    "plt.xticks(range(len(top_features)), top_features, rotation=90)\n",
    "plt.xlabel('Features')\n",
    "plt.ylabel('Importance')\n",
    "plt.title('Top {} Permutation Feature Importance'.format(top_n))\n",
    "plt.tight_layout()\n",
    "plt.show()"
   ]
  },
  {
   "attachments": {},
   "cell_type": "markdown",
   "metadata": {},
   "source": [
    "Based on this we can conclude that SVM works best"
   ]
  },
  {
   "cell_type": "code",
   "execution_count": 255,
   "metadata": {},
   "outputs": [],
   "source": [
    "from sklearn.metrics import classification_report, confusion_matrix\n",
    "\n",
    "def classification_report_model(name, model, X_train, X_test, y_train, y_test):\n",
    "    # Fit the model on the training data\n",
    "    model.fit(X_train, y_train)\n",
    "\n",
    "    # Make predictions on the test data\n",
    "    y_pred = model.predict(X_test)\n",
    "\n",
    "    # Generate and print the classification report\n",
    "    print(f\"Classification Report for {name}:\")\n",
    "    print(classification_report(y_test, y_pred, zero_division=1))\n",
    "\n",
    "def confusion_matrix_model(name, model, X_train, X_test, y_train, y_test):\n",
    "    # Fit the model on the training data\n",
    "    model.fit(X_train, y_train)\n",
    "\n",
    "    # Make predictions on the test data\n",
    "    y_pred = model.predict(X_test)\n",
    "\n",
    "    # Generate and print the confusion matrix\n",
    "    print(f\"Confusion Matrix for {name}:\")\n",
    "    print(confusion_matrix(y_test, y_pred))\n"
   ]
  },
  {
   "cell_type": "code",
   "execution_count": 256,
   "metadata": {},
   "outputs": [
    {
     "name": "stdout",
     "output_type": "stream",
     "text": [
      "Classification Report for Logistic Regression:\n",
      "              precision    recall  f1-score   support\n",
      "\n",
      "          -1       0.78      0.88      0.83       770\n",
      "           0       0.59      0.35      0.44       385\n",
      "           1       0.84      0.90      0.87       839\n",
      "\n",
      "    accuracy                           0.79      1994\n",
      "   macro avg       0.74      0.71      0.71      1994\n",
      "weighted avg       0.77      0.79      0.77      1994\n",
      "\n",
      "Confusion Matrix for Logistic Regression:\n",
      "[[678  59  33]\n",
      " [138 134 113]\n",
      " [ 48  33 758]]\n"
     ]
    },
    {
     "name": "stderr",
     "output_type": "stream",
     "text": [
      "/home/sairindhri/yelp-data-analysis/venv/lib/python3.10/site-packages/sklearn/ensemble/_forest.py:424: FutureWarning: `max_features='auto'` has been deprecated in 1.1 and will be removed in 1.3. To keep the past behaviour, explicitly set `max_features='sqrt'` or remove this parameter as it is also the default value for RandomForestClassifiers and ExtraTreesClassifiers.\n",
      "  warn(\n"
     ]
    },
    {
     "name": "stdout",
     "output_type": "stream",
     "text": [
      "Classification Report for Random Forest:\n",
      "              precision    recall  f1-score   support\n",
      "\n",
      "          -1       0.73      0.90      0.80       770\n",
      "           0       0.52      0.12      0.19       385\n",
      "           1       0.79      0.90      0.84       839\n",
      "\n",
      "    accuracy                           0.75      1994\n",
      "   macro avg       0.68      0.64      0.61      1994\n",
      "weighted avg       0.71      0.75      0.70      1994\n",
      "\n"
     ]
    },
    {
     "name": "stderr",
     "output_type": "stream",
     "text": [
      "/home/sairindhri/yelp-data-analysis/venv/lib/python3.10/site-packages/sklearn/ensemble/_forest.py:424: FutureWarning: `max_features='auto'` has been deprecated in 1.1 and will be removed in 1.3. To keep the past behaviour, explicitly set `max_features='sqrt'` or remove this parameter as it is also the default value for RandomForestClassifiers and ExtraTreesClassifiers.\n",
      "  warn(\n"
     ]
    },
    {
     "name": "stdout",
     "output_type": "stream",
     "text": [
      "Confusion Matrix for Random Forest:\n",
      "[[691  28  51]\n",
      " [190  45 150]\n",
      " [ 67  14 758]]\n",
      "Classification Report for SVM:\n",
      "              precision    recall  f1-score   support\n",
      "\n",
      "          -1       0.79      0.88      0.83       770\n",
      "           0       0.58      0.38      0.46       385\n",
      "           1       0.85      0.90      0.87       839\n",
      "\n",
      "    accuracy                           0.79      1994\n",
      "   macro avg       0.74      0.72      0.72      1994\n",
      "weighted avg       0.78      0.79      0.78      1994\n",
      "\n",
      "Confusion Matrix for SVM:\n",
      "[[681  65  24]\n",
      " [134 146 105]\n",
      " [ 48  40 751]]\n"
     ]
    }
   ],
   "source": [
    "classification_report_model(\"Logistic Regression\", lr_model, X_train, X_test, y_train, y_test)\n",
    "confusion_matrix_model(\"Logistic Regression\", lr_model, X_train, X_test, y_train, y_test)\n",
    "\n",
    "classification_report_model(\"Random Forest\", rf_model, X_train, X_test, y_train, y_test)\n",
    "confusion_matrix_model(\"Random Forest\", rf_model, X_train, X_test, y_train, y_test)\n",
    "\n",
    "classification_report_model(\"SVM\", svm_model, X_train, X_test, y_train, y_test)\n",
    "confusion_matrix_model(\"SVM\", svm_model, X_train, X_test, y_train, y_test)\n"
   ]
  },
  {
   "cell_type": "code",
   "execution_count": 176,
   "metadata": {},
   "outputs": [
    {
     "data": {
      "text/html": [
       "<style>#sk-container-id-1 {color: black;background-color: white;}#sk-container-id-1 pre{padding: 0;}#sk-container-id-1 div.sk-toggleable {background-color: white;}#sk-container-id-1 label.sk-toggleable__label {cursor: pointer;display: block;width: 100%;margin-bottom: 0;padding: 0.3em;box-sizing: border-box;text-align: center;}#sk-container-id-1 label.sk-toggleable__label-arrow:before {content: \"▸\";float: left;margin-right: 0.25em;color: #696969;}#sk-container-id-1 label.sk-toggleable__label-arrow:hover:before {color: black;}#sk-container-id-1 div.sk-estimator:hover label.sk-toggleable__label-arrow:before {color: black;}#sk-container-id-1 div.sk-toggleable__content {max-height: 0;max-width: 0;overflow: hidden;text-align: left;background-color: #f0f8ff;}#sk-container-id-1 div.sk-toggleable__content pre {margin: 0.2em;color: black;border-radius: 0.25em;background-color: #f0f8ff;}#sk-container-id-1 input.sk-toggleable__control:checked~div.sk-toggleable__content {max-height: 200px;max-width: 100%;overflow: auto;}#sk-container-id-1 input.sk-toggleable__control:checked~label.sk-toggleable__label-arrow:before {content: \"▾\";}#sk-container-id-1 div.sk-estimator input.sk-toggleable__control:checked~label.sk-toggleable__label {background-color: #d4ebff;}#sk-container-id-1 div.sk-label input.sk-toggleable__control:checked~label.sk-toggleable__label {background-color: #d4ebff;}#sk-container-id-1 input.sk-hidden--visually {border: 0;clip: rect(1px 1px 1px 1px);clip: rect(1px, 1px, 1px, 1px);height: 1px;margin: -1px;overflow: hidden;padding: 0;position: absolute;width: 1px;}#sk-container-id-1 div.sk-estimator {font-family: monospace;background-color: #f0f8ff;border: 1px dotted black;border-radius: 0.25em;box-sizing: border-box;margin-bottom: 0.5em;}#sk-container-id-1 div.sk-estimator:hover {background-color: #d4ebff;}#sk-container-id-1 div.sk-parallel-item::after {content: \"\";width: 100%;border-bottom: 1px solid gray;flex-grow: 1;}#sk-container-id-1 div.sk-label:hover label.sk-toggleable__label {background-color: #d4ebff;}#sk-container-id-1 div.sk-serial::before {content: \"\";position: absolute;border-left: 1px solid gray;box-sizing: border-box;top: 0;bottom: 0;left: 50%;z-index: 0;}#sk-container-id-1 div.sk-serial {display: flex;flex-direction: column;align-items: center;background-color: white;padding-right: 0.2em;padding-left: 0.2em;position: relative;}#sk-container-id-1 div.sk-item {position: relative;z-index: 1;}#sk-container-id-1 div.sk-parallel {display: flex;align-items: stretch;justify-content: center;background-color: white;position: relative;}#sk-container-id-1 div.sk-item::before, #sk-container-id-1 div.sk-parallel-item::before {content: \"\";position: absolute;border-left: 1px solid gray;box-sizing: border-box;top: 0;bottom: 0;left: 50%;z-index: -1;}#sk-container-id-1 div.sk-parallel-item {display: flex;flex-direction: column;z-index: 1;position: relative;background-color: white;}#sk-container-id-1 div.sk-parallel-item:first-child::after {align-self: flex-end;width: 50%;}#sk-container-id-1 div.sk-parallel-item:last-child::after {align-self: flex-start;width: 50%;}#sk-container-id-1 div.sk-parallel-item:only-child::after {width: 0;}#sk-container-id-1 div.sk-dashed-wrapped {border: 1px dashed gray;margin: 0 0.4em 0.5em 0.4em;box-sizing: border-box;padding-bottom: 0.4em;background-color: white;}#sk-container-id-1 div.sk-label label {font-family: monospace;font-weight: bold;display: inline-block;line-height: 1.2em;}#sk-container-id-1 div.sk-label-container {text-align: center;}#sk-container-id-1 div.sk-container {/* jupyter's `normalize.less` sets `[hidden] { display: none; }` but bootstrap.min.css set `[hidden] { display: none !important; }` so we also need the `!important` here to be able to override the default hidden behavior on the sphinx rendered scikit-learn.org. See: https://github.com/scikit-learn/scikit-learn/issues/21755 */display: inline-block !important;position: relative;}#sk-container-id-1 div.sk-text-repr-fallback {display: none;}</style><div id=\"sk-container-id-1\" class=\"sk-top-container\"><div class=\"sk-text-repr-fallback\"><pre>GridSearchCV(cv=5,\n",
       "             estimator=Pipeline(steps=[(&#x27;lr&#x27;,\n",
       "                                        LogisticRegression(max_iter=1000,\n",
       "                                                           multi_class=&#x27;multinomial&#x27;))]),\n",
       "             param_grid={&#x27;lr__C&#x27;: [0.01, 0.1, 1]}, scoring=&#x27;accuracy&#x27;)</pre><b>In a Jupyter environment, please rerun this cell to show the HTML representation or trust the notebook. <br />On GitHub, the HTML representation is unable to render, please try loading this page with nbviewer.org.</b></div><div class=\"sk-container\" hidden><div class=\"sk-item sk-dashed-wrapped\"><div class=\"sk-label-container\"><div class=\"sk-label sk-toggleable\"><input class=\"sk-toggleable__control sk-hidden--visually\" id=\"sk-estimator-id-1\" type=\"checkbox\" ><label for=\"sk-estimator-id-1\" class=\"sk-toggleable__label sk-toggleable__label-arrow\">GridSearchCV</label><div class=\"sk-toggleable__content\"><pre>GridSearchCV(cv=5,\n",
       "             estimator=Pipeline(steps=[(&#x27;lr&#x27;,\n",
       "                                        LogisticRegression(max_iter=1000,\n",
       "                                                           multi_class=&#x27;multinomial&#x27;))]),\n",
       "             param_grid={&#x27;lr__C&#x27;: [0.01, 0.1, 1]}, scoring=&#x27;accuracy&#x27;)</pre></div></div></div><div class=\"sk-parallel\"><div class=\"sk-parallel-item\"><div class=\"sk-item\"><div class=\"sk-label-container\"><div class=\"sk-label sk-toggleable\"><input class=\"sk-toggleable__control sk-hidden--visually\" id=\"sk-estimator-id-2\" type=\"checkbox\" ><label for=\"sk-estimator-id-2\" class=\"sk-toggleable__label sk-toggleable__label-arrow\">estimator: Pipeline</label><div class=\"sk-toggleable__content\"><pre>Pipeline(steps=[(&#x27;lr&#x27;,\n",
       "                 LogisticRegression(max_iter=1000, multi_class=&#x27;multinomial&#x27;))])</pre></div></div></div><div class=\"sk-serial\"><div class=\"sk-item\"><div class=\"sk-serial\"><div class=\"sk-item\"><div class=\"sk-estimator sk-toggleable\"><input class=\"sk-toggleable__control sk-hidden--visually\" id=\"sk-estimator-id-3\" type=\"checkbox\" ><label for=\"sk-estimator-id-3\" class=\"sk-toggleable__label sk-toggleable__label-arrow\">LogisticRegression</label><div class=\"sk-toggleable__content\"><pre>LogisticRegression(max_iter=1000, multi_class=&#x27;multinomial&#x27;)</pre></div></div></div></div></div></div></div></div></div></div></div></div>"
      ],
      "text/plain": [
       "GridSearchCV(cv=5,\n",
       "             estimator=Pipeline(steps=[('lr',\n",
       "                                        LogisticRegression(max_iter=1000,\n",
       "                                                           multi_class='multinomial'))]),\n",
       "             param_grid={'lr__C': [0.01, 0.1, 1]}, scoring='accuracy')"
      ]
     },
     "execution_count": 176,
     "metadata": {},
     "output_type": "execute_result"
    }
   ],
   "source": [
    "from sklearn.linear_model import LogisticRegression\n",
    "from sklearn.model_selection import GridSearchCV\n",
    "from sklearn.pipeline import Pipeline\n",
    "\n",
    "# Define the steps of the pipeline\n",
    "steps = [('lr', LogisticRegression(multi_class='multinomial', solver='lbfgs', max_iter=1000))]\n",
    "\n",
    "# Create the pipeline\n",
    "pipeline = Pipeline(steps)\n",
    "\n",
    "# Define the hyperparameters to tune\n",
    "parameters = {'lr__C':[0.01, 0.1,1]}\n",
    "\n",
    "# Create a GridSearchCV instance\n",
    "log_tuned = GridSearchCV(pipeline, parameters, cv=5, scoring=\"accuracy\")\n",
    "\n",
    "# Fit the GridSearchCV instance\n",
    "log_tuned.fit(X_train, y_train)\n"
   ]
  },
  {
   "attachments": {},
   "cell_type": "markdown",
   "metadata": {},
   "source": [
    "### Model Improvement with Grid Search"
   ]
  },
  {
   "cell_type": "code",
   "execution_count": 128,
   "metadata": {},
   "outputs": [
    {
     "data": {
      "text/plain": [
       "{'lr__C': 10}"
      ]
     },
     "execution_count": 128,
     "metadata": {},
     "output_type": "execute_result"
    }
   ],
   "source": [
    "from sklearn.linear_model import LogisticRegression\n",
    "from sklearn.model_selection import GridSearchCV\n",
    "from sklearn.model_selection import train_test_split\n",
    "from sklearn.pipeline import Pipeline\n",
    "\n",
    "# Define the steps of the pipeline\n",
    "steps = [('lr', LogisticRegression(multi_class='multinomial', solver='lbfgs', max_iter=1000))]\n",
    "\n",
    "# Create the pipeline\n",
    "pipeline = Pipeline(steps)\n",
    "\n",
    "# Define the hyperparameters to tune\n",
    "parameters = {'lr__C':[0.01, 0.1,1,10,100]}\n",
    "\n",
    "# Create a GridSearchCV instance\n",
    "log_tuned = GridSearchCV(pipeline, parameters, cv=10, scoring=\"accuracy\")\n",
    "\n",
    "# Fit the GridSearchCV instance\n",
    "log_tuned.fit(X_train, y_train)\n",
    "log_tuned.best_params_"
   ]
  },
  {
   "cell_type": "code",
   "execution_count": 178,
   "metadata": {},
   "outputs": [],
   "source": [
    "best_C = log_tuned.best_params_['lr__C']\n",
    "\n",
    "lr_model_best = LogisticRegression(C=best_C, multi_class='multinomial', solver='lbfgs', max_iter=1000)\n"
   ]
  },
  {
   "cell_type": "code",
   "execution_count": 183,
   "metadata": {},
   "outputs": [],
   "source": [
    "metrics_df.loc[len(metrics_df.index)] = evaluate_model(\"Logistic Regression Best\", lr_model_best, X_train, X_test, y_train, y_test)\n"
   ]
  },
  {
   "cell_type": "code",
   "execution_count": 180,
   "metadata": {},
   "outputs": [
    {
     "data": {
      "text/html": [
       "<div>\n",
       "<style scoped>\n",
       "    .dataframe tbody tr th:only-of-type {\n",
       "        vertical-align: middle;\n",
       "    }\n",
       "\n",
       "    .dataframe tbody tr th {\n",
       "        vertical-align: top;\n",
       "    }\n",
       "\n",
       "    .dataframe thead th {\n",
       "        text-align: right;\n",
       "    }\n",
       "</style>\n",
       "<table border=\"1\" class=\"dataframe\">\n",
       "  <thead>\n",
       "    <tr style=\"text-align: right;\">\n",
       "      <th></th>\n",
       "      <th>Model</th>\n",
       "      <th>Accuracy</th>\n",
       "      <th>Precision</th>\n",
       "      <th>Recall</th>\n",
       "      <th>F1 Score</th>\n",
       "    </tr>\n",
       "  </thead>\n",
       "  <tbody>\n",
       "    <tr>\n",
       "      <th>0</th>\n",
       "      <td>Logistic Regression</td>\n",
       "      <td>0.787362</td>\n",
       "      <td>0.770315</td>\n",
       "      <td>0.787362</td>\n",
       "      <td>0.771113</td>\n",
       "    </tr>\n",
       "    <tr>\n",
       "      <th>1</th>\n",
       "      <td>Random Forest</td>\n",
       "      <td>0.749248</td>\n",
       "      <td>0.713914</td>\n",
       "      <td>0.749248</td>\n",
       "      <td>0.702221</td>\n",
       "    </tr>\n",
       "    <tr>\n",
       "      <th>2</th>\n",
       "      <td>SVM</td>\n",
       "      <td>0.791374</td>\n",
       "      <td>0.776112</td>\n",
       "      <td>0.791374</td>\n",
       "      <td>0.778368</td>\n",
       "    </tr>\n",
       "  </tbody>\n",
       "</table>\n",
       "</div>"
      ],
      "text/plain": [
       "                 Model  Accuracy  Precision    Recall  F1 Score\n",
       "0  Logistic Regression  0.787362   0.770315  0.787362  0.771113\n",
       "1        Random Forest  0.749248   0.713914  0.749248  0.702221\n",
       "2                  SVM  0.791374   0.776112  0.791374  0.778368"
      ]
     },
     "execution_count": 180,
     "metadata": {},
     "output_type": "execute_result"
    }
   ],
   "source": [
    "metrics_df.head()"
   ]
  },
  {
   "cell_type": "code",
   "execution_count": 135,
   "metadata": {},
   "outputs": [
    {
     "name": "stdout",
     "output_type": "stream",
     "text": [
      "Fitting 5 folds for each of 144 candidates, totalling 720 fits\n",
      "[CV 4/5] END svc__C=0.1, svc__class_weight=balanced, svc__degree=2, svc__gamma=scale, svc__kernel=poly;, score=0.744 total time= 2.8min\n",
      "[CV 3/5] END svc__C=0.1, svc__class_weight=balanced, svc__degree=2, svc__gamma=scale, svc__kernel=poly;, score=0.733 total time= 2.8min\n",
      "[CV 1/5] END svc__C=0.1, svc__class_weight=balanced, svc__degree=2, svc__gamma=scale, svc__kernel=poly;, score=0.747 total time= 2.8min\n",
      "[CV 5/5] END svc__C=0.1, svc__class_weight=balanced, svc__degree=2, svc__gamma=scale, svc__kernel=poly;, score=0.738 total time= 2.8min\n",
      "[CV 2/5] END svc__C=0.1, svc__class_weight=balanced, svc__degree=2, svc__gamma=scale, svc__kernel=poly;, score=0.740 total time= 2.8min\n",
      "[CV 1/5] END svc__C=0.1, svc__class_weight=balanced, svc__degree=2, svc__gamma=scale, svc__kernel=sigmoid;, score=0.738 total time= 3.0min\n",
      "[CV 3/5] END svc__C=0.1, svc__class_weight=balanced, svc__degree=2, svc__gamma=scale, svc__kernel=rbf;, score=0.744 total time= 3.2min\n",
      "[CV 4/5] END svc__C=0.1, svc__class_weight=balanced, svc__degree=2, svc__gamma=scale, svc__kernel=rbf;, score=0.746 total time= 3.2min\n",
      "[CV 2/5] END svc__C=0.1, svc__class_weight=balanced, svc__degree=2, svc__gamma=scale, svc__kernel=rbf;, score=0.743 total time= 3.2min\n",
      "[CV 1/5] END svc__C=0.1, svc__class_weight=balanced, svc__degree=2, svc__gamma=scale, svc__kernel=rbf;, score=0.745 total time= 3.2min\n",
      "[CV 5/5] END svc__C=0.1, svc__class_weight=balanced, svc__degree=2, svc__gamma=scale, svc__kernel=rbf;, score=0.741 total time= 3.2min\n",
      "[CV 4/5] END svc__C=0.1, svc__class_weight=balanced, svc__degree=2, svc__gamma=scale, svc__kernel=linear;, score=0.720 total time= 3.2min\n",
      "[CV 3/5] END svc__C=0.1, svc__class_weight=balanced, svc__degree=2, svc__gamma=scale, svc__kernel=linear;, score=0.725 total time= 3.2min\n",
      "[CV 5/5] END svc__C=0.1, svc__class_weight=balanced, svc__degree=2, svc__gamma=scale, svc__kernel=linear;, score=0.723 total time= 3.2min\n",
      "[CV 1/5] END svc__C=0.1, svc__class_weight=balanced, svc__degree=2, svc__gamma=scale, svc__kernel=linear;, score=0.732 total time= 3.2min\n",
      "[CV 2/5] END svc__C=0.1, svc__class_weight=balanced, svc__degree=2, svc__gamma=scale, svc__kernel=linear;, score=0.724 total time= 3.2min\n",
      "[CV 2/5] END svc__C=0.1, svc__class_weight=balanced, svc__degree=2, svc__gamma=scale, svc__kernel=sigmoid;, score=0.734 total time= 2.9min\n",
      "[CV 3/5] END svc__C=0.1, svc__class_weight=balanced, svc__degree=2, svc__gamma=scale, svc__kernel=sigmoid;, score=0.734 total time= 2.9min\n",
      "[CV 4/5] END svc__C=0.1, svc__class_weight=balanced, svc__degree=2, svc__gamma=scale, svc__kernel=sigmoid;, score=0.738 total time= 2.9min\n",
      "[CV 5/5] END svc__C=0.1, svc__class_weight=balanced, svc__degree=2, svc__gamma=scale, svc__kernel=sigmoid;, score=0.733 total time= 2.9min\n",
      "[CV 1/5] END svc__C=0.1, svc__class_weight=balanced, svc__degree=2, svc__gamma=auto, svc__kernel=linear;, score=0.732 total time= 3.2min\n",
      "[CV 2/5] END svc__C=0.1, svc__class_weight=balanced, svc__degree=2, svc__gamma=auto, svc__kernel=linear;, score=0.724 total time= 3.2min\n",
      "[CV 4/5] END svc__C=0.1, svc__class_weight=balanced, svc__degree=2, svc__gamma=auto, svc__kernel=linear;, score=0.720 total time= 3.2min\n",
      "[CV 3/5] END svc__C=0.1, svc__class_weight=balanced, svc__degree=2, svc__gamma=auto, svc__kernel=linear;, score=0.725 total time= 3.2min\n",
      "[CV 5/5] END svc__C=0.1, svc__class_weight=balanced, svc__degree=2, svc__gamma=auto, svc__kernel=linear;, score=0.723 total time= 3.2min\n",
      "[CV 1/5] END svc__C=0.1, svc__class_weight=balanced, svc__degree=2, svc__gamma=auto, svc__kernel=poly;, score=0.201 total time= 5.1min\n",
      "[CV 2/5] END svc__C=0.1, svc__class_weight=balanced, svc__degree=2, svc__gamma=auto, svc__kernel=poly;, score=0.201 total time= 5.1min\n",
      "[CV 2/5] END svc__C=0.1, svc__class_weight=balanced, svc__degree=2, svc__gamma=auto, svc__kernel=rbf;, score=0.201 total time= 5.4min\n",
      "[CV 1/5] END svc__C=0.1, svc__class_weight=balanced, svc__degree=2, svc__gamma=auto, svc__kernel=rbf;, score=0.201 total time= 5.4min\n",
      "[CV 3/5] END svc__C=0.1, svc__class_weight=balanced, svc__degree=2, svc__gamma=auto, svc__kernel=rbf;, score=0.201 total time= 5.4min\n",
      "[CV 4/5] END svc__C=0.1, svc__class_weight=balanced, svc__degree=2, svc__gamma=auto, svc__kernel=rbf;, score=0.398 total time= 5.4min\n",
      "[CV 5/5] END svc__C=0.1, svc__class_weight=balanced, svc__degree=2, svc__gamma=auto, svc__kernel=rbf;, score=0.398 total time= 5.5min\n",
      "[CV 1/5] END svc__C=0.1, svc__class_weight=balanced, svc__degree=3, svc__gamma=scale, svc__kernel=linear;, score=0.732 total time= 3.3min\n",
      "[CV 3/5] END svc__C=0.1, svc__class_weight=balanced, svc__degree=2, svc__gamma=auto, svc__kernel=poly;, score=0.201 total time= 5.2min\n",
      "[CV 4/5] END svc__C=0.1, svc__class_weight=balanced, svc__degree=2, svc__gamma=auto, svc__kernel=poly;, score=0.398 total time= 5.2min\n",
      "[CV 5/5] END svc__C=0.1, svc__class_weight=balanced, svc__degree=2, svc__gamma=auto, svc__kernel=poly;, score=0.398 total time= 5.2min\n",
      "[CV 1/5] END svc__C=0.1, svc__class_weight=balanced, svc__degree=2, svc__gamma=auto, svc__kernel=sigmoid;, score=0.201 total time= 5.3min\n",
      "[CV 2/5] END svc__C=0.1, svc__class_weight=balanced, svc__degree=2, svc__gamma=auto, svc__kernel=sigmoid;, score=0.201 total time= 5.3min\n",
      "[CV 3/5] END svc__C=0.1, svc__class_weight=balanced, svc__degree=2, svc__gamma=auto, svc__kernel=sigmoid;, score=0.201 total time= 5.3min\n",
      "[CV 4/5] END svc__C=0.1, svc__class_weight=balanced, svc__degree=2, svc__gamma=auto, svc__kernel=sigmoid;, score=0.398 total time= 5.3min\n",
      "[CV 5/5] END svc__C=0.1, svc__class_weight=balanced, svc__degree=2, svc__gamma=auto, svc__kernel=sigmoid;, score=0.398 total time= 5.3min\n",
      "[CV 3/5] END svc__C=0.1, svc__class_weight=balanced, svc__degree=3, svc__gamma=scale, svc__kernel=linear;, score=0.725 total time= 3.4min\n",
      "[CV 2/5] END svc__C=0.1, svc__class_weight=balanced, svc__degree=3, svc__gamma=scale, svc__kernel=linear;, score=0.724 total time= 3.4min\n",
      "[CV 2/5] END svc__C=0.1, svc__class_weight=balanced, svc__degree=3, svc__gamma=scale, svc__kernel=rbf;, score=0.743 total time= 3.4min\n",
      "[CV 4/5] END svc__C=0.1, svc__class_weight=balanced, svc__degree=3, svc__gamma=scale, svc__kernel=linear;, score=0.720 total time= 3.4min\n",
      "[CV 1/5] END svc__C=0.1, svc__class_weight=balanced, svc__degree=3, svc__gamma=scale, svc__kernel=rbf;, score=0.745 total time= 3.4min\n",
      "[CV 5/5] END svc__C=0.1, svc__class_weight=balanced, svc__degree=3, svc__gamma=scale, svc__kernel=linear;, score=0.723 total time= 3.4min\n",
      "[CV 3/5] END svc__C=0.1, svc__class_weight=balanced, svc__degree=3, svc__gamma=scale, svc__kernel=rbf;, score=0.744 total time= 3.4min\n",
      "[CV 4/5] END svc__C=0.1, svc__class_weight=balanced, svc__degree=3, svc__gamma=scale, svc__kernel=rbf;, score=0.746 total time= 3.4min\n",
      "[CV 1/5] END svc__C=0.1, svc__class_weight=balanced, svc__degree=3, svc__gamma=scale, svc__kernel=poly;, score=0.740 total time= 3.2min\n",
      "[CV 2/5] END svc__C=0.1, svc__class_weight=balanced, svc__degree=3, svc__gamma=scale, svc__kernel=poly;, score=0.738 total time= 3.2min\n",
      "[CV 3/5] END svc__C=0.1, svc__class_weight=balanced, svc__degree=3, svc__gamma=scale, svc__kernel=poly;, score=0.734 total time= 3.2min\n",
      "[CV 5/5] END svc__C=0.1, svc__class_weight=balanced, svc__degree=3, svc__gamma=scale, svc__kernel=rbf;, score=0.741 total time= 3.4min\n",
      "[CV 4/5] END svc__C=0.1, svc__class_weight=balanced, svc__degree=3, svc__gamma=scale, svc__kernel=poly;, score=0.741 total time= 3.2min\n",
      "[CV 5/5] END svc__C=0.1, svc__class_weight=balanced, svc__degree=3, svc__gamma=scale, svc__kernel=poly;, score=0.739 total time= 3.2min\n",
      "[CV 2/5] END svc__C=0.1, svc__class_weight=balanced, svc__degree=3, svc__gamma=scale, svc__kernel=sigmoid;, score=0.734 total time= 3.2min\n",
      "[CV 1/5] END svc__C=0.1, svc__class_weight=balanced, svc__degree=3, svc__gamma=scale, svc__kernel=sigmoid;, score=0.738 total time= 3.2min\n",
      "[CV 3/5] END svc__C=0.1, svc__class_weight=balanced, svc__degree=3, svc__gamma=scale, svc__kernel=sigmoid;, score=0.734 total time= 3.2min\n",
      "[CV 4/5] END svc__C=0.1, svc__class_weight=balanced, svc__degree=3, svc__gamma=scale, svc__kernel=sigmoid;, score=0.738 total time= 3.2min\n",
      "[CV 5/5] END svc__C=0.1, svc__class_weight=balanced, svc__degree=3, svc__gamma=scale, svc__kernel=sigmoid;, score=0.733 total time= 3.2min\n",
      "[CV 2/5] END svc__C=0.1, svc__class_weight=balanced, svc__degree=3, svc__gamma=auto, svc__kernel=linear;, score=0.724 total time= 3.5min\n",
      "[CV 1/5] END svc__C=0.1, svc__class_weight=balanced, svc__degree=3, svc__gamma=auto, svc__kernel=linear;, score=0.732 total time= 3.5min\n",
      "[CV 3/5] END svc__C=0.1, svc__class_weight=balanced, svc__degree=3, svc__gamma=auto, svc__kernel=linear;, score=0.725 total time= 3.5min\n",
      "[CV 4/5] END svc__C=0.1, svc__class_weight=balanced, svc__degree=3, svc__gamma=auto, svc__kernel=linear;, score=0.720 total time= 3.5min\n",
      "[CV 5/5] END svc__C=0.1, svc__class_weight=balanced, svc__degree=3, svc__gamma=auto, svc__kernel=linear;, score=0.723 total time= 3.5min\n",
      "[CV 1/5] END svc__C=0.1, svc__class_weight=balanced, svc__degree=4, svc__gamma=scale, svc__kernel=linear;, score=0.732 total time= 3.4min\n",
      "[CV 1/5] END svc__C=0.1, svc__class_weight=balanced, svc__degree=3, svc__gamma=auto, svc__kernel=rbf;, score=0.201 total time= 5.8min\n",
      "[CV 2/5] END svc__C=0.1, svc__class_weight=balanced, svc__degree=3, svc__gamma=auto, svc__kernel=rbf;, score=0.201 total time= 5.8min\n",
      "[CV 3/5] END svc__C=0.1, svc__class_weight=balanced, svc__degree=3, svc__gamma=auto, svc__kernel=rbf;, score=0.201 total time= 5.8min\n",
      "[CV 1/5] END svc__C=0.1, svc__class_weight=balanced, svc__degree=3, svc__gamma=auto, svc__kernel=poly;, score=0.201 total time= 5.4min\n",
      "[CV 4/5] END svc__C=0.1, svc__class_weight=balanced, svc__degree=3, svc__gamma=auto, svc__kernel=rbf;, score=0.398 total time= 5.8min\n",
      "[CV 2/5] END svc__C=0.1, svc__class_weight=balanced, svc__degree=3, svc__gamma=auto, svc__kernel=poly;, score=0.201 total time= 5.4min\n",
      "[CV 3/5] END svc__C=0.1, svc__class_weight=balanced, svc__degree=3, svc__gamma=auto, svc__kernel=poly;, score=0.201 total time= 5.4min\n",
      "[CV 5/5] END svc__C=0.1, svc__class_weight=balanced, svc__degree=3, svc__gamma=auto, svc__kernel=rbf;, score=0.398 total time= 5.8min\n",
      "[CV 4/5] END svc__C=0.1, svc__class_weight=balanced, svc__degree=3, svc__gamma=auto, svc__kernel=poly;, score=0.398 total time= 5.4min\n",
      "[CV 5/5] END svc__C=0.1, svc__class_weight=balanced, svc__degree=3, svc__gamma=auto, svc__kernel=poly;, score=0.398 total time= 5.4min\n",
      "[CV 1/5] END svc__C=0.1, svc__class_weight=balanced, svc__degree=3, svc__gamma=auto, svc__kernel=sigmoid;, score=0.201 total time= 5.5min\n",
      "[CV 3/5] END svc__C=0.1, svc__class_weight=balanced, svc__degree=3, svc__gamma=auto, svc__kernel=sigmoid;, score=0.201 total time= 5.5min\n",
      "[CV 2/5] END svc__C=0.1, svc__class_weight=balanced, svc__degree=3, svc__gamma=auto, svc__kernel=sigmoid;, score=0.201 total time= 5.5min\n",
      "[CV 4/5] END svc__C=0.1, svc__class_weight=balanced, svc__degree=3, svc__gamma=auto, svc__kernel=sigmoid;, score=0.398 total time= 5.5min\n",
      "[CV 5/5] END svc__C=0.1, svc__class_weight=balanced, svc__degree=3, svc__gamma=auto, svc__kernel=sigmoid;, score=0.398 total time= 5.5min\n",
      "[CV 3/5] END svc__C=0.1, svc__class_weight=balanced, svc__degree=4, svc__gamma=scale, svc__kernel=linear;, score=0.725 total time= 3.5min\n",
      "[CV 2/5] END svc__C=0.1, svc__class_weight=balanced, svc__degree=4, svc__gamma=scale, svc__kernel=linear;, score=0.724 total time= 3.5min\n",
      "[CV 4/5] END svc__C=0.1, svc__class_weight=balanced, svc__degree=4, svc__gamma=scale, svc__kernel=linear;, score=0.720 total time= 3.5min\n",
      "[CV 5/5] END svc__C=0.1, svc__class_weight=balanced, svc__degree=4, svc__gamma=scale, svc__kernel=linear;, score=0.723 total time= 3.5min\n",
      "[CV 1/5] END svc__C=0.1, svc__class_weight=balanced, svc__degree=4, svc__gamma=scale, svc__kernel=rbf;, score=0.745 total time= 3.5min\n",
      "[CV 2/5] END svc__C=0.1, svc__class_weight=balanced, svc__degree=4, svc__gamma=scale, svc__kernel=rbf;, score=0.743 total time= 3.5min\n",
      "[CV 4/5] END svc__C=0.1, svc__class_weight=balanced, svc__degree=4, svc__gamma=scale, svc__kernel=rbf;, score=0.746 total time= 3.4min\n",
      "[CV 3/5] END svc__C=0.1, svc__class_weight=balanced, svc__degree=4, svc__gamma=scale, svc__kernel=rbf;, score=0.744 total time= 3.5min\n",
      "[CV 5/5] END svc__C=0.1, svc__class_weight=balanced, svc__degree=4, svc__gamma=scale, svc__kernel=rbf;, score=0.741 total time= 3.5min\n",
      "[CV 2/5] END svc__C=0.1, svc__class_weight=balanced, svc__degree=4, svc__gamma=scale, svc__kernel=poly;, score=0.724 total time= 3.6min\n",
      "[CV 1/5] END svc__C=0.1, svc__class_weight=balanced, svc__degree=4, svc__gamma=scale, svc__kernel=poly;, score=0.727 total time= 3.6min\n",
      "[CV 2/5] END svc__C=0.1, svc__class_weight=balanced, svc__degree=4, svc__gamma=scale, svc__kernel=sigmoid;, score=0.734 total time= 3.2min\n",
      "[CV 1/5] END svc__C=0.1, svc__class_weight=balanced, svc__degree=4, svc__gamma=scale, svc__kernel=sigmoid;, score=0.738 total time= 3.2min\n",
      "[CV 3/5] END svc__C=0.1, svc__class_weight=balanced, svc__degree=4, svc__gamma=scale, svc__kernel=poly;, score=0.721 total time= 3.5min\n",
      "[CV 4/5] END svc__C=0.1, svc__class_weight=balanced, svc__degree=4, svc__gamma=scale, svc__kernel=poly;, score=0.722 total time= 3.5min\n",
      "[CV 5/5] END svc__C=0.1, svc__class_weight=balanced, svc__degree=4, svc__gamma=scale, svc__kernel=poly;, score=0.721 total time= 3.6min\n",
      "[CV 3/5] END svc__C=0.1, svc__class_weight=balanced, svc__degree=4, svc__gamma=scale, svc__kernel=sigmoid;, score=0.734 total time= 3.1min\n",
      "[CV 4/5] END svc__C=0.1, svc__class_weight=balanced, svc__degree=4, svc__gamma=scale, svc__kernel=sigmoid;, score=0.738 total time= 3.2min\n",
      "[CV 5/5] END svc__C=0.1, svc__class_weight=balanced, svc__degree=4, svc__gamma=scale, svc__kernel=sigmoid;, score=0.733 total time= 3.2min\n",
      "[CV 1/5] END svc__C=0.1, svc__class_weight=balanced, svc__degree=4, svc__gamma=auto, svc__kernel=linear;, score=0.732 total time= 3.5min\n",
      "[CV 2/5] END svc__C=0.1, svc__class_weight=balanced, svc__degree=4, svc__gamma=auto, svc__kernel=linear;, score=0.724 total time= 3.5min\n",
      "[CV 3/5] END svc__C=0.1, svc__class_weight=balanced, svc__degree=4, svc__gamma=auto, svc__kernel=linear;, score=0.725 total time= 3.4min\n",
      "[CV 4/5] END svc__C=0.1, svc__class_weight=balanced, svc__degree=4, svc__gamma=auto, svc__kernel=linear;, score=0.720 total time= 3.4min\n",
      "[CV 5/5] END svc__C=0.1, svc__class_weight=balanced, svc__degree=4, svc__gamma=auto, svc__kernel=linear;, score=0.723 total time= 3.5min\n",
      "[CV 1/5] END svc__C=0.1, svc__class_weight=balanced, svc__degree=4, svc__gamma=auto, svc__kernel=rbf;, score=0.201 total time= 5.7min\n",
      "[CV 1/5] END svc__C=0.1, svc__class_weight=balanced, svc__degree=4, svc__gamma=auto, svc__kernel=poly;, score=0.201 total time= 5.3min\n",
      "[CV 3/5] END svc__C=0.1, svc__class_weight=balanced, svc__degree=4, svc__gamma=auto, svc__kernel=rbf;, score=0.201 total time= 5.7min\n",
      "[CV 2/5] END svc__C=0.1, svc__class_weight=balanced, svc__degree=4, svc__gamma=auto, svc__kernel=rbf;, score=0.201 total time= 5.7min\n",
      "[CV 2/5] END svc__C=0.1, svc__class_weight=balanced, svc__degree=4, svc__gamma=auto, svc__kernel=poly;, score=0.201 total time= 5.3min\n",
      "[CV 3/5] END svc__C=0.1, svc__class_weight=balanced, svc__degree=4, svc__gamma=auto, svc__kernel=poly;, score=0.201 total time= 5.3min\n",
      "[CV 4/5] END svc__C=0.1, svc__class_weight=balanced, svc__degree=4, svc__gamma=auto, svc__kernel=rbf;, score=0.398 total time= 5.7min\n",
      "[CV 5/5] END svc__C=0.1, svc__class_weight=balanced, svc__degree=4, svc__gamma=auto, svc__kernel=rbf;, score=0.398 total time= 5.7min\n",
      "[CV 1/5] END svc__C=0.1, svc__class_weight=None, svc__degree=2, svc__gamma=scale, svc__kernel=linear;, score=0.745 total time= 3.0min\n",
      "[CV 4/5] END svc__C=0.1, svc__class_weight=balanced, svc__degree=4, svc__gamma=auto, svc__kernel=poly;, score=0.398 total time= 5.3min\n",
      "[CV 5/5] END svc__C=0.1, svc__class_weight=balanced, svc__degree=4, svc__gamma=auto, svc__kernel=poly;, score=0.398 total time= 5.3min\n",
      "[CV 1/5] END svc__C=0.1, svc__class_weight=balanced, svc__degree=4, svc__gamma=auto, svc__kernel=sigmoid;, score=0.201 total time= 5.3min\n",
      "[CV 3/5] END svc__C=0.1, svc__class_weight=balanced, svc__degree=4, svc__gamma=auto, svc__kernel=sigmoid;, score=0.201 total time= 5.3min\n",
      "[CV 2/5] END svc__C=0.1, svc__class_weight=balanced, svc__degree=4, svc__gamma=auto, svc__kernel=sigmoid;, score=0.201 total time= 5.4min\n",
      "[CV 4/5] END svc__C=0.1, svc__class_weight=balanced, svc__degree=4, svc__gamma=auto, svc__kernel=sigmoid;, score=0.398 total time= 5.3min\n",
      "[CV 2/5] END svc__C=0.1, svc__class_weight=None, svc__degree=2, svc__gamma=scale, svc__kernel=linear;, score=0.740 total time= 3.0min\n",
      "[CV 5/5] END svc__C=0.1, svc__class_weight=balanced, svc__degree=4, svc__gamma=auto, svc__kernel=sigmoid;, score=0.398 total time= 5.3min\n",
      "[CV 3/5] END svc__C=0.1, svc__class_weight=None, svc__degree=2, svc__gamma=scale, svc__kernel=linear;, score=0.743 total time= 3.0min\n",
      "[CV 4/5] END svc__C=0.1, svc__class_weight=None, svc__degree=2, svc__gamma=scale, svc__kernel=linear;, score=0.744 total time= 3.0min\n",
      "[CV 5/5] END svc__C=0.1, svc__class_weight=None, svc__degree=2, svc__gamma=scale, svc__kernel=linear;, score=0.751 total time= 3.0min\n",
      "[CV 1/5] END svc__C=0.1, svc__class_weight=None, svc__degree=2, svc__gamma=scale, svc__kernel=rbf;, score=0.762 total time= 3.0min\n",
      "[CV 2/5] END svc__C=0.1, svc__class_weight=None, svc__degree=2, svc__gamma=scale, svc__kernel=rbf;, score=0.754 total time= 3.0min\n",
      "[CV 3/5] END svc__C=0.1, svc__class_weight=None, svc__degree=2, svc__gamma=scale, svc__kernel=rbf;, score=0.766 total time= 2.9min\n",
      "[CV 4/5] END svc__C=0.1, svc__class_weight=None, svc__degree=2, svc__gamma=scale, svc__kernel=rbf;, score=0.761 total time= 2.9min\n",
      "[CV 5/5] END svc__C=0.1, svc__class_weight=None, svc__degree=2, svc__gamma=scale, svc__kernel=rbf;, score=0.764 total time= 2.9min\n",
      "[CV 1/5] END svc__C=0.1, svc__class_weight=None, svc__degree=2, svc__gamma=scale, svc__kernel=poly;, score=0.763 total time= 2.7min\n",
      "[CV 2/5] END svc__C=0.1, svc__class_weight=None, svc__degree=2, svc__gamma=scale, svc__kernel=poly;, score=0.760 total time= 2.7min\n",
      "[CV 3/5] END svc__C=0.1, svc__class_weight=None, svc__degree=2, svc__gamma=scale, svc__kernel=poly;, score=0.763 total time= 2.6min\n",
      "[CV 4/5] END svc__C=0.1, svc__class_weight=None, svc__degree=2, svc__gamma=scale, svc__kernel=poly;, score=0.760 total time= 2.6min\n",
      "[CV 5/5] END svc__C=0.1, svc__class_weight=None, svc__degree=2, svc__gamma=scale, svc__kernel=poly;, score=0.762 total time= 2.7min\n",
      "[CV 1/5] END svc__C=0.1, svc__class_weight=None, svc__degree=2, svc__gamma=scale, svc__kernel=sigmoid;, score=0.754 total time= 2.8min\n",
      "[CV 2/5] END svc__C=0.1, svc__class_weight=None, svc__degree=2, svc__gamma=scale, svc__kernel=sigmoid;, score=0.763 total time= 2.8min\n",
      "[CV 3/5] END svc__C=0.1, svc__class_weight=None, svc__degree=2, svc__gamma=scale, svc__kernel=sigmoid;, score=0.761 total time= 2.8min\n",
      "[CV 4/5] END svc__C=0.1, svc__class_weight=None, svc__degree=2, svc__gamma=scale, svc__kernel=sigmoid;, score=0.758 total time= 2.8min\n",
      "[CV 5/5] END svc__C=0.1, svc__class_weight=None, svc__degree=2, svc__gamma=scale, svc__kernel=sigmoid;, score=0.764 total time= 2.8min\n",
      "[CV 1/5] END svc__C=0.1, svc__class_weight=None, svc__degree=2, svc__gamma=auto, svc__kernel=linear;, score=0.745 total time= 3.0min\n",
      "[CV 2/5] END svc__C=0.1, svc__class_weight=None, svc__degree=2, svc__gamma=auto, svc__kernel=linear;, score=0.740 total time= 3.0min\n",
      "[CV 3/5] END svc__C=0.1, svc__class_weight=None, svc__degree=2, svc__gamma=auto, svc__kernel=linear;, score=0.743 total time= 3.0min\n",
      "[CV 4/5] END svc__C=0.1, svc__class_weight=None, svc__degree=2, svc__gamma=auto, svc__kernel=linear;, score=0.744 total time= 3.0min\n",
      "[CV 5/5] END svc__C=0.1, svc__class_weight=None, svc__degree=2, svc__gamma=auto, svc__kernel=linear;, score=0.751 total time= 3.0min\n",
      "[CV 1/5] END svc__C=0.1, svc__class_weight=None, svc__degree=2, svc__gamma=auto, svc__kernel=rbf;, score=0.402 total time= 4.9min\n",
      "[CV 1/5] END svc__C=0.1, svc__class_weight=None, svc__degree=3, svc__gamma=scale, svc__kernel=linear;, score=0.745 total time= 3.0min\n",
      "[CV 1/5] END svc__C=0.1, svc__class_weight=None, svc__degree=2, svc__gamma=auto, svc__kernel=poly;, score=0.402 total time= 4.4min\n",
      "[CV 2/5] END svc__C=0.1, svc__class_weight=None, svc__degree=2, svc__gamma=auto, svc__kernel=rbf;, score=0.401 total time= 4.9min\n",
      "[CV 3/5] END svc__C=0.1, svc__class_weight=None, svc__degree=2, svc__gamma=auto, svc__kernel=rbf;, score=0.401 total time= 4.9min\n",
      "[CV 4/5] END svc__C=0.1, svc__class_weight=None, svc__degree=2, svc__gamma=auto, svc__kernel=rbf;, score=0.402 total time= 4.9min\n",
      "[CV 2/5] END svc__C=0.1, svc__class_weight=None, svc__degree=2, svc__gamma=auto, svc__kernel=poly;, score=0.401 total time= 4.4min\n",
      "[CV 3/5] END svc__C=0.1, svc__class_weight=None, svc__degree=2, svc__gamma=auto, svc__kernel=poly;, score=0.401 total time= 4.4min\n",
      "[CV 4/5] END svc__C=0.1, svc__class_weight=None, svc__degree=2, svc__gamma=auto, svc__kernel=poly;, score=0.402 total time= 4.4min\n",
      "[CV 5/5] END svc__C=0.1, svc__class_weight=None, svc__degree=2, svc__gamma=auto, svc__kernel=poly;, score=0.402 total time= 4.4min\n",
      "[CV 5/5] END svc__C=0.1, svc__class_weight=None, svc__degree=2, svc__gamma=auto, svc__kernel=rbf;, score=0.402 total time= 4.9min\n",
      "[CV 1/5] END svc__C=0.1, svc__class_weight=None, svc__degree=2, svc__gamma=auto, svc__kernel=sigmoid;, score=0.402 total time= 4.6min\n",
      "[CV 2/5] END svc__C=0.1, svc__class_weight=None, svc__degree=2, svc__gamma=auto, svc__kernel=sigmoid;, score=0.401 total time= 4.6min\n",
      "[CV 3/5] END svc__C=0.1, svc__class_weight=None, svc__degree=2, svc__gamma=auto, svc__kernel=sigmoid;, score=0.401 total time= 4.6min\n",
      "[CV 4/5] END svc__C=0.1, svc__class_weight=None, svc__degree=2, svc__gamma=auto, svc__kernel=sigmoid;, score=0.402 total time= 4.5min\n",
      "[CV 5/5] END svc__C=0.1, svc__class_weight=None, svc__degree=2, svc__gamma=auto, svc__kernel=sigmoid;, score=0.402 total time= 4.6min\n",
      "[CV 2/5] END svc__C=0.1, svc__class_weight=None, svc__degree=3, svc__gamma=scale, svc__kernel=linear;, score=0.740 total time= 3.0min\n",
      "[CV 3/5] END svc__C=0.1, svc__class_weight=None, svc__degree=3, svc__gamma=scale, svc__kernel=linear;, score=0.743 total time= 3.0min\n",
      "[CV 4/5] END svc__C=0.1, svc__class_weight=None, svc__degree=3, svc__gamma=scale, svc__kernel=linear;, score=0.744 total time= 2.9min\n",
      "[CV 1/5] END svc__C=0.1, svc__class_weight=None, svc__degree=3, svc__gamma=scale, svc__kernel=rbf;, score=0.762 total time= 2.9min\n",
      "[CV 2/5] END svc__C=0.1, svc__class_weight=None, svc__degree=3, svc__gamma=scale, svc__kernel=rbf;, score=0.754 total time= 2.9min\n",
      "[CV 5/5] END svc__C=0.1, svc__class_weight=None, svc__degree=3, svc__gamma=scale, svc__kernel=linear;, score=0.751 total time= 2.9min\n",
      "[CV 3/5] END svc__C=0.1, svc__class_weight=None, svc__degree=3, svc__gamma=scale, svc__kernel=rbf;, score=0.766 total time= 2.9min\n",
      "[CV 1/5] END svc__C=0.1, svc__class_weight=None, svc__degree=3, svc__gamma=scale, svc__kernel=poly;, score=0.753 total time= 2.8min\n",
      "[CV 4/5] END svc__C=0.1, svc__class_weight=None, svc__degree=3, svc__gamma=scale, svc__kernel=rbf;, score=0.761 total time= 2.9min\n",
      "[CV 5/5] END svc__C=0.1, svc__class_weight=None, svc__degree=3, svc__gamma=scale, svc__kernel=rbf;, score=0.764 total time= 2.9min\n",
      "[CV 2/5] END svc__C=0.1, svc__class_weight=None, svc__degree=3, svc__gamma=scale, svc__kernel=poly;, score=0.748 total time= 2.8min\n",
      "[CV 3/5] END svc__C=0.1, svc__class_weight=None, svc__degree=3, svc__gamma=scale, svc__kernel=poly;, score=0.753 total time= 2.7min\n",
      "[CV 4/5] END svc__C=0.1, svc__class_weight=None, svc__degree=3, svc__gamma=scale, svc__kernel=poly;, score=0.750 total time= 2.7min\n",
      "[CV 1/5] END svc__C=0.1, svc__class_weight=None, svc__degree=3, svc__gamma=scale, svc__kernel=sigmoid;, score=0.754 total time= 2.7min\n",
      "[CV 2/5] END svc__C=0.1, svc__class_weight=None, svc__degree=3, svc__gamma=scale, svc__kernel=sigmoid;, score=0.763 total time= 2.7min\n",
      "[CV 5/5] END svc__C=0.1, svc__class_weight=None, svc__degree=3, svc__gamma=scale, svc__kernel=poly;, score=0.752 total time= 2.7min\n",
      "[CV 3/5] END svc__C=0.1, svc__class_weight=None, svc__degree=3, svc__gamma=scale, svc__kernel=sigmoid;, score=0.761 total time= 2.7min\n",
      "[CV 4/5] END svc__C=0.1, svc__class_weight=None, svc__degree=3, svc__gamma=scale, svc__kernel=sigmoid;, score=0.758 total time= 2.7min\n",
      "[CV 5/5] END svc__C=0.1, svc__class_weight=None, svc__degree=3, svc__gamma=scale, svc__kernel=sigmoid;, score=0.764 total time= 2.7min\n",
      "[CV 2/5] END svc__C=0.1, svc__class_weight=None, svc__degree=3, svc__gamma=auto, svc__kernel=linear;, score=0.740 total time= 2.9min\n",
      "[CV 1/5] END svc__C=0.1, svc__class_weight=None, svc__degree=3, svc__gamma=auto, svc__kernel=linear;, score=0.745 total time= 2.9min\n",
      "[CV 3/5] END svc__C=0.1, svc__class_weight=None, svc__degree=3, svc__gamma=auto, svc__kernel=linear;, score=0.743 total time= 2.9min\n",
      "[CV 4/5] END svc__C=0.1, svc__class_weight=None, svc__degree=3, svc__gamma=auto, svc__kernel=linear;, score=0.744 total time= 2.9min\n"
     ]
    },
    {
     "name": "stderr",
     "output_type": "stream",
     "text": [
      "/Users/sairindhri/yelp-data-analysis2/venv/lib/python3.11/site-packages/joblib/externals/loky/process_executor.py:700: UserWarning: A worker stopped while some jobs were given to the executor. This can be caused by a too short worker timeout or by a memory leak.\n",
      "  warnings.warn(\n"
     ]
    },
    {
     "name": "stdout",
     "output_type": "stream",
     "text": [
      "[CV 5/5] END svc__C=0.1, svc__class_weight=None, svc__degree=3, svc__gamma=auto, svc__kernel=linear;, score=0.751 total time= 2.9min\n",
      "[CV 1/5] END svc__C=0.1, svc__class_weight=None, svc__degree=3, svc__gamma=auto, svc__kernel=rbf;, score=0.402 total time= 4.7min\n",
      "[CV 1/5] END svc__C=0.1, svc__class_weight=None, svc__degree=3, svc__gamma=auto, svc__kernel=poly;, score=0.402 total time= 4.3min\n",
      "[CV 2/5] END svc__C=0.1, svc__class_weight=None, svc__degree=3, svc__gamma=auto, svc__kernel=rbf;, score=0.401 total time= 4.7min\n",
      "[CV 2/5] END svc__C=0.1, svc__class_weight=None, svc__degree=3, svc__gamma=auto, svc__kernel=poly;, score=0.401 total time= 4.3min\n",
      "[CV 3/5] END svc__C=0.1, svc__class_weight=None, svc__degree=3, svc__gamma=auto, svc__kernel=poly;, score=0.401 total time= 4.3min\n",
      "[CV 3/5] END svc__C=0.1, svc__class_weight=None, svc__degree=3, svc__gamma=auto, svc__kernel=rbf;, score=0.401 total time= 4.7min\n",
      "[CV 4/5] END svc__C=0.1, svc__class_weight=None, svc__degree=3, svc__gamma=auto, svc__kernel=rbf;, score=0.402 total time= 4.7min\n",
      "[CV 5/5] END svc__C=0.1, svc__class_weight=None, svc__degree=3, svc__gamma=auto, svc__kernel=rbf;, score=0.402 total time= 4.7min\n",
      "[CV 4/5] END svc__C=0.1, svc__class_weight=None, svc__degree=3, svc__gamma=auto, svc__kernel=poly;, score=0.402 total time= 4.2min\n",
      "[CV 1/5] END svc__C=0.1, svc__class_weight=None, svc__degree=4, svc__gamma=scale, svc__kernel=linear;, score=0.745 total time= 2.9min\n",
      "[CV 5/5] END svc__C=0.1, svc__class_weight=None, svc__degree=3, svc__gamma=auto, svc__kernel=poly;, score=0.402 total time= 4.3min\n",
      "[CV 1/5] END svc__C=0.1, svc__class_weight=None, svc__degree=3, svc__gamma=auto, svc__kernel=sigmoid;, score=0.402 total time= 4.4min\n",
      "[CV 2/5] END svc__C=0.1, svc__class_weight=None, svc__degree=3, svc__gamma=auto, svc__kernel=sigmoid;, score=0.401 total time= 4.4min\n",
      "[CV 3/5] END svc__C=0.1, svc__class_weight=None, svc__degree=3, svc__gamma=auto, svc__kernel=sigmoid;, score=0.401 total time= 4.4min\n",
      "[CV 4/5] END svc__C=0.1, svc__class_weight=None, svc__degree=3, svc__gamma=auto, svc__kernel=sigmoid;, score=0.402 total time= 4.4min\n",
      "[CV 5/5] END svc__C=0.1, svc__class_weight=None, svc__degree=3, svc__gamma=auto, svc__kernel=sigmoid;, score=0.402 total time= 4.4min\n",
      "[CV 2/5] END svc__C=0.1, svc__class_weight=None, svc__degree=4, svc__gamma=scale, svc__kernel=linear;, score=0.740 total time= 2.9min\n",
      "[CV 1/5] END svc__C=0.1, svc__class_weight=None, svc__degree=4, svc__gamma=scale, svc__kernel=rbf;, score=0.762 total time= 2.9min\n",
      "[CV 3/5] END svc__C=0.1, svc__class_weight=None, svc__degree=4, svc__gamma=scale, svc__kernel=linear;, score=0.743 total time= 2.9min\n",
      "[CV 2/5] END svc__C=0.1, svc__class_weight=None, svc__degree=4, svc__gamma=scale, svc__kernel=rbf;, score=0.754 total time= 2.8min\n",
      "[CV 4/5] END svc__C=0.1, svc__class_weight=None, svc__degree=4, svc__gamma=scale, svc__kernel=linear;, score=0.744 total time= 2.9min\n",
      "[CV 5/5] END svc__C=0.1, svc__class_weight=None, svc__degree=4, svc__gamma=scale, svc__kernel=linear;, score=0.751 total time= 2.9min\n",
      "[CV 3/5] END svc__C=0.1, svc__class_weight=None, svc__degree=4, svc__gamma=scale, svc__kernel=rbf;, score=0.766 total time= 2.8min\n",
      "[CV 4/5] END svc__C=0.1, svc__class_weight=None, svc__degree=4, svc__gamma=scale, svc__kernel=rbf;, score=0.761 total time= 2.8min\n",
      "[CV 5/5] END svc__C=0.1, svc__class_weight=None, svc__degree=4, svc__gamma=scale, svc__kernel=rbf;, score=0.764 total time= 2.8min\n",
      "[CV 1/5] END svc__C=0.1, svc__class_weight=None, svc__degree=4, svc__gamma=scale, svc__kernel=poly;, score=0.743 total time= 3.0min\n",
      "[CV 2/5] END svc__C=0.1, svc__class_weight=None, svc__degree=4, svc__gamma=scale, svc__kernel=poly;, score=0.738 total time= 3.0min\n",
      "[CV 3/5] END svc__C=0.1, svc__class_weight=None, svc__degree=4, svc__gamma=scale, svc__kernel=poly;, score=0.741 total time= 3.0min\n",
      "[CV 2/5] END svc__C=0.1, svc__class_weight=None, svc__degree=4, svc__gamma=scale, svc__kernel=sigmoid;, score=0.763 total time= 2.7min\n",
      "[CV 1/5] END svc__C=0.1, svc__class_weight=None, svc__degree=4, svc__gamma=scale, svc__kernel=sigmoid;, score=0.754 total time= 2.7min\n",
      "[CV 4/5] END svc__C=0.1, svc__class_weight=None, svc__degree=4, svc__gamma=scale, svc__kernel=poly;, score=0.733 total time= 3.0min\n",
      "[CV 5/5] END svc__C=0.1, svc__class_weight=None, svc__degree=4, svc__gamma=scale, svc__kernel=poly;, score=0.740 total time= 3.0min\n",
      "[CV 3/5] END svc__C=0.1, svc__class_weight=None, svc__degree=4, svc__gamma=scale, svc__kernel=sigmoid;, score=0.761 total time= 2.7min\n",
      "[CV 4/5] END svc__C=0.1, svc__class_weight=None, svc__degree=4, svc__gamma=scale, svc__kernel=sigmoid;, score=0.758 total time= 2.7min\n",
      "[CV 5/5] END svc__C=0.1, svc__class_weight=None, svc__degree=4, svc__gamma=scale, svc__kernel=sigmoid;, score=0.764 total time= 2.7min\n",
      "[CV 1/5] END svc__C=0.1, svc__class_weight=None, svc__degree=4, svc__gamma=auto, svc__kernel=linear;, score=0.745 total time= 2.9min\n",
      "[CV 2/5] END svc__C=0.1, svc__class_weight=None, svc__degree=4, svc__gamma=auto, svc__kernel=linear;, score=0.740 total time= 2.9min\n",
      "[CV 3/5] END svc__C=0.1, svc__class_weight=None, svc__degree=4, svc__gamma=auto, svc__kernel=linear;, score=0.743 total time= 2.9min\n",
      "[CV 4/5] END svc__C=0.1, svc__class_weight=None, svc__degree=4, svc__gamma=auto, svc__kernel=linear;, score=0.744 total time= 2.9min\n",
      "[CV 5/5] END svc__C=0.1, svc__class_weight=None, svc__degree=4, svc__gamma=auto, svc__kernel=linear;, score=0.751 total time= 2.9min\n",
      "[CV 1/5] END svc__C=0.1, svc__class_weight=None, svc__degree=4, svc__gamma=auto, svc__kernel=rbf;, score=0.402 total time= 4.7min\n",
      "[CV 1/5] END svc__C=1, svc__class_weight=balanced, svc__degree=2, svc__gamma=scale, svc__kernel=linear;, score=0.758 total time= 2.3min\n",
      "[CV 2/5] END svc__C=0.1, svc__class_weight=None, svc__degree=4, svc__gamma=auto, svc__kernel=rbf;, score=0.401 total time= 4.7min\n",
      "[CV 3/5] END svc__C=0.1, svc__class_weight=None, svc__degree=4, svc__gamma=auto, svc__kernel=rbf;, score=0.401 total time= 4.7min\n",
      "[CV 1/5] END svc__C=0.1, svc__class_weight=None, svc__degree=4, svc__gamma=auto, svc__kernel=poly;, score=0.402 total time= 4.3min\n",
      "[CV 2/5] END svc__C=0.1, svc__class_weight=None, svc__degree=4, svc__gamma=auto, svc__kernel=poly;, score=0.401 total time= 4.3min\n",
      "[CV 3/5] END svc__C=0.1, svc__class_weight=None, svc__degree=4, svc__gamma=auto, svc__kernel=poly;, score=0.401 total time= 4.3min\n",
      "[CV 4/5] END svc__C=0.1, svc__class_weight=None, svc__degree=4, svc__gamma=auto, svc__kernel=poly;, score=0.402 total time= 4.3min\n",
      "[CV 5/5] END svc__C=0.1, svc__class_weight=None, svc__degree=4, svc__gamma=auto, svc__kernel=poly;, score=0.402 total time= 4.3min\n",
      "[CV 4/5] END svc__C=0.1, svc__class_weight=None, svc__degree=4, svc__gamma=auto, svc__kernel=rbf;, score=0.402 total time= 4.7min\n",
      "[CV 5/5] END svc__C=0.1, svc__class_weight=None, svc__degree=4, svc__gamma=auto, svc__kernel=rbf;, score=0.402 total time= 4.7min\n",
      "[CV 1/5] END svc__C=0.1, svc__class_weight=None, svc__degree=4, svc__gamma=auto, svc__kernel=sigmoid;, score=0.402 total time= 4.4min\n",
      "[CV 2/5] END svc__C=0.1, svc__class_weight=None, svc__degree=4, svc__gamma=auto, svc__kernel=sigmoid;, score=0.401 total time= 4.4min\n",
      "[CV 3/5] END svc__C=0.1, svc__class_weight=None, svc__degree=4, svc__gamma=auto, svc__kernel=sigmoid;, score=0.401 total time= 4.4min\n",
      "[CV 4/5] END svc__C=0.1, svc__class_weight=None, svc__degree=4, svc__gamma=auto, svc__kernel=sigmoid;, score=0.402 total time= 4.4min\n",
      "[CV 5/5] END svc__C=0.1, svc__class_weight=None, svc__degree=4, svc__gamma=auto, svc__kernel=sigmoid;, score=0.402 total time= 4.4min\n",
      "[CV 2/5] END svc__C=1, svc__class_weight=balanced, svc__degree=2, svc__gamma=scale, svc__kernel=linear;, score=0.756 total time= 2.4min\n",
      "[CV 3/5] END svc__C=1, svc__class_weight=balanced, svc__degree=2, svc__gamma=scale, svc__kernel=linear;, score=0.739 total time= 2.4min\n",
      "[CV 4/5] END svc__C=1, svc__class_weight=balanced, svc__degree=2, svc__gamma=scale, svc__kernel=linear;, score=0.760 total time= 2.4min\n",
      "[CV 5/5] END svc__C=1, svc__class_weight=balanced, svc__degree=2, svc__gamma=scale, svc__kernel=linear;, score=0.750 total time= 2.4min\n",
      "[CV 1/5] END svc__C=1, svc__class_weight=balanced, svc__degree=2, svc__gamma=scale, svc__kernel=rbf;, score=0.763 total time= 2.5min\n",
      "[CV 1/5] END svc__C=1, svc__class_weight=balanced, svc__degree=2, svc__gamma=scale, svc__kernel=poly;, score=0.761 total time= 2.2min\n",
      "[CV 2/5] END svc__C=1, svc__class_weight=balanced, svc__degree=2, svc__gamma=scale, svc__kernel=poly;, score=0.751 total time= 2.2min\n",
      "[CV 3/5] END svc__C=1, svc__class_weight=balanced, svc__degree=2, svc__gamma=scale, svc__kernel=rbf;, score=0.753 total time= 2.5min\n",
      "[CV 2/5] END svc__C=1, svc__class_weight=balanced, svc__degree=2, svc__gamma=scale, svc__kernel=rbf;, score=0.755 total time= 2.5min\n",
      "[CV 1/5] END svc__C=1, svc__class_weight=balanced, svc__degree=2, svc__gamma=scale, svc__kernel=sigmoid;, score=0.690 total time= 2.0min\n",
      "[CV 3/5] END svc__C=1, svc__class_weight=balanced, svc__degree=2, svc__gamma=scale, svc__kernel=poly;, score=0.757 total time= 2.2min\n",
      "[CV 4/5] END svc__C=1, svc__class_weight=balanced, svc__degree=2, svc__gamma=scale, svc__kernel=rbf;, score=0.765 total time= 2.5min\n",
      "[CV 5/5] END svc__C=1, svc__class_weight=balanced, svc__degree=2, svc__gamma=scale, svc__kernel=rbf;, score=0.757 total time= 2.5min\n",
      "[CV 2/5] END svc__C=1, svc__class_weight=balanced, svc__degree=2, svc__gamma=scale, svc__kernel=sigmoid;, score=0.693 total time= 2.1min\n",
      "[CV 4/5] END svc__C=1, svc__class_weight=balanced, svc__degree=2, svc__gamma=scale, svc__kernel=poly;, score=0.761 total time= 2.2min\n",
      "[CV 5/5] END svc__C=1, svc__class_weight=balanced, svc__degree=2, svc__gamma=scale, svc__kernel=poly;, score=0.754 total time= 2.2min\n",
      "[CV 3/5] END svc__C=1, svc__class_weight=balanced, svc__degree=2, svc__gamma=scale, svc__kernel=sigmoid;, score=0.688 total time= 2.2min\n",
      "[CV 4/5] END svc__C=1, svc__class_weight=balanced, svc__degree=2, svc__gamma=scale, svc__kernel=sigmoid;, score=0.695 total time= 2.2min\n",
      "[CV 5/5] END svc__C=1, svc__class_weight=balanced, svc__degree=2, svc__gamma=scale, svc__kernel=sigmoid;, score=0.711 total time= 2.2min\n",
      "[CV 1/5] END svc__C=1, svc__class_weight=balanced, svc__degree=2, svc__gamma=auto, svc__kernel=linear;, score=0.758 total time= 2.4min\n",
      "[CV 2/5] END svc__C=1, svc__class_weight=balanced, svc__degree=2, svc__gamma=auto, svc__kernel=linear;, score=0.756 total time= 2.4min\n",
      "[CV 3/5] END svc__C=1, svc__class_weight=balanced, svc__degree=2, svc__gamma=auto, svc__kernel=linear;, score=0.739 total time= 2.4min\n",
      "[CV 4/5] END svc__C=1, svc__class_weight=balanced, svc__degree=2, svc__gamma=auto, svc__kernel=linear;, score=0.760 total time= 2.4min\n",
      "[CV 5/5] END svc__C=1, svc__class_weight=balanced, svc__degree=2, svc__gamma=auto, svc__kernel=linear;, score=0.750 total time= 2.4min\n",
      "[CV 1/5] END svc__C=1, svc__class_weight=balanced, svc__degree=3, svc__gamma=scale, svc__kernel=linear;, score=0.758 total time= 2.4min\n",
      "[CV 1/5] END svc__C=1, svc__class_weight=balanced, svc__degree=2, svc__gamma=auto, svc__kernel=poly;, score=0.402 total time= 5.1min\n",
      "[CV 2/5] END svc__C=1, svc__class_weight=balanced, svc__degree=2, svc__gamma=auto, svc__kernel=poly;, score=0.401 total time= 5.1min\n",
      "[CV 3/5] END svc__C=1, svc__class_weight=balanced, svc__degree=2, svc__gamma=auto, svc__kernel=poly;, score=0.401 total time= 5.1min\n",
      "[CV 1/5] END svc__C=1, svc__class_weight=balanced, svc__degree=2, svc__gamma=auto, svc__kernel=rbf;, score=0.706 total time= 5.5min\n",
      "[CV 2/5] END svc__C=1, svc__class_weight=balanced, svc__degree=2, svc__gamma=auto, svc__kernel=rbf;, score=0.505 total time= 5.5min\n",
      "[CV 3/5] END svc__C=1, svc__class_weight=balanced, svc__degree=2, svc__gamma=auto, svc__kernel=rbf;, score=0.524 total time= 5.5min\n",
      "[CV 4/5] END svc__C=1, svc__class_weight=balanced, svc__degree=2, svc__gamma=auto, svc__kernel=poly;, score=0.402 total time= 5.1min\n",
      "[CV 4/5] END svc__C=1, svc__class_weight=balanced, svc__degree=2, svc__gamma=auto, svc__kernel=rbf;, score=0.702 total time= 5.4min\n",
      "[CV 5/5] END svc__C=1, svc__class_weight=balanced, svc__degree=2, svc__gamma=auto, svc__kernel=rbf;, score=0.716 total time= 5.5min\n",
      "[CV 5/5] END svc__C=1, svc__class_weight=balanced, svc__degree=2, svc__gamma=auto, svc__kernel=poly;, score=0.402 total time= 5.1min\n",
      "[CV 1/5] END svc__C=1, svc__class_weight=balanced, svc__degree=2, svc__gamma=auto, svc__kernel=sigmoid;, score=0.609 total time= 5.1min\n",
      "[CV 2/5] END svc__C=1, svc__class_weight=balanced, svc__degree=2, svc__gamma=auto, svc__kernel=sigmoid;, score=0.621 total time= 5.2min\n",
      "[CV 2/5] END svc__C=1, svc__class_weight=balanced, svc__degree=3, svc__gamma=scale, svc__kernel=linear;, score=0.756 total time= 2.4min\n",
      "[CV 3/5] END svc__C=1, svc__class_weight=balanced, svc__degree=2, svc__gamma=auto, svc__kernel=sigmoid;, score=0.616 total time= 5.2min\n",
      "[CV 4/5] END svc__C=1, svc__class_weight=balanced, svc__degree=2, svc__gamma=auto, svc__kernel=sigmoid;, score=0.467 total time= 5.2min\n",
      "[CV 5/5] END svc__C=1, svc__class_weight=balanced, svc__degree=2, svc__gamma=auto, svc__kernel=sigmoid;, score=0.612 total time= 5.2min\n",
      "[CV 3/5] END svc__C=1, svc__class_weight=balanced, svc__degree=3, svc__gamma=scale, svc__kernel=linear;, score=0.739 total time= 2.5min\n",
      "[CV 4/5] END svc__C=1, svc__class_weight=balanced, svc__degree=3, svc__gamma=scale, svc__kernel=linear;, score=0.760 total time= 2.5min\n",
      "[CV 5/5] END svc__C=1, svc__class_weight=balanced, svc__degree=3, svc__gamma=scale, svc__kernel=linear;, score=0.750 total time= 2.5min\n",
      "[CV 1/5] END svc__C=1, svc__class_weight=balanced, svc__degree=3, svc__gamma=scale, svc__kernel=rbf;, score=0.763 total time= 2.6min\n",
      "[CV 1/5] END svc__C=1, svc__class_weight=balanced, svc__degree=3, svc__gamma=scale, svc__kernel=poly;, score=0.759 total time= 2.5min\n",
      "[CV 2/5] END svc__C=1, svc__class_weight=balanced, svc__degree=3, svc__gamma=scale, svc__kernel=rbf;, score=0.755 total time= 2.7min\n",
      "[CV 3/5] END svc__C=1, svc__class_weight=balanced, svc__degree=3, svc__gamma=scale, svc__kernel=rbf;, score=0.753 total time= 2.6min\n",
      "[CV 4/5] END svc__C=1, svc__class_weight=balanced, svc__degree=3, svc__gamma=scale, svc__kernel=rbf;, score=0.765 total time= 2.7min\n",
      "[CV 5/5] END svc__C=1, svc__class_weight=balanced, svc__degree=3, svc__gamma=scale, svc__kernel=rbf;, score=0.757 total time= 2.7min\n",
      "[CV 2/5] END svc__C=1, svc__class_weight=balanced, svc__degree=3, svc__gamma=scale, svc__kernel=poly;, score=0.755 total time= 2.5min\n",
      "[CV 3/5] END svc__C=1, svc__class_weight=balanced, svc__degree=3, svc__gamma=scale, svc__kernel=poly;, score=0.756 total time= 2.5min\n",
      "[CV 4/5] END svc__C=1, svc__class_weight=balanced, svc__degree=3, svc__gamma=scale, svc__kernel=poly;, score=0.760 total time= 2.5min\n",
      "[CV 1/5] END svc__C=1, svc__class_weight=balanced, svc__degree=3, svc__gamma=scale, svc__kernel=sigmoid;, score=0.690 total time= 2.1min\n",
      "[CV 5/5] END svc__C=1, svc__class_weight=balanced, svc__degree=3, svc__gamma=scale, svc__kernel=poly;, score=0.751 total time= 2.5min\n",
      "[CV 2/5] END svc__C=1, svc__class_weight=balanced, svc__degree=3, svc__gamma=scale, svc__kernel=sigmoid;, score=0.693 total time= 2.3min\n",
      "[CV 3/5] END svc__C=1, svc__class_weight=balanced, svc__degree=3, svc__gamma=scale, svc__kernel=sigmoid;, score=0.688 total time= 2.3min\n",
      "[CV 4/5] END svc__C=1, svc__class_weight=balanced, svc__degree=3, svc__gamma=scale, svc__kernel=sigmoid;, score=0.695 total time= 2.3min\n",
      "[CV 5/5] END svc__C=1, svc__class_weight=balanced, svc__degree=3, svc__gamma=scale, svc__kernel=sigmoid;, score=0.711 total time= 2.3min\n",
      "[CV 1/5] END svc__C=1, svc__class_weight=balanced, svc__degree=3, svc__gamma=auto, svc__kernel=linear;, score=0.758 total time= 2.5min\n",
      "[CV 2/5] END svc__C=1, svc__class_weight=balanced, svc__degree=3, svc__gamma=auto, svc__kernel=linear;, score=0.756 total time= 2.5min\n",
      "[CV 3/5] END svc__C=1, svc__class_weight=balanced, svc__degree=3, svc__gamma=auto, svc__kernel=linear;, score=0.739 total time= 2.5min\n",
      "[CV 4/5] END svc__C=1, svc__class_weight=balanced, svc__degree=3, svc__gamma=auto, svc__kernel=linear;, score=0.760 total time= 2.5min\n",
      "[CV 5/5] END svc__C=1, svc__class_weight=balanced, svc__degree=3, svc__gamma=auto, svc__kernel=linear;, score=0.750 total time= 2.5min\n",
      "[CV 1/5] END svc__C=1, svc__class_weight=balanced, svc__degree=4, svc__gamma=scale, svc__kernel=linear;, score=0.758 total time= 2.5min\n",
      "[CV 1/5] END svc__C=1, svc__class_weight=balanced, svc__degree=3, svc__gamma=auto, svc__kernel=rbf;, score=0.706 total time= 5.9min\n",
      "[CV 2/5] END svc__C=1, svc__class_weight=balanced, svc__degree=3, svc__gamma=auto, svc__kernel=rbf;, score=0.505 total time= 5.8min\n",
      "[CV 3/5] END svc__C=1, svc__class_weight=balanced, svc__degree=3, svc__gamma=auto, svc__kernel=rbf;, score=0.524 total time= 5.8min\n",
      "[CV 4/5] END svc__C=1, svc__class_weight=balanced, svc__degree=3, svc__gamma=auto, svc__kernel=rbf;, score=0.702 total time= 5.8min\n",
      "[CV 1/5] END svc__C=1, svc__class_weight=balanced, svc__degree=3, svc__gamma=auto, svc__kernel=poly;, score=0.402 total time= 5.5min\n",
      "[CV 2/5] END svc__C=1, svc__class_weight=balanced, svc__degree=3, svc__gamma=auto, svc__kernel=poly;, score=0.401 total time= 5.5min\n",
      "[CV 5/5] END svc__C=1, svc__class_weight=balanced, svc__degree=3, svc__gamma=auto, svc__kernel=rbf;, score=0.716 total time= 5.8min\n",
      "[CV 3/5] END svc__C=1, svc__class_weight=balanced, svc__degree=3, svc__gamma=auto, svc__kernel=poly;, score=0.401 total time= 5.5min\n",
      "[CV 4/5] END svc__C=1, svc__class_weight=balanced, svc__degree=3, svc__gamma=auto, svc__kernel=poly;, score=0.402 total time= 5.5min\n",
      "[CV 5/5] END svc__C=1, svc__class_weight=balanced, svc__degree=3, svc__gamma=auto, svc__kernel=poly;, score=0.402 total time= 5.5min\n",
      "[CV 2/5] END svc__C=1, svc__class_weight=balanced, svc__degree=4, svc__gamma=scale, svc__kernel=linear;, score=0.756 total time= 2.5min\n",
      "[CV 1/5] END svc__C=1, svc__class_weight=balanced, svc__degree=3, svc__gamma=auto, svc__kernel=sigmoid;, score=0.609 total time= 5.6min\n",
      "[CV 2/5] END svc__C=1, svc__class_weight=balanced, svc__degree=3, svc__gamma=auto, svc__kernel=sigmoid;, score=0.621 total time= 5.6min\n",
      "[CV 3/5] END svc__C=1, svc__class_weight=balanced, svc__degree=3, svc__gamma=auto, svc__kernel=sigmoid;, score=0.616 total time= 5.5min\n",
      "[CV 4/5] END svc__C=1, svc__class_weight=balanced, svc__degree=3, svc__gamma=auto, svc__kernel=sigmoid;, score=0.467 total time= 5.5min\n",
      "[CV 5/5] END svc__C=1, svc__class_weight=balanced, svc__degree=3, svc__gamma=auto, svc__kernel=sigmoid;, score=0.612 total time= 5.6min\n",
      "[CV 3/5] END svc__C=1, svc__class_weight=balanced, svc__degree=4, svc__gamma=scale, svc__kernel=linear;, score=0.739 total time= 2.6min\n",
      "[CV 4/5] END svc__C=1, svc__class_weight=balanced, svc__degree=4, svc__gamma=scale, svc__kernel=linear;, score=0.760 total time= 2.6min\n",
      "[CV 5/5] END svc__C=1, svc__class_weight=balanced, svc__degree=4, svc__gamma=scale, svc__kernel=linear;, score=0.750 total time= 2.6min\n",
      "[CV 1/5] END svc__C=1, svc__class_weight=balanced, svc__degree=4, svc__gamma=scale, svc__kernel=rbf;, score=0.763 total time= 2.8min\n",
      "[CV 2/5] END svc__C=1, svc__class_weight=balanced, svc__degree=4, svc__gamma=scale, svc__kernel=rbf;, score=0.755 total time= 2.7min\n",
      "[CV 3/5] END svc__C=1, svc__class_weight=balanced, svc__degree=4, svc__gamma=scale, svc__kernel=rbf;, score=0.753 total time= 2.7min\n",
      "[CV 4/5] END svc__C=1, svc__class_weight=balanced, svc__degree=4, svc__gamma=scale, svc__kernel=rbf;, score=0.765 total time= 2.7min\n",
      "[CV 5/5] END svc__C=1, svc__class_weight=balanced, svc__degree=4, svc__gamma=scale, svc__kernel=rbf;, score=0.757 total time= 2.7min\n",
      "[CV 1/5] END svc__C=1, svc__class_weight=balanced, svc__degree=4, svc__gamma=scale, svc__kernel=poly;, score=0.761 total time= 2.7min\n",
      "[CV 2/5] END svc__C=1, svc__class_weight=balanced, svc__degree=4, svc__gamma=scale, svc__kernel=poly;, score=0.757 total time= 2.7min\n",
      "[CV 1/5] END svc__C=1, svc__class_weight=balanced, svc__degree=4, svc__gamma=scale, svc__kernel=sigmoid;, score=0.690 total time= 2.2min\n",
      "[CV 3/5] END svc__C=1, svc__class_weight=balanced, svc__degree=4, svc__gamma=scale, svc__kernel=poly;, score=0.753 total time= 2.7min\n",
      "[CV 2/5] END svc__C=1, svc__class_weight=balanced, svc__degree=4, svc__gamma=scale, svc__kernel=sigmoid;, score=0.693 total time= 2.3min\n",
      "[CV 4/5] END svc__C=1, svc__class_weight=balanced, svc__degree=4, svc__gamma=scale, svc__kernel=poly;, score=0.760 total time= 2.7min\n",
      "[CV 3/5] END svc__C=1, svc__class_weight=balanced, svc__degree=4, svc__gamma=scale, svc__kernel=sigmoid;, score=0.688 total time= 2.4min\n",
      "[CV 5/5] END svc__C=1, svc__class_weight=balanced, svc__degree=4, svc__gamma=scale, svc__kernel=poly;, score=0.751 total time= 2.7min\n",
      "[CV 4/5] END svc__C=1, svc__class_weight=balanced, svc__degree=4, svc__gamma=scale, svc__kernel=sigmoid;, score=0.695 total time= 2.3min\n",
      "[CV 5/5] END svc__C=1, svc__class_weight=balanced, svc__degree=4, svc__gamma=scale, svc__kernel=sigmoid;, score=0.711 total time= 2.4min\n",
      "[CV 1/5] END svc__C=1, svc__class_weight=balanced, svc__degree=4, svc__gamma=auto, svc__kernel=linear;, score=0.758 total time= 2.5min\n",
      "[CV 2/5] END svc__C=1, svc__class_weight=balanced, svc__degree=4, svc__gamma=auto, svc__kernel=linear;, score=0.756 total time= 2.6min\n",
      "[CV 3/5] END svc__C=1, svc__class_weight=balanced, svc__degree=4, svc__gamma=auto, svc__kernel=linear;, score=0.739 total time= 2.6min\n",
      "[CV 4/5] END svc__C=1, svc__class_weight=balanced, svc__degree=4, svc__gamma=auto, svc__kernel=linear;, score=0.760 total time= 2.5min\n",
      "[CV 5/5] END svc__C=1, svc__class_weight=balanced, svc__degree=4, svc__gamma=auto, svc__kernel=linear;, score=0.750 total time= 2.5min\n",
      "[CV 1/5] END svc__C=1, svc__class_weight=None, svc__degree=2, svc__gamma=scale, svc__kernel=linear;, score=0.772 total time= 2.3min\n",
      "[CV 1/5] END svc__C=1, svc__class_weight=balanced, svc__degree=4, svc__gamma=auto, svc__kernel=rbf;, score=0.706 total time= 5.9min\n",
      "[CV 2/5] END svc__C=1, svc__class_weight=balanced, svc__degree=4, svc__gamma=auto, svc__kernel=rbf;, score=0.505 total time= 5.9min\n",
      "[CV 1/5] END svc__C=1, svc__class_weight=balanced, svc__degree=4, svc__gamma=auto, svc__kernel=poly;, score=0.402 total time= 5.5min\n",
      "[CV 2/5] END svc__C=1, svc__class_weight=balanced, svc__degree=4, svc__gamma=auto, svc__kernel=poly;, score=0.401 total time= 5.5min\n",
      "[CV 3/5] END svc__C=1, svc__class_weight=balanced, svc__degree=4, svc__gamma=auto, svc__kernel=poly;, score=0.401 total time= 5.5min\n",
      "[CV 4/5] END svc__C=1, svc__class_weight=balanced, svc__degree=4, svc__gamma=auto, svc__kernel=rbf;, score=0.702 total time= 5.9min\n",
      "[CV 3/5] END svc__C=1, svc__class_weight=balanced, svc__degree=4, svc__gamma=auto, svc__kernel=rbf;, score=0.524 total time= 5.9min\n",
      "[CV 4/5] END svc__C=1, svc__class_weight=balanced, svc__degree=4, svc__gamma=auto, svc__kernel=poly;, score=0.402 total time= 5.5min\n",
      "[CV 5/5] END svc__C=1, svc__class_weight=balanced, svc__degree=4, svc__gamma=auto, svc__kernel=rbf;, score=0.716 total time= 5.9min\n",
      "[CV 5/5] END svc__C=1, svc__class_weight=balanced, svc__degree=4, svc__gamma=auto, svc__kernel=poly;, score=0.402 total time= 5.5min\n",
      "[CV 1/5] END svc__C=1, svc__class_weight=balanced, svc__degree=4, svc__gamma=auto, svc__kernel=sigmoid;, score=0.609 total time= 5.5min\n",
      "[CV 2/5] END svc__C=1, svc__class_weight=balanced, svc__degree=4, svc__gamma=auto, svc__kernel=sigmoid;, score=0.621 total time= 5.6min\n",
      "[CV 2/5] END svc__C=1, svc__class_weight=None, svc__degree=2, svc__gamma=scale, svc__kernel=linear;, score=0.777 total time= 2.3min\n",
      "[CV 3/5] END svc__C=1, svc__class_weight=balanced, svc__degree=4, svc__gamma=auto, svc__kernel=sigmoid;, score=0.616 total time= 5.6min\n",
      "[CV 4/5] END svc__C=1, svc__class_weight=balanced, svc__degree=4, svc__gamma=auto, svc__kernel=sigmoid;, score=0.467 total time= 5.6min\n",
      "[CV 5/5] END svc__C=1, svc__class_weight=balanced, svc__degree=4, svc__gamma=auto, svc__kernel=sigmoid;, score=0.612 total time= 5.6min\n",
      "[CV 3/5] END svc__C=1, svc__class_weight=None, svc__degree=2, svc__gamma=scale, svc__kernel=linear;, score=0.771 total time= 2.3min\n",
      "[CV 4/5] END svc__C=1, svc__class_weight=None, svc__degree=2, svc__gamma=scale, svc__kernel=linear;, score=0.774 total time= 2.4min\n",
      "[CV 5/5] END svc__C=1, svc__class_weight=None, svc__degree=2, svc__gamma=scale, svc__kernel=linear;, score=0.778 total time= 2.4min\n",
      "[CV 1/5] END svc__C=1, svc__class_weight=None, svc__degree=2, svc__gamma=scale, svc__kernel=rbf;, score=0.774 total time= 2.5min\n",
      "[CV 1/5] END svc__C=1, svc__class_weight=None, svc__degree=2, svc__gamma=scale, svc__kernel=poly;, score=0.770 total time= 2.3min\n",
      "[CV 2/5] END svc__C=1, svc__class_weight=None, svc__degree=2, svc__gamma=scale, svc__kernel=rbf;, score=0.778 total time= 2.5min\n",
      "[CV 4/5] END svc__C=1, svc__class_weight=None, svc__degree=2, svc__gamma=scale, svc__kernel=rbf;, score=0.783 total time= 2.5min\n",
      "[CV 3/5] END svc__C=1, svc__class_weight=None, svc__degree=2, svc__gamma=scale, svc__kernel=rbf;, score=0.782 total time= 2.5min\n",
      "[CV 5/5] END svc__C=1, svc__class_weight=None, svc__degree=2, svc__gamma=scale, svc__kernel=rbf;, score=0.779 total time= 2.5min\n",
      "[CV 2/5] END svc__C=1, svc__class_weight=None, svc__degree=2, svc__gamma=scale, svc__kernel=poly;, score=0.781 total time= 2.3min\n",
      "[CV 3/5] END svc__C=1, svc__class_weight=None, svc__degree=2, svc__gamma=scale, svc__kernel=poly;, score=0.772 total time= 2.3min\n",
      "[CV 4/5] END svc__C=1, svc__class_weight=None, svc__degree=2, svc__gamma=scale, svc__kernel=poly;, score=0.787 total time= 2.2min\n",
      "[CV 5/5] END svc__C=1, svc__class_weight=None, svc__degree=2, svc__gamma=scale, svc__kernel=poly;, score=0.776 total time= 2.3min\n",
      "[CV 1/5] END svc__C=1, svc__class_weight=None, svc__degree=2, svc__gamma=scale, svc__kernel=sigmoid;, score=0.734 total time= 2.0min\n",
      "[CV 2/5] END svc__C=1, svc__class_weight=None, svc__degree=2, svc__gamma=scale, svc__kernel=sigmoid;, score=0.721 total time= 1.9min\n",
      "[CV 3/5] END svc__C=1, svc__class_weight=None, svc__degree=2, svc__gamma=scale, svc__kernel=sigmoid;, score=0.722 total time= 2.1min\n",
      "[CV 4/5] END svc__C=1, svc__class_weight=None, svc__degree=2, svc__gamma=scale, svc__kernel=sigmoid;, score=0.730 total time= 1.9min\n",
      "[CV 5/5] END svc__C=1, svc__class_weight=None, svc__degree=2, svc__gamma=scale, svc__kernel=sigmoid;, score=0.721 total time= 2.1min\n",
      "[CV 1/5] END svc__C=1, svc__class_weight=None, svc__degree=2, svc__gamma=auto, svc__kernel=linear;, score=0.772 total time= 2.4min\n",
      "[CV 2/5] END svc__C=1, svc__class_weight=None, svc__degree=2, svc__gamma=auto, svc__kernel=linear;, score=0.777 total time= 2.4min\n",
      "[CV 3/5] END svc__C=1, svc__class_weight=None, svc__degree=2, svc__gamma=auto, svc__kernel=linear;, score=0.771 total time= 2.4min\n",
      "[CV 4/5] END svc__C=1, svc__class_weight=None, svc__degree=2, svc__gamma=auto, svc__kernel=linear;, score=0.774 total time= 2.4min\n",
      "[CV 5/5] END svc__C=1, svc__class_weight=None, svc__degree=2, svc__gamma=auto, svc__kernel=linear;, score=0.778 total time= 2.4min\n",
      "[CV 1/5] END svc__C=1, svc__class_weight=None, svc__degree=3, svc__gamma=scale, svc__kernel=linear;, score=0.772 total time= 2.3min\n",
      "[CV 1/5] END svc__C=1, svc__class_weight=None, svc__degree=2, svc__gamma=auto, svc__kernel=rbf;, score=0.715 total time= 5.1min\n",
      "[CV 2/5] END svc__C=1, svc__class_weight=None, svc__degree=2, svc__gamma=auto, svc__kernel=rbf;, score=0.708 total time= 5.1min\n",
      "[CV 3/5] END svc__C=1, svc__class_weight=None, svc__degree=2, svc__gamma=auto, svc__kernel=rbf;, score=0.712 total time= 5.1min\n",
      "[CV 1/5] END svc__C=1, svc__class_weight=None, svc__degree=2, svc__gamma=auto, svc__kernel=poly;, score=0.402 total time= 4.7min\n",
      "[CV 4/5] END svc__C=1, svc__class_weight=None, svc__degree=2, svc__gamma=auto, svc__kernel=rbf;, score=0.708 total time= 5.1min\n",
      "[CV 2/5] END svc__C=1, svc__class_weight=None, svc__degree=2, svc__gamma=auto, svc__kernel=poly;, score=0.401 total time= 4.7min\n",
      "[CV 5/5] END svc__C=1, svc__class_weight=None, svc__degree=2, svc__gamma=auto, svc__kernel=rbf;, score=0.722 total time= 5.1min\n",
      "[CV 3/5] END svc__C=1, svc__class_weight=None, svc__degree=2, svc__gamma=auto, svc__kernel=poly;, score=0.401 total time= 4.7min\n",
      "[CV 4/5] END svc__C=1, svc__class_weight=None, svc__degree=2, svc__gamma=auto, svc__kernel=poly;, score=0.402 total time= 4.7min\n",
      "[CV 5/5] END svc__C=1, svc__class_weight=None, svc__degree=2, svc__gamma=auto, svc__kernel=poly;, score=0.402 total time= 4.7min\n",
      "[CV 1/5] END svc__C=1, svc__class_weight=None, svc__degree=2, svc__gamma=auto, svc__kernel=sigmoid;, score=0.479 total time= 4.8min\n",
      "[CV 2/5] END svc__C=1, svc__class_weight=None, svc__degree=2, svc__gamma=auto, svc__kernel=sigmoid;, score=0.472 total time= 4.8min\n",
      "[CV 2/5] END svc__C=1, svc__class_weight=None, svc__degree=3, svc__gamma=scale, svc__kernel=linear;, score=0.777 total time= 2.4min\n",
      "[CV 3/5] END svc__C=1, svc__class_weight=None, svc__degree=2, svc__gamma=auto, svc__kernel=sigmoid;, score=0.480 total time= 4.8min\n",
      "[CV 4/5] END svc__C=1, svc__class_weight=None, svc__degree=2, svc__gamma=auto, svc__kernel=sigmoid;, score=0.478 total time= 4.8min\n",
      "[CV 5/5] END svc__C=1, svc__class_weight=None, svc__degree=2, svc__gamma=auto, svc__kernel=sigmoid;, score=0.466 total time= 4.8min\n",
      "[CV 3/5] END svc__C=1, svc__class_weight=None, svc__degree=3, svc__gamma=scale, svc__kernel=linear;, score=0.771 total time= 2.4min\n",
      "[CV 4/5] END svc__C=1, svc__class_weight=None, svc__degree=3, svc__gamma=scale, svc__kernel=linear;, score=0.774 total time= 2.4min\n",
      "[CV 5/5] END svc__C=1, svc__class_weight=None, svc__degree=3, svc__gamma=scale, svc__kernel=linear;, score=0.778 total time= 2.4min\n",
      "[CV 1/5] END svc__C=1, svc__class_weight=None, svc__degree=3, svc__gamma=scale, svc__kernel=rbf;, score=0.774 total time= 2.6min\n",
      "[CV 2/5] END svc__C=1, svc__class_weight=None, svc__degree=3, svc__gamma=scale, svc__kernel=rbf;, score=0.778 total time= 2.5min\n",
      "[CV 3/5] END svc__C=1, svc__class_weight=None, svc__degree=3, svc__gamma=scale, svc__kernel=rbf;, score=0.782 total time= 2.5min\n",
      "[CV 4/5] END svc__C=1, svc__class_weight=None, svc__degree=3, svc__gamma=scale, svc__kernel=rbf;, score=0.783 total time= 2.5min\n",
      "[CV 5/5] END svc__C=1, svc__class_weight=None, svc__degree=3, svc__gamma=scale, svc__kernel=rbf;, score=0.779 total time= 2.5min\n",
      "[CV 1/5] END svc__C=1, svc__class_weight=None, svc__degree=3, svc__gamma=scale, svc__kernel=poly;, score=0.768 total time= 2.4min\n",
      "[CV 2/5] END svc__C=1, svc__class_weight=None, svc__degree=3, svc__gamma=scale, svc__kernel=poly;, score=0.774 total time= 2.4min\n",
      "[CV 3/5] END svc__C=1, svc__class_weight=None, svc__degree=3, svc__gamma=scale, svc__kernel=poly;, score=0.774 total time= 2.4min\n",
      "[CV 1/5] END svc__C=1, svc__class_weight=None, svc__degree=3, svc__gamma=scale, svc__kernel=sigmoid;, score=0.734 total time= 2.0min\n",
      "[CV 2/5] END svc__C=1, svc__class_weight=None, svc__degree=3, svc__gamma=scale, svc__kernel=sigmoid;, score=0.721 total time= 1.9min\n",
      "[CV 3/5] END svc__C=1, svc__class_weight=None, svc__degree=3, svc__gamma=scale, svc__kernel=sigmoid;, score=0.722 total time= 2.1min\n",
      "[CV 4/5] END svc__C=1, svc__class_weight=None, svc__degree=3, svc__gamma=scale, svc__kernel=poly;, score=0.781 total time= 2.4min\n",
      "[CV 4/5] END svc__C=1, svc__class_weight=None, svc__degree=3, svc__gamma=scale, svc__kernel=sigmoid;, score=0.730 total time= 1.9min\n",
      "[CV 5/5] END svc__C=1, svc__class_weight=None, svc__degree=3, svc__gamma=scale, svc__kernel=poly;, score=0.768 total time= 2.4min\n",
      "[CV 5/5] END svc__C=1, svc__class_weight=None, svc__degree=3, svc__gamma=scale, svc__kernel=sigmoid;, score=0.721 total time= 2.1min\n",
      "[CV 1/5] END svc__C=1, svc__class_weight=None, svc__degree=3, svc__gamma=auto, svc__kernel=linear;, score=0.772 total time= 2.4min\n",
      "[CV 2/5] END svc__C=1, svc__class_weight=None, svc__degree=3, svc__gamma=auto, svc__kernel=linear;, score=0.777 total time= 2.4min\n",
      "[CV 3/5] END svc__C=1, svc__class_weight=None, svc__degree=3, svc__gamma=auto, svc__kernel=linear;, score=0.771 total time= 2.4min\n",
      "[CV 4/5] END svc__C=1, svc__class_weight=None, svc__degree=3, svc__gamma=auto, svc__kernel=linear;, score=0.774 total time= 2.4min\n",
      "[CV 5/5] END svc__C=1, svc__class_weight=None, svc__degree=3, svc__gamma=auto, svc__kernel=linear;, score=0.778 total time= 2.4min\n",
      "[CV 1/5] END svc__C=1, svc__class_weight=None, svc__degree=4, svc__gamma=scale, svc__kernel=linear;, score=0.772 total time= 2.3min\n",
      "[CV 1/5] END svc__C=1, svc__class_weight=None, svc__degree=3, svc__gamma=auto, svc__kernel=rbf;, score=0.715 total time= 5.1min\n",
      "[CV 2/5] END svc__C=1, svc__class_weight=None, svc__degree=3, svc__gamma=auto, svc__kernel=rbf;, score=0.708 total time= 5.1min\n",
      "[CV 3/5] END svc__C=1, svc__class_weight=None, svc__degree=3, svc__gamma=auto, svc__kernel=rbf;, score=0.712 total time= 5.1min\n",
      "[CV 1/5] END svc__C=1, svc__class_weight=None, svc__degree=3, svc__gamma=auto, svc__kernel=poly;, score=0.402 total time= 4.6min\n",
      "[CV 3/5] END svc__C=1, svc__class_weight=None, svc__degree=3, svc__gamma=auto, svc__kernel=poly;, score=0.401 total time= 4.6min\n",
      "[CV 2/5] END svc__C=1, svc__class_weight=None, svc__degree=3, svc__gamma=auto, svc__kernel=poly;, score=0.401 total time= 4.6min\n",
      "[CV 4/5] END svc__C=1, svc__class_weight=None, svc__degree=3, svc__gamma=auto, svc__kernel=rbf;, score=0.708 total time= 5.1min\n",
      "[CV 4/5] END svc__C=1, svc__class_weight=None, svc__degree=3, svc__gamma=auto, svc__kernel=poly;, score=0.402 total time= 4.6min\n",
      "[CV 5/5] END svc__C=1, svc__class_weight=None, svc__degree=3, svc__gamma=auto, svc__kernel=poly;, score=0.402 total time= 4.6min\n",
      "[CV 5/5] END svc__C=1, svc__class_weight=None, svc__degree=3, svc__gamma=auto, svc__kernel=rbf;, score=0.722 total time= 5.1min\n",
      "[CV 1/5] END svc__C=1, svc__class_weight=None, svc__degree=3, svc__gamma=auto, svc__kernel=sigmoid;, score=0.479 total time= 4.8min\n",
      "[CV 2/5] END svc__C=1, svc__class_weight=None, svc__degree=3, svc__gamma=auto, svc__kernel=sigmoid;, score=0.472 total time= 4.8min\n",
      "[CV 3/5] END svc__C=1, svc__class_weight=None, svc__degree=3, svc__gamma=auto, svc__kernel=sigmoid;, score=0.480 total time= 4.8min\n",
      "[CV 4/5] END svc__C=1, svc__class_weight=None, svc__degree=3, svc__gamma=auto, svc__kernel=sigmoid;, score=0.478 total time= 4.8min\n",
      "[CV 5/5] END svc__C=1, svc__class_weight=None, svc__degree=3, svc__gamma=auto, svc__kernel=sigmoid;, score=0.466 total time= 4.8min\n",
      "[CV 2/5] END svc__C=1, svc__class_weight=None, svc__degree=4, svc__gamma=scale, svc__kernel=linear;, score=0.777 total time= 2.3min\n",
      "[CV 3/5] END svc__C=1, svc__class_weight=None, svc__degree=4, svc__gamma=scale, svc__kernel=linear;, score=0.771 total time= 2.4min\n",
      "[CV 4/5] END svc__C=1, svc__class_weight=None, svc__degree=4, svc__gamma=scale, svc__kernel=linear;, score=0.774 total time= 2.4min\n",
      "[CV 5/5] END svc__C=1, svc__class_weight=None, svc__degree=4, svc__gamma=scale, svc__kernel=linear;, score=0.778 total time= 2.4min\n",
      "[CV 1/5] END svc__C=1, svc__class_weight=None, svc__degree=4, svc__gamma=scale, svc__kernel=rbf;, score=0.774 total time= 2.5min\n",
      "[CV 2/5] END svc__C=1, svc__class_weight=None, svc__degree=4, svc__gamma=scale, svc__kernel=rbf;, score=0.778 total time= 2.5min\n",
      "[CV 3/5] END svc__C=1, svc__class_weight=None, svc__degree=4, svc__gamma=scale, svc__kernel=rbf;, score=0.782 total time= 2.5min\n",
      "[CV 4/5] END svc__C=1, svc__class_weight=None, svc__degree=4, svc__gamma=scale, svc__kernel=rbf;, score=0.783 total time= 2.5min\n",
      "[CV 5/5] END svc__C=1, svc__class_weight=None, svc__degree=4, svc__gamma=scale, svc__kernel=rbf;, score=0.779 total time= 2.5min\n",
      "[CV 1/5] END svc__C=1, svc__class_weight=None, svc__degree=4, svc__gamma=scale, svc__kernel=poly;, score=0.767 total time= 2.5min\n",
      "[CV 2/5] END svc__C=1, svc__class_weight=None, svc__degree=4, svc__gamma=scale, svc__kernel=poly;, score=0.765 total time= 2.5min\n",
      "[CV 2/5] END svc__C=1, svc__class_weight=None, svc__degree=4, svc__gamma=scale, svc__kernel=sigmoid;, score=0.721 total time= 1.8min\n",
      "[CV 1/5] END svc__C=1, svc__class_weight=None, svc__degree=4, svc__gamma=scale, svc__kernel=sigmoid;, score=0.734 total time= 1.9min\n",
      "[CV 3/5] END svc__C=1, svc__class_weight=None, svc__degree=4, svc__gamma=scale, svc__kernel=poly;, score=0.768 total time= 2.5min\n",
      "[CV 3/5] END svc__C=1, svc__class_weight=None, svc__degree=4, svc__gamma=scale, svc__kernel=sigmoid;, score=0.722 total time= 2.0min\n",
      "[CV 4/5] END svc__C=1, svc__class_weight=None, svc__degree=4, svc__gamma=scale, svc__kernel=poly;, score=0.775 total time= 2.5min\n",
      "[CV 5/5] END svc__C=1, svc__class_weight=None, svc__degree=4, svc__gamma=scale, svc__kernel=poly;, score=0.758 total time= 2.4min\n",
      "[CV 4/5] END svc__C=1, svc__class_weight=None, svc__degree=4, svc__gamma=scale, svc__kernel=sigmoid;, score=0.730 total time= 1.7min\n",
      "[CV 5/5] END svc__C=1, svc__class_weight=None, svc__degree=4, svc__gamma=scale, svc__kernel=sigmoid;, score=0.721 total time= 1.9min\n",
      "[CV 1/5] END svc__C=1, svc__class_weight=None, svc__degree=4, svc__gamma=auto, svc__kernel=linear;, score=0.772 total time= 2.1min\n",
      "[CV 2/5] END svc__C=1, svc__class_weight=None, svc__degree=4, svc__gamma=auto, svc__kernel=linear;, score=0.777 total time= 2.2min\n",
      "[CV 3/5] END svc__C=1, svc__class_weight=None, svc__degree=4, svc__gamma=auto, svc__kernel=linear;, score=0.771 total time= 2.2min\n",
      "[CV 4/5] END svc__C=1, svc__class_weight=None, svc__degree=4, svc__gamma=auto, svc__kernel=linear;, score=0.774 total time= 2.2min\n",
      "[CV 5/5] END svc__C=1, svc__class_weight=None, svc__degree=4, svc__gamma=auto, svc__kernel=linear;, score=0.778 total time= 2.2min\n",
      "[CV 1/5] END svc__C=10, svc__class_weight=balanced, svc__degree=2, svc__gamma=scale, svc__kernel=linear;, score=0.747 total time= 2.0min\n",
      "[CV 1/5] END svc__C=1, svc__class_weight=None, svc__degree=4, svc__gamma=auto, svc__kernel=rbf;, score=0.715 total time= 4.7min\n",
      "[CV 1/5] END svc__C=1, svc__class_weight=None, svc__degree=4, svc__gamma=auto, svc__kernel=poly;, score=0.402 total time= 4.3min\n",
      "[CV 2/5] END svc__C=1, svc__class_weight=None, svc__degree=4, svc__gamma=auto, svc__kernel=rbf;, score=0.708 total time= 4.7min\n",
      "[CV 2/5] END svc__C=1, svc__class_weight=None, svc__degree=4, svc__gamma=auto, svc__kernel=poly;, score=0.401 total time= 4.3min\n",
      "[CV 3/5] END svc__C=1, svc__class_weight=None, svc__degree=4, svc__gamma=auto, svc__kernel=rbf;, score=0.712 total time= 4.7min\n",
      "[CV 3/5] END svc__C=1, svc__class_weight=None, svc__degree=4, svc__gamma=auto, svc__kernel=poly;, score=0.401 total time= 4.3min\n",
      "[CV 4/5] END svc__C=1, svc__class_weight=None, svc__degree=4, svc__gamma=auto, svc__kernel=rbf;, score=0.708 total time= 4.7min\n",
      "[CV 5/5] END svc__C=1, svc__class_weight=None, svc__degree=4, svc__gamma=auto, svc__kernel=rbf;, score=0.722 total time= 4.7min\n",
      "[CV 4/5] END svc__C=1, svc__class_weight=None, svc__degree=4, svc__gamma=auto, svc__kernel=poly;, score=0.402 total time= 4.3min\n",
      "[CV 5/5] END svc__C=1, svc__class_weight=None, svc__degree=4, svc__gamma=auto, svc__kernel=poly;, score=0.402 total time= 4.3min\n",
      "[CV 1/5] END svc__C=1, svc__class_weight=None, svc__degree=4, svc__gamma=auto, svc__kernel=sigmoid;, score=0.479 total time= 4.4min\n",
      "[CV 2/5] END svc__C=1, svc__class_weight=None, svc__degree=4, svc__gamma=auto, svc__kernel=sigmoid;, score=0.472 total time= 4.4min\n",
      "[CV 2/5] END svc__C=10, svc__class_weight=balanced, svc__degree=2, svc__gamma=scale, svc__kernel=linear;, score=0.750 total time= 2.1min\n",
      "[CV 3/5] END svc__C=1, svc__class_weight=None, svc__degree=4, svc__gamma=auto, svc__kernel=sigmoid;, score=0.480 total time= 4.4min\n",
      "[CV 4/5] END svc__C=1, svc__class_weight=None, svc__degree=4, svc__gamma=auto, svc__kernel=sigmoid;, score=0.478 total time= 4.4min\n",
      "[CV 5/5] END svc__C=1, svc__class_weight=None, svc__degree=4, svc__gamma=auto, svc__kernel=sigmoid;, score=0.466 total time= 4.4min\n",
      "[CV 3/5] END svc__C=10, svc__class_weight=balanced, svc__degree=2, svc__gamma=scale, svc__kernel=linear;, score=0.740 total time= 2.1min\n",
      "[CV 4/5] END svc__C=10, svc__class_weight=balanced, svc__degree=2, svc__gamma=scale, svc__kernel=linear;, score=0.763 total time= 2.1min\n",
      "[CV 5/5] END svc__C=10, svc__class_weight=balanced, svc__degree=2, svc__gamma=scale, svc__kernel=linear;, score=0.744 total time= 2.1min\n",
      "[CV 1/5] END svc__C=10, svc__class_weight=balanced, svc__degree=2, svc__gamma=scale, svc__kernel=poly;, score=0.740 total time= 2.2min\n",
      "[CV 2/5] END svc__C=10, svc__class_weight=balanced, svc__degree=2, svc__gamma=scale, svc__kernel=poly;, score=0.742 total time= 2.2min\n",
      "[CV 2/5] END svc__C=10, svc__class_weight=balanced, svc__degree=2, svc__gamma=scale, svc__kernel=rbf;, score=0.751 total time= 2.5min\n",
      "[CV 1/5] END svc__C=10, svc__class_weight=balanced, svc__degree=2, svc__gamma=scale, svc__kernel=rbf;, score=0.752 total time= 2.6min\n",
      "[CV 3/5] END svc__C=10, svc__class_weight=balanced, svc__degree=2, svc__gamma=scale, svc__kernel=rbf;, score=0.756 total time= 2.6min\n",
      "[CV 4/5] END svc__C=10, svc__class_weight=balanced, svc__degree=2, svc__gamma=scale, svc__kernel=rbf;, score=0.767 total time= 2.6min\n",
      "[CV 5/5] END svc__C=10, svc__class_weight=balanced, svc__degree=2, svc__gamma=scale, svc__kernel=rbf;, score=0.751 total time= 2.6min\n",
      "[CV 3/5] END svc__C=10, svc__class_weight=balanced, svc__degree=2, svc__gamma=scale, svc__kernel=sigmoid;, score=0.638 total time= 1.3min\n",
      "[CV 1/5] END svc__C=10, svc__class_weight=balanced, svc__degree=2, svc__gamma=scale, svc__kernel=sigmoid;, score=0.659 total time= 1.5min\n",
      "[CV 2/5] END svc__C=10, svc__class_weight=balanced, svc__degree=2, svc__gamma=scale, svc__kernel=sigmoid;, score=0.643 total time= 1.4min\n",
      "[CV 3/5] END svc__C=10, svc__class_weight=balanced, svc__degree=2, svc__gamma=scale, svc__kernel=poly;, score=0.741 total time= 2.2min\n",
      "[CV 4/5] END svc__C=10, svc__class_weight=balanced, svc__degree=2, svc__gamma=scale, svc__kernel=poly;, score=0.756 total time= 2.2min\n",
      "[CV 4/5] END svc__C=10, svc__class_weight=balanced, svc__degree=2, svc__gamma=scale, svc__kernel=sigmoid;, score=0.679 total time= 1.4min\n",
      "[CV 5/5] END svc__C=10, svc__class_weight=balanced, svc__degree=2, svc__gamma=scale, svc__kernel=sigmoid;, score=0.679 total time= 1.4min\n",
      "[CV 5/5] END svc__C=10, svc__class_weight=balanced, svc__degree=2, svc__gamma=scale, svc__kernel=poly;, score=0.741 total time= 2.2min\n",
      "[CV 1/5] END svc__C=10, svc__class_weight=balanced, svc__degree=2, svc__gamma=auto, svc__kernel=linear;, score=0.747 total time= 2.0min\n",
      "[CV 2/5] END svc__C=10, svc__class_weight=balanced, svc__degree=2, svc__gamma=auto, svc__kernel=linear;, score=0.750 total time= 2.1min\n",
      "[CV 3/5] END svc__C=10, svc__class_weight=balanced, svc__degree=2, svc__gamma=auto, svc__kernel=linear;, score=0.740 total time= 2.1min\n",
      "[CV 4/5] END svc__C=10, svc__class_weight=balanced, svc__degree=2, svc__gamma=auto, svc__kernel=linear;, score=0.763 total time= 2.1min\n",
      "[CV 5/5] END svc__C=10, svc__class_weight=balanced, svc__degree=2, svc__gamma=auto, svc__kernel=linear;, score=0.744 total time= 2.1min\n",
      "[CV 1/5] END svc__C=10, svc__class_weight=balanced, svc__degree=2, svc__gamma=auto, svc__kernel=rbf;, score=0.722 total time= 4.0min\n",
      "[CV 1/5] END svc__C=10, svc__class_weight=balanced, svc__degree=3, svc__gamma=scale, svc__kernel=linear;, score=0.747 total time= 2.0min\n",
      "[CV 2/5] END svc__C=10, svc__class_weight=balanced, svc__degree=2, svc__gamma=auto, svc__kernel=rbf;, score=0.704 total time= 4.0min\n",
      "[CV 3/5] END svc__C=10, svc__class_weight=balanced, svc__degree=2, svc__gamma=auto, svc__kernel=rbf;, score=0.707 total time= 4.0min\n",
      "[CV 4/5] END svc__C=10, svc__class_weight=balanced, svc__degree=2, svc__gamma=auto, svc__kernel=rbf;, score=0.704 total time= 4.0min\n",
      "[CV 5/5] END svc__C=10, svc__class_weight=balanced, svc__degree=2, svc__gamma=auto, svc__kernel=rbf;, score=0.706 total time= 4.0min\n",
      "[CV 1/5] END svc__C=10, svc__class_weight=balanced, svc__degree=2, svc__gamma=auto, svc__kernel=sigmoid;, score=0.696 total time= 4.2min\n",
      "[CV 1/5] END svc__C=10, svc__class_weight=balanced, svc__degree=2, svc__gamma=auto, svc__kernel=poly;, score=0.402 total time= 5.1min\n",
      "[CV 2/5] END svc__C=10, svc__class_weight=balanced, svc__degree=2, svc__gamma=auto, svc__kernel=poly;, score=0.398 total time= 5.1min\n",
      "[CV 2/5] END svc__C=10, svc__class_weight=balanced, svc__degree=2, svc__gamma=auto, svc__kernel=sigmoid;, score=0.679 total time= 4.2min\n",
      "[CV 3/5] END svc__C=10, svc__class_weight=balanced, svc__degree=2, svc__gamma=auto, svc__kernel=poly;, score=0.398 total time= 5.1min\n",
      "[CV 4/5] END svc__C=10, svc__class_weight=balanced, svc__degree=2, svc__gamma=auto, svc__kernel=poly;, score=0.398 total time= 5.1min\n",
      "[CV 5/5] END svc__C=10, svc__class_weight=balanced, svc__degree=2, svc__gamma=auto, svc__kernel=poly;, score=0.398 total time= 5.1min\n",
      "[CV 2/5] END svc__C=10, svc__class_weight=balanced, svc__degree=3, svc__gamma=scale, svc__kernel=linear;, score=0.750 total time= 2.1min\n",
      "[CV 3/5] END svc__C=10, svc__class_weight=balanced, svc__degree=3, svc__gamma=scale, svc__kernel=linear;, score=0.740 total time= 2.1min\n",
      "[CV 3/5] END svc__C=10, svc__class_weight=balanced, svc__degree=2, svc__gamma=auto, svc__kernel=sigmoid;, score=0.686 total time= 4.2min\n",
      "[CV 4/5] END svc__C=10, svc__class_weight=balanced, svc__degree=2, svc__gamma=auto, svc__kernel=sigmoid;, score=0.680 total time= 4.2min\n",
      "[CV 4/5] END svc__C=10, svc__class_weight=balanced, svc__degree=3, svc__gamma=scale, svc__kernel=linear;, score=0.763 total time= 2.1min\n",
      "[CV 5/5] END svc__C=10, svc__class_weight=balanced, svc__degree=2, svc__gamma=auto, svc__kernel=sigmoid;, score=0.683 total time= 4.2min\n",
      "[CV 5/5] END svc__C=10, svc__class_weight=balanced, svc__degree=3, svc__gamma=scale, svc__kernel=linear;, score=0.744 total time= 2.1min\n",
      "[CV 1/5] END svc__C=10, svc__class_weight=balanced, svc__degree=3, svc__gamma=scale, svc__kernel=rbf;, score=0.752 total time= 2.6min\n",
      "[CV 2/5] END svc__C=10, svc__class_weight=balanced, svc__degree=3, svc__gamma=scale, svc__kernel=rbf;, score=0.751 total time= 2.6min\n",
      "[CV 3/5] END svc__C=10, svc__class_weight=balanced, svc__degree=3, svc__gamma=scale, svc__kernel=sigmoid;, score=0.638 total time= 1.3min\n",
      "[CV 4/5] END svc__C=10, svc__class_weight=balanced, svc__degree=3, svc__gamma=scale, svc__kernel=sigmoid;, score=0.679 total time= 1.4min\n",
      "[CV 5/5] END svc__C=10, svc__class_weight=balanced, svc__degree=3, svc__gamma=scale, svc__kernel=sigmoid;, score=0.679 total time= 1.4min\n",
      "[CV 2/5] END svc__C=10, svc__class_weight=balanced, svc__degree=3, svc__gamma=scale, svc__kernel=sigmoid;, score=0.643 total time= 1.4min\n",
      "[CV 1/5] END svc__C=10, svc__class_weight=balanced, svc__degree=3, svc__gamma=scale, svc__kernel=sigmoid;, score=0.659 total time= 1.5min\n",
      "[CV 3/5] END svc__C=10, svc__class_weight=balanced, svc__degree=3, svc__gamma=scale, svc__kernel=rbf;, score=0.756 total time= 2.6min\n",
      "[CV 1/5] END svc__C=10, svc__class_weight=balanced, svc__degree=3, svc__gamma=scale, svc__kernel=poly;, score=0.743 total time= 2.2min\n",
      "[CV 2/5] END svc__C=10, svc__class_weight=balanced, svc__degree=3, svc__gamma=scale, svc__kernel=poly;, score=0.744 total time= 2.2min\n",
      "[CV 3/5] END svc__C=10, svc__class_weight=balanced, svc__degree=3, svc__gamma=scale, svc__kernel=poly;, score=0.741 total time= 2.2min\n",
      "[CV 4/5] END svc__C=10, svc__class_weight=balanced, svc__degree=3, svc__gamma=scale, svc__kernel=rbf;, score=0.767 total time= 2.6min\n",
      "[CV 4/5] END svc__C=10, svc__class_weight=balanced, svc__degree=3, svc__gamma=scale, svc__kernel=poly;, score=0.758 total time= 2.2min\n",
      "[CV 5/5] END svc__C=10, svc__class_weight=balanced, svc__degree=3, svc__gamma=scale, svc__kernel=rbf;, score=0.751 total time= 2.6min\n",
      "[CV 5/5] END svc__C=10, svc__class_weight=balanced, svc__degree=3, svc__gamma=scale, svc__kernel=poly;, score=0.747 total time= 2.2min\n",
      "[CV 1/5] END svc__C=10, svc__class_weight=balanced, svc__degree=3, svc__gamma=auto, svc__kernel=linear;, score=0.747 total time= 2.0min\n",
      "[CV 2/5] END svc__C=10, svc__class_weight=balanced, svc__degree=3, svc__gamma=auto, svc__kernel=linear;, score=0.750 total time= 2.1min\n",
      "[CV 3/5] END svc__C=10, svc__class_weight=balanced, svc__degree=3, svc__gamma=auto, svc__kernel=linear;, score=0.740 total time= 2.1min\n",
      "[CV 4/5] END svc__C=10, svc__class_weight=balanced, svc__degree=3, svc__gamma=auto, svc__kernel=linear;, score=0.763 total time= 2.1min\n",
      "[CV 5/5] END svc__C=10, svc__class_weight=balanced, svc__degree=3, svc__gamma=auto, svc__kernel=linear;, score=0.744 total time= 2.1min\n",
      "[CV 2/5] END svc__C=10, svc__class_weight=balanced, svc__degree=3, svc__gamma=auto, svc__kernel=rbf;, score=0.704 total time= 4.0min\n",
      "[CV 1/5] END svc__C=10, svc__class_weight=balanced, svc__degree=3, svc__gamma=auto, svc__kernel=rbf;, score=0.722 total time= 4.0min\n",
      "[CV 3/5] END svc__C=10, svc__class_weight=balanced, svc__degree=3, svc__gamma=auto, svc__kernel=rbf;, score=0.707 total time= 4.0min\n",
      "[CV 1/5] END svc__C=10, svc__class_weight=balanced, svc__degree=4, svc__gamma=scale, svc__kernel=linear;, score=0.747 total time= 2.0min\n",
      "[CV 4/5] END svc__C=10, svc__class_weight=balanced, svc__degree=3, svc__gamma=auto, svc__kernel=rbf;, score=0.704 total time= 3.9min\n",
      "[CV 5/5] END svc__C=10, svc__class_weight=balanced, svc__degree=3, svc__gamma=auto, svc__kernel=rbf;, score=0.706 total time= 4.0min\n",
      "[CV 1/5] END svc__C=10, svc__class_weight=balanced, svc__degree=3, svc__gamma=auto, svc__kernel=sigmoid;, score=0.696 total time= 4.2min\n",
      "[CV 2/5] END svc__C=10, svc__class_weight=balanced, svc__degree=3, svc__gamma=auto, svc__kernel=sigmoid;, score=0.679 total time= 4.2min\n",
      "[CV 1/5] END svc__C=10, svc__class_weight=balanced, svc__degree=3, svc__gamma=auto, svc__kernel=poly;, score=0.402 total time= 5.1min\n",
      "[CV 2/5] END svc__C=10, svc__class_weight=balanced, svc__degree=3, svc__gamma=auto, svc__kernel=poly;, score=0.398 total time= 5.1min\n",
      "[CV 3/5] END svc__C=10, svc__class_weight=balanced, svc__degree=3, svc__gamma=auto, svc__kernel=poly;, score=0.398 total time= 5.1min\n",
      "[CV 4/5] END svc__C=10, svc__class_weight=balanced, svc__degree=3, svc__gamma=auto, svc__kernel=sigmoid;, score=0.680 total time= 4.2min\n",
      "[CV 3/5] END svc__C=10, svc__class_weight=balanced, svc__degree=3, svc__gamma=auto, svc__kernel=sigmoid;, score=0.686 total time= 4.2min\n",
      "[CV 4/5] END svc__C=10, svc__class_weight=balanced, svc__degree=3, svc__gamma=auto, svc__kernel=poly;, score=0.398 total time= 5.1min\n",
      "[CV 5/5] END svc__C=10, svc__class_weight=balanced, svc__degree=3, svc__gamma=auto, svc__kernel=poly;, score=0.398 total time= 5.1min\n",
      "[CV 3/5] END svc__C=10, svc__class_weight=balanced, svc__degree=4, svc__gamma=scale, svc__kernel=linear;, score=0.740 total time= 2.1min\n",
      "[CV 2/5] END svc__C=10, svc__class_weight=balanced, svc__degree=4, svc__gamma=scale, svc__kernel=linear;, score=0.750 total time= 2.1min\n",
      "[CV 4/5] END svc__C=10, svc__class_weight=balanced, svc__degree=4, svc__gamma=scale, svc__kernel=linear;, score=0.763 total time= 2.1min\n",
      "[CV 5/5] END svc__C=10, svc__class_weight=balanced, svc__degree=4, svc__gamma=scale, svc__kernel=linear;, score=0.744 total time= 2.1min\n",
      "[CV 5/5] END svc__C=10, svc__class_weight=balanced, svc__degree=3, svc__gamma=auto, svc__kernel=sigmoid;, score=0.683 total time= 4.2min\n",
      "[CV 1/5] END svc__C=10, svc__class_weight=balanced, svc__degree=4, svc__gamma=scale, svc__kernel=rbf;, score=0.752 total time= 2.6min\n",
      "[CV 2/5] END svc__C=10, svc__class_weight=balanced, svc__degree=4, svc__gamma=scale, svc__kernel=rbf;, score=0.751 total time= 2.6min\n",
      "[CV 1/5] END svc__C=10, svc__class_weight=balanced, svc__degree=4, svc__gamma=scale, svc__kernel=sigmoid;, score=0.659 total time= 1.5min\n",
      "[CV 3/5] END svc__C=10, svc__class_weight=balanced, svc__degree=4, svc__gamma=scale, svc__kernel=sigmoid;, score=0.638 total time= 1.3min\n",
      "[CV 3/5] END svc__C=10, svc__class_weight=balanced, svc__degree=4, svc__gamma=scale, svc__kernel=rbf;, score=0.756 total time= 2.6min\n",
      "[CV 4/5] END svc__C=10, svc__class_weight=balanced, svc__degree=4, svc__gamma=scale, svc__kernel=sigmoid;, score=0.679 total time= 1.4min\n",
      "[CV 4/5] END svc__C=10, svc__class_weight=balanced, svc__degree=4, svc__gamma=scale, svc__kernel=rbf;, score=0.767 total time= 2.6min\n",
      "[CV 2/5] END svc__C=10, svc__class_weight=balanced, svc__degree=4, svc__gamma=scale, svc__kernel=sigmoid;, score=0.643 total time= 1.4min\n",
      "[CV 5/5] END svc__C=10, svc__class_weight=balanced, svc__degree=4, svc__gamma=scale, svc__kernel=sigmoid;, score=0.679 total time= 1.4min\n",
      "[CV 5/5] END svc__C=10, svc__class_weight=balanced, svc__degree=4, svc__gamma=scale, svc__kernel=poly;, score=0.751 total time= 2.3min\n",
      "[CV 5/5] END svc__C=10, svc__class_weight=balanced, svc__degree=4, svc__gamma=scale, svc__kernel=rbf;, score=0.751 total time= 2.6min\n",
      "[CV 2/5] END svc__C=10, svc__class_weight=balanced, svc__degree=4, svc__gamma=scale, svc__kernel=poly;, score=0.748 total time= 2.5min\n",
      "[CV 1/5] END svc__C=10, svc__class_weight=balanced, svc__degree=4, svc__gamma=scale, svc__kernel=poly;, score=0.750 total time= 2.5min\n",
      "[CV 4/5] END svc__C=10, svc__class_weight=balanced, svc__degree=4, svc__gamma=scale, svc__kernel=poly;, score=0.758 total time= 2.5min\n",
      "[CV 3/5] END svc__C=10, svc__class_weight=balanced, svc__degree=4, svc__gamma=scale, svc__kernel=poly;, score=0.741 total time= 2.7min\n",
      "[CV 1/5] END svc__C=10, svc__class_weight=balanced, svc__degree=4, svc__gamma=auto, svc__kernel=linear;, score=0.747 total time= 2.1min\n",
      "[CV 2/5] END svc__C=10, svc__class_weight=balanced, svc__degree=4, svc__gamma=auto, svc__kernel=linear;, score=0.750 total time= 2.1min\n",
      "[CV 3/5] END svc__C=10, svc__class_weight=balanced, svc__degree=4, svc__gamma=auto, svc__kernel=linear;, score=0.740 total time= 2.1min\n",
      "[CV 4/5] END svc__C=10, svc__class_weight=balanced, svc__degree=4, svc__gamma=auto, svc__kernel=linear;, score=0.763 total time= 2.1min\n",
      "[CV 5/5] END svc__C=10, svc__class_weight=balanced, svc__degree=4, svc__gamma=auto, svc__kernel=linear;, score=0.744 total time= 2.1min\n",
      "[CV 1/5] END svc__C=10, svc__class_weight=None, svc__degree=2, svc__gamma=scale, svc__kernel=linear;, score=0.773 total time= 1.9min\n",
      "[CV 1/5] END svc__C=10, svc__class_weight=balanced, svc__degree=4, svc__gamma=auto, svc__kernel=rbf;, score=0.722 total time= 4.0min\n",
      "[CV 2/5] END svc__C=10, svc__class_weight=balanced, svc__degree=4, svc__gamma=auto, svc__kernel=rbf;, score=0.704 total time= 4.0min\n",
      "[CV 3/5] END svc__C=10, svc__class_weight=balanced, svc__degree=4, svc__gamma=auto, svc__kernel=rbf;, score=0.707 total time= 4.0min\n",
      "[CV 4/5] END svc__C=10, svc__class_weight=balanced, svc__degree=4, svc__gamma=auto, svc__kernel=rbf;, score=0.704 total time= 4.0min\n",
      "[CV 5/5] END svc__C=10, svc__class_weight=balanced, svc__degree=4, svc__gamma=auto, svc__kernel=rbf;, score=0.706 total time= 4.0min\n",
      "[CV 1/5] END svc__C=10, svc__class_weight=balanced, svc__degree=4, svc__gamma=auto, svc__kernel=sigmoid;, score=0.696 total time= 4.2min\n",
      "[CV 2/5] END svc__C=10, svc__class_weight=balanced, svc__degree=4, svc__gamma=auto, svc__kernel=sigmoid;, score=0.679 total time= 4.2min\n",
      "[CV 3/5] END svc__C=10, svc__class_weight=balanced, svc__degree=4, svc__gamma=auto, svc__kernel=sigmoid;, score=0.686 total time= 4.2min\n",
      "[CV 1/5] END svc__C=10, svc__class_weight=balanced, svc__degree=4, svc__gamma=auto, svc__kernel=poly;, score=0.402 total time= 5.1min\n",
      "[CV 4/5] END svc__C=10, svc__class_weight=balanced, svc__degree=4, svc__gamma=auto, svc__kernel=sigmoid;, score=0.680 total time= 4.2min\n",
      "[CV 2/5] END svc__C=10, svc__class_weight=balanced, svc__degree=4, svc__gamma=auto, svc__kernel=poly;, score=0.398 total time= 5.1min\n",
      "[CV 3/5] END svc__C=10, svc__class_weight=balanced, svc__degree=4, svc__gamma=auto, svc__kernel=poly;, score=0.398 total time= 5.1min\n",
      "[CV 4/5] END svc__C=10, svc__class_weight=balanced, svc__degree=4, svc__gamma=auto, svc__kernel=poly;, score=0.398 total time= 5.1min\n",
      "[CV 5/5] END svc__C=10, svc__class_weight=balanced, svc__degree=4, svc__gamma=auto, svc__kernel=poly;, score=0.398 total time= 5.1min\n",
      "[CV 2/5] END svc__C=10, svc__class_weight=None, svc__degree=2, svc__gamma=scale, svc__kernel=linear;, score=0.769 total time= 2.0min\n",
      "[CV 3/5] END svc__C=10, svc__class_weight=None, svc__degree=2, svc__gamma=scale, svc__kernel=linear;, score=0.771 total time= 2.0min\n",
      "[CV 4/5] END svc__C=10, svc__class_weight=None, svc__degree=2, svc__gamma=scale, svc__kernel=linear;, score=0.774 total time= 2.0min\n",
      "[CV 5/5] END svc__C=10, svc__class_weight=None, svc__degree=2, svc__gamma=scale, svc__kernel=linear;, score=0.774 total time= 2.0min\n",
      "[CV 5/5] END svc__C=10, svc__class_weight=balanced, svc__degree=4, svc__gamma=auto, svc__kernel=sigmoid;, score=0.683 total time= 4.3min\n",
      "[CV 1/5] END svc__C=10, svc__class_weight=None, svc__degree=2, svc__gamma=scale, svc__kernel=rbf;, score=0.761 total time= 2.6min\n",
      "[CV 2/5] END svc__C=10, svc__class_weight=None, svc__degree=2, svc__gamma=scale, svc__kernel=rbf;, score=0.756 total time= 2.5min\n",
      "[CV 1/5] END svc__C=10, svc__class_weight=None, svc__degree=2, svc__gamma=scale, svc__kernel=sigmoid;, score=0.677 total time= 1.2min\n",
      "[CV 2/5] END svc__C=10, svc__class_weight=None, svc__degree=2, svc__gamma=scale, svc__kernel=sigmoid;, score=0.687 total time= 1.3min\n",
      "[CV 3/5] END svc__C=10, svc__class_weight=None, svc__degree=2, svc__gamma=scale, svc__kernel=sigmoid;, score=0.679 total time= 1.2min\n",
      "[CV 4/5] END svc__C=10, svc__class_weight=None, svc__degree=2, svc__gamma=scale, svc__kernel=sigmoid;, score=0.680 total time= 1.2min\n",
      "[CV 5/5] END svc__C=10, svc__class_weight=None, svc__degree=2, svc__gamma=scale, svc__kernel=sigmoid;, score=0.705 total time= 1.2min\n",
      "[CV 4/5] END svc__C=10, svc__class_weight=None, svc__degree=2, svc__gamma=scale, svc__kernel=rbf;, score=0.767 total time= 2.6min\n",
      "[CV 3/5] END svc__C=10, svc__class_weight=None, svc__degree=2, svc__gamma=scale, svc__kernel=rbf;, score=0.761 total time= 2.6min\n",
      "[CV 1/5] END svc__C=10, svc__class_weight=None, svc__degree=2, svc__gamma=scale, svc__kernel=poly;, score=0.752 total time= 2.1min\n",
      "[CV 2/5] END svc__C=10, svc__class_weight=None, svc__degree=2, svc__gamma=scale, svc__kernel=poly;, score=0.755 total time= 2.1min\n",
      "[CV 4/5] END svc__C=10, svc__class_weight=None, svc__degree=2, svc__gamma=scale, svc__kernel=poly;, score=0.763 total time= 2.1min\n",
      "[CV 3/5] END svc__C=10, svc__class_weight=None, svc__degree=2, svc__gamma=scale, svc__kernel=poly;, score=0.755 total time= 2.1min\n",
      "[CV 5/5] END svc__C=10, svc__class_weight=None, svc__degree=2, svc__gamma=scale, svc__kernel=poly;, score=0.754 total time= 2.1min\n",
      "[CV 1/5] END svc__C=10, svc__class_weight=None, svc__degree=2, svc__gamma=auto, svc__kernel=linear;, score=0.773 total time= 1.9min\n",
      "[CV 5/5] END svc__C=10, svc__class_weight=None, svc__degree=2, svc__gamma=scale, svc__kernel=rbf;, score=0.759 total time= 2.5min\n",
      "[CV 2/5] END svc__C=10, svc__class_weight=None, svc__degree=2, svc__gamma=auto, svc__kernel=linear;, score=0.769 total time= 1.9min\n",
      "[CV 3/5] END svc__C=10, svc__class_weight=None, svc__degree=2, svc__gamma=auto, svc__kernel=linear;, score=0.771 total time= 1.9min\n",
      "[CV 4/5] END svc__C=10, svc__class_weight=None, svc__degree=2, svc__gamma=auto, svc__kernel=linear;, score=0.774 total time= 1.9min\n",
      "[CV 5/5] END svc__C=10, svc__class_weight=None, svc__degree=2, svc__gamma=auto, svc__kernel=linear;, score=0.774 total time= 1.9min\n",
      "[CV 1/5] END svc__C=10, svc__class_weight=None, svc__degree=2, svc__gamma=auto, svc__kernel=rbf;, score=0.734 total time= 3.4min\n",
      "[CV 2/5] END svc__C=10, svc__class_weight=None, svc__degree=2, svc__gamma=auto, svc__kernel=rbf;, score=0.733 total time= 3.4min\n",
      "[CV 3/5] END svc__C=10, svc__class_weight=None, svc__degree=2, svc__gamma=auto, svc__kernel=rbf;, score=0.733 total time= 3.4min\n",
      "[CV 1/5] END svc__C=10, svc__class_weight=None, svc__degree=3, svc__gamma=scale, svc__kernel=linear;, score=0.773 total time= 1.9min\n",
      "[CV 4/5] END svc__C=10, svc__class_weight=None, svc__degree=2, svc__gamma=auto, svc__kernel=rbf;, score=0.731 total time= 3.4min\n",
      "[CV 5/5] END svc__C=10, svc__class_weight=None, svc__degree=2, svc__gamma=auto, svc__kernel=rbf;, score=0.737 total time= 3.4min\n",
      "[CV 1/5] END svc__C=10, svc__class_weight=None, svc__degree=2, svc__gamma=auto, svc__kernel=sigmoid;, score=0.729 total time= 3.5min\n",
      "[CV 2/5] END svc__C=10, svc__class_weight=None, svc__degree=2, svc__gamma=auto, svc__kernel=sigmoid;, score=0.728 total time= 3.5min\n",
      "[CV 1/5] END svc__C=10, svc__class_weight=None, svc__degree=2, svc__gamma=auto, svc__kernel=poly;, score=0.402 total time= 4.3min\n",
      "[CV 3/5] END svc__C=10, svc__class_weight=None, svc__degree=2, svc__gamma=auto, svc__kernel=sigmoid;, score=0.728 total time= 3.5min\n",
      "[CV 2/5] END svc__C=10, svc__class_weight=None, svc__degree=2, svc__gamma=auto, svc__kernel=poly;, score=0.401 total time= 4.3min\n",
      "[CV 4/5] END svc__C=10, svc__class_weight=None, svc__degree=2, svc__gamma=auto, svc__kernel=sigmoid;, score=0.724 total time= 3.5min\n",
      "[CV 3/5] END svc__C=10, svc__class_weight=None, svc__degree=2, svc__gamma=auto, svc__kernel=poly;, score=0.401 total time= 4.3min\n",
      "[CV 4/5] END svc__C=10, svc__class_weight=None, svc__degree=2, svc__gamma=auto, svc__kernel=poly;, score=0.402 total time= 4.3min\n",
      "[CV 5/5] END svc__C=10, svc__class_weight=None, svc__degree=2, svc__gamma=auto, svc__kernel=poly;, score=0.402 total time= 4.3min\n",
      "[CV 5/5] END svc__C=10, svc__class_weight=None, svc__degree=2, svc__gamma=auto, svc__kernel=sigmoid;, score=0.733 total time= 3.5min\n",
      "[CV 2/5] END svc__C=10, svc__class_weight=None, svc__degree=3, svc__gamma=scale, svc__kernel=linear;, score=0.769 total time= 1.9min\n",
      "[CV 3/5] END svc__C=10, svc__class_weight=None, svc__degree=3, svc__gamma=scale, svc__kernel=linear;, score=0.771 total time= 1.9min\n",
      "[CV 4/5] END svc__C=10, svc__class_weight=None, svc__degree=3, svc__gamma=scale, svc__kernel=linear;, score=0.774 total time= 1.9min\n",
      "[CV 5/5] END svc__C=10, svc__class_weight=None, svc__degree=3, svc__gamma=scale, svc__kernel=linear;, score=0.774 total time= 1.9min\n",
      "[CV 1/5] END svc__C=10, svc__class_weight=None, svc__degree=3, svc__gamma=scale, svc__kernel=sigmoid;, score=0.677 total time= 1.3min\n",
      "[CV 1/5] END svc__C=10, svc__class_weight=None, svc__degree=3, svc__gamma=scale, svc__kernel=rbf;, score=0.761 total time= 2.6min\n",
      "[CV 2/5] END svc__C=10, svc__class_weight=None, svc__degree=3, svc__gamma=scale, svc__kernel=rbf;, score=0.756 total time= 2.5min\n",
      "[CV 3/5] END svc__C=10, svc__class_weight=None, svc__degree=3, svc__gamma=scale, svc__kernel=sigmoid;, score=0.679 total time= 1.2min\n",
      "[CV 5/5] END svc__C=10, svc__class_weight=None, svc__degree=3, svc__gamma=scale, svc__kernel=sigmoid;, score=0.705 total time= 1.2min\n",
      "[CV 4/5] END svc__C=10, svc__class_weight=None, svc__degree=3, svc__gamma=scale, svc__kernel=sigmoid;, score=0.680 total time= 1.2min\n",
      "[CV 2/5] END svc__C=10, svc__class_weight=None, svc__degree=3, svc__gamma=scale, svc__kernel=sigmoid;, score=0.687 total time= 1.3min\n",
      "[CV 3/5] END svc__C=10, svc__class_weight=None, svc__degree=3, svc__gamma=scale, svc__kernel=rbf;, score=0.761 total time= 2.6min\n",
      "[CV 4/5] END svc__C=10, svc__class_weight=None, svc__degree=3, svc__gamma=scale, svc__kernel=rbf;, score=0.767 total time= 2.5min\n",
      "[CV 1/5] END svc__C=10, svc__class_weight=None, svc__degree=3, svc__gamma=scale, svc__kernel=poly;, score=0.746 total time= 2.2min\n",
      "[CV 2/5] END svc__C=10, svc__class_weight=None, svc__degree=3, svc__gamma=scale, svc__kernel=poly;, score=0.754 total time= 2.2min\n",
      "[CV 3/5] END svc__C=10, svc__class_weight=None, svc__degree=3, svc__gamma=scale, svc__kernel=poly;, score=0.750 total time= 2.2min\n",
      "[CV 4/5] END svc__C=10, svc__class_weight=None, svc__degree=3, svc__gamma=scale, svc__kernel=poly;, score=0.766 total time= 2.2min\n",
      "[CV 5/5] END svc__C=10, svc__class_weight=None, svc__degree=3, svc__gamma=scale, svc__kernel=poly;, score=0.753 total time= 2.2min\n",
      "[CV 5/5] END svc__C=10, svc__class_weight=None, svc__degree=3, svc__gamma=scale, svc__kernel=rbf;, score=0.759 total time= 2.6min\n",
      "[CV 1/5] END svc__C=10, svc__class_weight=None, svc__degree=3, svc__gamma=auto, svc__kernel=linear;, score=0.773 total time= 2.0min\n",
      "[CV 2/5] END svc__C=10, svc__class_weight=None, svc__degree=3, svc__gamma=auto, svc__kernel=linear;, score=0.769 total time= 2.0min\n",
      "[CV 3/5] END svc__C=10, svc__class_weight=None, svc__degree=3, svc__gamma=auto, svc__kernel=linear;, score=0.771 total time= 2.1min\n",
      "[CV 4/5] END svc__C=10, svc__class_weight=None, svc__degree=3, svc__gamma=auto, svc__kernel=linear;, score=0.774 total time= 2.1min\n",
      "[CV 5/5] END svc__C=10, svc__class_weight=None, svc__degree=3, svc__gamma=auto, svc__kernel=linear;, score=0.774 total time= 2.1min\n",
      "[CV 2/5] END svc__C=10, svc__class_weight=None, svc__degree=3, svc__gamma=auto, svc__kernel=rbf;, score=0.733 total time= 3.7min\n",
      "[CV 3/5] END svc__C=10, svc__class_weight=None, svc__degree=3, svc__gamma=auto, svc__kernel=rbf;, score=0.733 total time= 3.7min\n",
      "[CV 1/5] END svc__C=10, svc__class_weight=None, svc__degree=3, svc__gamma=auto, svc__kernel=rbf;, score=0.734 total time= 3.7min\n",
      "[CV 4/5] END svc__C=10, svc__class_weight=None, svc__degree=3, svc__gamma=auto, svc__kernel=rbf;, score=0.731 total time= 3.7min\n",
      "[CV 5/5] END svc__C=10, svc__class_weight=None, svc__degree=3, svc__gamma=auto, svc__kernel=rbf;, score=0.737 total time= 3.7min\n",
      "[CV 1/5] END svc__C=10, svc__class_weight=None, svc__degree=4, svc__gamma=scale, svc__kernel=linear;, score=0.773 total time= 2.1min\n",
      "[CV 1/5] END svc__C=10, svc__class_weight=None, svc__degree=3, svc__gamma=auto, svc__kernel=sigmoid;, score=0.729 total time= 3.8min\n",
      "[CV 2/5] END svc__C=10, svc__class_weight=None, svc__degree=3, svc__gamma=auto, svc__kernel=sigmoid;, score=0.728 total time= 3.8min\n",
      "[CV 1/5] END svc__C=10, svc__class_weight=None, svc__degree=3, svc__gamma=auto, svc__kernel=poly;, score=0.402 total time= 4.7min\n",
      "[CV 2/5] END svc__C=10, svc__class_weight=None, svc__degree=3, svc__gamma=auto, svc__kernel=poly;, score=0.401 total time= 4.7min\n",
      "[CV 3/5] END svc__C=10, svc__class_weight=None, svc__degree=3, svc__gamma=auto, svc__kernel=poly;, score=0.401 total time= 4.7min\n",
      "[CV 4/5] END svc__C=10, svc__class_weight=None, svc__degree=3, svc__gamma=auto, svc__kernel=poly;, score=0.402 total time= 4.7min\n",
      "[CV 5/5] END svc__C=10, svc__class_weight=None, svc__degree=3, svc__gamma=auto, svc__kernel=poly;, score=0.402 total time= 4.7min\n",
      "[CV 3/5] END svc__C=10, svc__class_weight=None, svc__degree=3, svc__gamma=auto, svc__kernel=sigmoid;, score=0.728 total time= 3.8min\n",
      "[CV 4/5] END svc__C=10, svc__class_weight=None, svc__degree=3, svc__gamma=auto, svc__kernel=sigmoid;, score=0.724 total time= 3.8min\n",
      "[CV 5/5] END svc__C=10, svc__class_weight=None, svc__degree=3, svc__gamma=auto, svc__kernel=sigmoid;, score=0.733 total time= 3.8min\n",
      "[CV 2/5] END svc__C=10, svc__class_weight=None, svc__degree=4, svc__gamma=scale, svc__kernel=linear;, score=0.769 total time= 2.1min\n",
      "[CV 3/5] END svc__C=10, svc__class_weight=None, svc__degree=4, svc__gamma=scale, svc__kernel=linear;, score=0.771 total time= 2.1min\n",
      "[CV 4/5] END svc__C=10, svc__class_weight=None, svc__degree=4, svc__gamma=scale, svc__kernel=linear;, score=0.774 total time= 2.1min\n",
      "[CV 5/5] END svc__C=10, svc__class_weight=None, svc__degree=4, svc__gamma=scale, svc__kernel=linear;, score=0.774 total time= 2.1min\n",
      "[CV 1/5] END svc__C=10, svc__class_weight=None, svc__degree=4, svc__gamma=scale, svc__kernel=rbf;, score=0.761 total time= 2.8min\n",
      "[CV 2/5] END svc__C=10, svc__class_weight=None, svc__degree=4, svc__gamma=scale, svc__kernel=rbf;, score=0.756 total time= 2.8min\n",
      "[CV 1/5] END svc__C=10, svc__class_weight=None, svc__degree=4, svc__gamma=scale, svc__kernel=sigmoid;, score=0.677 total time= 1.4min\n",
      "[CV 2/5] END svc__C=10, svc__class_weight=None, svc__degree=4, svc__gamma=scale, svc__kernel=sigmoid;, score=0.687 total time= 1.4min\n",
      "[CV 3/5] END svc__C=10, svc__class_weight=None, svc__degree=4, svc__gamma=scale, svc__kernel=sigmoid;, score=0.679 total time= 1.3min\n",
      "[CV 4/5] END svc__C=10, svc__class_weight=None, svc__degree=4, svc__gamma=scale, svc__kernel=sigmoid;, score=0.680 total time= 1.3min\n",
      "[CV 5/5] END svc__C=10, svc__class_weight=None, svc__degree=4, svc__gamma=scale, svc__kernel=sigmoid;, score=0.705 total time= 1.3min\n",
      "[CV 3/5] END svc__C=10, svc__class_weight=None, svc__degree=4, svc__gamma=scale, svc__kernel=rbf;, score=0.761 total time= 2.8min\n",
      "[CV 4/5] END svc__C=10, svc__class_weight=None, svc__degree=4, svc__gamma=scale, svc__kernel=rbf;, score=0.767 total time= 2.8min\n",
      "[CV 1/5] END svc__C=10, svc__class_weight=None, svc__degree=4, svc__gamma=scale, svc__kernel=poly;, score=0.750 total time= 2.5min\n",
      "[CV 3/5] END svc__C=10, svc__class_weight=None, svc__degree=4, svc__gamma=scale, svc__kernel=poly;, score=0.748 total time= 2.5min\n",
      "[CV 4/5] END svc__C=10, svc__class_weight=None, svc__degree=4, svc__gamma=scale, svc__kernel=poly;, score=0.766 total time= 2.5min\n",
      "[CV 5/5] END svc__C=10, svc__class_weight=None, svc__degree=4, svc__gamma=scale, svc__kernel=rbf;, score=0.759 total time= 2.8min\n",
      "[CV 5/5] END svc__C=10, svc__class_weight=None, svc__degree=4, svc__gamma=scale, svc__kernel=poly;, score=0.756 total time= 2.5min\n",
      "[CV 1/5] END svc__C=10, svc__class_weight=None, svc__degree=4, svc__gamma=auto, svc__kernel=linear;, score=0.773 total time= 2.1min\n",
      "[CV 2/5] END svc__C=10, svc__class_weight=None, svc__degree=4, svc__gamma=scale, svc__kernel=poly;, score=0.755 total time= 3.2min\n",
      "[CV 2/5] END svc__C=10, svc__class_weight=None, svc__degree=4, svc__gamma=auto, svc__kernel=linear;, score=0.769 total time= 2.1min\n",
      "[CV 3/5] END svc__C=10, svc__class_weight=None, svc__degree=4, svc__gamma=auto, svc__kernel=linear;, score=0.771 total time= 2.1min\n",
      "[CV 4/5] END svc__C=10, svc__class_weight=None, svc__degree=4, svc__gamma=auto, svc__kernel=linear;, score=0.774 total time= 2.1min\n",
      "[CV 5/5] END svc__C=10, svc__class_weight=None, svc__degree=4, svc__gamma=auto, svc__kernel=linear;, score=0.774 total time= 2.1min\n",
      "[CV 2/5] END svc__C=10, svc__class_weight=None, svc__degree=4, svc__gamma=auto, svc__kernel=rbf;, score=0.733 total time= 3.6min\n",
      "[CV 1/5] END svc__C=10, svc__class_weight=None, svc__degree=4, svc__gamma=auto, svc__kernel=rbf;, score=0.734 total time= 3.6min\n",
      "[CV 3/5] END svc__C=10, svc__class_weight=None, svc__degree=4, svc__gamma=auto, svc__kernel=rbf;, score=0.733 total time= 3.6min\n",
      "[CV 4/5] END svc__C=10, svc__class_weight=None, svc__degree=4, svc__gamma=auto, svc__kernel=rbf;, score=0.731 total time= 3.5min\n",
      "[CV 5/5] END svc__C=10, svc__class_weight=None, svc__degree=4, svc__gamma=auto, svc__kernel=rbf;, score=0.737 total time= 3.4min\n",
      "[CV 1/5] END svc__C=10, svc__class_weight=None, svc__degree=4, svc__gamma=auto, svc__kernel=sigmoid;, score=0.729 total time= 3.4min\n",
      "[CV 2/5] END svc__C=10, svc__class_weight=None, svc__degree=4, svc__gamma=auto, svc__kernel=sigmoid;, score=0.728 total time= 3.2min\n",
      "[CV 1/5] END svc__C=10, svc__class_weight=None, svc__degree=4, svc__gamma=auto, svc__kernel=poly;, score=0.402 total time= 4.0min\n",
      "[CV 2/5] END svc__C=10, svc__class_weight=None, svc__degree=4, svc__gamma=auto, svc__kernel=poly;, score=0.401 total time= 4.0min\n",
      "[CV 3/5] END svc__C=10, svc__class_weight=None, svc__degree=4, svc__gamma=auto, svc__kernel=poly;, score=0.401 total time= 4.0min\n",
      "[CV 4/5] END svc__C=10, svc__class_weight=None, svc__degree=4, svc__gamma=auto, svc__kernel=poly;, score=0.402 total time= 3.8min\n",
      "[CV 5/5] END svc__C=10, svc__class_weight=None, svc__degree=4, svc__gamma=auto, svc__kernel=poly;, score=0.402 total time= 3.8min\n",
      "[CV 3/5] END svc__C=10, svc__class_weight=None, svc__degree=4, svc__gamma=auto, svc__kernel=sigmoid;, score=0.728 total time= 2.9min\n",
      "[CV 4/5] END svc__C=10, svc__class_weight=None, svc__degree=4, svc__gamma=auto, svc__kernel=sigmoid;, score=0.724 total time= 2.8min\n",
      "[CV 5/5] END svc__C=10, svc__class_weight=None, svc__degree=4, svc__gamma=auto, svc__kernel=sigmoid;, score=0.733 total time= 2.7min\n"
     ]
    },
    {
     "data": {
      "text/plain": [
       "{'svc__C': 1,\n",
       " 'svc__class_weight': None,\n",
       " 'svc__degree': 2,\n",
       " 'svc__gamma': 'scale',\n",
       " 'svc__kernel': 'rbf'}"
      ]
     },
     "execution_count": 135,
     "metadata": {},
     "output_type": "execute_result"
    }
   ],
   "source": [
    "steps = [('svc', SVC(C=1.0, kernel='rbf', gamma='scale'))] \n",
    "pipeline = Pipeline(steps) \n",
    "parameters = {\n",
    "    'svc__C': [0.1, 1, 10],\n",
    "    'svc__kernel': ['linear', 'rbf', 'poly', 'sigmoid'],\n",
    "    'svc__degree': [2, 3, 4],\n",
    "    'svc__gamma': ['scale', 'auto'],\n",
    "    'svc__class_weight': ['balanced', None]\n",
    "}\n",
    "clf = GridSearchCV(pipeline, parameters, scoring=\"accuracy\", n_jobs = -1, verbose = 3) \n",
    "clf.fit(X_train, y_train)\n",
    "\n",
    "clf.best_params_\n"
   ]
  },
  {
   "cell_type": "code",
   "execution_count": 149,
   "metadata": {},
   "outputs": [
    {
     "data": {
      "image/png": "[encoded data removed]",
      "text/plain": [
       "<Figure size 800x500 with 4 Axes>"
      ]
     },
     "metadata": {},
     "output_type": "display_data"
    }
   ],
   "source": [
    "import matplotlib.pyplot as plt\n",
    "import pandas as pd\n",
    "\n",
    "# Extract results from GridSearchCV\n",
    "results = clf.cv_results_\n",
    "param_values = results['params']\n",
    "mean_scores = results['mean_test_score']\n",
    "\n",
    "# Create a DataFrame for easier manipulation\n",
    "df_results = pd.DataFrame(param_values)\n",
    "df_results['mean_score'] = mean_scores\n",
    "\n",
    "# Define the hyper-parameters to analyze\n",
    "hyperparams = ['svc__C', 'svc__kernel', 'svc__degree', 'svc__gamma']\n",
    "\n",
    "# Define colors for the plots\n",
    "colors = ['red', 'green', 'blue', 'purple']\n",
    "\n",
    "# Create subplots\n",
    "fig, axes = plt.subplots(nrows=2, ncols=2, figsize=(8, 5))\n",
    "\n",
    "# Iterate over hyper-parameters and plot sensitivity\n",
    "for i, (hyperparam, color) in enumerate(zip(hyperparams, colors)):\n",
    "    row = i // 2\n",
    "    col = i % 2\n",
    "\n",
    "    ax = axes[row, col]\n",
    "\n",
    "    # Group mean scores by hyper-parameter value\n",
    "    grouped_data = df_results.groupby(hyperparam)['mean_score'].mean()\n",
    "\n",
    "    # Plot the grouped data with the assigned color\n",
    "    ax.plot(grouped_data.index, grouped_data.values, marker='o', color=color)\n",
    "\n",
    "    ax.set_xlabel(hyperparam)\n",
    "    ax.set_ylabel('Accuracy')\n",
    "    ax.set_title(f'Hyper-parameter Sensitivity: {hyperparam}')\n",
    "    ax.grid(True)\n",
    "\n",
    "# Adjust spacing between subplots\n",
    "plt.tight_layout()\n",
    "\n",
    "# Display the figure\n",
    "plt.show()"
   ]
  },
  {
   "cell_type": "code",
   "execution_count": 181,
   "metadata": {},
   "outputs": [],
   "source": [
    "svm_model_best = SVC(\n",
    "    C=1, kernel='rbf', gamma='scale', degree=2, class_weight=None\n",
    ")\n",
    "\n",
    "metrics_df.loc[len(metrics_df.index)] = evaluate_model(\"Support Vector Best\", svm_model_best, X_train, X_test, y_train, y_test)"
   ]
  },
  {
   "cell_type": "code",
   "execution_count": 184,
   "metadata": {},
   "outputs": [
    {
     "data": {
      "text/html": [
       "<div>\n",
       "<style scoped>\n",
       "    .dataframe tbody tr th:only-of-type {\n",
       "        vertical-align: middle;\n",
       "    }\n",
       "\n",
       "    .dataframe tbody tr th {\n",
       "        vertical-align: top;\n",
       "    }\n",
       "\n",
       "    .dataframe thead th {\n",
       "        text-align: right;\n",
       "    }\n",
       "</style>\n",
       "<table border=\"1\" class=\"dataframe\">\n",
       "  <thead>\n",
       "    <tr style=\"text-align: right;\">\n",
       "      <th></th>\n",
       "      <th>Model</th>\n",
       "      <th>Accuracy</th>\n",
       "      <th>Precision</th>\n",
       "      <th>Recall</th>\n",
       "      <th>F1 Score</th>\n",
       "    </tr>\n",
       "  </thead>\n",
       "  <tbody>\n",
       "    <tr>\n",
       "      <th>0</th>\n",
       "      <td>Logistic Regression</td>\n",
       "      <td>0.787362</td>\n",
       "      <td>0.770315</td>\n",
       "      <td>0.787362</td>\n",
       "      <td>0.771113</td>\n",
       "    </tr>\n",
       "    <tr>\n",
       "      <th>1</th>\n",
       "      <td>Random Forest</td>\n",
       "      <td>0.749248</td>\n",
       "      <td>0.713914</td>\n",
       "      <td>0.749248</td>\n",
       "      <td>0.702221</td>\n",
       "    </tr>\n",
       "    <tr>\n",
       "      <th>2</th>\n",
       "      <td>SVM</td>\n",
       "      <td>0.791374</td>\n",
       "      <td>0.776112</td>\n",
       "      <td>0.791374</td>\n",
       "      <td>0.778368</td>\n",
       "    </tr>\n",
       "    <tr>\n",
       "      <th>3</th>\n",
       "      <td>Support Vector Best</td>\n",
       "      <td>0.791374</td>\n",
       "      <td>0.776112</td>\n",
       "      <td>0.791374</td>\n",
       "      <td>0.778368</td>\n",
       "    </tr>\n",
       "    <tr>\n",
       "      <th>4</th>\n",
       "      <td>Logistic Regression Best</td>\n",
       "      <td>0.786861</td>\n",
       "      <td>0.771890</td>\n",
       "      <td>0.786861</td>\n",
       "      <td>0.775611</td>\n",
       "    </tr>\n",
       "  </tbody>\n",
       "</table>\n",
       "</div>"
      ],
      "text/plain": [
       "                      Model  Accuracy  Precision    Recall  F1 Score\n",
       "0       Logistic Regression  0.787362   0.770315  0.787362  0.771113\n",
       "1             Random Forest  0.749248   0.713914  0.749248  0.702221\n",
       "2                       SVM  0.791374   0.776112  0.791374  0.778368\n",
       "3       Support Vector Best  0.791374   0.776112  0.791374  0.778368\n",
       "4  Logistic Regression Best  0.786861   0.771890  0.786861  0.775611"
      ]
     },
     "execution_count": 184,
     "metadata": {},
     "output_type": "execute_result"
    }
   ],
   "source": [
    "metrics_df.head()"
   ]
  },
  {
   "cell_type": "code",
   "execution_count": 130,
   "metadata": {},
   "outputs": [
    {
     "data": {
      "text/plain": [
       "3"
      ]
     },
     "execution_count": 130,
     "metadata": {},
     "output_type": "execute_result"
    }
   ],
   "source": [
    "n_classes=np.unique(y_train).shape[0]\n",
    "n_classes"
   ]
  },
  {
   "cell_type": "code",
   "execution_count": 139,
   "metadata": {},
   "outputs": [
    {
     "data": {
      "text/plain": [
       "array(['-1', '0', '1'], dtype=object)"
      ]
     },
     "execution_count": 139,
     "metadata": {},
     "output_type": "execute_result"
    }
   ],
   "source": [
    "np.unique(y_train)"
   ]
  },
  {
   "attachments": {},
   "cell_type": "markdown",
   "metadata": {},
   "source": [
    "Training Accuracy"
   ]
  },
  {
   "cell_type": "code",
   "execution_count": 156,
   "metadata": {},
   "outputs": [
    {
     "name": "stdout",
     "output_type": "stream",
     "text": [
      "[0.05 0.1  0.15 0.2  0.25 0.3  0.35 0.4  0.45 0.5  0.55 0.6  0.65 0.7\n",
      " 0.75 0.8  0.85 0.9  0.95 1.  ]\n",
      "For fraction 0.05, evaluation accuracy: 0.749498997995992\n",
      "For fraction 0.1, evaluation accuracy: 0.7773319959879639\n",
      "For fraction 0.15, evaluation accuracy: 0.7947860962566845\n",
      "For fraction 0.2, evaluation accuracy: 0.7868605817452357\n",
      "For fraction 0.25, evaluation accuracy: 0.7841091492776886\n",
      "For fraction 0.3, evaluation accuracy: 0.7913741223671013\n",
      "For fraction 0.35, evaluation accuracy: 0.7750071653768988\n",
      "For fraction 0.39999999999999997, evaluation accuracy: 0.7848006019563581\n",
      "For fraction 0.44999999999999996, evaluation accuracy: 0.7860008916629514\n",
      "For fraction 0.49999999999999994, evaluation accuracy: 0.7794943820224719\n",
      "For fraction 0.5499999999999999, evaluation accuracy: 0.7758526354185665\n",
      "For fraction 0.6, evaluation accuracy: 0.7779635512456111\n",
      "For fraction 0.65, evaluation accuracy: 0.7894736842105263\n",
      "For fraction 0.7, evaluation accuracy: 0.7775867010604758\n",
      "For fraction 0.75, evaluation accuracy: 0.7882557517388978\n",
      "For fraction 0.7999999999999999, evaluation accuracy: 0.7845497868071232\n",
      "For fraction 0.85, evaluation accuracy: 0.7952319131358433\n",
      "For fraction 0.9, evaluation accuracy: 0.796009363504626\n",
      "For fraction 0.95, evaluation accuracy: 0.7885732389903897\n",
      "For fraction 1.0, evaluation accuracy: 0.7948434991974318\n"
     ]
    },
    {
     "data": {
      "image/png": "[encoded data removed]",
      "text/plain": [
       "<Figure size 640x480 with 1 Axes>"
      ]
     },
     "metadata": {},
     "output_type": "display_data"
    }
   ],
   "source": [
    "import numpy as np\n",
    "import matplotlib.pyplot as plt\n",
    "\n",
    "fractions = np.linspace(0.05, 1.0, 20)  # Generate 20 fractions between 0.05 and 1.0\n",
    "\n",
    "accuracy_scores = []\n",
    "\n",
    "print(fractions)\n",
    "\n",
    "for frac in fractions:\n",
    "    train_df, test_df = splitData(df_final, frac)\n",
    "    X_train = np.stack(train_df['embeddings'].values)\n",
    "    y_train = train_df['sentiment'].values\n",
    "    X_test = np.stack(test_df['embeddings'].values)\n",
    "    y_test = test_df['sentiment'].values\n",
    "\n",
    "    model = train_model(svm_model, X_train, y_train)\n",
    "    accuracy = evaluate_model(model, X_test, y_test)[0]  # Get the accuracy score\n",
    "    print(\"For fraction {}, evaluation accuracy: {}\".format(frac, accuracy))\n",
    "    accuracy_scores.append(accuracy)\n",
    "\n",
    "# Plot the accuracy scores\n",
    "plt.plot(fractions, accuracy_scores)\n",
    "plt.xlabel('Fraction')\n",
    "plt.ylabel('Accuracy Score')\n",
    "plt.title('Accuracy Score vs Fraction')\n",
    "plt.show()\n"
   ]
  },
  {
   "cell_type": "code",
   "execution_count": 185,
   "metadata": {},
   "outputs": [],
   "source": [
    "from sklearn.metrics import roc_curve, auc\n",
    "from sklearn.preprocessing import label_binarize\n",
    "from sklearn.multiclass import OneVsRestClassifier\n",
    "from scipy import interp\n",
    "from itertools import cycle\n",
    "import matplotlib.pyplot as plt\n",
    "def generate_ROC_AUC(name, model, X_train, y_train):\n",
    "    # Binarize the labels\n",
    "    y_train_bin = label_binarize(y_train, classes=list(set(y_train)))\n",
    "    n_classes = y_train_bin.shape[1]\n",
    "\n",
    "    # Train the model\n",
    "    model.fit(X_train, y_train)\n",
    "\n",
    "    # Compute probabilities for each class\n",
    "    y_score = model.predict_proba(X_train)\n",
    "\n",
    "    # Compute ROC curve and ROC AUC for each class\n",
    "    fpr = dict()\n",
    "    tpr = dict()\n",
    "    roc_auc = dict()\n",
    "    for i in range(n_classes):\n",
    "        fpr[i], tpr[i], _ = roc_curve(y_train_bin[:, i], y_score[:, i])\n",
    "        roc_auc[i] = auc(fpr[i], tpr[i])\n",
    "\n",
    "    # Plot ROC curves\n",
    "    plt.figure(figsize=(8, 6))\n",
    "    for i in range(n_classes):\n",
    "        plt.plot(fpr[i], tpr[i], label='Class {0} (AUC = {1:0.2f})'.format(i, roc_auc[i]))\n",
    "\n",
    "    plt.plot([0, 1], [0, 1], 'k--')  # Diagonal reference line\n",
    "    plt.xlabel('False Positive Rate')\n",
    "    plt.ylabel('True Positive Rate')\n",
    "    plt.title('ROC Curve - {}'.format(name))\n",
    "    plt.legend(loc='lower right')\n",
    "    plt.show()\n"
   ]
  },
  {
   "cell_type": "code",
   "execution_count": 186,
   "metadata": {},
   "outputs": [
    {
     "data": {
      "image/png": "[encoded data removed]",
      "text/plain": [
       "<Figure size 800x600 with 1 Axes>"
      ]
     },
     "metadata": {},
     "output_type": "display_data"
    }
   ],
   "source": [
    "generate_ROC_AUC('Logistic Regression Best',lr_model_best, X_train, y_train)"
   ]
  },
  {
   "cell_type": "code",
   "execution_count": 187,
   "metadata": {},
   "outputs": [
    {
     "name": "stderr",
     "output_type": "stream",
     "text": [
      "/home/sairindhri/yelp-data-analysis/venv/lib/python3.10/site-packages/sklearn/ensemble/_forest.py:424: FutureWarning: `max_features='auto'` has been deprecated in 1.1 and will be removed in 1.3. To keep the past behaviour, explicitly set `max_features='sqrt'` or remove this parameter as it is also the default value for RandomForestClassifiers and ExtraTreesClassifiers.\n",
      "  warn(\n"
     ]
    },
    {
     "data": {
      "image/png": "[encoded data removed]",
      "text/plain": [
       "<Figure size 800x600 with 1 Axes>"
      ]
     },
     "metadata": {},
     "output_type": "display_data"
    }
   ],
   "source": [
    "generate_ROC_AUC('Random Forest',rf_model, X_train, y_train)"
   ]
  },
  {
   "attachments": {},
   "cell_type": "markdown",
   "metadata": {},
   "source": [
    "# Deep Learning Model "
   ]
  },
  {
   "cell_type": "code",
   "execution_count": 258,
   "metadata": {},
   "outputs": [],
   "source": [
    "import tensorflow as tf\n",
    "import tensorflow.keras as keras\n",
    "import regex as re\n",
    "from sklearn import preprocessing"
   ]
  },
  {
   "cell_type": "code",
   "execution_count": 275,
   "metadata": {},
   "outputs": [
    {
     "data": {
      "text/plain": [
       "(79739, 3)"
      ]
     },
     "execution_count": 275,
     "metadata": {},
     "output_type": "execute_result"
    }
   ],
   "source": [
    "enc = preprocessing.OneHotEncoder()\n",
    "label = train_df['sentiment'].values.reshape ((-1,1))\n",
    "enc.fit(label)\n",
    "y_train = enc.transform(label).toarray()\n",
    "y_train.shape"
   ]
  },
  {
   "cell_type": "code",
   "execution_count": 276,
   "metadata": {},
   "outputs": [
    {
     "data": {
      "text/plain": [
       "array([[0., 1., 0.],\n",
       "       [1., 0., 0.],\n",
       "       [1., 0., 0.],\n",
       "       ...,\n",
       "       [0., 1., 0.],\n",
       "       [1., 0., 0.],\n",
       "       [0., 0., 1.]])"
      ]
     },
     "execution_count": 276,
     "metadata": {},
     "output_type": "execute_result"
    }
   ],
   "source": [
    "y_train"
   ]
  },
  {
   "cell_type": "code",
   "execution_count": 282,
   "metadata": {},
   "outputs": [],
   "source": [
    "# Create and train Keras model\n",
    "n_features=X_train.shape[1]\n",
    "n_labels = y_train.shape[1]"
   ]
  },
  {
   "cell_type": "code",
   "execution_count": 278,
   "metadata": {},
   "outputs": [
    {
     "data": {
      "text/plain": [
       "384"
      ]
     },
     "execution_count": 278,
     "metadata": {},
     "output_type": "execute_result"
    }
   ],
   "source": [
    "n_features\n"
   ]
  },
  {
   "cell_type": "code",
   "execution_count": 279,
   "metadata": {},
   "outputs": [
    {
     "data": {
      "text/plain": [
       "3"
      ]
     },
     "execution_count": 279,
     "metadata": {},
     "output_type": "execute_result"
    }
   ],
   "source": [
    "n_labels"
   ]
  },
  {
   "cell_type": "code",
   "execution_count": 287,
   "metadata": {},
   "outputs": [
    {
     "name": "stdout",
     "output_type": "stream",
     "text": [
      "Epoch 1/100\n",
      "592/592 [==============================] - 2s 2ms/step - loss: 1.0066 - accuracy: 0.6393 - val_loss: 0.9008 - val_accuracy: 0.7091\n",
      "Epoch 2/100\n",
      "592/592 [==============================] - 1s 2ms/step - loss: 0.8089 - accuracy: 0.7176 - val_loss: 0.7339 - val_accuracy: 0.7151\n",
      "Epoch 3/100\n",
      "592/592 [==============================] - 1s 2ms/step - loss: 0.6946 - accuracy: 0.7282 - val_loss: 0.6615 - val_accuracy: 0.7198\n",
      "Epoch 4/100\n",
      "592/592 [==============================] - 1s 2ms/step - loss: 0.6452 - accuracy: 0.7370 - val_loss: 0.6282 - val_accuracy: 0.7334\n",
      "Epoch 5/100\n",
      "592/592 [==============================] - 1s 2ms/step - loss: 0.6174 - accuracy: 0.7448 - val_loss: 0.6101 - val_accuracy: 0.7404\n",
      "Epoch 6/100\n",
      "592/592 [==============================] - 1s 2ms/step - loss: 0.6021 - accuracy: 0.7495 - val_loss: 0.5993 - val_accuracy: 0.7442\n",
      "Epoch 7/100\n",
      "592/592 [==============================] - 1s 2ms/step - loss: 0.5929 - accuracy: 0.7535 - val_loss: 0.5918 - val_accuracy: 0.7489\n",
      "Epoch 8/100\n",
      "592/592 [==============================] - 1s 2ms/step - loss: 0.5854 - accuracy: 0.7572 - val_loss: 0.5864 - val_accuracy: 0.7514\n",
      "Epoch 9/100\n",
      "592/592 [==============================] - 1s 2ms/step - loss: 0.5796 - accuracy: 0.7594 - val_loss: 0.5818 - val_accuracy: 0.7512\n",
      "Epoch 10/100\n",
      "592/592 [==============================] - 1s 2ms/step - loss: 0.5744 - accuracy: 0.7609 - val_loss: 0.5788 - val_accuracy: 0.7522\n",
      "Epoch 11/100\n",
      "592/592 [==============================] - 1s 2ms/step - loss: 0.5725 - accuracy: 0.7629 - val_loss: 0.5751 - val_accuracy: 0.7550\n",
      "Epoch 12/100\n",
      "592/592 [==============================] - 1s 2ms/step - loss: 0.5681 - accuracy: 0.7644 - val_loss: 0.5729 - val_accuracy: 0.7547\n",
      "Epoch 13/100\n",
      "592/592 [==============================] - 1s 2ms/step - loss: 0.5647 - accuracy: 0.7670 - val_loss: 0.5704 - val_accuracy: 0.7565\n",
      "Epoch 14/100\n",
      "592/592 [==============================] - 1s 2ms/step - loss: 0.5622 - accuracy: 0.7666 - val_loss: 0.5687 - val_accuracy: 0.7570\n",
      "Epoch 15/100\n",
      "592/592 [==============================] - 1s 2ms/step - loss: 0.5607 - accuracy: 0.7680 - val_loss: 0.5668 - val_accuracy: 0.7590\n",
      "Epoch 16/100\n",
      "592/592 [==============================] - 1s 2ms/step - loss: 0.5567 - accuracy: 0.7691 - val_loss: 0.5653 - val_accuracy: 0.7605\n",
      "Epoch 17/100\n",
      "592/592 [==============================] - 1s 2ms/step - loss: 0.5562 - accuracy: 0.7683 - val_loss: 0.5646 - val_accuracy: 0.7575\n",
      "Epoch 18/100\n",
      "592/592 [==============================] - 1s 2ms/step - loss: 0.5533 - accuracy: 0.7709 - val_loss: 0.5627 - val_accuracy: 0.7627\n",
      "Epoch 19/100\n",
      "592/592 [==============================] - 1s 2ms/step - loss: 0.5515 - accuracy: 0.7718 - val_loss: 0.5619 - val_accuracy: 0.7627\n",
      "Epoch 20/100\n",
      "592/592 [==============================] - 1s 2ms/step - loss: 0.5513 - accuracy: 0.7722 - val_loss: 0.5611 - val_accuracy: 0.7650\n",
      "Epoch 21/100\n",
      "592/592 [==============================] - 1s 2ms/step - loss: 0.5491 - accuracy: 0.7721 - val_loss: 0.5600 - val_accuracy: 0.7647\n",
      "Epoch 22/100\n",
      "592/592 [==============================] - 1s 2ms/step - loss: 0.5479 - accuracy: 0.7742 - val_loss: 0.5593 - val_accuracy: 0.7675\n",
      "Epoch 23/100\n",
      "592/592 [==============================] - 1s 2ms/step - loss: 0.5472 - accuracy: 0.7736 - val_loss: 0.5585 - val_accuracy: 0.7662\n",
      "Epoch 24/100\n",
      "592/592 [==============================] - 1s 2ms/step - loss: 0.5458 - accuracy: 0.7750 - val_loss: 0.5581 - val_accuracy: 0.7690\n",
      "Epoch 25/100\n",
      "592/592 [==============================] - 1s 2ms/step - loss: 0.5450 - accuracy: 0.7740 - val_loss: 0.5571 - val_accuracy: 0.7677\n",
      "Epoch 26/100\n",
      "592/592 [==============================] - 1s 2ms/step - loss: 0.5445 - accuracy: 0.7752 - val_loss: 0.5567 - val_accuracy: 0.7662\n",
      "Epoch 27/100\n",
      "592/592 [==============================] - 1s 2ms/step - loss: 0.5432 - accuracy: 0.7759 - val_loss: 0.5561 - val_accuracy: 0.7690\n",
      "Epoch 28/100\n",
      "592/592 [==============================] - 1s 2ms/step - loss: 0.5421 - accuracy: 0.7765 - val_loss: 0.5555 - val_accuracy: 0.7682\n",
      "Epoch 29/100\n",
      "592/592 [==============================] - 1s 2ms/step - loss: 0.5406 - accuracy: 0.7749 - val_loss: 0.5549 - val_accuracy: 0.7685\n",
      "Epoch 30/100\n",
      "592/592 [==============================] - 1s 2ms/step - loss: 0.5404 - accuracy: 0.7757 - val_loss: 0.5543 - val_accuracy: 0.7695\n",
      "Epoch 31/100\n",
      "592/592 [==============================] - 1s 2ms/step - loss: 0.5385 - accuracy: 0.7776 - val_loss: 0.5540 - val_accuracy: 0.7695\n",
      "Epoch 32/100\n",
      "592/592 [==============================] - 1s 2ms/step - loss: 0.5389 - accuracy: 0.7779 - val_loss: 0.5537 - val_accuracy: 0.7693\n",
      "Epoch 33/100\n",
      "592/592 [==============================] - 1s 2ms/step - loss: 0.5377 - accuracy: 0.7778 - val_loss: 0.5532 - val_accuracy: 0.7687\n",
      "Epoch 34/100\n",
      "592/592 [==============================] - 1s 1ms/step - loss: 0.5379 - accuracy: 0.7777 - val_loss: 0.5528 - val_accuracy: 0.7705\n",
      "Epoch 35/100\n",
      "592/592 [==============================] - 1s 2ms/step - loss: 0.5366 - accuracy: 0.7786 - val_loss: 0.5523 - val_accuracy: 0.7708\n",
      "Epoch 36/100\n",
      "592/592 [==============================] - 1s 2ms/step - loss: 0.5359 - accuracy: 0.7774 - val_loss: 0.5520 - val_accuracy: 0.7685\n",
      "Epoch 37/100\n",
      "592/592 [==============================] - 1s 2ms/step - loss: 0.5347 - accuracy: 0.7788 - val_loss: 0.5517 - val_accuracy: 0.7695\n",
      "Epoch 38/100\n",
      "592/592 [==============================] - 1s 2ms/step - loss: 0.5351 - accuracy: 0.7793 - val_loss: 0.5520 - val_accuracy: 0.7705\n",
      "Epoch 39/100\n",
      "592/592 [==============================] - 1s 2ms/step - loss: 0.5339 - accuracy: 0.7787 - val_loss: 0.5517 - val_accuracy: 0.7715\n",
      "Epoch 40/100\n",
      "592/592 [==============================] - 1s 2ms/step - loss: 0.5339 - accuracy: 0.7785 - val_loss: 0.5509 - val_accuracy: 0.7700\n",
      "Epoch 41/100\n",
      "592/592 [==============================] - 1s 2ms/step - loss: 0.5333 - accuracy: 0.7795 - val_loss: 0.5506 - val_accuracy: 0.7687\n",
      "Epoch 42/100\n",
      "592/592 [==============================] - 1s 2ms/step - loss: 0.5323 - accuracy: 0.7803 - val_loss: 0.5506 - val_accuracy: 0.7698\n",
      "Epoch 43/100\n",
      "592/592 [==============================] - 1s 2ms/step - loss: 0.5307 - accuracy: 0.7803 - val_loss: 0.5507 - val_accuracy: 0.7708\n",
      "Epoch 44/100\n",
      "592/592 [==============================] - 1s 2ms/step - loss: 0.5301 - accuracy: 0.7801 - val_loss: 0.5501 - val_accuracy: 0.7698\n",
      "Epoch 45/100\n",
      "592/592 [==============================] - 1s 2ms/step - loss: 0.5312 - accuracy: 0.7806 - val_loss: 0.5496 - val_accuracy: 0.7672\n",
      "Epoch 46/100\n",
      "592/592 [==============================] - 1s 1ms/step - loss: 0.5297 - accuracy: 0.7806 - val_loss: 0.5494 - val_accuracy: 0.7677\n",
      "Epoch 47/100\n",
      "592/592 [==============================] - 1s 2ms/step - loss: 0.5293 - accuracy: 0.7813 - val_loss: 0.5492 - val_accuracy: 0.7680\n",
      "Epoch 48/100\n",
      "592/592 [==============================] - 1s 2ms/step - loss: 0.5294 - accuracy: 0.7809 - val_loss: 0.5493 - val_accuracy: 0.7682\n",
      "Epoch 49/100\n",
      "592/592 [==============================] - 1s 2ms/step - loss: 0.5288 - accuracy: 0.7819 - val_loss: 0.5487 - val_accuracy: 0.7682\n",
      "Epoch 50/100\n",
      "592/592 [==============================] - 1s 2ms/step - loss: 0.5285 - accuracy: 0.7818 - val_loss: 0.5485 - val_accuracy: 0.7670\n",
      "Epoch 51/100\n",
      "592/592 [==============================] - 1s 2ms/step - loss: 0.5271 - accuracy: 0.7813 - val_loss: 0.5483 - val_accuracy: 0.7675\n",
      "Epoch 52/100\n",
      "592/592 [==============================] - 1s 2ms/step - loss: 0.5282 - accuracy: 0.7817 - val_loss: 0.5482 - val_accuracy: 0.7680\n",
      "Epoch 53/100\n",
      "592/592 [==============================] - 1s 2ms/step - loss: 0.5277 - accuracy: 0.7814 - val_loss: 0.5480 - val_accuracy: 0.7685\n",
      "Epoch 54/100\n",
      "592/592 [==============================] - 1s 2ms/step - loss: 0.5263 - accuracy: 0.7823 - val_loss: 0.5476 - val_accuracy: 0.7675\n",
      "Epoch 55/100\n",
      "592/592 [==============================] - 1s 2ms/step - loss: 0.5268 - accuracy: 0.7821 - val_loss: 0.5476 - val_accuracy: 0.7675\n",
      "Epoch 56/100\n",
      "592/592 [==============================] - 1s 2ms/step - loss: 0.5259 - accuracy: 0.7825 - val_loss: 0.5479 - val_accuracy: 0.7687\n",
      "Epoch 57/100\n",
      "592/592 [==============================] - 1s 2ms/step - loss: 0.5244 - accuracy: 0.7821 - val_loss: 0.5475 - val_accuracy: 0.7687\n",
      "Epoch 58/100\n",
      "592/592 [==============================] - 1s 2ms/step - loss: 0.5244 - accuracy: 0.7829 - val_loss: 0.5473 - val_accuracy: 0.7677\n",
      "Epoch 59/100\n",
      "592/592 [==============================] - 1s 2ms/step - loss: 0.5242 - accuracy: 0.7827 - val_loss: 0.5471 - val_accuracy: 0.7680\n",
      "Epoch 60/100\n",
      "592/592 [==============================] - 1s 2ms/step - loss: 0.5240 - accuracy: 0.7833 - val_loss: 0.5471 - val_accuracy: 0.7695\n",
      "Epoch 61/100\n",
      "592/592 [==============================] - 1s 2ms/step - loss: 0.5244 - accuracy: 0.7829 - val_loss: 0.5470 - val_accuracy: 0.7695\n",
      "Epoch 62/100\n",
      "592/592 [==============================] - 1s 2ms/step - loss: 0.5247 - accuracy: 0.7837 - val_loss: 0.5465 - val_accuracy: 0.7680\n",
      "Epoch 63/100\n",
      "592/592 [==============================] - 1s 2ms/step - loss: 0.5236 - accuracy: 0.7845 - val_loss: 0.5462 - val_accuracy: 0.7682\n",
      "Epoch 64/100\n",
      "592/592 [==============================] - 1s 2ms/step - loss: 0.5234 - accuracy: 0.7825 - val_loss: 0.5467 - val_accuracy: 0.7693\n",
      "Epoch 65/100\n",
      "592/592 [==============================] - 1s 2ms/step - loss: 0.5230 - accuracy: 0.7840 - val_loss: 0.5463 - val_accuracy: 0.7700\n",
      "Epoch 66/100\n",
      "592/592 [==============================] - 1s 2ms/step - loss: 0.5215 - accuracy: 0.7833 - val_loss: 0.5463 - val_accuracy: 0.7693\n"
     ]
    },
    {
     "data": {
      "text/plain": [
       "<keras.callbacks.History at 0x7f390c5aff70>"
      ]
     },
     "execution_count": 287,
     "metadata": {},
     "output_type": "execute_result"
    }
   ],
   "source": [
    "from tensorflow.keras.callbacks import EarlyStopping\n",
    "\n",
    "KERAS_VALIDATION_SPLIT=0.05\n",
    "KERAS_EPOCHS=100\n",
    "KERAS_BATCH_SIZE=128\n",
    "\n",
    "# Define the EarlyStopping callback\n",
    "early_stopping = EarlyStopping(monitor='val_loss', patience=3, restore_best_weights=True)\n",
    "\n",
    "model = tf.keras.models.Sequential([tf.keras.layers.Dense(1024, input_dim=n_features, activation='relu'),\n",
    "  tf.keras.layers.Dropout(0.2),\n",
    "  tf.keras.layers.Dense(64, activation='relu'),\n",
    "  tf.keras.layers.Dropout(0.2),\n",
    "  tf.keras.layers.Dense(n_labels, activation='softmax')\n",
    "])\n",
    "\n",
    "LR=0.00001\n",
    "adam = keras.optimizers.Adam(learning_rate=LR, beta_1=0.9, beta_2=0.999, amsgrad=False)\n",
    "\n",
    "model.compile(optimizer=adam, \n",
    "              loss='categorical_crossentropy',\n",
    "              metrics=['accuracy'])\n",
    "\n",
    "model.fit(X_train, y_train, epochs=KERAS_EPOCHS, batch_size=KERAS_BATCH_SIZE, validation_split=KERAS_VALIDATION_SPLIT, callbacks=[early_stopping])"
   ]
  },
  {
   "cell_type": "code",
   "execution_count": 290,
   "metadata": {},
   "outputs": [
    {
     "data": {
      "text/plain": [
       "array([-1,  0,  1])"
      ]
     },
     "execution_count": 290,
     "metadata": {},
     "output_type": "execute_result"
    }
   ],
   "source": [
    "np.unique(y_test)"
   ]
  },
  {
   "cell_type": "code",
   "execution_count": 295,
   "metadata": {},
   "outputs": [],
   "source": [
    "from numpy import argmax\n",
    "\n",
    "\n",
    "def classification_report_neuralmodel(name, model, X_train, X_test, y_train, y_test):\n",
    "    # Fit the model on the training data\n",
    "    model.fit(X_train, y_train)\n",
    "\n",
    "    # Make predictions on the test data\n",
    "    y_pred_prob = model.predict(X_test)\n",
    "    \n",
    "    # Convert probabilities into class labels\n",
    "    y_pred = argmax(y_pred_prob, axis=1)-1\n",
    "\n",
    "    # Generate and print the classification report\n",
    "    print(f\"Classification Report for {name}:\")\n",
    "    print(classification_report(y_test, y_pred, zero_division=1))\n",
    "\n",
    "def confusion_matrix_neuralmodel(name, model, X_train, X_test, y_train, y_test):\n",
    "    # Fit the model on the training data\n",
    "    model.fit(X_train, y_train)\n",
    "\n",
    "    # Make predictions on the test data\n",
    "    y_pred_prob = model.predict(X_test)\n",
    "\n",
    "    # Convert probabilities into class labels\n",
    "    y_pred = argmax(y_pred_prob, axis=1)-1\n",
    "\n",
    "    # Generate and print the confusion matrix\n",
    "    print(f\"Confusion Matrix for {name}:\")\n",
    "    print(confusion_matrix(y_test, y_pred))\n"
   ]
  },
  {
   "cell_type": "code",
   "execution_count": 296,
   "metadata": {},
   "outputs": [
    {
     "name": "stdout",
     "output_type": "stream",
     "text": [
      "2492/2492 [==============================] - 5s 2ms/step - loss: 0.5232 - accuracy: 0.7842\n",
      "312/312 [==============================] - 0s 519us/step\n",
      "Classification Report for Neural Network:\n",
      "              precision    recall  f1-score   support\n",
      "\n",
      "          -1       0.81      0.88      0.85      3919\n",
      "           0       0.54      0.40      0.46      1970\n",
      "           1       0.84      0.88      0.86      4079\n",
      "\n",
      "    accuracy                           0.79      9968\n",
      "   macro avg       0.73      0.72      0.72      9968\n",
      "weighted avg       0.77      0.79      0.78      9968\n",
      "\n",
      "2492/2492 [==============================] - 4s 2ms/step - loss: 0.5226 - accuracy: 0.7833\n",
      "312/312 [==============================] - 0s 501us/step\n",
      "Confusion Matrix for Neural Network:\n",
      "[[3463  340  116]\n",
      " [ 653  785  532]\n",
      " [ 161  331 3587]]\n"
     ]
    }
   ],
   "source": [
    "classification_report_neuralmodel(\"Neural Network\", model, X_train, X_test, y_train, y_test)\n",
    "confusion_matrix_neuralmodel(\"Neural Network\", model, X_train, X_test, y_train, y_test)"
   ]
  },
  {
   "attachments": {},
   "cell_type": "markdown",
   "metadata": {},
   "source": [
    "# Store SVM model in pickel"
   ]
  },
  {
   "cell_type": "code",
   "execution_count": 57,
   "metadata": {},
   "outputs": [],
   "source": [
    "\n",
    "import pickle\n",
    "pickle.dump(svm_model, open('../src/data/svm_sentiment_prediction_model.pkl','wb'))\n"
   ]
  },
  {
   "cell_type": "code",
   "execution_count": 58,
   "metadata": {},
   "outputs": [],
   "source": [
    "pickle.dump(df_final,open('../src/data/sentiment_score_df.pkl','wb'))\n"
   ]
  }
 ],
 "metadata": {
  "kernelspec": {
   "display_name": "Python 3 (ipykernel)",
   "language": "python",
   "name": "python3"
  },
  "language_info": {
   "codemirror_mode": {
    "name": "ipython",
    "version": 3
   },
   "file_extension": ".py",
   "mimetype": "text/x-python",
   "name": "python",
   "nbconvert_exporter": "python",
   "pygments_lexer": "ipython3",
   "version": "3.11.4"
  }
 },
 "nbformat": 4,
 "nbformat_minor": 2
}
