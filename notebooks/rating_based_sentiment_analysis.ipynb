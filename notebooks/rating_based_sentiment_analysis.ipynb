{
 "cells": [
  {
   "cell_type": "code",
   "execution_count": 1,
   "metadata": {},
   "outputs": [],
   "source": [
    "from pyathena import connect\n",
    "import pandas as pd\n",
    "import configparser"
   ]
  },
  {
   "cell_type": "code",
   "execution_count": 46,
   "metadata": {},
   "outputs": [],
   "source": [
    "config = configparser.ConfigParser()\n",
    "config.read('../access_keys_shreya.cfg')\n",
    "AWS_ACCESS_KEY = config.get('aws', 'aws_access_key')\n",
    "AWS_SECRET_KEY = config.get('aws', 'aws_secret_key')"
   ]
  },
  {
   "cell_type": "code",
   "execution_count": 47,
   "metadata": {},
   "outputs": [],
   "source": [
    "from six.moves.urllib.parse import quote_plus\n",
    "from sqlalchemy.engine import create_engine\n",
    "\n",
    "SCHEMA_NAME = \"yelp\"\n",
    "S3_STAGING_DIR = \"s3://sairin.yelp.dataset/dataset\"\n",
    "AWS_REGION = \"us-west-1\"\n",
    "conn_str = (\n",
    "    \"awsathena+rest://{aws_access_key_id}:{aws_secret_access_key}@\"\n",
    "    \"athena.{region_name}.amazonaws.com:443/\"\n",
    "    \"{schema_name}?s3_staging_dir={s3_staging_dir}&work_group=primary\"\n",
    ")\n",
    "\n",
    "\n",
    "# Create the SQLAlchemy connection. Note that you need to have pyathena installed for this.\n",
    "engine = create_engine(\n",
    "    conn_str.format(\n",
    "        aws_access_key_id=quote_plus(AWS_ACCESS_KEY),\n",
    "        aws_secret_access_key=quote_plus(AWS_SECRET_KEY),\n",
    "        region_name=AWS_REGION,\n",
    "        schema_name=SCHEMA_NAME,\n",
    "        s3_staging_dir=quote_plus(S3_STAGING_DIR),\n",
    "    )\n",
    ")\n",
    "athena_connection = engine.connect()\n"
   ]
  },
  {
   "cell_type": "code",
   "execution_count": 4,
   "metadata": {},
   "outputs": [],
   "source": [
    "query_business = \"\"\"\n",
    "        SELECT * \n",
    "        FROM yelp.balanced_reviews_dataset\n",
    "        \"\"\"\n",
    "\n",
    "#df_balanced_data = pd.read_sql(query_business, athena_connection)\n"
   ]
  },
  {
   "cell_type": "code",
   "execution_count": 4,
   "metadata": {},
   "outputs": [],
   "source": [
    "#df_balanced_data.to_pickle('df_top_fifty_restaurant.pkl')\n",
    "df_balanced_data = pd.read_pickle('df_top_fifty_restaurant.pkl')"
   ]
  },
  {
   "cell_type": "code",
   "execution_count": 5,
   "metadata": {},
   "outputs": [
    {
     "data": {
      "text/html": [
       "<div>\n",
       "<style scoped>\n",
       "    .dataframe tbody tr th:only-of-type {\n",
       "        vertical-align: middle;\n",
       "    }\n",
       "\n",
       "    .dataframe tbody tr th {\n",
       "        vertical-align: top;\n",
       "    }\n",
       "\n",
       "    .dataframe thead th {\n",
       "        text-align: right;\n",
       "    }\n",
       "</style>\n",
       "<table border=\"1\" class=\"dataframe\">\n",
       "  <thead>\n",
       "    <tr style=\"text-align: right;\">\n",
       "      <th></th>\n",
       "      <th>business_id</th>\n",
       "      <th>stars</th>\n",
       "      <th>text</th>\n",
       "    </tr>\n",
       "  </thead>\n",
       "  <tbody>\n",
       "    <tr>\n",
       "      <th>0</th>\n",
       "      <td>9kv9JpLhzkN3UeWZDrsmEA</td>\n",
       "      <td>3.0</td>\n",
       "      <td>Ate at the bar late one evening.  The food was...</td>\n",
       "    </tr>\n",
       "    <tr>\n",
       "      <th>1</th>\n",
       "      <td>8kUh6TROemLfbVR_ewVVLg</td>\n",
       "      <td>2.0</td>\n",
       "      <td>ive gone here more than 10 times.  the first f...</td>\n",
       "    </tr>\n",
       "    <tr>\n",
       "      <th>2</th>\n",
       "      <td>9kv9JpLhzkN3UeWZDrsmEA</td>\n",
       "      <td>3.0</td>\n",
       "      <td>Went here Saturday for drag brunch, we had 8 p...</td>\n",
       "    </tr>\n",
       "    <tr>\n",
       "      <th>3</th>\n",
       "      <td>9kv9JpLhzkN3UeWZDrsmEA</td>\n",
       "      <td>3.0</td>\n",
       "      <td>Turns out they randomly close the pool down wh...</td>\n",
       "    </tr>\n",
       "    <tr>\n",
       "      <th>4</th>\n",
       "      <td>9kv9JpLhzkN3UeWZDrsmEA</td>\n",
       "      <td>3.0</td>\n",
       "      <td>Totally awesome experience. Very New Orleans \"...</td>\n",
       "    </tr>\n",
       "  </tbody>\n",
       "</table>\n",
       "</div>"
      ],
      "text/plain": [
       "              business_id  stars  \\\n",
       "0  9kv9JpLhzkN3UeWZDrsmEA    3.0   \n",
       "1  8kUh6TROemLfbVR_ewVVLg    2.0   \n",
       "2  9kv9JpLhzkN3UeWZDrsmEA    3.0   \n",
       "3  9kv9JpLhzkN3UeWZDrsmEA    3.0   \n",
       "4  9kv9JpLhzkN3UeWZDrsmEA    3.0   \n",
       "\n",
       "                                                text  \n",
       "0  Ate at the bar late one evening.  The food was...  \n",
       "1  ive gone here more than 10 times.  the first f...  \n",
       "2  Went here Saturday for drag brunch, we had 8 p...  \n",
       "3  Turns out they randomly close the pool down wh...  \n",
       "4  Totally awesome experience. Very New Orleans \"...  "
      ]
     },
     "execution_count": 5,
     "metadata": {},
     "output_type": "execute_result"
    }
   ],
   "source": [
    "df_balanced_data.head()"
   ]
  },
  {
   "cell_type": "code",
   "execution_count": 6,
   "metadata": {},
   "outputs": [
    {
     "data": {
      "image/png": "[encoded data removed]",
      "text/plain": [
       "<Figure size 640x480 with 1 Axes>"
      ]
     },
     "metadata": {},
     "output_type": "display_data"
    }
   ],
   "source": [
    "import seaborn as sns\n",
    "import matplotlib.pyplot as plt\n",
    "\n",
    "# Plot histogram\n",
    "sns.histplot(data=df_balanced_data, x='stars', bins=5)\n",
    "plt.xlabel('Stars')\n",
    "plt.ylabel('Frequency')\n",
    "plt.title('Histogram of Stars')\n",
    "plt.show()\n"
   ]
  },
  {
   "cell_type": "code",
   "execution_count": 7,
   "metadata": {},
   "outputs": [
    {
     "name": "stderr",
     "output_type": "stream",
     "text": [
      "[nltk_data] Downloading package punkt to\n",
      "[nltk_data]     /Users/sairindhri/nltk_data...\n",
      "[nltk_data]   Package punkt is already up-to-date!\n"
     ]
    },
    {
     "data": {
      "text/plain": [
       "True"
      ]
     },
     "execution_count": 7,
     "metadata": {},
     "output_type": "execute_result"
    }
   ],
   "source": [
    "import nltk\n",
    "nltk.download('punkt')"
   ]
  },
  {
   "cell_type": "code",
   "execution_count": 8,
   "metadata": {},
   "outputs": [
    {
     "name": "stderr",
     "output_type": "stream",
     "text": [
      "/Users/sairindhri/yelp-data-analysis2/venv/lib/python3.11/site-packages/tqdm/auto.py:21: TqdmWarning: IProgress not found. Please update jupyter and ipywidgets. See https://ipywidgets.readthedocs.io/en/stable/user_install.html\n",
      "  from .autonotebook import tqdm as notebook_tqdm\n"
     ]
    }
   ],
   "source": [
    "from sentence_transformers import SentenceTransformer\n",
    "# import tqdm.notebook as tq\n",
    "from tqdm import tqdm\n",
    "from time import sleep\n",
    "import numpy as np\n",
    "\n",
    "# Avoid running this code block, instead take the data from the pickle\n",
    "runThisBlock = False\n",
    "\n",
    "\n",
    "if runThisBlock:\n",
    "    # Load the pre-trained model\n",
    "    bert_model = SentenceTransformer('all-MiniLM-L6-v2', device='cuda')\n",
    "\n",
    "    # Create a new column for embeddings\n",
    "    df_balanced_data['embeddings'] = None\n",
    "\n",
    "    def generate_mean_embedding(row):\n",
    "        review = row\n",
    "        review_sentances = nltk.sent_tokenize(review)\n",
    "\n",
    "        embeddings = bert_model.encode(review_sentances)\n",
    "\n",
    "        mean_embeddings =  np.mean(embeddings, axis=0)\n",
    "        return mean_embeddings\n",
    "    \n",
    "    def generate_maxpooled_embedding(row):\n",
    "        review = row\n",
    "        review_sentances = nltk.sent_tokenize(review)\n",
    "\n",
    "        embeddings = bert_model.encode(review_sentances)\n",
    "\n",
    "        max_pooled_embeddings =  np.max(embeddings, axis=0)\n",
    "        return max_pooled_embeddings\n",
    "\n",
    "    total_reviews = df_balanced_data.shape[0]\n",
    "    progress_bar = tqdm(total=total_reviews, desc='Processing Reviews')\n",
    "\n",
    "    for index, row in df_balanced_data.iterrows():\n",
    "        review_text = row['text']\n",
    "        mean_embeddings=generate_mean_embedding(review_text)\n",
    "        df_balanced_data.at[index, 'embeddings'] = mean_embeddings\n",
    "        # Update the progress bar\n",
    "        progress_bar.update(1)\n",
    "        \n",
    "    # Close the progress bar\n",
    "    progress_bar.close()\n",
    "\n",
    "\n",
    "    df_balanced_data.head()\n",
    "\n",
    "    df_balanced_data.to_pickle(\"intermediate_data/bert_generated_embeddings_balanced_dataframe.pkl\")"
   ]
  },
  {
   "cell_type": "code",
   "execution_count": 9,
   "metadata": {},
   "outputs": [
    {
     "data": {
      "text/html": [
       "<div>\n",
       "<style scoped>\n",
       "    .dataframe tbody tr th:only-of-type {\n",
       "        vertical-align: middle;\n",
       "    }\n",
       "\n",
       "    .dataframe tbody tr th {\n",
       "        vertical-align: top;\n",
       "    }\n",
       "\n",
       "    .dataframe thead th {\n",
       "        text-align: right;\n",
       "    }\n",
       "</style>\n",
       "<table border=\"1\" class=\"dataframe\">\n",
       "  <thead>\n",
       "    <tr style=\"text-align: right;\">\n",
       "      <th></th>\n",
       "      <th>business_id</th>\n",
       "      <th>stars</th>\n",
       "      <th>text</th>\n",
       "      <th>embeddings</th>\n",
       "    </tr>\n",
       "  </thead>\n",
       "  <tbody>\n",
       "    <tr>\n",
       "      <th>0</th>\n",
       "      <td>9kv9JpLhzkN3UeWZDrsmEA</td>\n",
       "      <td>3.0</td>\n",
       "      <td>Ate at the bar late one evening.  The food was...</td>\n",
       "      <td>[0.02110215, 0.015082884, 0.027772486, 0.04898...</td>\n",
       "    </tr>\n",
       "    <tr>\n",
       "      <th>1</th>\n",
       "      <td>8kUh6TROemLfbVR_ewVVLg</td>\n",
       "      <td>2.0</td>\n",
       "      <td>ive gone here more than 10 times.  the first f...</td>\n",
       "      <td>[0.053978473, -0.005075182, 0.03789233, 0.0295...</td>\n",
       "    </tr>\n",
       "    <tr>\n",
       "      <th>2</th>\n",
       "      <td>9kv9JpLhzkN3UeWZDrsmEA</td>\n",
       "      <td>3.0</td>\n",
       "      <td>Went here Saturday for drag brunch, we had 8 p...</td>\n",
       "      <td>[0.05708591, -0.007079023, 0.02999837, 0.03157...</td>\n",
       "    </tr>\n",
       "    <tr>\n",
       "      <th>3</th>\n",
       "      <td>9kv9JpLhzkN3UeWZDrsmEA</td>\n",
       "      <td>3.0</td>\n",
       "      <td>Turns out they randomly close the pool down wh...</td>\n",
       "      <td>[0.01065718, 0.014424983, 0.042207252, 0.02751...</td>\n",
       "    </tr>\n",
       "    <tr>\n",
       "      <th>4</th>\n",
       "      <td>9kv9JpLhzkN3UeWZDrsmEA</td>\n",
       "      <td>3.0</td>\n",
       "      <td>Totally awesome experience. Very New Orleans \"...</td>\n",
       "      <td>[0.029420882, 0.032237433, 0.026742732, 0.0395...</td>\n",
       "    </tr>\n",
       "  </tbody>\n",
       "</table>\n",
       "</div>"
      ],
      "text/plain": [
       "              business_id  stars  \\\n",
       "0  9kv9JpLhzkN3UeWZDrsmEA    3.0   \n",
       "1  8kUh6TROemLfbVR_ewVVLg    2.0   \n",
       "2  9kv9JpLhzkN3UeWZDrsmEA    3.0   \n",
       "3  9kv9JpLhzkN3UeWZDrsmEA    3.0   \n",
       "4  9kv9JpLhzkN3UeWZDrsmEA    3.0   \n",
       "\n",
       "                                                text  \\\n",
       "0  Ate at the bar late one evening.  The food was...   \n",
       "1  ive gone here more than 10 times.  the first f...   \n",
       "2  Went here Saturday for drag brunch, we had 8 p...   \n",
       "3  Turns out they randomly close the pool down wh...   \n",
       "4  Totally awesome experience. Very New Orleans \"...   \n",
       "\n",
       "                                          embeddings  \n",
       "0  [0.02110215, 0.015082884, 0.027772486, 0.04898...  \n",
       "1  [0.053978473, -0.005075182, 0.03789233, 0.0295...  \n",
       "2  [0.05708591, -0.007079023, 0.02999837, 0.03157...  \n",
       "3  [0.01065718, 0.014424983, 0.042207252, 0.02751...  \n",
       "4  [0.029420882, 0.032237433, 0.026742732, 0.0395...  "
      ]
     },
     "execution_count": 9,
     "metadata": {},
     "output_type": "execute_result"
    }
   ],
   "source": [
    "# Load DataFrame from pickle file\n",
    "df_restored = pd.read_pickle(\"intermediate_data/bert_generated_embeddings_balanced_dataframe.pkl\")\n",
    "\n",
    "# Now you can use 'df' just like a regular DataFrame\n",
    "\n",
    "df_restored.head()"
   ]
  },
  {
   "cell_type": "code",
   "execution_count": 10,
   "metadata": {},
   "outputs": [
    {
     "data": {
      "text/html": [
       "<div>\n",
       "<style scoped>\n",
       "    .dataframe tbody tr th:only-of-type {\n",
       "        vertical-align: middle;\n",
       "    }\n",
       "\n",
       "    .dataframe tbody tr th {\n",
       "        vertical-align: top;\n",
       "    }\n",
       "\n",
       "    .dataframe thead th {\n",
       "        text-align: right;\n",
       "    }\n",
       "</style>\n",
       "<table border=\"1\" class=\"dataframe\">\n",
       "  <thead>\n",
       "    <tr style=\"text-align: right;\">\n",
       "      <th></th>\n",
       "      <th>text</th>\n",
       "      <th>stars</th>\n",
       "      <th>embeddings</th>\n",
       "    </tr>\n",
       "  </thead>\n",
       "  <tbody>\n",
       "    <tr>\n",
       "      <th>0</th>\n",
       "      <td>Ate at the bar late one evening.  The food was...</td>\n",
       "      <td>3.0</td>\n",
       "      <td>[0.02110215, 0.015082884, 0.027772486, 0.04898...</td>\n",
       "    </tr>\n",
       "    <tr>\n",
       "      <th>1</th>\n",
       "      <td>ive gone here more than 10 times.  the first f...</td>\n",
       "      <td>2.0</td>\n",
       "      <td>[0.053978473, -0.005075182, 0.03789233, 0.0295...</td>\n",
       "    </tr>\n",
       "    <tr>\n",
       "      <th>2</th>\n",
       "      <td>Went here Saturday for drag brunch, we had 8 p...</td>\n",
       "      <td>3.0</td>\n",
       "      <td>[0.05708591, -0.007079023, 0.02999837, 0.03157...</td>\n",
       "    </tr>\n",
       "    <tr>\n",
       "      <th>3</th>\n",
       "      <td>Turns out they randomly close the pool down wh...</td>\n",
       "      <td>3.0</td>\n",
       "      <td>[0.01065718, 0.014424983, 0.042207252, 0.02751...</td>\n",
       "    </tr>\n",
       "    <tr>\n",
       "      <th>4</th>\n",
       "      <td>Totally awesome experience. Very New Orleans \"...</td>\n",
       "      <td>3.0</td>\n",
       "      <td>[0.029420882, 0.032237433, 0.026742732, 0.0395...</td>\n",
       "    </tr>\n",
       "  </tbody>\n",
       "</table>\n",
       "</div>"
      ],
      "text/plain": [
       "                                                text  stars  \\\n",
       "0  Ate at the bar late one evening.  The food was...    3.0   \n",
       "1  ive gone here more than 10 times.  the first f...    2.0   \n",
       "2  Went here Saturday for drag brunch, we had 8 p...    3.0   \n",
       "3  Turns out they randomly close the pool down wh...    3.0   \n",
       "4  Totally awesome experience. Very New Orleans \"...    3.0   \n",
       "\n",
       "                                          embeddings  \n",
       "0  [0.02110215, 0.015082884, 0.027772486, 0.04898...  \n",
       "1  [0.053978473, -0.005075182, 0.03789233, 0.0295...  \n",
       "2  [0.05708591, -0.007079023, 0.02999837, 0.03157...  \n",
       "3  [0.01065718, 0.014424983, 0.042207252, 0.02751...  \n",
       "4  [0.029420882, 0.032237433, 0.026742732, 0.0395...  "
      ]
     },
     "execution_count": 10,
     "metadata": {},
     "output_type": "execute_result"
    }
   ],
   "source": [
    "df_final=df_restored[['text','stars','embeddings']]\n",
    "df_final.head()"
   ]
  },
  {
   "cell_type": "code",
   "execution_count": 11,
   "metadata": {},
   "outputs": [
    {
     "data": {
      "text/html": [
       "<div>\n",
       "<style scoped>\n",
       "    .dataframe tbody tr th:only-of-type {\n",
       "        vertical-align: middle;\n",
       "    }\n",
       "\n",
       "    .dataframe tbody tr th {\n",
       "        vertical-align: top;\n",
       "    }\n",
       "\n",
       "    .dataframe thead th {\n",
       "        text-align: right;\n",
       "    }\n",
       "</style>\n",
       "<table border=\"1\" class=\"dataframe\">\n",
       "  <thead>\n",
       "    <tr style=\"text-align: right;\">\n",
       "      <th></th>\n",
       "      <th>text</th>\n",
       "      <th>stars</th>\n",
       "      <th>embeddings</th>\n",
       "      <th>sentiment</th>\n",
       "    </tr>\n",
       "  </thead>\n",
       "  <tbody>\n",
       "    <tr>\n",
       "      <th>0</th>\n",
       "      <td>Ate at the bar late one evening.  The food was...</td>\n",
       "      <td>3.0</td>\n",
       "      <td>[0.02110215, 0.015082884, 0.027772486, 0.04898...</td>\n",
       "      <td>0</td>\n",
       "    </tr>\n",
       "    <tr>\n",
       "      <th>1</th>\n",
       "      <td>ive gone here more than 10 times.  the first f...</td>\n",
       "      <td>2.0</td>\n",
       "      <td>[0.053978473, -0.005075182, 0.03789233, 0.0295...</td>\n",
       "      <td>-1</td>\n",
       "    </tr>\n",
       "    <tr>\n",
       "      <th>2</th>\n",
       "      <td>Went here Saturday for drag brunch, we had 8 p...</td>\n",
       "      <td>3.0</td>\n",
       "      <td>[0.05708591, -0.007079023, 0.02999837, 0.03157...</td>\n",
       "      <td>0</td>\n",
       "    </tr>\n",
       "  </tbody>\n",
       "</table>\n",
       "</div>"
      ],
      "text/plain": [
       "                                                text  stars  \\\n",
       "0  Ate at the bar late one evening.  The food was...    3.0   \n",
       "1  ive gone here more than 10 times.  the first f...    2.0   \n",
       "2  Went here Saturday for drag brunch, we had 8 p...    3.0   \n",
       "\n",
       "                                          embeddings  sentiment  \n",
       "0  [0.02110215, 0.015082884, 0.027772486, 0.04898...          0  \n",
       "1  [0.053978473, -0.005075182, 0.03789233, 0.0295...         -1  \n",
       "2  [0.05708591, -0.007079023, 0.02999837, 0.03157...          0  "
      ]
     },
     "execution_count": 11,
     "metadata": {},
     "output_type": "execute_result"
    }
   ],
   "source": [
    "def map_sentiment(star_rating):\n",
    "    if star_rating in [1, 2]:\n",
    "        return -1\n",
    "    elif star_rating == 3:\n",
    "        return 0\n",
    "    elif star_rating in [4, 5]:\n",
    "        return 1\n",
    "\n",
    "# Apply the mapping function to create the 'sentiment' column\n",
    "df_final['sentiment'] = df_final['stars'].apply(map_sentiment)\n",
    "df_final.head(3)"
   ]
  },
  {
   "cell_type": "code",
   "execution_count": 13,
   "metadata": {},
   "outputs": [],
   "source": [
    "# Shuffle and split the dataframe into train_df, dev_df, test_df\n",
    "\n",
    "def splitData(df, frac=1.0):\n",
    "    return np.split(df.sample(frac=frac, replace=False, random_state=42), \n",
    "                       [int(frac*.8*len(df)), int(frac*.9*len(df))])\n",
    "\n",
    "train_df, dev_df, test_df = splitData(df_final, 0.1)"
   ]
  },
  {
   "cell_type": "code",
   "execution_count": 21,
   "metadata": {},
   "outputs": [],
   "source": [
    "from sklearn.model_selection import train_test_split\n",
    "def splitData(df, frac=1.0):\n",
    "    data = df.sample(frac=frac, replace=False, random_state=42)\n",
    "    train_df, temp_data = train_test_split(data, test_size=0.2, random_state=42)\n",
    "\n",
    "    # Splitting the temporary data into validation and testing sets (50% each)\n",
    "    dev_df, test_df = train_test_split(temp_data, test_size=0.5, random_state=42)\n",
    "    return train_df, dev_df, test_df\n",
    "\n",
    "train_df, dev_df, test_df = splitData(df_final, .15)"
   ]
  },
  {
   "cell_type": "code",
   "execution_count": 22,
   "metadata": {},
   "outputs": [
    {
     "name": "stdout",
     "output_type": "stream",
     "text": [
      "(11960, 4)\n",
      "(1495, 4)\n",
      "(1496, 4)\n"
     ]
    }
   ],
   "source": [
    "print(train_df.shape)\n",
    "print(dev_df.shape)\n",
    "print(test_df.shape)"
   ]
  },
  {
   "cell_type": "code",
   "execution_count": 23,
   "metadata": {},
   "outputs": [
    {
     "data": {
      "text/plain": [
       "array([[ 0.0270872 ,  0.02413072,  0.01970112, ...,  0.01101628,\n",
       "        -0.04265038,  0.03619479],\n",
       "       [-0.00985889,  0.01393365,  0.02096443, ..., -0.00816066,\n",
       "        -0.04122653,  0.04083191],\n",
       "       [-0.02417969, -0.00218071,  0.0032594 , ..., -0.00764219,\n",
       "        -0.03399058,  0.01130106],\n",
       "       ...,\n",
       "       [ 0.00387106,  0.02537922, -0.0020346 , ...,  0.02327003,\n",
       "        -0.06491643, -0.0276749 ],\n",
       "       [ 0.00402074, -0.0191915 ,  0.0253267 , ..., -0.00715511,\n",
       "        -0.06079474,  0.02620239],\n",
       "       [-0.06658947,  0.03480976,  0.03515029, ..., -0.02315255,\n",
       "        -0.00623002, -0.00574938]], dtype=float32)"
      ]
     },
     "execution_count": 23,
     "metadata": {},
     "output_type": "execute_result"
    }
   ],
   "source": [
    "# Convert lists of embeddings into a 2D numpy array\n",
    "X_train = np.stack(train_df['embeddings'].values)\n",
    "\n",
    "# The 'stars' column is your target variable\n",
    "y_train = train_df['sentiment'].values\n",
    "\n",
    "X_train"
   ]
  },
  {
   "cell_type": "code",
   "execution_count": 24,
   "metadata": {},
   "outputs": [
    {
     "data": {
      "text/plain": [
       "array([ 0,  1,  0, ...,  1, -1, -1])"
      ]
     },
     "execution_count": 24,
     "metadata": {},
     "output_type": "execute_result"
    }
   ],
   "source": [
    "y_train"
   ]
  },
  {
   "cell_type": "code",
   "execution_count": 25,
   "metadata": {},
   "outputs": [],
   "source": [
    "X_test = np.stack(test_df['embeddings'].values)\n",
    "\n",
    "# # The 'stars' column is your target variable\n",
    "y_test = test_df['sentiment'].values\n",
    "\n"
   ]
  },
  {
   "cell_type": "code",
   "execution_count": 26,
   "metadata": {},
   "outputs": [
    {
     "data": {
      "image/png": "[encoded data removed]",
      "text/plain": [
       "<Figure size 1000x600 with 1 Axes>"
      ]
     },
     "metadata": {},
     "output_type": "display_data"
    }
   ],
   "source": [
    "# Count the number of each sentiment score in your dataset\n",
    "sentiment_counts = train_df['sentiment'].value_counts().sort_index()\n",
    "\n",
    "# Generate a bar plot\n",
    "plt.figure(figsize=(10,6))\n",
    "sns.barplot(x=sentiment_counts.index, y=sentiment_counts.values, alpha=0.8,palette=['red', 'orange', 'green'])\n",
    "\n",
    "# Replace numeric labels with text labels\n",
    "plt.xticks(ticks=[0, 1, 2], labels=['Negative', 'Neutral', 'Positive'])\n",
    "\n",
    "plt.title('Sentiment Distribution')\n",
    "plt.ylabel('Number of Reviews', fontsize=12)\n",
    "plt.xlabel('Sentiment Score', fontsize=12)\n",
    "plt.show()\n",
    "\n"
   ]
  },
  {
   "attachments": {},
   "cell_type": "markdown",
   "metadata": {},
   "source": [
    "Mean Value (0.1)    \n",
    "    Model\t            Accuracy\tPrecision\tRecall\t    F1 Score\n",
    "0\tLogistic Regression\t0.774323\t0.753083\t0.774323\t0.754447\n",
    "1\tRandom Forest\t    0.754263\t0.734307\t0.754263\t0.701530\n",
    "2\tSVM\t                0.792377\t0.780292\t0.792377\t0.783531"
   ]
  },
  {
   "attachments": {},
   "cell_type": "markdown",
   "metadata": {},
   "source": [
    "Mean Value (0.2)\n",
    "\tModel\t            Accuracy\tPrecision\tRecall\t    F1 Score\n",
    "0\tLogistic Regression\t0.781344\t0.762993\t0.781344\t0.762292\n",
    "1\tRandom Forest\t    0.739218\t0.715532\t0.739218\t0.684479\n",
    "2\tSVM\t                0.783852\t0.766595\t0.783852\t0.768806"
   ]
  },
  {
   "attachments": {},
   "cell_type": "markdown",
   "metadata": {},
   "source": [
    "Mean Value (0.3)\n",
    "\tModel\t            Accuracy\tPrecision\tRecall\tF1 Score\n",
    "0\tLogistic Regression\t0.778001\t0.755479\t0.778001\t0.758309\n",
    "1\tRandom Forest\t    0.739552\t0.698251\t0.739552\t0.685958\n",
    "2\tSVM\t                0.783684\t0.765683\t0.783684\t0.770033"
   ]
  },
  {
   "attachments": {},
   "cell_type": "markdown",
   "metadata": {},
   "source": [
    "Max Pooling\t(0.3)\n",
    "    Model\t            Accuracy\tPrecision\tRecall\t    F1 Score\n",
    "0\tLogistic Regression\t0.752257\t0.724362\t0.752257\t0.729491\n",
    "1\tRandom Forest\t    0.718823\t0.706306\t0.718823\t0.646197\n",
    "2\tSVM\t                0.752925\t0.727127\t0.752925\t0.732776"
   ]
  },
  {
   "attachments": {},
   "cell_type": "markdown",
   "metadata": {},
   "source": [
    "### Model Evaluation without hyperparameter tunning"
   ]
  },
  {
   "cell_type": "code",
   "execution_count": 28,
   "metadata": {},
   "outputs": [],
   "source": [
    "from sklearn.metrics import accuracy_score, precision_score, recall_score, f1_score\n",
    "import pandas as pd\n",
    "\n",
    "def evaluate_model(name, model, X_train, X_test, y_train, y_test):\n",
    "    \n",
    "    global metrics_df\n",
    "    # Fit the model on the training data\n",
    "    model.fit(X_train, y_train)\n",
    "\n",
    "    # Make predictions on the test data\n",
    "    y_pred = model.predict(X_test)\n",
    "\n",
    "    # Calculate evaluation metrics\n",
    "    accuracy = accuracy_score(y_test, y_pred)\n",
    "    precision = precision_score(y_test, y_pred, average='weighted', zero_division=1)\n",
    "    recall = recall_score(y_test, y_pred, average='weighted', zero_division=1)\n",
    "    f1 = f1_score(y_test, y_pred, average='weighted', zero_division=1)\n",
    "\n",
    "    # Append the metrics to the DataFrame\n",
    "    return [name, accuracy, precision, recall, f1]\n"
   ]
  },
  {
   "cell_type": "code",
   "execution_count": 29,
   "metadata": {},
   "outputs": [
    {
     "name": "stderr",
     "output_type": "stream",
     "text": [
      "/Users/sairindhri/yelp-data-analysis2/venv/lib/python3.11/site-packages/sklearn/ensemble/_forest.py:424: FutureWarning: `max_features='auto'` has been deprecated in 1.1 and will be removed in 1.3. To keep the past behaviour, explicitly set `max_features='sqrt'` or remove this parameter as it is also the default value for RandomForestClassifiers and ExtraTreesClassifiers.\n",
      "  warn(\n"
     ]
    }
   ],
   "source": [
    "from sklearn.svm import SVC\n",
    "from sklearn.ensemble import RandomForestClassifier\n",
    "from sklearn.linear_model import LogisticRegression\n",
    "\n",
    "lr_model = LogisticRegression(multi_class='multinomial', solver='lbfgs', max_iter=1000)\n",
    "rf_model = RandomForestClassifier(n_estimators=100, criterion='gini', max_depth=None, min_samples_split=2, min_samples_leaf=1, max_features='auto', random_state=42)\n",
    "svm_model = SVC(C=1.0, kernel='rbf', gamma='scale')\n",
    "\n",
    "# Initialize an empty DataFrame to store the performance metrics\n",
    "metrics_df = pd.DataFrame(columns=['Model', 'Accuracy', 'Precision', 'Recall', 'F1 Score'])\n",
    "\n",
    "metrics_df.loc[len(metrics_df.index)] = evaluate_model(\"Logistic Regression\", lr_model, X_train, X_test, y_train, y_test)\n",
    "metrics_df.loc[len(metrics_df.index)] = evaluate_model(\"Random Forest\", rf_model, X_train, X_test, y_train, y_test)\n",
    "metrics_df.loc[len(metrics_df.index)] = evaluate_model(\"SVM\", svm_model, X_train, X_test, y_train, y_test)\n"
   ]
  },
  {
   "cell_type": "code",
   "execution_count": 31,
   "metadata": {},
   "outputs": [
    {
     "data": {
      "text/html": [
       "<div>\n",
       "<style scoped>\n",
       "    .dataframe tbody tr th:only-of-type {\n",
       "        vertical-align: middle;\n",
       "    }\n",
       "\n",
       "    .dataframe tbody tr th {\n",
       "        vertical-align: top;\n",
       "    }\n",
       "\n",
       "    .dataframe thead th {\n",
       "        text-align: right;\n",
       "    }\n",
       "</style>\n",
       "<table border=\"1\" class=\"dataframe\">\n",
       "  <thead>\n",
       "    <tr style=\"text-align: right;\">\n",
       "      <th></th>\n",
       "      <th>Model</th>\n",
       "      <th>Accuracy</th>\n",
       "      <th>Precision</th>\n",
       "      <th>Recall</th>\n",
       "      <th>F1 Score</th>\n",
       "    </tr>\n",
       "  </thead>\n",
       "  <tbody>\n",
       "    <tr>\n",
       "      <th>0</th>\n",
       "      <td>Logistic Regression</td>\n",
       "      <td>0.780080</td>\n",
       "      <td>0.753553</td>\n",
       "      <td>0.780080</td>\n",
       "      <td>0.756925</td>\n",
       "    </tr>\n",
       "    <tr>\n",
       "      <th>1</th>\n",
       "      <td>Random Forest</td>\n",
       "      <td>0.741979</td>\n",
       "      <td>0.677739</td>\n",
       "      <td>0.741979</td>\n",
       "      <td>0.685266</td>\n",
       "    </tr>\n",
       "    <tr>\n",
       "      <th>2</th>\n",
       "      <td>SVM</td>\n",
       "      <td>0.796123</td>\n",
       "      <td>0.777855</td>\n",
       "      <td>0.796123</td>\n",
       "      <td>0.781615</td>\n",
       "    </tr>\n",
       "  </tbody>\n",
       "</table>\n",
       "</div>"
      ],
      "text/plain": [
       "                 Model  Accuracy  Precision    Recall  F1 Score\n",
       "0  Logistic Regression  0.780080   0.753553  0.780080  0.756925\n",
       "1        Random Forest  0.741979   0.677739  0.741979  0.685266\n",
       "2                  SVM  0.796123   0.777855  0.796123  0.781615"
      ]
     },
     "execution_count": 31,
     "metadata": {},
     "output_type": "execute_result"
    }
   ],
   "source": [
    "metrics_df.head()"
   ]
  },
  {
   "cell_type": "code",
   "execution_count": 26,
   "metadata": {},
   "outputs": [
    {
     "name": "stdout",
     "output_type": "stream",
     "text": [
      "[-1  0  1]\n"
     ]
    }
   ],
   "source": [
    "import numpy as np\n",
    "\n",
    "unique_labels = np.unique(y_train)\n",
    "print(unique_labels)"
   ]
  },
  {
   "cell_type": "code",
   "execution_count": 40,
   "metadata": {},
   "outputs": [],
   "source": [
    "\n",
    "y_train_boost=y_train+1\n",
    "y_test_boost=y_test+1"
   ]
  },
  {
   "cell_type": "code",
   "execution_count": 41,
   "metadata": {},
   "outputs": [],
   "source": [
    "from sklearn.ensemble import GradientBoostingClassifier, AdaBoostClassifier\n",
    "import xgboost as xgb\n",
    "# Initialize the models\n",
    "\n",
    "gb_model = GradientBoostingClassifier(n_estimators=100, learning_rate=0.1, max_depth=3, random_state=42)\n",
    "adaboost_model = AdaBoostClassifier(n_estimators=100, random_state=42)\n",
    "xgb_model = xgb.XGBClassifier(n_estimators=100, learning_rate=0.1, max_depth=3, random_state=42)\n",
    "\n",
    "# Evaluate and store performance metrics\n",
    "metrics_df.loc[len(metrics_df.index)] = evaluate_model(\"Gradient Boosting\", gb_model, X_train, X_test, y_train_boost, y_test_boost)\n",
    "metrics_df.loc[len(metrics_df.index)] = evaluate_model(\"AdaBoost\", adaboost_model, X_train, X_test, y_train_boost, y_test_boost)\n",
    "metrics_df.loc[len(metrics_df.index)] = evaluate_model(\"XGBoost\", xgb_model, X_train, X_test, y_train_boost, y_test_boost)"
   ]
  },
  {
   "cell_type": "code",
   "execution_count": 44,
   "metadata": {},
   "outputs": [],
   "source": [
    "xgb_model = xgb.XGBClassifier(n_estimators=100, learning_rate=0.1, max_depth=3, random_state=42)\n",
    "\n",
    "# Evaluate and store performance metrics\n",
    "\n",
    "metrics_df.loc[len(metrics_df.index)] = evaluate_model(\"XGBoost\", xgb_model, X_train, X_test, y_train_boost, y_test_boost)"
   ]
  },
  {
   "cell_type": "code",
   "execution_count": 45,
   "metadata": {},
   "outputs": [
    {
     "data": {
      "text/html": [
       "<div>\n",
       "<style scoped>\n",
       "    .dataframe tbody tr th:only-of-type {\n",
       "        vertical-align: middle;\n",
       "    }\n",
       "\n",
       "    .dataframe tbody tr th {\n",
       "        vertical-align: top;\n",
       "    }\n",
       "\n",
       "    .dataframe thead th {\n",
       "        text-align: right;\n",
       "    }\n",
       "</style>\n",
       "<table border=\"1\" class=\"dataframe\">\n",
       "  <thead>\n",
       "    <tr style=\"text-align: right;\">\n",
       "      <th></th>\n",
       "      <th>Model</th>\n",
       "      <th>Accuracy</th>\n",
       "      <th>Precision</th>\n",
       "      <th>Recall</th>\n",
       "      <th>F1 Score</th>\n",
       "    </tr>\n",
       "  </thead>\n",
       "  <tbody>\n",
       "    <tr>\n",
       "      <th>0</th>\n",
       "      <td>Logistic Regression</td>\n",
       "      <td>0.755511</td>\n",
       "      <td>0.727496</td>\n",
       "      <td>0.755511</td>\n",
       "      <td>0.715292</td>\n",
       "    </tr>\n",
       "    <tr>\n",
       "      <th>1</th>\n",
       "      <td>Random Forest</td>\n",
       "      <td>0.715431</td>\n",
       "      <td>0.669084</td>\n",
       "      <td>0.715431</td>\n",
       "      <td>0.653538</td>\n",
       "    </tr>\n",
       "    <tr>\n",
       "      <th>2</th>\n",
       "      <td>SVM</td>\n",
       "      <td>0.775551</td>\n",
       "      <td>0.756943</td>\n",
       "      <td>0.775551</td>\n",
       "      <td>0.754996</td>\n",
       "    </tr>\n",
       "    <tr>\n",
       "      <th>3</th>\n",
       "      <td>Gradient Boosting</td>\n",
       "      <td>0.755511</td>\n",
       "      <td>0.736490</td>\n",
       "      <td>0.755511</td>\n",
       "      <td>0.731016</td>\n",
       "    </tr>\n",
       "    <tr>\n",
       "      <th>4</th>\n",
       "      <td>AdaBoost</td>\n",
       "      <td>0.719439</td>\n",
       "      <td>0.695318</td>\n",
       "      <td>0.719439</td>\n",
       "      <td>0.702773</td>\n",
       "    </tr>\n",
       "  </tbody>\n",
       "</table>\n",
       "</div>"
      ],
      "text/plain": [
       "                 Model  Accuracy  Precision    Recall  F1 Score\n",
       "0  Logistic Regression  0.755511   0.727496  0.755511  0.715292\n",
       "1        Random Forest  0.715431   0.669084  0.715431  0.653538\n",
       "2                  SVM  0.775551   0.756943  0.775551  0.754996\n",
       "3    Gradient Boosting  0.755511   0.736490  0.755511  0.731016\n",
       "4             AdaBoost  0.719439   0.695318  0.719439  0.702773"
      ]
     },
     "execution_count": 45,
     "metadata": {},
     "output_type": "execute_result"
    }
   ],
   "source": [
    "metrics_df.head()"
   ]
  },
  {
   "cell_type": "code",
   "execution_count": 255,
   "metadata": {},
   "outputs": [],
   "source": [
    "from sklearn.metrics import classification_report, confusion_matrix\n",
    "\n",
    "def classification_report_model(name, model, X_train, X_test, y_train, y_test):\n",
    "    # Fit the model on the training data\n",
    "    model.fit(X_train, y_train)\n",
    "\n",
    "    # Make predictions on the test data\n",
    "    y_pred = model.predict(X_test)\n",
    "\n",
    "    # Generate and print the classification report\n",
    "    print(f\"Classification Report for {name}:\")\n",
    "    print(classification_report(y_test, y_pred, zero_division=1))\n",
    "\n",
    "def confusion_matrix_model(name, model, X_train, X_test, y_train, y_test):\n",
    "    # Fit the model on the training data\n",
    "    model.fit(X_train, y_train)\n",
    "\n",
    "    # Make predictions on the test data\n",
    "    y_pred = model.predict(X_test)\n",
    "\n",
    "    # Generate and print the confusion matrix\n",
    "    print(f\"Confusion Matrix for {name}:\")\n",
    "    print(confusion_matrix(y_test, y_pred))\n"
   ]
  },
  {
   "cell_type": "code",
   "execution_count": 256,
   "metadata": {},
   "outputs": [
    {
     "name": "stdout",
     "output_type": "stream",
     "text": [
      "Classification Report for Logistic Regression:\n",
      "              precision    recall  f1-score   support\n",
      "\n",
      "          -1       0.78      0.88      0.83       770\n",
      "           0       0.59      0.35      0.44       385\n",
      "           1       0.84      0.90      0.87       839\n",
      "\n",
      "    accuracy                           0.79      1994\n",
      "   macro avg       0.74      0.71      0.71      1994\n",
      "weighted avg       0.77      0.79      0.77      1994\n",
      "\n",
      "Confusion Matrix for Logistic Regression:\n",
      "[[678  59  33]\n",
      " [138 134 113]\n",
      " [ 48  33 758]]\n"
     ]
    },
    {
     "name": "stderr",
     "output_type": "stream",
     "text": [
      "/home/sairindhri/yelp-data-analysis/venv/lib/python3.10/site-packages/sklearn/ensemble/_forest.py:424: FutureWarning: `max_features='auto'` has been deprecated in 1.1 and will be removed in 1.3. To keep the past behaviour, explicitly set `max_features='sqrt'` or remove this parameter as it is also the default value for RandomForestClassifiers and ExtraTreesClassifiers.\n",
      "  warn(\n"
     ]
    },
    {
     "name": "stdout",
     "output_type": "stream",
     "text": [
      "Classification Report for Random Forest:\n",
      "              precision    recall  f1-score   support\n",
      "\n",
      "          -1       0.73      0.90      0.80       770\n",
      "           0       0.52      0.12      0.19       385\n",
      "           1       0.79      0.90      0.84       839\n",
      "\n",
      "    accuracy                           0.75      1994\n",
      "   macro avg       0.68      0.64      0.61      1994\n",
      "weighted avg       0.71      0.75      0.70      1994\n",
      "\n"
     ]
    },
    {
     "name": "stderr",
     "output_type": "stream",
     "text": [
      "/home/sairindhri/yelp-data-analysis/venv/lib/python3.10/site-packages/sklearn/ensemble/_forest.py:424: FutureWarning: `max_features='auto'` has been deprecated in 1.1 and will be removed in 1.3. To keep the past behaviour, explicitly set `max_features='sqrt'` or remove this parameter as it is also the default value for RandomForestClassifiers and ExtraTreesClassifiers.\n",
      "  warn(\n"
     ]
    },
    {
     "name": "stdout",
     "output_type": "stream",
     "text": [
      "Confusion Matrix for Random Forest:\n",
      "[[691  28  51]\n",
      " [190  45 150]\n",
      " [ 67  14 758]]\n",
      "Classification Report for SVM:\n",
      "              precision    recall  f1-score   support\n",
      "\n",
      "          -1       0.79      0.88      0.83       770\n",
      "           0       0.58      0.38      0.46       385\n",
      "           1       0.85      0.90      0.87       839\n",
      "\n",
      "    accuracy                           0.79      1994\n",
      "   macro avg       0.74      0.72      0.72      1994\n",
      "weighted avg       0.78      0.79      0.78      1994\n",
      "\n",
      "Confusion Matrix for SVM:\n",
      "[[681  65  24]\n",
      " [134 146 105]\n",
      " [ 48  40 751]]\n"
     ]
    }
   ],
   "source": [
    "classification_report_model(\"Logistic Regression\", lr_model, X_train, X_test, y_train, y_test)\n",
    "confusion_matrix_model(\"Logistic Regression\", lr_model, X_train, X_test, y_train, y_test)\n",
    "\n",
    "classification_report_model(\"Random Forest\", rf_model, X_train, X_test, y_train, y_test)\n",
    "confusion_matrix_model(\"Random Forest\", rf_model, X_train, X_test, y_train, y_test)\n",
    "\n",
    "classification_report_model(\"SVM\", svm_model, X_train, X_test, y_train, y_test)\n",
    "confusion_matrix_model(\"SVM\", svm_model, X_train, X_test, y_train, y_test)\n"
   ]
  },
  {
   "cell_type": "code",
   "execution_count": 176,
   "metadata": {},
   "outputs": [
    {
     "data": {
      "text/html": [
       "<style>#sk-container-id-1 {color: black;background-color: white;}#sk-container-id-1 pre{padding: 0;}#sk-container-id-1 div.sk-toggleable {background-color: white;}#sk-container-id-1 label.sk-toggleable__label {cursor: pointer;display: block;width: 100%;margin-bottom: 0;padding: 0.3em;box-sizing: border-box;text-align: center;}#sk-container-id-1 label.sk-toggleable__label-arrow:before {content: \"▸\";float: left;margin-right: 0.25em;color: #696969;}#sk-container-id-1 label.sk-toggleable__label-arrow:hover:before {color: black;}#sk-container-id-1 div.sk-estimator:hover label.sk-toggleable__label-arrow:before {color: black;}#sk-container-id-1 div.sk-toggleable__content {max-height: 0;max-width: 0;overflow: hidden;text-align: left;background-color: #f0f8ff;}#sk-container-id-1 div.sk-toggleable__content pre {margin: 0.2em;color: black;border-radius: 0.25em;background-color: #f0f8ff;}#sk-container-id-1 input.sk-toggleable__control:checked~div.sk-toggleable__content {max-height: 200px;max-width: 100%;overflow: auto;}#sk-container-id-1 input.sk-toggleable__control:checked~label.sk-toggleable__label-arrow:before {content: \"▾\";}#sk-container-id-1 div.sk-estimator input.sk-toggleable__control:checked~label.sk-toggleable__label {background-color: #d4ebff;}#sk-container-id-1 div.sk-label input.sk-toggleable__control:checked~label.sk-toggleable__label {background-color: #d4ebff;}#sk-container-id-1 input.sk-hidden--visually {border: 0;clip: rect(1px 1px 1px 1px);clip: rect(1px, 1px, 1px, 1px);height: 1px;margin: -1px;overflow: hidden;padding: 0;position: absolute;width: 1px;}#sk-container-id-1 div.sk-estimator {font-family: monospace;background-color: #f0f8ff;border: 1px dotted black;border-radius: 0.25em;box-sizing: border-box;margin-bottom: 0.5em;}#sk-container-id-1 div.sk-estimator:hover {background-color: #d4ebff;}#sk-container-id-1 div.sk-parallel-item::after {content: \"\";width: 100%;border-bottom: 1px solid gray;flex-grow: 1;}#sk-container-id-1 div.sk-label:hover label.sk-toggleable__label {background-color: #d4ebff;}#sk-container-id-1 div.sk-serial::before {content: \"\";position: absolute;border-left: 1px solid gray;box-sizing: border-box;top: 0;bottom: 0;left: 50%;z-index: 0;}#sk-container-id-1 div.sk-serial {display: flex;flex-direction: column;align-items: center;background-color: white;padding-right: 0.2em;padding-left: 0.2em;position: relative;}#sk-container-id-1 div.sk-item {position: relative;z-index: 1;}#sk-container-id-1 div.sk-parallel {display: flex;align-items: stretch;justify-content: center;background-color: white;position: relative;}#sk-container-id-1 div.sk-item::before, #sk-container-id-1 div.sk-parallel-item::before {content: \"\";position: absolute;border-left: 1px solid gray;box-sizing: border-box;top: 0;bottom: 0;left: 50%;z-index: -1;}#sk-container-id-1 div.sk-parallel-item {display: flex;flex-direction: column;z-index: 1;position: relative;background-color: white;}#sk-container-id-1 div.sk-parallel-item:first-child::after {align-self: flex-end;width: 50%;}#sk-container-id-1 div.sk-parallel-item:last-child::after {align-self: flex-start;width: 50%;}#sk-container-id-1 div.sk-parallel-item:only-child::after {width: 0;}#sk-container-id-1 div.sk-dashed-wrapped {border: 1px dashed gray;margin: 0 0.4em 0.5em 0.4em;box-sizing: border-box;padding-bottom: 0.4em;background-color: white;}#sk-container-id-1 div.sk-label label {font-family: monospace;font-weight: bold;display: inline-block;line-height: 1.2em;}#sk-container-id-1 div.sk-label-container {text-align: center;}#sk-container-id-1 div.sk-container {/* jupyter's `normalize.less` sets `[hidden] { display: none; }` but bootstrap.min.css set `[hidden] { display: none !important; }` so we also need the `!important` here to be able to override the default hidden behavior on the sphinx rendered scikit-learn.org. See: https://github.com/scikit-learn/scikit-learn/issues/21755 */display: inline-block !important;position: relative;}#sk-container-id-1 div.sk-text-repr-fallback {display: none;}</style><div id=\"sk-container-id-1\" class=\"sk-top-container\"><div class=\"sk-text-repr-fallback\"><pre>GridSearchCV(cv=5,\n",
       "             estimator=Pipeline(steps=[(&#x27;lr&#x27;,\n",
       "                                        LogisticRegression(max_iter=1000,\n",
       "                                                           multi_class=&#x27;multinomial&#x27;))]),\n",
       "             param_grid={&#x27;lr__C&#x27;: [0.01, 0.1, 1]}, scoring=&#x27;accuracy&#x27;)</pre><b>In a Jupyter environment, please rerun this cell to show the HTML representation or trust the notebook. <br />On GitHub, the HTML representation is unable to render, please try loading this page with nbviewer.org.</b></div><div class=\"sk-container\" hidden><div class=\"sk-item sk-dashed-wrapped\"><div class=\"sk-label-container\"><div class=\"sk-label sk-toggleable\"><input class=\"sk-toggleable__control sk-hidden--visually\" id=\"sk-estimator-id-1\" type=\"checkbox\" ><label for=\"sk-estimator-id-1\" class=\"sk-toggleable__label sk-toggleable__label-arrow\">GridSearchCV</label><div class=\"sk-toggleable__content\"><pre>GridSearchCV(cv=5,\n",
       "             estimator=Pipeline(steps=[(&#x27;lr&#x27;,\n",
       "                                        LogisticRegression(max_iter=1000,\n",
       "                                                           multi_class=&#x27;multinomial&#x27;))]),\n",
       "             param_grid={&#x27;lr__C&#x27;: [0.01, 0.1, 1]}, scoring=&#x27;accuracy&#x27;)</pre></div></div></div><div class=\"sk-parallel\"><div class=\"sk-parallel-item\"><div class=\"sk-item\"><div class=\"sk-label-container\"><div class=\"sk-label sk-toggleable\"><input class=\"sk-toggleable__control sk-hidden--visually\" id=\"sk-estimator-id-2\" type=\"checkbox\" ><label for=\"sk-estimator-id-2\" class=\"sk-toggleable__label sk-toggleable__label-arrow\">estimator: Pipeline</label><div class=\"sk-toggleable__content\"><pre>Pipeline(steps=[(&#x27;lr&#x27;,\n",
       "                 LogisticRegression(max_iter=1000, multi_class=&#x27;multinomial&#x27;))])</pre></div></div></div><div class=\"sk-serial\"><div class=\"sk-item\"><div class=\"sk-serial\"><div class=\"sk-item\"><div class=\"sk-estimator sk-toggleable\"><input class=\"sk-toggleable__control sk-hidden--visually\" id=\"sk-estimator-id-3\" type=\"checkbox\" ><label for=\"sk-estimator-id-3\" class=\"sk-toggleable__label sk-toggleable__label-arrow\">LogisticRegression</label><div class=\"sk-toggleable__content\"><pre>LogisticRegression(max_iter=1000, multi_class=&#x27;multinomial&#x27;)</pre></div></div></div></div></div></div></div></div></div></div></div></div>"
      ],
      "text/plain": [
       "GridSearchCV(cv=5,\n",
       "             estimator=Pipeline(steps=[('lr',\n",
       "                                        LogisticRegression(max_iter=1000,\n",
       "                                                           multi_class='multinomial'))]),\n",
       "             param_grid={'lr__C': [0.01, 0.1, 1]}, scoring='accuracy')"
      ]
     },
     "execution_count": 176,
     "metadata": {},
     "output_type": "execute_result"
    }
   ],
   "source": [
    "from sklearn.linear_model import LogisticRegression\n",
    "from sklearn.model_selection import GridSearchCV\n",
    "from sklearn.pipeline import Pipeline\n",
    "\n",
    "# Define the steps of the pipeline\n",
    "steps = [('lr', LogisticRegression(multi_class='multinomial', solver='lbfgs', max_iter=1000))]\n",
    "\n",
    "# Create the pipeline\n",
    "pipeline = Pipeline(steps)\n",
    "\n",
    "# Define the hyperparameters to tune\n",
    "parameters = {'lr__C':[0.01, 0.1,1]}\n",
    "\n",
    "# Create a GridSearchCV instance\n",
    "log_tuned = GridSearchCV(pipeline, parameters, cv=5, scoring=\"accuracy\")\n",
    "\n",
    "# Fit the GridSearchCV instance\n",
    "log_tuned.fit(X_train, y_train)\n"
   ]
  },
  {
   "attachments": {},
   "cell_type": "markdown",
   "metadata": {},
   "source": [
    "### Model Improvement with Grid Search"
   ]
  },
  {
   "cell_type": "code",
   "execution_count": 177,
   "metadata": {},
   "outputs": [
    {
     "data": {
      "text/plain": [
       "{'lr__C': 10}"
      ]
     },
     "execution_count": 177,
     "metadata": {},
     "output_type": "execute_result"
    }
   ],
   "source": [
    "from sklearn.linear_model import LogisticRegression\n",
    "from sklearn.model_selection import GridSearchCV\n",
    "from sklearn.model_selection import train_test_split\n",
    "from sklearn.pipeline import Pipeline\n",
    "\n",
    "# Define the steps of the pipeline\n",
    "steps = [('lr', LogisticRegression(multi_class='multinomial', solver='lbfgs', max_iter=1000))]\n",
    "\n",
    "# Create the pipeline\n",
    "pipeline = Pipeline(steps)\n",
    "\n",
    "# Define the hyperparameters to tune\n",
    "parameters = {'lr__C':[0.01, 0.1,1,10,100]}\n",
    "\n",
    "# Create a GridSearchCV instance\n",
    "log_tuned = GridSearchCV(pipeline, parameters, cv=10, scoring=\"accuracy\")\n",
    "\n",
    "# Fit the GridSearchCV instance\n",
    "log_tuned.fit(X_train, y_train)\n",
    "log_tuned.best_params_"
   ]
  },
  {
   "cell_type": "code",
   "execution_count": 178,
   "metadata": {},
   "outputs": [],
   "source": [
    "best_C = log_tuned.best_params_['lr__C']\n",
    "\n",
    "lr_model_best = LogisticRegression(C=best_C, multi_class='multinomial', solver='lbfgs', max_iter=1000)\n"
   ]
  },
  {
   "cell_type": "code",
   "execution_count": 183,
   "metadata": {},
   "outputs": [],
   "source": [
    "metrics_df.loc[len(metrics_df.index)] = evaluate_model(\"Logistic Regression Best\", lr_model_best, X_train, X_test, y_train, y_test)\n"
   ]
  },
  {
   "cell_type": "code",
   "execution_count": 180,
   "metadata": {},
   "outputs": [
    {
     "data": {
      "text/html": [
       "<div>\n",
       "<style scoped>\n",
       "    .dataframe tbody tr th:only-of-type {\n",
       "        vertical-align: middle;\n",
       "    }\n",
       "\n",
       "    .dataframe tbody tr th {\n",
       "        vertical-align: top;\n",
       "    }\n",
       "\n",
       "    .dataframe thead th {\n",
       "        text-align: right;\n",
       "    }\n",
       "</style>\n",
       "<table border=\"1\" class=\"dataframe\">\n",
       "  <thead>\n",
       "    <tr style=\"text-align: right;\">\n",
       "      <th></th>\n",
       "      <th>Model</th>\n",
       "      <th>Accuracy</th>\n",
       "      <th>Precision</th>\n",
       "      <th>Recall</th>\n",
       "      <th>F1 Score</th>\n",
       "    </tr>\n",
       "  </thead>\n",
       "  <tbody>\n",
       "    <tr>\n",
       "      <th>0</th>\n",
       "      <td>Logistic Regression</td>\n",
       "      <td>0.787362</td>\n",
       "      <td>0.770315</td>\n",
       "      <td>0.787362</td>\n",
       "      <td>0.771113</td>\n",
       "    </tr>\n",
       "    <tr>\n",
       "      <th>1</th>\n",
       "      <td>Random Forest</td>\n",
       "      <td>0.749248</td>\n",
       "      <td>0.713914</td>\n",
       "      <td>0.749248</td>\n",
       "      <td>0.702221</td>\n",
       "    </tr>\n",
       "    <tr>\n",
       "      <th>2</th>\n",
       "      <td>SVM</td>\n",
       "      <td>0.791374</td>\n",
       "      <td>0.776112</td>\n",
       "      <td>0.791374</td>\n",
       "      <td>0.778368</td>\n",
       "    </tr>\n",
       "  </tbody>\n",
       "</table>\n",
       "</div>"
      ],
      "text/plain": [
       "                 Model  Accuracy  Precision    Recall  F1 Score\n",
       "0  Logistic Regression  0.787362   0.770315  0.787362  0.771113\n",
       "1        Random Forest  0.749248   0.713914  0.749248  0.702221\n",
       "2                  SVM  0.791374   0.776112  0.791374  0.778368"
      ]
     },
     "execution_count": 180,
     "metadata": {},
     "output_type": "execute_result"
    }
   ],
   "source": [
    "metrics_df.head()"
   ]
  },
  {
   "cell_type": "code",
   "execution_count": 127,
   "metadata": {},
   "outputs": [
    {
     "data": {
      "text/plain": [
       "{'svc__C': 1,\n",
       " 'svc__class_weight': None,\n",
       " 'svc__degree': 2,\n",
       " 'svc__gamma': 'scale',\n",
       " 'svc__kernel': 'rbf'}"
      ]
     },
     "execution_count": 127,
     "metadata": {},
     "output_type": "execute_result"
    }
   ],
   "source": [
    "steps = [('svc', SVC(C=1.0, kernel='rbf', gamma='scale'))] \n",
    "pipeline = Pipeline(steps) \n",
    "parameters = {\n",
    "    'svc__C': [0.1, 1, 10],\n",
    "    'svc__kernel': ['linear', 'rbf', 'poly', 'sigmoid'],\n",
    "    'svc__degree': [2, 3, 4],\n",
    "    'svc__gamma': ['scale', 'auto'],\n",
    "    'svc__class_weight': ['balanced', None]\n",
    "}\n",
    "clf = GridSearchCV(pipeline, parameters, cv = 5, scoring=\"accuracy\") \n",
    "clf.fit(X_train, y_train)\n",
    "\n",
    "clf.best_params_\n"
   ]
  },
  {
   "cell_type": "code",
   "execution_count": 181,
   "metadata": {},
   "outputs": [],
   "source": [
    "svm_model_best = SVC(\n",
    "    C=1, kernel='rbf', gamma='scale', degree=2, class_weight=None\n",
    ")\n",
    "\n",
    "metrics_df.loc[len(metrics_df.index)] = evaluate_model(\"Support Vector Best\", svm_model_best, X_train, X_test, y_train, y_test)"
   ]
  },
  {
   "cell_type": "code",
   "execution_count": 184,
   "metadata": {},
   "outputs": [
    {
     "data": {
      "text/html": [
       "<div>\n",
       "<style scoped>\n",
       "    .dataframe tbody tr th:only-of-type {\n",
       "        vertical-align: middle;\n",
       "    }\n",
       "\n",
       "    .dataframe tbody tr th {\n",
       "        vertical-align: top;\n",
       "    }\n",
       "\n",
       "    .dataframe thead th {\n",
       "        text-align: right;\n",
       "    }\n",
       "</style>\n",
       "<table border=\"1\" class=\"dataframe\">\n",
       "  <thead>\n",
       "    <tr style=\"text-align: right;\">\n",
       "      <th></th>\n",
       "      <th>Model</th>\n",
       "      <th>Accuracy</th>\n",
       "      <th>Precision</th>\n",
       "      <th>Recall</th>\n",
       "      <th>F1 Score</th>\n",
       "    </tr>\n",
       "  </thead>\n",
       "  <tbody>\n",
       "    <tr>\n",
       "      <th>0</th>\n",
       "      <td>Logistic Regression</td>\n",
       "      <td>0.787362</td>\n",
       "      <td>0.770315</td>\n",
       "      <td>0.787362</td>\n",
       "      <td>0.771113</td>\n",
       "    </tr>\n",
       "    <tr>\n",
       "      <th>1</th>\n",
       "      <td>Random Forest</td>\n",
       "      <td>0.749248</td>\n",
       "      <td>0.713914</td>\n",
       "      <td>0.749248</td>\n",
       "      <td>0.702221</td>\n",
       "    </tr>\n",
       "    <tr>\n",
       "      <th>2</th>\n",
       "      <td>SVM</td>\n",
       "      <td>0.791374</td>\n",
       "      <td>0.776112</td>\n",
       "      <td>0.791374</td>\n",
       "      <td>0.778368</td>\n",
       "    </tr>\n",
       "    <tr>\n",
       "      <th>3</th>\n",
       "      <td>Support Vector Best</td>\n",
       "      <td>0.791374</td>\n",
       "      <td>0.776112</td>\n",
       "      <td>0.791374</td>\n",
       "      <td>0.778368</td>\n",
       "    </tr>\n",
       "    <tr>\n",
       "      <th>4</th>\n",
       "      <td>Logistic Regression Best</td>\n",
       "      <td>0.786861</td>\n",
       "      <td>0.771890</td>\n",
       "      <td>0.786861</td>\n",
       "      <td>0.775611</td>\n",
       "    </tr>\n",
       "  </tbody>\n",
       "</table>\n",
       "</div>"
      ],
      "text/plain": [
       "                      Model  Accuracy  Precision    Recall  F1 Score\n",
       "0       Logistic Regression  0.787362   0.770315  0.787362  0.771113\n",
       "1             Random Forest  0.749248   0.713914  0.749248  0.702221\n",
       "2                       SVM  0.791374   0.776112  0.791374  0.778368\n",
       "3       Support Vector Best  0.791374   0.776112  0.791374  0.778368\n",
       "4  Logistic Regression Best  0.786861   0.771890  0.786861  0.775611"
      ]
     },
     "execution_count": 184,
     "metadata": {},
     "output_type": "execute_result"
    }
   ],
   "source": [
    "metrics_df.head()"
   ]
  },
  {
   "cell_type": "code",
   "execution_count": 130,
   "metadata": {},
   "outputs": [
    {
     "data": {
      "text/plain": [
       "3"
      ]
     },
     "execution_count": 130,
     "metadata": {},
     "output_type": "execute_result"
    }
   ],
   "source": [
    "n_classes=np.unique(y_train).shape[0]\n",
    "n_classes"
   ]
  },
  {
   "cell_type": "code",
   "execution_count": 139,
   "metadata": {},
   "outputs": [
    {
     "data": {
      "text/plain": [
       "array(['-1', '0', '1'], dtype=object)"
      ]
     },
     "execution_count": 139,
     "metadata": {},
     "output_type": "execute_result"
    }
   ],
   "source": [
    "np.unique(y_train)"
   ]
  },
  {
   "cell_type": "code",
   "execution_count": 185,
   "metadata": {},
   "outputs": [],
   "source": [
    "from sklearn.metrics import roc_curve, auc\n",
    "from sklearn.preprocessing import label_binarize\n",
    "from sklearn.multiclass import OneVsRestClassifier\n",
    "from scipy import interp\n",
    "from itertools import cycle\n",
    "import matplotlib.pyplot as plt\n",
    "def generate_ROC_AUC(name, model, X_train, y_train):\n",
    "    # Binarize the labels\n",
    "    y_train_bin = label_binarize(y_train, classes=list(set(y_train)))\n",
    "    n_classes = y_train_bin.shape[1]\n",
    "\n",
    "    # Train the model\n",
    "    model.fit(X_train, y_train)\n",
    "\n",
    "    # Compute probabilities for each class\n",
    "    y_score = model.predict_proba(X_train)\n",
    "\n",
    "    # Compute ROC curve and ROC AUC for each class\n",
    "    fpr = dict()\n",
    "    tpr = dict()\n",
    "    roc_auc = dict()\n",
    "    for i in range(n_classes):\n",
    "        fpr[i], tpr[i], _ = roc_curve(y_train_bin[:, i], y_score[:, i])\n",
    "        roc_auc[i] = auc(fpr[i], tpr[i])\n",
    "\n",
    "    # Plot ROC curves\n",
    "    plt.figure(figsize=(8, 6))\n",
    "    for i in range(n_classes):\n",
    "        plt.plot(fpr[i], tpr[i], label='Class {0} (AUC = {1:0.2f})'.format(i, roc_auc[i]))\n",
    "\n",
    "    plt.plot([0, 1], [0, 1], 'k--')  # Diagonal reference line\n",
    "    plt.xlabel('False Positive Rate')\n",
    "    plt.ylabel('True Positive Rate')\n",
    "    plt.title('ROC Curve - {}'.format(name))\n",
    "    plt.legend(loc='lower right')\n",
    "    plt.show()\n"
   ]
  },
  {
   "cell_type": "code",
   "execution_count": 186,
   "metadata": {},
   "outputs": [
    {
     "data": {
      "image/png": "[encoded data removed]",
      "text/plain": [
       "<Figure size 800x600 with 1 Axes>"
      ]
     },
     "metadata": {},
     "output_type": "display_data"
    }
   ],
   "source": [
    "generate_ROC_AUC('Logistic Regression Best',lr_model_best, X_train, y_train)"
   ]
  },
  {
   "cell_type": "code",
   "execution_count": 187,
   "metadata": {},
   "outputs": [
    {
     "name": "stderr",
     "output_type": "stream",
     "text": [
      "/home/sairindhri/yelp-data-analysis/venv/lib/python3.10/site-packages/sklearn/ensemble/_forest.py:424: FutureWarning: `max_features='auto'` has been deprecated in 1.1 and will be removed in 1.3. To keep the past behaviour, explicitly set `max_features='sqrt'` or remove this parameter as it is also the default value for RandomForestClassifiers and ExtraTreesClassifiers.\n",
      "  warn(\n"
     ]
    },
    {
     "data": {
      "image/png": "[encoded data removed]",
      "text/plain": [
       "<Figure size 800x600 with 1 Axes>"
      ]
     },
     "metadata": {},
     "output_type": "display_data"
    }
   ],
   "source": [
    "generate_ROC_AUC('Random Forest',rf_model, X_train, y_train)"
   ]
  },
  {
   "cell_type": "code",
   "execution_count": 258,
   "metadata": {},
   "outputs": [],
   "source": [
    "import tensorflow as tf\n",
    "import tensorflow.keras as keras\n",
    "import regex as re\n",
    "from sklearn import preprocessing"
   ]
  },
  {
   "cell_type": "code",
   "execution_count": 275,
   "metadata": {},
   "outputs": [
    {
     "data": {
      "text/plain": [
       "(79739, 3)"
      ]
     },
     "execution_count": 275,
     "metadata": {},
     "output_type": "execute_result"
    }
   ],
   "source": [
    "enc = preprocessing.OneHotEncoder()\n",
    "label = train_df['sentiment'].values.reshape ((-1,1))\n",
    "enc.fit(label)\n",
    "y_train = enc.transform(label).toarray()\n",
    "y_train.shape"
   ]
  },
  {
   "cell_type": "code",
   "execution_count": 276,
   "metadata": {},
   "outputs": [
    {
     "data": {
      "text/plain": [
       "array([[0., 1., 0.],\n",
       "       [1., 0., 0.],\n",
       "       [1., 0., 0.],\n",
       "       ...,\n",
       "       [0., 1., 0.],\n",
       "       [1., 0., 0.],\n",
       "       [0., 0., 1.]])"
      ]
     },
     "execution_count": 276,
     "metadata": {},
     "output_type": "execute_result"
    }
   ],
   "source": [
    "y_train"
   ]
  },
  {
   "cell_type": "code",
   "execution_count": 282,
   "metadata": {},
   "outputs": [],
   "source": [
    "# Create and train Keras model\n",
    "n_features=X_train.shape[1]\n",
    "n_labels = y_train.shape[1]"
   ]
  },
  {
   "cell_type": "code",
   "execution_count": 278,
   "metadata": {},
   "outputs": [
    {
     "data": {
      "text/plain": [
       "384"
      ]
     },
     "execution_count": 278,
     "metadata": {},
     "output_type": "execute_result"
    }
   ],
   "source": [
    "n_features\n"
   ]
  },
  {
   "cell_type": "code",
   "execution_count": 279,
   "metadata": {},
   "outputs": [
    {
     "data": {
      "text/plain": [
       "3"
      ]
     },
     "execution_count": 279,
     "metadata": {},
     "output_type": "execute_result"
    }
   ],
   "source": [
    "n_labels"
   ]
  },
  {
   "cell_type": "code",
   "execution_count": 287,
   "metadata": {},
   "outputs": [
    {
     "name": "stdout",
     "output_type": "stream",
     "text": [
      "Epoch 1/100\n",
      "592/592 [==============================] - 2s 2ms/step - loss: 1.0066 - accuracy: 0.6393 - val_loss: 0.9008 - val_accuracy: 0.7091\n",
      "Epoch 2/100\n",
      "592/592 [==============================] - 1s 2ms/step - loss: 0.8089 - accuracy: 0.7176 - val_loss: 0.7339 - val_accuracy: 0.7151\n",
      "Epoch 3/100\n",
      "592/592 [==============================] - 1s 2ms/step - loss: 0.6946 - accuracy: 0.7282 - val_loss: 0.6615 - val_accuracy: 0.7198\n",
      "Epoch 4/100\n",
      "592/592 [==============================] - 1s 2ms/step - loss: 0.6452 - accuracy: 0.7370 - val_loss: 0.6282 - val_accuracy: 0.7334\n",
      "Epoch 5/100\n",
      "592/592 [==============================] - 1s 2ms/step - loss: 0.6174 - accuracy: 0.7448 - val_loss: 0.6101 - val_accuracy: 0.7404\n",
      "Epoch 6/100\n",
      "592/592 [==============================] - 1s 2ms/step - loss: 0.6021 - accuracy: 0.7495 - val_loss: 0.5993 - val_accuracy: 0.7442\n",
      "Epoch 7/100\n",
      "592/592 [==============================] - 1s 2ms/step - loss: 0.5929 - accuracy: 0.7535 - val_loss: 0.5918 - val_accuracy: 0.7489\n",
      "Epoch 8/100\n",
      "592/592 [==============================] - 1s 2ms/step - loss: 0.5854 - accuracy: 0.7572 - val_loss: 0.5864 - val_accuracy: 0.7514\n",
      "Epoch 9/100\n",
      "592/592 [==============================] - 1s 2ms/step - loss: 0.5796 - accuracy: 0.7594 - val_loss: 0.5818 - val_accuracy: 0.7512\n",
      "Epoch 10/100\n",
      "592/592 [==============================] - 1s 2ms/step - loss: 0.5744 - accuracy: 0.7609 - val_loss: 0.5788 - val_accuracy: 0.7522\n",
      "Epoch 11/100\n",
      "592/592 [==============================] - 1s 2ms/step - loss: 0.5725 - accuracy: 0.7629 - val_loss: 0.5751 - val_accuracy: 0.7550\n",
      "Epoch 12/100\n",
      "592/592 [==============================] - 1s 2ms/step - loss: 0.5681 - accuracy: 0.7644 - val_loss: 0.5729 - val_accuracy: 0.7547\n",
      "Epoch 13/100\n",
      "592/592 [==============================] - 1s 2ms/step - loss: 0.5647 - accuracy: 0.7670 - val_loss: 0.5704 - val_accuracy: 0.7565\n",
      "Epoch 14/100\n",
      "592/592 [==============================] - 1s 2ms/step - loss: 0.5622 - accuracy: 0.7666 - val_loss: 0.5687 - val_accuracy: 0.7570\n",
      "Epoch 15/100\n",
      "592/592 [==============================] - 1s 2ms/step - loss: 0.5607 - accuracy: 0.7680 - val_loss: 0.5668 - val_accuracy: 0.7590\n",
      "Epoch 16/100\n",
      "592/592 [==============================] - 1s 2ms/step - loss: 0.5567 - accuracy: 0.7691 - val_loss: 0.5653 - val_accuracy: 0.7605\n",
      "Epoch 17/100\n",
      "592/592 [==============================] - 1s 2ms/step - loss: 0.5562 - accuracy: 0.7683 - val_loss: 0.5646 - val_accuracy: 0.7575\n",
      "Epoch 18/100\n",
      "592/592 [==============================] - 1s 2ms/step - loss: 0.5533 - accuracy: 0.7709 - val_loss: 0.5627 - val_accuracy: 0.7627\n",
      "Epoch 19/100\n",
      "592/592 [==============================] - 1s 2ms/step - loss: 0.5515 - accuracy: 0.7718 - val_loss: 0.5619 - val_accuracy: 0.7627\n",
      "Epoch 20/100\n",
      "592/592 [==============================] - 1s 2ms/step - loss: 0.5513 - accuracy: 0.7722 - val_loss: 0.5611 - val_accuracy: 0.7650\n",
      "Epoch 21/100\n",
      "592/592 [==============================] - 1s 2ms/step - loss: 0.5491 - accuracy: 0.7721 - val_loss: 0.5600 - val_accuracy: 0.7647\n",
      "Epoch 22/100\n",
      "592/592 [==============================] - 1s 2ms/step - loss: 0.5479 - accuracy: 0.7742 - val_loss: 0.5593 - val_accuracy: 0.7675\n",
      "Epoch 23/100\n",
      "592/592 [==============================] - 1s 2ms/step - loss: 0.5472 - accuracy: 0.7736 - val_loss: 0.5585 - val_accuracy: 0.7662\n",
      "Epoch 24/100\n",
      "592/592 [==============================] - 1s 2ms/step - loss: 0.5458 - accuracy: 0.7750 - val_loss: 0.5581 - val_accuracy: 0.7690\n",
      "Epoch 25/100\n",
      "592/592 [==============================] - 1s 2ms/step - loss: 0.5450 - accuracy: 0.7740 - val_loss: 0.5571 - val_accuracy: 0.7677\n",
      "Epoch 26/100\n",
      "592/592 [==============================] - 1s 2ms/step - loss: 0.5445 - accuracy: 0.7752 - val_loss: 0.5567 - val_accuracy: 0.7662\n",
      "Epoch 27/100\n",
      "592/592 [==============================] - 1s 2ms/step - loss: 0.5432 - accuracy: 0.7759 - val_loss: 0.5561 - val_accuracy: 0.7690\n",
      "Epoch 28/100\n",
      "592/592 [==============================] - 1s 2ms/step - loss: 0.5421 - accuracy: 0.7765 - val_loss: 0.5555 - val_accuracy: 0.7682\n",
      "Epoch 29/100\n",
      "592/592 [==============================] - 1s 2ms/step - loss: 0.5406 - accuracy: 0.7749 - val_loss: 0.5549 - val_accuracy: 0.7685\n",
      "Epoch 30/100\n",
      "592/592 [==============================] - 1s 2ms/step - loss: 0.5404 - accuracy: 0.7757 - val_loss: 0.5543 - val_accuracy: 0.7695\n",
      "Epoch 31/100\n",
      "592/592 [==============================] - 1s 2ms/step - loss: 0.5385 - accuracy: 0.7776 - val_loss: 0.5540 - val_accuracy: 0.7695\n",
      "Epoch 32/100\n",
      "592/592 [==============================] - 1s 2ms/step - loss: 0.5389 - accuracy: 0.7779 - val_loss: 0.5537 - val_accuracy: 0.7693\n",
      "Epoch 33/100\n",
      "592/592 [==============================] - 1s 2ms/step - loss: 0.5377 - accuracy: 0.7778 - val_loss: 0.5532 - val_accuracy: 0.7687\n",
      "Epoch 34/100\n",
      "592/592 [==============================] - 1s 1ms/step - loss: 0.5379 - accuracy: 0.7777 - val_loss: 0.5528 - val_accuracy: 0.7705\n",
      "Epoch 35/100\n",
      "592/592 [==============================] - 1s 2ms/step - loss: 0.5366 - accuracy: 0.7786 - val_loss: 0.5523 - val_accuracy: 0.7708\n",
      "Epoch 36/100\n",
      "592/592 [==============================] - 1s 2ms/step - loss: 0.5359 - accuracy: 0.7774 - val_loss: 0.5520 - val_accuracy: 0.7685\n",
      "Epoch 37/100\n",
      "592/592 [==============================] - 1s 2ms/step - loss: 0.5347 - accuracy: 0.7788 - val_loss: 0.5517 - val_accuracy: 0.7695\n",
      "Epoch 38/100\n",
      "592/592 [==============================] - 1s 2ms/step - loss: 0.5351 - accuracy: 0.7793 - val_loss: 0.5520 - val_accuracy: 0.7705\n",
      "Epoch 39/100\n",
      "592/592 [==============================] - 1s 2ms/step - loss: 0.5339 - accuracy: 0.7787 - val_loss: 0.5517 - val_accuracy: 0.7715\n",
      "Epoch 40/100\n",
      "592/592 [==============================] - 1s 2ms/step - loss: 0.5339 - accuracy: 0.7785 - val_loss: 0.5509 - val_accuracy: 0.7700\n",
      "Epoch 41/100\n",
      "592/592 [==============================] - 1s 2ms/step - loss: 0.5333 - accuracy: 0.7795 - val_loss: 0.5506 - val_accuracy: 0.7687\n",
      "Epoch 42/100\n",
      "592/592 [==============================] - 1s 2ms/step - loss: 0.5323 - accuracy: 0.7803 - val_loss: 0.5506 - val_accuracy: 0.7698\n",
      "Epoch 43/100\n",
      "592/592 [==============================] - 1s 2ms/step - loss: 0.5307 - accuracy: 0.7803 - val_loss: 0.5507 - val_accuracy: 0.7708\n",
      "Epoch 44/100\n",
      "592/592 [==============================] - 1s 2ms/step - loss: 0.5301 - accuracy: 0.7801 - val_loss: 0.5501 - val_accuracy: 0.7698\n",
      "Epoch 45/100\n",
      "592/592 [==============================] - 1s 2ms/step - loss: 0.5312 - accuracy: 0.7806 - val_loss: 0.5496 - val_accuracy: 0.7672\n",
      "Epoch 46/100\n",
      "592/592 [==============================] - 1s 1ms/step - loss: 0.5297 - accuracy: 0.7806 - val_loss: 0.5494 - val_accuracy: 0.7677\n",
      "Epoch 47/100\n",
      "592/592 [==============================] - 1s 2ms/step - loss: 0.5293 - accuracy: 0.7813 - val_loss: 0.5492 - val_accuracy: 0.7680\n",
      "Epoch 48/100\n",
      "592/592 [==============================] - 1s 2ms/step - loss: 0.5294 - accuracy: 0.7809 - val_loss: 0.5493 - val_accuracy: 0.7682\n",
      "Epoch 49/100\n",
      "592/592 [==============================] - 1s 2ms/step - loss: 0.5288 - accuracy: 0.7819 - val_loss: 0.5487 - val_accuracy: 0.7682\n",
      "Epoch 50/100\n",
      "592/592 [==============================] - 1s 2ms/step - loss: 0.5285 - accuracy: 0.7818 - val_loss: 0.5485 - val_accuracy: 0.7670\n",
      "Epoch 51/100\n",
      "592/592 [==============================] - 1s 2ms/step - loss: 0.5271 - accuracy: 0.7813 - val_loss: 0.5483 - val_accuracy: 0.7675\n",
      "Epoch 52/100\n",
      "592/592 [==============================] - 1s 2ms/step - loss: 0.5282 - accuracy: 0.7817 - val_loss: 0.5482 - val_accuracy: 0.7680\n",
      "Epoch 53/100\n",
      "592/592 [==============================] - 1s 2ms/step - loss: 0.5277 - accuracy: 0.7814 - val_loss: 0.5480 - val_accuracy: 0.7685\n",
      "Epoch 54/100\n",
      "592/592 [==============================] - 1s 2ms/step - loss: 0.5263 - accuracy: 0.7823 - val_loss: 0.5476 - val_accuracy: 0.7675\n",
      "Epoch 55/100\n",
      "592/592 [==============================] - 1s 2ms/step - loss: 0.5268 - accuracy: 0.7821 - val_loss: 0.5476 - val_accuracy: 0.7675\n",
      "Epoch 56/100\n",
      "592/592 [==============================] - 1s 2ms/step - loss: 0.5259 - accuracy: 0.7825 - val_loss: 0.5479 - val_accuracy: 0.7687\n",
      "Epoch 57/100\n",
      "592/592 [==============================] - 1s 2ms/step - loss: 0.5244 - accuracy: 0.7821 - val_loss: 0.5475 - val_accuracy: 0.7687\n",
      "Epoch 58/100\n",
      "592/592 [==============================] - 1s 2ms/step - loss: 0.5244 - accuracy: 0.7829 - val_loss: 0.5473 - val_accuracy: 0.7677\n",
      "Epoch 59/100\n",
      "592/592 [==============================] - 1s 2ms/step - loss: 0.5242 - accuracy: 0.7827 - val_loss: 0.5471 - val_accuracy: 0.7680\n",
      "Epoch 60/100\n",
      "592/592 [==============================] - 1s 2ms/step - loss: 0.5240 - accuracy: 0.7833 - val_loss: 0.5471 - val_accuracy: 0.7695\n",
      "Epoch 61/100\n",
      "592/592 [==============================] - 1s 2ms/step - loss: 0.5244 - accuracy: 0.7829 - val_loss: 0.5470 - val_accuracy: 0.7695\n",
      "Epoch 62/100\n",
      "592/592 [==============================] - 1s 2ms/step - loss: 0.5247 - accuracy: 0.7837 - val_loss: 0.5465 - val_accuracy: 0.7680\n",
      "Epoch 63/100\n",
      "592/592 [==============================] - 1s 2ms/step - loss: 0.5236 - accuracy: 0.7845 - val_loss: 0.5462 - val_accuracy: 0.7682\n",
      "Epoch 64/100\n",
      "592/592 [==============================] - 1s 2ms/step - loss: 0.5234 - accuracy: 0.7825 - val_loss: 0.5467 - val_accuracy: 0.7693\n",
      "Epoch 65/100\n",
      "592/592 [==============================] - 1s 2ms/step - loss: 0.5230 - accuracy: 0.7840 - val_loss: 0.5463 - val_accuracy: 0.7700\n",
      "Epoch 66/100\n",
      "592/592 [==============================] - 1s 2ms/step - loss: 0.5215 - accuracy: 0.7833 - val_loss: 0.5463 - val_accuracy: 0.7693\n"
     ]
    },
    {
     "data": {
      "text/plain": [
       "<keras.callbacks.History at 0x7f390c5aff70>"
      ]
     },
     "execution_count": 287,
     "metadata": {},
     "output_type": "execute_result"
    }
   ],
   "source": [
    "from tensorflow.keras.callbacks import EarlyStopping\n",
    "\n",
    "KERAS_VALIDATION_SPLIT=0.05\n",
    "KERAS_EPOCHS=100\n",
    "KERAS_BATCH_SIZE=128\n",
    "\n",
    "# Define the EarlyStopping callback\n",
    "early_stopping = EarlyStopping(monitor='val_loss', patience=3, restore_best_weights=True)\n",
    "\n",
    "model = tf.keras.models.Sequential([tf.keras.layers.Dense(1024, input_dim=n_features, activation='relu'),\n",
    "  tf.keras.layers.Dropout(0.2),\n",
    "  tf.keras.layers.Dense(64, activation='relu'),\n",
    "  tf.keras.layers.Dropout(0.2),\n",
    "  tf.keras.layers.Dense(n_labels, activation='softmax')\n",
    "])\n",
    "\n",
    "LR=0.00001\n",
    "adam = keras.optimizers.Adam(learning_rate=LR, beta_1=0.9, beta_2=0.999, amsgrad=False)\n",
    "\n",
    "model.compile(optimizer=adam, \n",
    "              loss='categorical_crossentropy',\n",
    "              metrics=['accuracy'])\n",
    "\n",
    "model.fit(X_train, y_train, epochs=KERAS_EPOCHS, batch_size=KERAS_BATCH_SIZE, validation_split=KERAS_VALIDATION_SPLIT, callbacks=[early_stopping])"
   ]
  },
  {
   "cell_type": "code",
   "execution_count": 290,
   "metadata": {},
   "outputs": [
    {
     "data": {
      "text/plain": [
       "array([-1,  0,  1])"
      ]
     },
     "execution_count": 290,
     "metadata": {},
     "output_type": "execute_result"
    }
   ],
   "source": [
    "np.unique(y_test)"
   ]
  },
  {
   "cell_type": "code",
   "execution_count": 295,
   "metadata": {},
   "outputs": [],
   "source": [
    "from numpy import argmax\n",
    "\n",
    "\n",
    "def classification_report_neuralmodel(name, model, X_train, X_test, y_train, y_test):\n",
    "    # Fit the model on the training data\n",
    "    model.fit(X_train, y_train)\n",
    "\n",
    "    # Make predictions on the test data\n",
    "    y_pred_prob = model.predict(X_test)\n",
    "    \n",
    "    # Convert probabilities into class labels\n",
    "    y_pred = argmax(y_pred_prob, axis=1)-1\n",
    "\n",
    "    # Generate and print the classification report\n",
    "    print(f\"Classification Report for {name}:\")\n",
    "    print(classification_report(y_test, y_pred, zero_division=1))\n",
    "\n",
    "def confusion_matrix_neuralmodel(name, model, X_train, X_test, y_train, y_test):\n",
    "    # Fit the model on the training data\n",
    "    model.fit(X_train, y_train)\n",
    "\n",
    "    # Make predictions on the test data\n",
    "    y_pred_prob = model.predict(X_test)\n",
    "\n",
    "    # Convert probabilities into class labels\n",
    "    y_pred = argmax(y_pred_prob, axis=1)-1\n",
    "\n",
    "    # Generate and print the confusion matrix\n",
    "    print(f\"Confusion Matrix for {name}:\")\n",
    "    print(confusion_matrix(y_test, y_pred))\n"
   ]
  },
  {
   "cell_type": "code",
   "execution_count": 296,
   "metadata": {},
   "outputs": [
    {
     "name": "stdout",
     "output_type": "stream",
     "text": [
      "2492/2492 [==============================] - 5s 2ms/step - loss: 0.5232 - accuracy: 0.7842\n",
      "312/312 [==============================] - 0s 519us/step\n",
      "Classification Report for Neural Network:\n",
      "              precision    recall  f1-score   support\n",
      "\n",
      "          -1       0.81      0.88      0.85      3919\n",
      "           0       0.54      0.40      0.46      1970\n",
      "           1       0.84      0.88      0.86      4079\n",
      "\n",
      "    accuracy                           0.79      9968\n",
      "   macro avg       0.73      0.72      0.72      9968\n",
      "weighted avg       0.77      0.79      0.78      9968\n",
      "\n",
      "2492/2492 [==============================] - 4s 2ms/step - loss: 0.5226 - accuracy: 0.7833\n",
      "312/312 [==============================] - 0s 501us/step\n",
      "Confusion Matrix for Neural Network:\n",
      "[[3463  340  116]\n",
      " [ 653  785  532]\n",
      " [ 161  331 3587]]\n"
     ]
    }
   ],
   "source": [
    "classification_report_neuralmodel(\"Neural Network\", model, X_train, X_test, y_train, y_test)\n",
    "confusion_matrix_neuralmodel(\"Neural Network\", model, X_train, X_test, y_train, y_test)"
   ]
  },
  {
   "attachments": {},
   "cell_type": "markdown",
   "metadata": {},
   "source": [
    "# Store SVM model in pickel"
   ]
  },
  {
   "cell_type": "code",
   "execution_count": 32,
   "metadata": {},
   "outputs": [],
   "source": [
    "\n",
    "import pickle\n",
    "pickle.dump(svm_model, open('../src/data/svm_sentiment_prediction_model.pkl','wb'))\n"
   ]
  },
  {
   "cell_type": "code",
   "execution_count": 34,
   "metadata": {},
   "outputs": [],
   "source": [
    "pickle.dump(df_final,open('../src/data/sentiment_score_df.pkl','wb'))\n"
   ]
  }
 ],
 "metadata": {
  "kernelspec": {
   "display_name": "Python 3 (ipykernel)",
   "language": "python",
   "name": "python3"
  },
  "language_info": {
   "codemirror_mode": {
    "name": "ipython",
    "version": 3
   },
   "file_extension": ".py",
   "mimetype": "text/x-python",
   "name": "python",
   "nbconvert_exporter": "python",
   "pygments_lexer": "ipython3",
   "version": "3.11.4"
  }
 },
 "nbformat": 4,
 "nbformat_minor": 2
}
